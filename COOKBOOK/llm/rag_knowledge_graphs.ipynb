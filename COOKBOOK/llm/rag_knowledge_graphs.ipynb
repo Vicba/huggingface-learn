{
  "nbformat": 4,
  "nbformat_minor": 0,
  "metadata": {
    "colab": {
      "provenance": []
    },
    "kernelspec": {
      "name": "python3",
      "display_name": "Python 3"
    },
    "language_info": {
      "name": "python"
    }
  },
  "cells": [
    {
      "cell_type": "markdown",
      "source": [
        "Knowledge Graphs provide a method for modeling and storing interlinked information in a format that is both human- and machine-understandable. These graphs consist of nodes and edges, representing entities and their relationships. Unlike traditional databases, the inherent expressiveness of graphs allows for richer semantic understanding, while providing the flexibility to accommodate new entity types and relationships without being constrained by a fixed schema.\n",
        "\n",
        "By combining knowledge graphs with embeddings (vector search), we can leverage multi-hop connectivity and contextual understanding of information to enhance reasoning and explainability in LLMs.\n",
        "\n",
        "![](https://raw.githubusercontent.com/dcarpintero/generative-ai-101/main/static/knowledge-graphs.png)"
      ],
      "metadata": {
        "id": "TFWp7lgrLA0z"
      }
    },
    {
      "cell_type": "code",
      "execution_count": null,
      "metadata": {
        "id": "m1al_FznLAXJ"
      },
      "outputs": [],
      "source": [
        "!pip install -q neo4j langchain langchain_openai langchain-community python-dotenv --quiet"
      ]
    },
    {
      "cell_type": "code",
      "source": [
        "from dotenv import load_dotenv\n",
        "\n",
        "load_dotenv()"
      ],
      "metadata": {
        "colab": {
          "base_uri": "https://localhost:8080/"
        },
        "id": "ps8zx_JgLRlI",
        "outputId": "f7131055-7632-4852-f9fc-713ed4f5bb9e"
      },
      "execution_count": 12,
      "outputs": [
        {
          "output_type": "execute_result",
          "data": {
            "text/plain": [
              "True"
            ]
          },
          "metadata": {},
          "execution_count": 12
        }
      ]
    },
    {
      "cell_type": "code",
      "source": [
        "import os\n",
        "from langchain_community.graphs import Neo4jGraph\n",
        "\n",
        "graph = Neo4jGraph(\n",
        "    url=os.getenv(\"NEO4J_URI\"),\n",
        "    username=os.getenv(\"NEO4J_USERNAME\"),\n",
        "    password=os.getenv(\"NEO4J_PASSWORD\"),\n",
        ")"
      ],
      "metadata": {
        "id": "RjodiQNfLxeD"
      },
      "execution_count": 14,
      "outputs": []
    },
    {
      "cell_type": "markdown",
      "source": [
        "dataset into graph"
      ],
      "metadata": {
        "id": "GOt2Kp3OLAzm"
      }
    },
    {
      "cell_type": "code",
      "source": [
        "from langchain_community.graphs import Neo4jGraph\n",
        "\n",
        "graph = Neo4jGraph()\n",
        "\n",
        "q_load_articles = \"\"\"\n",
        "LOAD CSV WITH HEADERS\n",
        "FROM 'https://raw.githubusercontent.com/dcarpintero/generative-ai-101/main/dataset/synthetic_articles.csv'\n",
        "AS row\n",
        "FIELDTERMINATOR ';'\n",
        "MERGE (a:Article {title:row.Title})\n",
        "SET a.abstract = row.Abstract,\n",
        "    a.publication_date = date(row.Publication_Date)\n",
        "FOREACH (researcher in split(row.Authors, ',') |\n",
        "    MERGE (p:Researcher {name:trim(researcher)})\n",
        "    MERGE (p)-[:PUBLISHED]->(a))\n",
        "FOREACH (topic in [row.Topic] |\n",
        "    MERGE (t:Topic {name:trim(topic)})\n",
        "    MERGE (a)-[:IN_TOPIC]->(t))\n",
        "\"\"\"\n",
        "\n",
        "graph.query(q_load_articles)"
      ],
      "metadata": {
        "colab": {
          "base_uri": "https://localhost:8080/"
        },
        "id": "Tj1HUDIYL7dI",
        "outputId": "3e263b4a-4149-4901-a629-e1a3390fe7a3"
      },
      "execution_count": 15,
      "outputs": [
        {
          "output_type": "execute_result",
          "data": {
            "text/plain": [
              "[]"
            ]
          },
          "metadata": {},
          "execution_count": 15
        }
      ]
    },
    {
      "cell_type": "code",
      "source": [
        "graph.refresh_schema()\n",
        "print(graph.get_schema)"
      ],
      "metadata": {
        "colab": {
          "base_uri": "https://localhost:8080/"
        },
        "id": "nLGpoYtSL-7P",
        "outputId": "65d5d9a3-7a72-4ff4-d2a7-80868722e1ef"
      },
      "execution_count": 16,
      "outputs": [
        {
          "output_type": "stream",
          "name": "stdout",
          "text": [
            "Node properties:\n",
            "Article {title: STRING, abstract: STRING, publication_date: DATE}\n",
            "Researcher {name: STRING}\n",
            "Topic {name: STRING}\n",
            "Relationship properties:\n",
            "\n",
            "The relationships:\n",
            "(:Article)-[:IN_TOPIC]->(:Topic)\n",
            "(:Researcher)-[:PUBLISHED]->(:Article)\n"
          ]
        }
      ]
    },
    {
      "cell_type": "markdown",
      "source": [
        "![](https://raw.githubusercontent.com/dcarpintero/generative-ai-101/main/static/kg_sample_00.png)"
      ],
      "metadata": {
        "id": "CU-lDpSYMB03"
      }
    },
    {
      "cell_type": "code",
      "source": [
        "# making vector index\n",
        "from langchain_community.vectorstores import Neo4jVector\n",
        "from langchain_openai import OpenAIEmbeddings\n",
        "\n",
        "vector_index = Neo4jVector.from_existing_graph(\n",
        "    OpenAIEmbeddings(api_key=os.getenv(\"OPENAI_API_KEY\")),\n",
        "    url=os.environ[\"NEO4J_URI\"],\n",
        "    username=os.environ[\"NEO4J_USERNAME\"],\n",
        "    password=os.environ[\"NEO4J_PASSWORD\"],\n",
        "    index_name=\"articles\",\n",
        "    node_label=\"Article\",\n",
        "    text_node_properties=[\"topic\", \"title\", \"abstract\"],\n",
        "    embedding_node_property=\"embedding\",\n",
        ")"
      ],
      "metadata": {
        "id": "fZL1Nq7_MDNW"
      },
      "execution_count": 19,
      "outputs": []
    },
    {
      "cell_type": "markdown",
      "source": [
        "q&a"
      ],
      "metadata": {
        "id": "iGP8vsjvMJDs"
      }
    },
    {
      "cell_type": "code",
      "source": [
        "from langchain.chains import RetrievalQA\n",
        "from langchain_openai import ChatOpenAI\n",
        "\n",
        "vector_qa = RetrievalQA.from_chain_type(\n",
        "    llm=ChatOpenAI(api_key=os.getenv(\"OPENAI_API_KEY\")),\n",
        "    chain_type=\"stuff\",\n",
        "    retriever=vector_index.as_retriever()\n",
        ")"
      ],
      "metadata": {
        "id": "LREqW6y-MKvv"
      },
      "execution_count": 21,
      "outputs": []
    },
    {
      "cell_type": "code",
      "source": [
        "r = vector_qa.invoke(\n",
        "    {\n",
        "        \"query\": \"which articles discuss how AI might affect our daily life? include the article titles and abstracts.\"\n",
        "    }\n",
        ")\n",
        "print(r[\"result\"])"
      ],
      "metadata": {
        "id": "wzpLSVc0MKyB",
        "colab": {
          "base_uri": "https://localhost:8080/"
        },
        "outputId": "dcc9208e-007d-4713-9887-d79a6c127b1a"
      },
      "execution_count": 22,
      "outputs": [
        {
          "output_type": "stream",
          "name": "stdout",
          "text": [
            "The articles that discuss how AI might affect our daily life are:\n",
            "\n",
            "1. **The Impact of AI on Employment: A Comprehensive Study**\n",
            "   - *Abstract*: This study analyzes the potential effects of AI on various job sectors and suggests policy recommendations to mitigate negative impacts.\n",
            "\n",
            "2. **The Societal Implications of Advanced AI: A Multidisciplinary Analysis**\n",
            "   - *Abstract*: Our study brings together experts from various fields to analyze the potential long-term impacts of advanced AI on society, economy, and culture.\n",
            "\n",
            "Unfortunately, the other articles provided do not directly address how AI might affect our daily life.\n"
          ]
        }
      ]
    },
    {
      "cell_type": "markdown",
      "source": [
        "Knowledge graphs are excellent for making connections between entities, enabling the extraction of patterns and the discovery of new insights.\n",
        "\n",
        "This section demonstrates how to implement this process and integrate the results into an LLM pipeline using natural language queries."
      ],
      "metadata": {
        "id": "4o5rNUr1MZ2Z"
      }
    },
    {
      "cell_type": "code",
      "source": [
        "from langchain.chains import GraphCypherQAChain\n",
        "from langchain_openai import ChatOpenAI\n",
        "\n",
        "graph.refresh_schema()\n",
        "\n",
        "cypher_chain = GraphCypherQAChain.from_llm(\n",
        "    cypher_llm=ChatOpenAI(temperature=0, model_name=\"gpt-4o\", api_key=os.getenv(\"OPENAI_API_KEY\")),\n",
        "    qa_llm=ChatOpenAI(temperature=0, model_name=\"gpt-4o\", api_key=os.getenv(\"OPENAI_API_KEY\")),\n",
        "    graph=graph,\n",
        "    verbose=True,\n",
        "    allow_dangerous_requests=True\n",
        ")"
      ],
      "metadata": {
        "id": "mP9nDtSwMK0X"
      },
      "execution_count": 25,
      "outputs": []
    },
    {
      "cell_type": "markdown",
      "source": [
        "\"How many articles has published Emily Chen?\"\n",
        "\n",
        "```md\n",
        "MATCH (r:Researcher {name: \"Emily Chen\"})-[:PUBLISHED]->(a:Article)\n",
        "RETURN COUNT(a) AS numberOfArticles\n",
        "```"
      ],
      "metadata": {
        "id": "RNmDUSYlMnZX"
      }
    },
    {
      "cell_type": "code",
      "source": [
        "cypher_chain.invoke({\"query\": \"How many articles has published Emily Chen?\"})"
      ],
      "metadata": {
        "id": "QWF0dU7DMiH0",
        "colab": {
          "base_uri": "https://localhost:8080/"
        },
        "outputId": "0644acc7-51b0-4ebd-f0df-9bbe293ebf5f"
      },
      "execution_count": 26,
      "outputs": [
        {
          "output_type": "stream",
          "name": "stdout",
          "text": [
            "\n",
            "\n",
            "\u001b[1m> Entering new GraphCypherQAChain chain...\u001b[0m\n",
            "Generated Cypher:\n",
            "\u001b[32;1m\u001b[1;3mcypher\n",
            "MATCH (r:Researcher {name: \"Emily Chen\"})-[:PUBLISHED]->(a:Article)\n",
            "RETURN COUNT(a) AS numberOfArticles\n",
            "\u001b[0m\n",
            "Full Context:\n",
            "\u001b[32;1m\u001b[1;3m[{'numberOfArticles': 7}]\u001b[0m\n",
            "\n",
            "\u001b[1m> Finished chain.\u001b[0m\n"
          ]
        },
        {
          "output_type": "execute_result",
          "data": {
            "text/plain": [
              "{'query': 'How many articles has published Emily Chen?',\n",
              " 'result': 'Emily Chen has published 7 articles.'}"
            ]
          },
          "metadata": {},
          "execution_count": 26
        }
      ]
    },
    {
      "cell_type": "code",
      "source": [
        "# the answer should be 'David Johnson'\n",
        "cypher_chain.invoke({\"query\": \"Which researcher has collaborated with the most peers?\"})"
      ],
      "metadata": {
        "id": "yPZ0nSxVM79d",
        "colab": {
          "base_uri": "https://localhost:8080/"
        },
        "outputId": "2326aa0c-3b94-4761-8bdf-9e11530a021b"
      },
      "execution_count": 27,
      "outputs": [
        {
          "output_type": "stream",
          "name": "stdout",
          "text": [
            "\n",
            "\n",
            "\u001b[1m> Entering new GraphCypherQAChain chain...\u001b[0m\n",
            "Generated Cypher:\n",
            "\u001b[32;1m\u001b[1;3mcypher\n",
            "MATCH (r:Researcher)-[:PUBLISHED]->(:Article)<-[:PUBLISHED]-(peer:Researcher)\n",
            "WITH r, COUNT(DISTINCT peer) AS peerCount\n",
            "RETURN r.name AS researcher, peerCount\n",
            "ORDER BY peerCount DESC\n",
            "LIMIT 1\n",
            "\u001b[0m\n",
            "Full Context:\n",
            "\u001b[32;1m\u001b[1;3m[{'researcher': 'David Johnson', 'peerCount': 6}]\u001b[0m\n",
            "\n",
            "\u001b[1m> Finished chain.\u001b[0m\n"
          ]
        },
        {
          "output_type": "execute_result",
          "data": {
            "text/plain": [
              "{'query': 'Which researcher has collaborated with the most peers?',\n",
              " 'result': 'David Johnson has collaborated with the most peers, with a peer count of 6.'}"
            ]
          },
          "metadata": {},
          "execution_count": 27
        }
      ]
    },
    {
      "cell_type": "markdown",
      "source": [
        "![](https://raw.githubusercontent.com/dcarpintero/generative-ai-101/main/static/kg_sample_03.png)"
      ],
      "metadata": {
        "id": "7LSFeuq8M_oY"
      }
    },
    {
      "cell_type": "code",
      "source": [],
      "metadata": {
        "id": "w2rOhhq4NCyA"
      },
      "execution_count": null,
      "outputs": []
    }
  ]
}