{
  "nbformat": 4,
  "nbformat_minor": 0,
  "metadata": {
    "colab": {
      "provenance": []
    },
    "kernelspec": {
      "name": "python3",
      "display_name": "Python 3"
    },
    "language_info": {
      "name": "python"
    }
  },
  "cells": [
    {
      "cell_type": "markdown",
      "source": [
        "In this notebook we will make a multi-agent web browser: an agentic system with several agents collaborating to solve problems using the web!\n",
        "\n",
        "```md\n",
        "              +----------------+\n",
        "              | Manager agent  |\n",
        "              +----------------+\n",
        "                       |\n",
        "        _______________|______________\n",
        "       |                              |\n",
        "  Code interpreter   +--------------------------------+\n",
        "       tool          |         Managed agent          |\n",
        "                     |      +------------------+      |\n",
        "                     |      | Web Search agent |      |\n",
        "                     |      +------------------+      |\n",
        "                     |         |            |         |\n",
        "                     |  Web Search tool     |         |\n",
        "                     |             Visit webpage tool |\n",
        "                     +--------------------------------+\n",
        "```\n",
        "\n",
        "⚡️ Our agent will be powered by meta-llama/Meta-Llama-3.1-70B-Instruct using HfApiEngine class that uses HF’s Inference API: the Inference API allows to quickly and easily run any OS model.\n",
        "\n"
      ],
      "metadata": {
        "id": "B1HOkeMiEPrZ"
      }
    },
    {
      "cell_type": "code",
      "execution_count": 1,
      "metadata": {
        "colab": {
          "base_uri": "https://localhost:8080/"
        },
        "id": "PwRjF6joyuOY",
        "outputId": "8e4a5e39-d02e-47af-9a23-7db6b9a430e3"
      },
      "outputs": [
        {
          "output_type": "stream",
          "name": "stdout",
          "text": [
            "\u001b[2K     \u001b[90m━━━━━━━━━━━━━━━━━━━━━━━━━━━━━━━━━━━━━━━━\u001b[0m \u001b[32m44.4/44.4 kB\u001b[0m \u001b[31m1.4 MB/s\u001b[0m eta \u001b[36m0:00:00\u001b[0m\n",
            "\u001b[2K   \u001b[90m━━━━━━━━━━━━━━━━━━━━━━━━━━━━━━━━━━━━━━━━\u001b[0m \u001b[32m471.6/471.6 kB\u001b[0m \u001b[31m8.7 MB/s\u001b[0m eta \u001b[36m0:00:00\u001b[0m\n",
            "\u001b[2K   \u001b[90m━━━━━━━━━━━━━━━━━━━━━━━━━━━━━━━━━━━━━━━━\u001b[0m \u001b[32m2.8/2.8 MB\u001b[0m \u001b[31m43.0 MB/s\u001b[0m eta \u001b[36m0:00:00\u001b[0m\n",
            "\u001b[2K   \u001b[90m━━━━━━━━━━━━━━━━━━━━━━━━━━━━━━━━━━━━━━━━\u001b[0m \u001b[32m3.0/3.0 MB\u001b[0m \u001b[31m28.5 MB/s\u001b[0m eta \u001b[36m0:00:00\u001b[0m\n",
            "\u001b[2K   \u001b[90m━━━━━━━━━━━━━━━━━━━━━━━━━━━━━━━━━━━━━━━━\u001b[0m \u001b[32m2.7/2.7 MB\u001b[0m \u001b[31m40.6 MB/s\u001b[0m eta \u001b[36m0:00:00\u001b[0m\n",
            "\u001b[2K   \u001b[90m━━━━━━━━━━━━━━━━━━━━━━━━━━━━━━━━━━━━━━━━\u001b[0m \u001b[32m9.9/9.9 MB\u001b[0m \u001b[31m50.7 MB/s\u001b[0m eta \u001b[36m0:00:00\u001b[0m\n",
            "\u001b[2K   \u001b[90m━━━━━━━━━━━━━━━━━━━━━━━━━━━━━━━━━━━━━━━━\u001b[0m \u001b[32m116.3/116.3 kB\u001b[0m \u001b[31m7.0 MB/s\u001b[0m eta \u001b[36m0:00:00\u001b[0m\n",
            "\u001b[2K   \u001b[90m━━━━━━━━━━━━━━━━━━━━━━━━━━━━━━━━━━━━━━━━\u001b[0m \u001b[32m134.8/134.8 kB\u001b[0m \u001b[31m6.7 MB/s\u001b[0m eta \u001b[36m0:00:00\u001b[0m\n",
            "\u001b[2K   \u001b[90m━━━━━━━━━━━━━━━━━━━━━━━━━━━━━━━━━━━━━━━━\u001b[0m \u001b[32m194.1/194.1 kB\u001b[0m \u001b[31m11.5 MB/s\u001b[0m eta \u001b[36m0:00:00\u001b[0m\n",
            "\u001b[?25h"
          ]
        }
      ],
      "source": [
        "!pip install -q markdownify duckduckgo-search \"transformers[agents]\" --upgrade"
      ]
    },
    {
      "cell_type": "code",
      "source": [
        "!huggingface-cli login"
      ],
      "metadata": {
        "colab": {
          "base_uri": "https://localhost:8080/"
        },
        "id": "cNasFtyhHuA_",
        "outputId": "6a61e213-10d6-4c2c-e8f5-1da7417077a5"
      },
      "execution_count": 11,
      "outputs": [
        {
          "output_type": "stream",
          "name": "stdout",
          "text": [
            "\n",
            "    _|    _|  _|    _|    _|_|_|    _|_|_|  _|_|_|  _|      _|    _|_|_|      _|_|_|_|    _|_|      _|_|_|  _|_|_|_|\n",
            "    _|    _|  _|    _|  _|        _|          _|    _|_|    _|  _|            _|        _|    _|  _|        _|\n",
            "    _|_|_|_|  _|    _|  _|  _|_|  _|  _|_|    _|    _|  _|  _|  _|  _|_|      _|_|_|    _|_|_|_|  _|        _|_|_|\n",
            "    _|    _|  _|    _|  _|    _|  _|    _|    _|    _|    _|_|  _|    _|      _|        _|    _|  _|        _|\n",
            "    _|    _|    _|_|      _|_|_|    _|_|_|  _|_|_|  _|      _|    _|_|_|      _|        _|    _|    _|_|_|  _|_|_|_|\n",
            "\n",
            "    A token is already saved on your machine. Run `huggingface-cli whoami` to get more information or `huggingface-cli logout` if you want to log out.\n",
            "    Setting a new token will erase the existing one.\n",
            "    To login, `huggingface_hub` requires a token generated from https://huggingface.co/settings/tokens .\n",
            "Enter your token (input will not be visible): \n",
            "Add token as git credential? (Y/n) n\n",
            "Token is valid (permission: write).\n",
            "Your token has been saved to /root/.cache/huggingface/token\n",
            "Login successful\n"
          ]
        }
      ]
    },
    {
      "cell_type": "code",
      "source": [
        "model = \"Qwen/Qwen2.5-72B-Instruct\""
      ],
      "metadata": {
        "id": "5HJuODnJEkNm"
      },
      "execution_count": 12,
      "outputs": []
    },
    {
      "cell_type": "markdown",
      "source": [
        "create web search tool (web browsing)"
      ],
      "metadata": {
        "id": "GTZMIQbGEqcX"
      }
    },
    {
      "cell_type": "code",
      "source": [
        "import re\n",
        "import requests\n",
        "from markdownify import markdownify as md\n",
        "from requests.exceptions import RequestException\n",
        "from transformers.agents import tool\n",
        "\n",
        "@tool\n",
        "def visit_webpage(url: str) -> str:\n",
        "  \"\"\" visit webpage of url and return content in md string\n",
        "  Args:\n",
        "        url: The URL of the webpage to visit.\n",
        "  Returns:\n",
        "        The content of the webpage converted to Markdown, or an error message if the request fails.\n",
        "  \"\"\"\n",
        "  try:\n",
        "    resp = requests.get(url)\n",
        "    resp.raise_for_status() # exception for bad status codes\n",
        "\n",
        "    # html to md\n",
        "    md_content = md(resp.text).strip()\n",
        "\n",
        "    # remove line breaks\n",
        "    md_content = re.sub(r\"\\n{3,}\", \"\\n\\n\", md_content)\n",
        "\n",
        "    return md_content\n",
        "\n",
        "  except RequestException as e:\n",
        "    return f\"error fetching page: {str(e)}\"\n",
        "  except Exception as e:\n",
        "    return f\"unexpected error: {str(e)}\"\n",
        "\n",
        "\n",
        "print(visit_webpage(\"https://en.wikipedia.org/wiki/Hugging_Face\")[:500])"
      ],
      "metadata": {
        "colab": {
          "base_uri": "https://localhost:8080/"
        },
        "id": "DcoT3NYEEtHc",
        "outputId": "750c5a93-8a6b-4430-b383-4a878fc18ba4"
      },
      "execution_count": 13,
      "outputs": [
        {
          "output_type": "stream",
          "name": "stdout",
          "text": [
            "Hugging Face \\- Wikipedia\n",
            "\n",
            "[Jump to content](#bodyContent)\n",
            "\n",
            "Main menu\n",
            "\n",
            "Main menu\n",
            "move to sidebar\n",
            "hide\n",
            "\n",
            " Navigation\n",
            " \n",
            "\n",
            "* [Main page](/wiki/Main_Page \"Visit the main page [z]\")\n",
            "* [Contents](/wiki/Wikipedia:Contents \"Guides to browsing Wikipedia\")\n",
            "* [Current events](/wiki/Portal:Current_events \"Articles related to current events\")\n",
            "* [Random article](/wiki/Special:Random \"Visit a randomly selected article [x]\")\n",
            "* [About Wikipedia](/wiki/Wikipedia:About \"Learn about Wikipedia and how it works\")\n",
            "* [Co\n"
          ]
        }
      ]
    },
    {
      "cell_type": "markdown",
      "source": [
        "## build multi agent system\n",
        "\n",
        "Which configuration to choose for this agent?\n",
        "\n",
        "Web browsing is a single-timeline task that does not require parallel tool calls, so JSON tool calling works well for that. We thus choose a ReactJsonAgent.\n",
        "Also, since sometimes web search requires exploring many pages before finding the correct answer, we prefer to increase the number of max_iterations to 10."
      ],
      "metadata": {
        "id": "9_WG3K9IGGtj"
      }
    },
    {
      "cell_type": "code",
      "source": [
        "from transformers.agents import (\n",
        "    ReactCodeAgent,\n",
        "    ReactJsonAgent,\n",
        "    HfApiEngine,\n",
        "    ManagedAgent\n",
        ")\n",
        "from transformers.agents.search import DuckDuckGoSearchTool\n",
        "\n",
        "llm_engine = HfApiEngine(model)\n",
        "\n",
        "web_agent = ReactJsonAgent(\n",
        "    tools=[DuckDuckGoSearchTool(), visit_webpage],\n",
        "    llm_engine=llm_engine,\n",
        "    max_iterations=10\n",
        ")\n",
        "\n",
        "# wrap to make it callable by its manager agent\n",
        "managed_web_agent = ManagedAgent(\n",
        "    agent=web_agent,\n",
        "    name=\"search\",\n",
        "    description=\"run web searches, give query as arg\"\n",
        ")"
      ],
      "metadata": {
        "id": "I_n8k1WPFtFh"
      },
      "execution_count": 14,
      "outputs": []
    },
    {
      "cell_type": "markdown",
      "source": [
        "creating manager agent\n",
        "\n",
        "Since this agent is the one tasked with the planning and thinking, advanced reasoning will be beneficial, so a ReactCodeAgent will be the best choice.\n",
        "\n",
        "Since this agent is the one tasked with the planning and thinking, advanced reasoning will be beneficial, so a ReactCodeAgent will be the best choice.\n",
        "\n"
      ],
      "metadata": {
        "id": "YK1ejEwsHZp3"
      }
    },
    {
      "cell_type": "code",
      "source": [
        "manager_agent = ReactCodeAgent(\n",
        "    tools=[],\n",
        "    llm_engine=llm_engine,\n",
        "    managed_agents=[managed_web_agent],\n",
        "    additional_authorized_imports=[\"time\", \"datetime\"],\n",
        ")"
      ],
      "metadata": {
        "id": "u-I-oJ3qHYVu"
      },
      "execution_count": 15,
      "outputs": []
    },
    {
      "cell_type": "code",
      "source": [
        "manager_agent.run(\"How many years ago was Stripe founded?\")"
      ],
      "metadata": {
        "colab": {
          "base_uri": "https://localhost:8080/"
        },
        "id": "W4mtFcjpHlHB",
        "outputId": "8f4c2d20-a75e-448d-dd19-4d1febbb0d68"
      },
      "execution_count": 16,
      "outputs": [
        {
          "output_type": "stream",
          "name": "stderr",
          "text": [
            "\u001b[32;20;1m======== New task ========\u001b[0m\n",
            "\u001b[37;1mHow many years ago was Stripe founded?\u001b[0m\n",
            "\u001b[33;1m=== Agent thoughts:\u001b[0m\n",
            "\u001b[0mThought: To find out how many years ago Stripe was founded, I need to first determine the year Stripe was founded. I can use the `search` tool to find this information.\u001b[0m\n",
            "\u001b[33;1m>>> Agent is executing the code below:\u001b[0m\n",
            "\u001b[0m\u001b[38;5;7mstripe_founded\u001b[39m\u001b[38;5;7m \u001b[39m\u001b[38;5;109;01m=\u001b[39;00m\u001b[38;5;7m \u001b[39m\u001b[38;5;7msearch\u001b[39m\u001b[38;5;7m(\u001b[39m\u001b[38;5;7mquery\u001b[39m\u001b[38;5;109;01m=\u001b[39;00m\u001b[38;5;144m\"\u001b[39m\u001b[38;5;144mWhen was Stripe founded?\u001b[39m\u001b[38;5;144m\"\u001b[39m\u001b[38;5;7m)\u001b[39m\n",
            "\u001b[38;5;109mprint\u001b[39m\u001b[38;5;7m(\u001b[39m\u001b[38;5;144m\"\u001b[39m\u001b[38;5;144mStripe was founded:\u001b[39m\u001b[38;5;144m\"\u001b[39m\u001b[38;5;7m,\u001b[39m\u001b[38;5;7m \u001b[39m\u001b[38;5;7mstripe_founded\u001b[39m\u001b[38;5;7m)\u001b[39m\u001b[0m\n",
            "\u001b[33;1m====\u001b[0m\n",
            "\u001b[31;20mCode execution failed due to the following error:\n",
            "ManagedAgent.__call__() missing 1 required positional argument: 'request'\u001b[0m\n",
            "Traceback (most recent call last):\n",
            "  File \"/usr/local/lib/python3.10/dist-packages/transformers/agents/agents.py\", line 1135, in step\n",
            "    result = self.python_evaluator(\n",
            "  File \"/usr/local/lib/python3.10/dist-packages/transformers/agents/python_interpreter.py\", line 895, in evaluate_python_code\n",
            "    result = evaluate_ast(node, state, static_tools, custom_tools, authorized_imports)\n",
            "  File \"/usr/local/lib/python3.10/dist-packages/transformers/agents/python_interpreter.py\", line 741, in evaluate_ast\n",
            "    return evaluate_assign(expression, state, static_tools, custom_tools)\n",
            "  File \"/usr/local/lib/python3.10/dist-packages/transformers/agents/python_interpreter.py\", line 322, in evaluate_assign\n",
            "    result = evaluate_ast(assign.value, state, static_tools, custom_tools)\n",
            "  File \"/usr/local/lib/python3.10/dist-packages/transformers/agents/python_interpreter.py\", line 746, in evaluate_ast\n",
            "    return evaluate_call(expression, state, static_tools, custom_tools)\n",
            "  File \"/usr/local/lib/python3.10/dist-packages/transformers/agents/python_interpreter.py\", line 439, in evaluate_call\n",
            "    output = func(*args, **kwargs)\n",
            "TypeError: ManagedAgent.__call__() missing 1 required positional argument: 'request'\n",
            "\n",
            "During handling of the above exception, another exception occurred:\n",
            "\n",
            "Traceback (most recent call last):\n",
            "  File \"/usr/local/lib/python3.10/dist-packages/transformers/agents/agents.py\", line 811, in direct_run\n",
            "    step_logs = self.step()\n",
            "  File \"/usr/local/lib/python3.10/dist-packages/transformers/agents/agents.py\", line 1155, in step\n",
            "    raise AgentExecutionError(error_msg)\n",
            "transformers.agents.agents.AgentExecutionError: Code execution failed due to the following error:\n",
            "ManagedAgent.__call__() missing 1 required positional argument: 'request'\n",
            "\u001b[33;1m=== Agent thoughts:\u001b[0m\n",
            "\u001b[0mThought: It appears that my previous execution failed because I attempted to use the `search` tool without calling it with the `request` argument. Let's retry by making the correct call to the `search` tool.\u001b[0m\n",
            "\u001b[33;1m>>> Agent is executing the code below:\u001b[0m\n",
            "\u001b[0m\u001b[38;5;7mstripe_founded\u001b[39m\u001b[38;5;7m \u001b[39m\u001b[38;5;109;01m=\u001b[39;00m\u001b[38;5;7m \u001b[39m\u001b[38;5;7msearch\u001b[39m\u001b[38;5;7m(\u001b[39m\u001b[38;5;7mrequest\u001b[39m\u001b[38;5;109;01m=\u001b[39;00m\u001b[38;5;144m\"\u001b[39m\u001b[38;5;144mWhen was Stripe founded?\u001b[39m\u001b[38;5;144m\"\u001b[39m\u001b[38;5;7m)\u001b[39m\n",
            "\u001b[38;5;109mprint\u001b[39m\u001b[38;5;7m(\u001b[39m\u001b[38;5;144m\"\u001b[39m\u001b[38;5;144mStripe was founded:\u001b[39m\u001b[38;5;144m\"\u001b[39m\u001b[38;5;7m,\u001b[39m\u001b[38;5;7m \u001b[39m\u001b[38;5;7mstripe_founded\u001b[39m\u001b[38;5;7m)\u001b[39m\u001b[0m\n",
            "\u001b[33;1m====\u001b[0m\n",
            "\u001b[32;20;1m======== New task ========\u001b[0m\n",
            "\u001b[37;1mYou're a helpful agent named 'search'.\n",
            "You have been submitted this task by your manager.\n",
            "---\n",
            "Task:\n",
            "When was Stripe founded?\n",
            "---\n",
            "You're helping your manager solve a wider task: so make sure to not provide a one-line answer, but give as much information as possible so that they have a clear understanding of the answer.\n",
            "\n",
            "Your final_answer WILL HAVE to contain these parts:\n",
            "### 1. Task outcome (short version):\n",
            "### 2. Task outcome (extremely detailed version):\n",
            "### 3. Additional context (if relevant):\n",
            "\n",
            "Put all these in your final_answer tool, everything that you do not pass as an argument to final_answer will be lost.\n",
            "And even if your task resolution is not successful, please return as much context as possible, so that your manager can act upon this feedback.\u001b[0m\n",
            "\u001b[33;1m=== Agent thoughts:\u001b[0m\n",
            "\u001b[0mThought: I need to find out when Stripe was founded and then provide a detailed response. I will perform a web search to gather this information.\u001b[0m\n",
            "\u001b[33;1m>>> Calling tool: 'web_search' with arguments: {'query': 'When was Stripe founded?'}\u001b[0m\n",
            "\u001b[33;1m=== Agent thoughts:\u001b[0m\n",
            "\u001b[0mThought: The search results indicate that Stripe was founded in 2010 by brothers John and Patrick Collison. I will now draft a detailed answer using this information.\u001b[0m\n",
            "\u001b[33;1m>>> Calling tool: 'final_answer' with arguments: {'answer': '### 1. Task outcome (short version):\\n\\nStripe was founded in 2010.\\n\\n### 2. Task outcome (extremely detailed version):\\n\\nStripe, Inc. is a multinational financial services and software as a service (SaaS) company that was founded in 2010 by Irish-American entrepreneur brothers John Collison and Patrick Collison. The company was initially established in Palo Alto, California, with the vision of creating a payment platform that would make it easy for small businesses to accept payments from anywhere in the world.\\n\\n### 3. Additional context (if relevant):\\n\\n- **Founders**: John Collison (President) and Patrick Collison (CEO).\\n- **Location**: Originally founded in Palo Alto, California, with significant operations in both the United States and Ireland.\\n- **Vision**: The Collison brothers aimed to simplify online payments and make it easier for businesses, particularly small and medium-sized enterprises, to engage in e-commerce.\\n- **Growth**: Since its founding, Stripe has grown to become one of the most valuable private technology companies, with a valuation of over $95 billion as of 2022.\\n- **Impact**: Stripe has revolutionized the way businesses handle online payments, providing a robust and user-friendly platform that supports a wide range of payment methods and integrates seamlessly with various business models.'}\u001b[0m\n",
            "\u001b[33;1mPrint outputs:\u001b[0m\n",
            "\u001b[32;20mStripe was founded: ### 1. Task outcome (short version):\n",
            "\n",
            "Stripe was founded in 2010.\n",
            "\n",
            "### 2. Task outcome (extremely detailed version):\n",
            "\n",
            "Stripe, Inc. is a multinational financial services and software as a service (SaaS) company that was founded in 2010 by Irish-American entrepreneur brothers John Collison and Patrick Collison. The company was initially established in Palo Alto, California, with the vision of creating a payment platform that would make it easy for small businesses to accept payments from anywhere in the world.\n",
            "\n",
            "### 3. Additional context (if relevant):\n",
            "\n",
            "- **Founders**: John Collison (President) and Patrick Collison (CEO).\n",
            "- **Location**: Originally founded in Palo Alto, California, with significant operations in both the United States and Ireland.\n",
            "- **Vision**: The Collison brothers aimed to simplify online payments and make it easier for businesses, particularly small and medium-sized enterprises, to engage in e-commerce.\n",
            "- **Growth**: Since its founding, Stripe has grown to become one of the most valuable private technology companies, with a valuation of over $95 billion as of 2022.\n",
            "- **Impact**: Stripe has revolutionized the way businesses handle online payments, providing a robust and user-friendly platform that supports a wide range of payment methods and integrates seamlessly with various business models.\n",
            "\u001b[0m\n",
            "\u001b[33;1m=== Agent thoughts:\u001b[0m\n",
            "\u001b[0mThought: From the detailed information provided, Stripe was founded in 2010. Now, I need to calculate the number of years since Stripe was founded. I will use the `datetime` module to get the current year and then subtract 2010 from it.\u001b[0m\n",
            "\u001b[33;1m>>> Agent is executing the code below:\u001b[0m\n",
            "\u001b[0m\u001b[38;5;109;01mimport\u001b[39;00m\u001b[38;5;7m \u001b[39m\u001b[38;5;109mdatetime\u001b[39m\n",
            "\n",
            "\u001b[38;5;7mcurrent_year\u001b[39m\u001b[38;5;7m \u001b[39m\u001b[38;5;109;01m=\u001b[39;00m\u001b[38;5;7m \u001b[39m\u001b[38;5;7mdatetime\u001b[39m\u001b[38;5;109;01m.\u001b[39;00m\u001b[38;5;7mdatetime\u001b[39m\u001b[38;5;109;01m.\u001b[39;00m\u001b[38;5;7mnow\u001b[39m\u001b[38;5;7m(\u001b[39m\u001b[38;5;7m)\u001b[39m\u001b[38;5;109;01m.\u001b[39;00m\u001b[38;5;7myear\u001b[39m\n",
            "\u001b[38;5;7myears_since_founded\u001b[39m\u001b[38;5;7m \u001b[39m\u001b[38;5;109;01m=\u001b[39;00m\u001b[38;5;7m \u001b[39m\u001b[38;5;7mcurrent_year\u001b[39m\u001b[38;5;7m \u001b[39m\u001b[38;5;109;01m-\u001b[39;00m\u001b[38;5;7m \u001b[39m\u001b[38;5;139m2010\u001b[39m\n",
            "\u001b[38;5;7mfinal_answer\u001b[39m\u001b[38;5;7m(\u001b[39m\u001b[38;5;7myears_since_founded\u001b[39m\u001b[38;5;7m)\u001b[39m\u001b[0m\n",
            "\u001b[33;1m====\u001b[0m\n",
            "\u001b[33;1mPrint outputs:\u001b[0m\n",
            "\u001b[32;20m\u001b[0m\n",
            "\u001b[33;1mLast output from code snippet:\u001b[0m\n",
            "\u001b[32;20m14\u001b[0m\n",
            "\u001b[32;20;1mFinal answer:\u001b[0m\n",
            "\u001b[32;20m14\u001b[0m\n"
          ]
        },
        {
          "output_type": "execute_result",
          "data": {
            "text/plain": [
              "14"
            ]
          },
          "metadata": {},
          "execution_count": 16
        }
      ]
    },
    {
      "cell_type": "markdown",
      "source": [
        "💡 You can easily extend this to more agents: one does the code execution, one the web search, one handles file loadings…\n",
        "\n",
        "🤔💭 One could even think of doing more complex, tree-like hierarchies, with one CEO agent handling multiple middle managers, each with several reports."
      ],
      "metadata": {
        "id": "erRInf5qIJFi"
      }
    },
    {
      "cell_type": "code",
      "source": [],
      "metadata": {
        "id": "9Qcy7566H1aZ"
      },
      "execution_count": 16,
      "outputs": []
    }
  ]
}