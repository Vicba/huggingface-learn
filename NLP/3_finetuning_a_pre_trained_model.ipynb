{
  "nbformat": 4,
  "nbformat_minor": 0,
  "metadata": {
    "colab": {
      "provenance": [],
      "gpuType": "T4"
    },
    "kernelspec": {
      "name": "python3",
      "display_name": "Python 3"
    },
    "language_info": {
      "name": "python"
    },
    "accelerator": "GPU",
    "widgets": {
      "application/vnd.jupyter.widget-state+json": {
        "a455d2abb0544454a9c3a498383bf3af": {
          "model_module": "@jupyter-widgets/controls",
          "model_name": "HBoxModel",
          "model_module_version": "1.5.0",
          "state": {
            "_dom_classes": [],
            "_model_module": "@jupyter-widgets/controls",
            "_model_module_version": "1.5.0",
            "_model_name": "HBoxModel",
            "_view_count": null,
            "_view_module": "@jupyter-widgets/controls",
            "_view_module_version": "1.5.0",
            "_view_name": "HBoxView",
            "box_style": "",
            "children": [
              "IPY_MODEL_ea82b6bb6b714cc3bc77566ef37d944b",
              "IPY_MODEL_a62e3e2f185c49da89ee818116dd5d0d",
              "IPY_MODEL_6fb847667e94451fbd7e506ada59c8c2"
            ],
            "layout": "IPY_MODEL_31bd81ceebe345ea8c3cc32230430748"
          }
        },
        "ea82b6bb6b714cc3bc77566ef37d944b": {
          "model_module": "@jupyter-widgets/controls",
          "model_name": "HTMLModel",
          "model_module_version": "1.5.0",
          "state": {
            "_dom_classes": [],
            "_model_module": "@jupyter-widgets/controls",
            "_model_module_version": "1.5.0",
            "_model_name": "HTMLModel",
            "_view_count": null,
            "_view_module": "@jupyter-widgets/controls",
            "_view_module_version": "1.5.0",
            "_view_name": "HTMLView",
            "description": "",
            "description_tooltip": null,
            "layout": "IPY_MODEL_ea0e62ffc10c4026afa17576d3baed8e",
            "placeholder": "​",
            "style": "IPY_MODEL_0bdd558ae31d49dab8afe294e99f7bb3",
            "value": "Downloading readme: 100%"
          }
        },
        "a62e3e2f185c49da89ee818116dd5d0d": {
          "model_module": "@jupyter-widgets/controls",
          "model_name": "FloatProgressModel",
          "model_module_version": "1.5.0",
          "state": {
            "_dom_classes": [],
            "_model_module": "@jupyter-widgets/controls",
            "_model_module_version": "1.5.0",
            "_model_name": "FloatProgressModel",
            "_view_count": null,
            "_view_module": "@jupyter-widgets/controls",
            "_view_module_version": "1.5.0",
            "_view_name": "ProgressView",
            "bar_style": "success",
            "description": "",
            "description_tooltip": null,
            "layout": "IPY_MODEL_90ea0cdc6af6486ca0969a663ef0887f",
            "max": 35296,
            "min": 0,
            "orientation": "horizontal",
            "style": "IPY_MODEL_b29e067a4cb245ef819cf82ce558c521",
            "value": 35296
          }
        },
        "6fb847667e94451fbd7e506ada59c8c2": {
          "model_module": "@jupyter-widgets/controls",
          "model_name": "HTMLModel",
          "model_module_version": "1.5.0",
          "state": {
            "_dom_classes": [],
            "_model_module": "@jupyter-widgets/controls",
            "_model_module_version": "1.5.0",
            "_model_name": "HTMLModel",
            "_view_count": null,
            "_view_module": "@jupyter-widgets/controls",
            "_view_module_version": "1.5.0",
            "_view_name": "HTMLView",
            "description": "",
            "description_tooltip": null,
            "layout": "IPY_MODEL_729124dedac94ba5bf3afccb53d5d4f3",
            "placeholder": "​",
            "style": "IPY_MODEL_90e8b884ccc84646bc6c33ab5c0b3e4d",
            "value": " 35.3k/35.3k [00:00&lt;00:00, 733kB/s]"
          }
        },
        "31bd81ceebe345ea8c3cc32230430748": {
          "model_module": "@jupyter-widgets/base",
          "model_name": "LayoutModel",
          "model_module_version": "1.2.0",
          "state": {
            "_model_module": "@jupyter-widgets/base",
            "_model_module_version": "1.2.0",
            "_model_name": "LayoutModel",
            "_view_count": null,
            "_view_module": "@jupyter-widgets/base",
            "_view_module_version": "1.2.0",
            "_view_name": "LayoutView",
            "align_content": null,
            "align_items": null,
            "align_self": null,
            "border": null,
            "bottom": null,
            "display": null,
            "flex": null,
            "flex_flow": null,
            "grid_area": null,
            "grid_auto_columns": null,
            "grid_auto_flow": null,
            "grid_auto_rows": null,
            "grid_column": null,
            "grid_gap": null,
            "grid_row": null,
            "grid_template_areas": null,
            "grid_template_columns": null,
            "grid_template_rows": null,
            "height": null,
            "justify_content": null,
            "justify_items": null,
            "left": null,
            "margin": null,
            "max_height": null,
            "max_width": null,
            "min_height": null,
            "min_width": null,
            "object_fit": null,
            "object_position": null,
            "order": null,
            "overflow": null,
            "overflow_x": null,
            "overflow_y": null,
            "padding": null,
            "right": null,
            "top": null,
            "visibility": null,
            "width": null
          }
        },
        "ea0e62ffc10c4026afa17576d3baed8e": {
          "model_module": "@jupyter-widgets/base",
          "model_name": "LayoutModel",
          "model_module_version": "1.2.0",
          "state": {
            "_model_module": "@jupyter-widgets/base",
            "_model_module_version": "1.2.0",
            "_model_name": "LayoutModel",
            "_view_count": null,
            "_view_module": "@jupyter-widgets/base",
            "_view_module_version": "1.2.0",
            "_view_name": "LayoutView",
            "align_content": null,
            "align_items": null,
            "align_self": null,
            "border": null,
            "bottom": null,
            "display": null,
            "flex": null,
            "flex_flow": null,
            "grid_area": null,
            "grid_auto_columns": null,
            "grid_auto_flow": null,
            "grid_auto_rows": null,
            "grid_column": null,
            "grid_gap": null,
            "grid_row": null,
            "grid_template_areas": null,
            "grid_template_columns": null,
            "grid_template_rows": null,
            "height": null,
            "justify_content": null,
            "justify_items": null,
            "left": null,
            "margin": null,
            "max_height": null,
            "max_width": null,
            "min_height": null,
            "min_width": null,
            "object_fit": null,
            "object_position": null,
            "order": null,
            "overflow": null,
            "overflow_x": null,
            "overflow_y": null,
            "padding": null,
            "right": null,
            "top": null,
            "visibility": null,
            "width": null
          }
        },
        "0bdd558ae31d49dab8afe294e99f7bb3": {
          "model_module": "@jupyter-widgets/controls",
          "model_name": "DescriptionStyleModel",
          "model_module_version": "1.5.0",
          "state": {
            "_model_module": "@jupyter-widgets/controls",
            "_model_module_version": "1.5.0",
            "_model_name": "DescriptionStyleModel",
            "_view_count": null,
            "_view_module": "@jupyter-widgets/base",
            "_view_module_version": "1.2.0",
            "_view_name": "StyleView",
            "description_width": ""
          }
        },
        "90ea0cdc6af6486ca0969a663ef0887f": {
          "model_module": "@jupyter-widgets/base",
          "model_name": "LayoutModel",
          "model_module_version": "1.2.0",
          "state": {
            "_model_module": "@jupyter-widgets/base",
            "_model_module_version": "1.2.0",
            "_model_name": "LayoutModel",
            "_view_count": null,
            "_view_module": "@jupyter-widgets/base",
            "_view_module_version": "1.2.0",
            "_view_name": "LayoutView",
            "align_content": null,
            "align_items": null,
            "align_self": null,
            "border": null,
            "bottom": null,
            "display": null,
            "flex": null,
            "flex_flow": null,
            "grid_area": null,
            "grid_auto_columns": null,
            "grid_auto_flow": null,
            "grid_auto_rows": null,
            "grid_column": null,
            "grid_gap": null,
            "grid_row": null,
            "grid_template_areas": null,
            "grid_template_columns": null,
            "grid_template_rows": null,
            "height": null,
            "justify_content": null,
            "justify_items": null,
            "left": null,
            "margin": null,
            "max_height": null,
            "max_width": null,
            "min_height": null,
            "min_width": null,
            "object_fit": null,
            "object_position": null,
            "order": null,
            "overflow": null,
            "overflow_x": null,
            "overflow_y": null,
            "padding": null,
            "right": null,
            "top": null,
            "visibility": null,
            "width": null
          }
        },
        "b29e067a4cb245ef819cf82ce558c521": {
          "model_module": "@jupyter-widgets/controls",
          "model_name": "ProgressStyleModel",
          "model_module_version": "1.5.0",
          "state": {
            "_model_module": "@jupyter-widgets/controls",
            "_model_module_version": "1.5.0",
            "_model_name": "ProgressStyleModel",
            "_view_count": null,
            "_view_module": "@jupyter-widgets/base",
            "_view_module_version": "1.2.0",
            "_view_name": "StyleView",
            "bar_color": null,
            "description_width": ""
          }
        },
        "729124dedac94ba5bf3afccb53d5d4f3": {
          "model_module": "@jupyter-widgets/base",
          "model_name": "LayoutModel",
          "model_module_version": "1.2.0",
          "state": {
            "_model_module": "@jupyter-widgets/base",
            "_model_module_version": "1.2.0",
            "_model_name": "LayoutModel",
            "_view_count": null,
            "_view_module": "@jupyter-widgets/base",
            "_view_module_version": "1.2.0",
            "_view_name": "LayoutView",
            "align_content": null,
            "align_items": null,
            "align_self": null,
            "border": null,
            "bottom": null,
            "display": null,
            "flex": null,
            "flex_flow": null,
            "grid_area": null,
            "grid_auto_columns": null,
            "grid_auto_flow": null,
            "grid_auto_rows": null,
            "grid_column": null,
            "grid_gap": null,
            "grid_row": null,
            "grid_template_areas": null,
            "grid_template_columns": null,
            "grid_template_rows": null,
            "height": null,
            "justify_content": null,
            "justify_items": null,
            "left": null,
            "margin": null,
            "max_height": null,
            "max_width": null,
            "min_height": null,
            "min_width": null,
            "object_fit": null,
            "object_position": null,
            "order": null,
            "overflow": null,
            "overflow_x": null,
            "overflow_y": null,
            "padding": null,
            "right": null,
            "top": null,
            "visibility": null,
            "width": null
          }
        },
        "90e8b884ccc84646bc6c33ab5c0b3e4d": {
          "model_module": "@jupyter-widgets/controls",
          "model_name": "DescriptionStyleModel",
          "model_module_version": "1.5.0",
          "state": {
            "_model_module": "@jupyter-widgets/controls",
            "_model_module_version": "1.5.0",
            "_model_name": "DescriptionStyleModel",
            "_view_count": null,
            "_view_module": "@jupyter-widgets/base",
            "_view_module_version": "1.2.0",
            "_view_name": "StyleView",
            "description_width": ""
          }
        },
        "0a7e5ff0a31c4ae2a84f6ef97d9e4e33": {
          "model_module": "@jupyter-widgets/controls",
          "model_name": "HBoxModel",
          "model_module_version": "1.5.0",
          "state": {
            "_dom_classes": [],
            "_model_module": "@jupyter-widgets/controls",
            "_model_module_version": "1.5.0",
            "_model_name": "HBoxModel",
            "_view_count": null,
            "_view_module": "@jupyter-widgets/controls",
            "_view_module_version": "1.5.0",
            "_view_name": "HBoxView",
            "box_style": "",
            "children": [
              "IPY_MODEL_42dc044b87014b48958cb542bc18eacd",
              "IPY_MODEL_77f0f7c6a37c4cf5b5487e43f06e36e9",
              "IPY_MODEL_675cb99ae1a444d9b5b5219d14e4df98"
            ],
            "layout": "IPY_MODEL_033025a47f8a44a3805b90535a4f0d00"
          }
        },
        "42dc044b87014b48958cb542bc18eacd": {
          "model_module": "@jupyter-widgets/controls",
          "model_name": "HTMLModel",
          "model_module_version": "1.5.0",
          "state": {
            "_dom_classes": [],
            "_model_module": "@jupyter-widgets/controls",
            "_model_module_version": "1.5.0",
            "_model_name": "HTMLModel",
            "_view_count": null,
            "_view_module": "@jupyter-widgets/controls",
            "_view_module_version": "1.5.0",
            "_view_name": "HTMLView",
            "description": "",
            "description_tooltip": null,
            "layout": "IPY_MODEL_741c937a02bc49078af39db3efa42835",
            "placeholder": "​",
            "style": "IPY_MODEL_5d2f7b78087e4e6f870469249d6ec814",
            "value": "Downloading data: 100%"
          }
        },
        "77f0f7c6a37c4cf5b5487e43f06e36e9": {
          "model_module": "@jupyter-widgets/controls",
          "model_name": "FloatProgressModel",
          "model_module_version": "1.5.0",
          "state": {
            "_dom_classes": [],
            "_model_module": "@jupyter-widgets/controls",
            "_model_module_version": "1.5.0",
            "_model_name": "FloatProgressModel",
            "_view_count": null,
            "_view_module": "@jupyter-widgets/controls",
            "_view_module_version": "1.5.0",
            "_view_name": "ProgressView",
            "bar_style": "success",
            "description": "",
            "description_tooltip": null,
            "layout": "IPY_MODEL_0ee7f40ceef743968c31948816eca6d6",
            "max": 649281,
            "min": 0,
            "orientation": "horizontal",
            "style": "IPY_MODEL_6fd3c6c13c0f431da0521a6c903d2c82",
            "value": 649281
          }
        },
        "675cb99ae1a444d9b5b5219d14e4df98": {
          "model_module": "@jupyter-widgets/controls",
          "model_name": "HTMLModel",
          "model_module_version": "1.5.0",
          "state": {
            "_dom_classes": [],
            "_model_module": "@jupyter-widgets/controls",
            "_model_module_version": "1.5.0",
            "_model_name": "HTMLModel",
            "_view_count": null,
            "_view_module": "@jupyter-widgets/controls",
            "_view_module_version": "1.5.0",
            "_view_name": "HTMLView",
            "description": "",
            "description_tooltip": null,
            "layout": "IPY_MODEL_00218590f56c466cac84362641ba276b",
            "placeholder": "​",
            "style": "IPY_MODEL_f599817ddc84400db6c9aaff46267760",
            "value": " 649k/649k [00:00&lt;00:00, 1.12MB/s]"
          }
        },
        "033025a47f8a44a3805b90535a4f0d00": {
          "model_module": "@jupyter-widgets/base",
          "model_name": "LayoutModel",
          "model_module_version": "1.2.0",
          "state": {
            "_model_module": "@jupyter-widgets/base",
            "_model_module_version": "1.2.0",
            "_model_name": "LayoutModel",
            "_view_count": null,
            "_view_module": "@jupyter-widgets/base",
            "_view_module_version": "1.2.0",
            "_view_name": "LayoutView",
            "align_content": null,
            "align_items": null,
            "align_self": null,
            "border": null,
            "bottom": null,
            "display": null,
            "flex": null,
            "flex_flow": null,
            "grid_area": null,
            "grid_auto_columns": null,
            "grid_auto_flow": null,
            "grid_auto_rows": null,
            "grid_column": null,
            "grid_gap": null,
            "grid_row": null,
            "grid_template_areas": null,
            "grid_template_columns": null,
            "grid_template_rows": null,
            "height": null,
            "justify_content": null,
            "justify_items": null,
            "left": null,
            "margin": null,
            "max_height": null,
            "max_width": null,
            "min_height": null,
            "min_width": null,
            "object_fit": null,
            "object_position": null,
            "order": null,
            "overflow": null,
            "overflow_x": null,
            "overflow_y": null,
            "padding": null,
            "right": null,
            "top": null,
            "visibility": null,
            "width": null
          }
        },
        "741c937a02bc49078af39db3efa42835": {
          "model_module": "@jupyter-widgets/base",
          "model_name": "LayoutModel",
          "model_module_version": "1.2.0",
          "state": {
            "_model_module": "@jupyter-widgets/base",
            "_model_module_version": "1.2.0",
            "_model_name": "LayoutModel",
            "_view_count": null,
            "_view_module": "@jupyter-widgets/base",
            "_view_module_version": "1.2.0",
            "_view_name": "LayoutView",
            "align_content": null,
            "align_items": null,
            "align_self": null,
            "border": null,
            "bottom": null,
            "display": null,
            "flex": null,
            "flex_flow": null,
            "grid_area": null,
            "grid_auto_columns": null,
            "grid_auto_flow": null,
            "grid_auto_rows": null,
            "grid_column": null,
            "grid_gap": null,
            "grid_row": null,
            "grid_template_areas": null,
            "grid_template_columns": null,
            "grid_template_rows": null,
            "height": null,
            "justify_content": null,
            "justify_items": null,
            "left": null,
            "margin": null,
            "max_height": null,
            "max_width": null,
            "min_height": null,
            "min_width": null,
            "object_fit": null,
            "object_position": null,
            "order": null,
            "overflow": null,
            "overflow_x": null,
            "overflow_y": null,
            "padding": null,
            "right": null,
            "top": null,
            "visibility": null,
            "width": null
          }
        },
        "5d2f7b78087e4e6f870469249d6ec814": {
          "model_module": "@jupyter-widgets/controls",
          "model_name": "DescriptionStyleModel",
          "model_module_version": "1.5.0",
          "state": {
            "_model_module": "@jupyter-widgets/controls",
            "_model_module_version": "1.5.0",
            "_model_name": "DescriptionStyleModel",
            "_view_count": null,
            "_view_module": "@jupyter-widgets/base",
            "_view_module_version": "1.2.0",
            "_view_name": "StyleView",
            "description_width": ""
          }
        },
        "0ee7f40ceef743968c31948816eca6d6": {
          "model_module": "@jupyter-widgets/base",
          "model_name": "LayoutModel",
          "model_module_version": "1.2.0",
          "state": {
            "_model_module": "@jupyter-widgets/base",
            "_model_module_version": "1.2.0",
            "_model_name": "LayoutModel",
            "_view_count": null,
            "_view_module": "@jupyter-widgets/base",
            "_view_module_version": "1.2.0",
            "_view_name": "LayoutView",
            "align_content": null,
            "align_items": null,
            "align_self": null,
            "border": null,
            "bottom": null,
            "display": null,
            "flex": null,
            "flex_flow": null,
            "grid_area": null,
            "grid_auto_columns": null,
            "grid_auto_flow": null,
            "grid_auto_rows": null,
            "grid_column": null,
            "grid_gap": null,
            "grid_row": null,
            "grid_template_areas": null,
            "grid_template_columns": null,
            "grid_template_rows": null,
            "height": null,
            "justify_content": null,
            "justify_items": null,
            "left": null,
            "margin": null,
            "max_height": null,
            "max_width": null,
            "min_height": null,
            "min_width": null,
            "object_fit": null,
            "object_position": null,
            "order": null,
            "overflow": null,
            "overflow_x": null,
            "overflow_y": null,
            "padding": null,
            "right": null,
            "top": null,
            "visibility": null,
            "width": null
          }
        },
        "6fd3c6c13c0f431da0521a6c903d2c82": {
          "model_module": "@jupyter-widgets/controls",
          "model_name": "ProgressStyleModel",
          "model_module_version": "1.5.0",
          "state": {
            "_model_module": "@jupyter-widgets/controls",
            "_model_module_version": "1.5.0",
            "_model_name": "ProgressStyleModel",
            "_view_count": null,
            "_view_module": "@jupyter-widgets/base",
            "_view_module_version": "1.2.0",
            "_view_name": "StyleView",
            "bar_color": null,
            "description_width": ""
          }
        },
        "00218590f56c466cac84362641ba276b": {
          "model_module": "@jupyter-widgets/base",
          "model_name": "LayoutModel",
          "model_module_version": "1.2.0",
          "state": {
            "_model_module": "@jupyter-widgets/base",
            "_model_module_version": "1.2.0",
            "_model_name": "LayoutModel",
            "_view_count": null,
            "_view_module": "@jupyter-widgets/base",
            "_view_module_version": "1.2.0",
            "_view_name": "LayoutView",
            "align_content": null,
            "align_items": null,
            "align_self": null,
            "border": null,
            "bottom": null,
            "display": null,
            "flex": null,
            "flex_flow": null,
            "grid_area": null,
            "grid_auto_columns": null,
            "grid_auto_flow": null,
            "grid_auto_rows": null,
            "grid_column": null,
            "grid_gap": null,
            "grid_row": null,
            "grid_template_areas": null,
            "grid_template_columns": null,
            "grid_template_rows": null,
            "height": null,
            "justify_content": null,
            "justify_items": null,
            "left": null,
            "margin": null,
            "max_height": null,
            "max_width": null,
            "min_height": null,
            "min_width": null,
            "object_fit": null,
            "object_position": null,
            "order": null,
            "overflow": null,
            "overflow_x": null,
            "overflow_y": null,
            "padding": null,
            "right": null,
            "top": null,
            "visibility": null,
            "width": null
          }
        },
        "f599817ddc84400db6c9aaff46267760": {
          "model_module": "@jupyter-widgets/controls",
          "model_name": "DescriptionStyleModel",
          "model_module_version": "1.5.0",
          "state": {
            "_model_module": "@jupyter-widgets/controls",
            "_model_module_version": "1.5.0",
            "_model_name": "DescriptionStyleModel",
            "_view_count": null,
            "_view_module": "@jupyter-widgets/base",
            "_view_module_version": "1.2.0",
            "_view_name": "StyleView",
            "description_width": ""
          }
        },
        "b4d7972f96964affa00605f4c4f1bef1": {
          "model_module": "@jupyter-widgets/controls",
          "model_name": "HBoxModel",
          "model_module_version": "1.5.0",
          "state": {
            "_dom_classes": [],
            "_model_module": "@jupyter-widgets/controls",
            "_model_module_version": "1.5.0",
            "_model_name": "HBoxModel",
            "_view_count": null,
            "_view_module": "@jupyter-widgets/controls",
            "_view_module_version": "1.5.0",
            "_view_name": "HBoxView",
            "box_style": "",
            "children": [
              "IPY_MODEL_418ee5dbdd704edcafbf41d3d9acfe0d",
              "IPY_MODEL_639112f7654d4f22a394795bcd87f0bd",
              "IPY_MODEL_10515f802a16462e81263c89415dfbc1"
            ],
            "layout": "IPY_MODEL_29e2e330e4884b409bdf72ab88bf6d6d"
          }
        },
        "418ee5dbdd704edcafbf41d3d9acfe0d": {
          "model_module": "@jupyter-widgets/controls",
          "model_name": "HTMLModel",
          "model_module_version": "1.5.0",
          "state": {
            "_dom_classes": [],
            "_model_module": "@jupyter-widgets/controls",
            "_model_module_version": "1.5.0",
            "_model_name": "HTMLModel",
            "_view_count": null,
            "_view_module": "@jupyter-widgets/controls",
            "_view_module_version": "1.5.0",
            "_view_name": "HTMLView",
            "description": "",
            "description_tooltip": null,
            "layout": "IPY_MODEL_a7b6c938c147464a8e44b9f8a080ebf9",
            "placeholder": "​",
            "style": "IPY_MODEL_515a55872a8249698f864ce473d38d39",
            "value": "Downloading data: 100%"
          }
        },
        "639112f7654d4f22a394795bcd87f0bd": {
          "model_module": "@jupyter-widgets/controls",
          "model_name": "FloatProgressModel",
          "model_module_version": "1.5.0",
          "state": {
            "_dom_classes": [],
            "_model_module": "@jupyter-widgets/controls",
            "_model_module_version": "1.5.0",
            "_model_name": "FloatProgressModel",
            "_view_count": null,
            "_view_module": "@jupyter-widgets/controls",
            "_view_module_version": "1.5.0",
            "_view_name": "ProgressView",
            "bar_style": "success",
            "description": "",
            "description_tooltip": null,
            "layout": "IPY_MODEL_e84c292c65fe49aab9497f6353a772c3",
            "max": 75678,
            "min": 0,
            "orientation": "horizontal",
            "style": "IPY_MODEL_d119282b6a434a05882d3481a3674417",
            "value": 75678
          }
        },
        "10515f802a16462e81263c89415dfbc1": {
          "model_module": "@jupyter-widgets/controls",
          "model_name": "HTMLModel",
          "model_module_version": "1.5.0",
          "state": {
            "_dom_classes": [],
            "_model_module": "@jupyter-widgets/controls",
            "_model_module_version": "1.5.0",
            "_model_name": "HTMLModel",
            "_view_count": null,
            "_view_module": "@jupyter-widgets/controls",
            "_view_module_version": "1.5.0",
            "_view_name": "HTMLView",
            "description": "",
            "description_tooltip": null,
            "layout": "IPY_MODEL_7eefc6deaea349f79b1cc6e1edf32a2b",
            "placeholder": "​",
            "style": "IPY_MODEL_8e9312f0e5b644a392afcd45fa5da99a",
            "value": " 75.7k/75.7k [00:00&lt;00:00, 143kB/s]"
          }
        },
        "29e2e330e4884b409bdf72ab88bf6d6d": {
          "model_module": "@jupyter-widgets/base",
          "model_name": "LayoutModel",
          "model_module_version": "1.2.0",
          "state": {
            "_model_module": "@jupyter-widgets/base",
            "_model_module_version": "1.2.0",
            "_model_name": "LayoutModel",
            "_view_count": null,
            "_view_module": "@jupyter-widgets/base",
            "_view_module_version": "1.2.0",
            "_view_name": "LayoutView",
            "align_content": null,
            "align_items": null,
            "align_self": null,
            "border": null,
            "bottom": null,
            "display": null,
            "flex": null,
            "flex_flow": null,
            "grid_area": null,
            "grid_auto_columns": null,
            "grid_auto_flow": null,
            "grid_auto_rows": null,
            "grid_column": null,
            "grid_gap": null,
            "grid_row": null,
            "grid_template_areas": null,
            "grid_template_columns": null,
            "grid_template_rows": null,
            "height": null,
            "justify_content": null,
            "justify_items": null,
            "left": null,
            "margin": null,
            "max_height": null,
            "max_width": null,
            "min_height": null,
            "min_width": null,
            "object_fit": null,
            "object_position": null,
            "order": null,
            "overflow": null,
            "overflow_x": null,
            "overflow_y": null,
            "padding": null,
            "right": null,
            "top": null,
            "visibility": null,
            "width": null
          }
        },
        "a7b6c938c147464a8e44b9f8a080ebf9": {
          "model_module": "@jupyter-widgets/base",
          "model_name": "LayoutModel",
          "model_module_version": "1.2.0",
          "state": {
            "_model_module": "@jupyter-widgets/base",
            "_model_module_version": "1.2.0",
            "_model_name": "LayoutModel",
            "_view_count": null,
            "_view_module": "@jupyter-widgets/base",
            "_view_module_version": "1.2.0",
            "_view_name": "LayoutView",
            "align_content": null,
            "align_items": null,
            "align_self": null,
            "border": null,
            "bottom": null,
            "display": null,
            "flex": null,
            "flex_flow": null,
            "grid_area": null,
            "grid_auto_columns": null,
            "grid_auto_flow": null,
            "grid_auto_rows": null,
            "grid_column": null,
            "grid_gap": null,
            "grid_row": null,
            "grid_template_areas": null,
            "grid_template_columns": null,
            "grid_template_rows": null,
            "height": null,
            "justify_content": null,
            "justify_items": null,
            "left": null,
            "margin": null,
            "max_height": null,
            "max_width": null,
            "min_height": null,
            "min_width": null,
            "object_fit": null,
            "object_position": null,
            "order": null,
            "overflow": null,
            "overflow_x": null,
            "overflow_y": null,
            "padding": null,
            "right": null,
            "top": null,
            "visibility": null,
            "width": null
          }
        },
        "515a55872a8249698f864ce473d38d39": {
          "model_module": "@jupyter-widgets/controls",
          "model_name": "DescriptionStyleModel",
          "model_module_version": "1.5.0",
          "state": {
            "_model_module": "@jupyter-widgets/controls",
            "_model_module_version": "1.5.0",
            "_model_name": "DescriptionStyleModel",
            "_view_count": null,
            "_view_module": "@jupyter-widgets/base",
            "_view_module_version": "1.2.0",
            "_view_name": "StyleView",
            "description_width": ""
          }
        },
        "e84c292c65fe49aab9497f6353a772c3": {
          "model_module": "@jupyter-widgets/base",
          "model_name": "LayoutModel",
          "model_module_version": "1.2.0",
          "state": {
            "_model_module": "@jupyter-widgets/base",
            "_model_module_version": "1.2.0",
            "_model_name": "LayoutModel",
            "_view_count": null,
            "_view_module": "@jupyter-widgets/base",
            "_view_module_version": "1.2.0",
            "_view_name": "LayoutView",
            "align_content": null,
            "align_items": null,
            "align_self": null,
            "border": null,
            "bottom": null,
            "display": null,
            "flex": null,
            "flex_flow": null,
            "grid_area": null,
            "grid_auto_columns": null,
            "grid_auto_flow": null,
            "grid_auto_rows": null,
            "grid_column": null,
            "grid_gap": null,
            "grid_row": null,
            "grid_template_areas": null,
            "grid_template_columns": null,
            "grid_template_rows": null,
            "height": null,
            "justify_content": null,
            "justify_items": null,
            "left": null,
            "margin": null,
            "max_height": null,
            "max_width": null,
            "min_height": null,
            "min_width": null,
            "object_fit": null,
            "object_position": null,
            "order": null,
            "overflow": null,
            "overflow_x": null,
            "overflow_y": null,
            "padding": null,
            "right": null,
            "top": null,
            "visibility": null,
            "width": null
          }
        },
        "d119282b6a434a05882d3481a3674417": {
          "model_module": "@jupyter-widgets/controls",
          "model_name": "ProgressStyleModel",
          "model_module_version": "1.5.0",
          "state": {
            "_model_module": "@jupyter-widgets/controls",
            "_model_module_version": "1.5.0",
            "_model_name": "ProgressStyleModel",
            "_view_count": null,
            "_view_module": "@jupyter-widgets/base",
            "_view_module_version": "1.2.0",
            "_view_name": "StyleView",
            "bar_color": null,
            "description_width": ""
          }
        },
        "7eefc6deaea349f79b1cc6e1edf32a2b": {
          "model_module": "@jupyter-widgets/base",
          "model_name": "LayoutModel",
          "model_module_version": "1.2.0",
          "state": {
            "_model_module": "@jupyter-widgets/base",
            "_model_module_version": "1.2.0",
            "_model_name": "LayoutModel",
            "_view_count": null,
            "_view_module": "@jupyter-widgets/base",
            "_view_module_version": "1.2.0",
            "_view_name": "LayoutView",
            "align_content": null,
            "align_items": null,
            "align_self": null,
            "border": null,
            "bottom": null,
            "display": null,
            "flex": null,
            "flex_flow": null,
            "grid_area": null,
            "grid_auto_columns": null,
            "grid_auto_flow": null,
            "grid_auto_rows": null,
            "grid_column": null,
            "grid_gap": null,
            "grid_row": null,
            "grid_template_areas": null,
            "grid_template_columns": null,
            "grid_template_rows": null,
            "height": null,
            "justify_content": null,
            "justify_items": null,
            "left": null,
            "margin": null,
            "max_height": null,
            "max_width": null,
            "min_height": null,
            "min_width": null,
            "object_fit": null,
            "object_position": null,
            "order": null,
            "overflow": null,
            "overflow_x": null,
            "overflow_y": null,
            "padding": null,
            "right": null,
            "top": null,
            "visibility": null,
            "width": null
          }
        },
        "8e9312f0e5b644a392afcd45fa5da99a": {
          "model_module": "@jupyter-widgets/controls",
          "model_name": "DescriptionStyleModel",
          "model_module_version": "1.5.0",
          "state": {
            "_model_module": "@jupyter-widgets/controls",
            "_model_module_version": "1.5.0",
            "_model_name": "DescriptionStyleModel",
            "_view_count": null,
            "_view_module": "@jupyter-widgets/base",
            "_view_module_version": "1.2.0",
            "_view_name": "StyleView",
            "description_width": ""
          }
        },
        "3b84b13a9cfc4d8690335436b588ad56": {
          "model_module": "@jupyter-widgets/controls",
          "model_name": "HBoxModel",
          "model_module_version": "1.5.0",
          "state": {
            "_dom_classes": [],
            "_model_module": "@jupyter-widgets/controls",
            "_model_module_version": "1.5.0",
            "_model_name": "HBoxModel",
            "_view_count": null,
            "_view_module": "@jupyter-widgets/controls",
            "_view_module_version": "1.5.0",
            "_view_name": "HBoxView",
            "box_style": "",
            "children": [
              "IPY_MODEL_8281a060656e425a8c74dc5d3c6165b1",
              "IPY_MODEL_843ab90758bd4101b012ee2f78dc2b3b",
              "IPY_MODEL_d16fc1ea1e5240dd92815c402e4ffdf0"
            ],
            "layout": "IPY_MODEL_433de41f6b974c1fa4a00d98a3f1aee9"
          }
        },
        "8281a060656e425a8c74dc5d3c6165b1": {
          "model_module": "@jupyter-widgets/controls",
          "model_name": "HTMLModel",
          "model_module_version": "1.5.0",
          "state": {
            "_dom_classes": [],
            "_model_module": "@jupyter-widgets/controls",
            "_model_module_version": "1.5.0",
            "_model_name": "HTMLModel",
            "_view_count": null,
            "_view_module": "@jupyter-widgets/controls",
            "_view_module_version": "1.5.0",
            "_view_name": "HTMLView",
            "description": "",
            "description_tooltip": null,
            "layout": "IPY_MODEL_2f27c6b4384343688fcd0762b71c4d3a",
            "placeholder": "​",
            "style": "IPY_MODEL_a9b970f044064c0183eb8834fc3cb341",
            "value": "Downloading data: 100%"
          }
        },
        "843ab90758bd4101b012ee2f78dc2b3b": {
          "model_module": "@jupyter-widgets/controls",
          "model_name": "FloatProgressModel",
          "model_module_version": "1.5.0",
          "state": {
            "_dom_classes": [],
            "_model_module": "@jupyter-widgets/controls",
            "_model_module_version": "1.5.0",
            "_model_name": "FloatProgressModel",
            "_view_count": null,
            "_view_module": "@jupyter-widgets/controls",
            "_view_module_version": "1.5.0",
            "_view_name": "ProgressView",
            "bar_style": "success",
            "description": "",
            "description_tooltip": null,
            "layout": "IPY_MODEL_961f2e66ea58465a8843d7c54db0f763",
            "max": 308441,
            "min": 0,
            "orientation": "horizontal",
            "style": "IPY_MODEL_edf68c44f401484b9a7a0e3c02804cc2",
            "value": 308441
          }
        },
        "d16fc1ea1e5240dd92815c402e4ffdf0": {
          "model_module": "@jupyter-widgets/controls",
          "model_name": "HTMLModel",
          "model_module_version": "1.5.0",
          "state": {
            "_dom_classes": [],
            "_model_module": "@jupyter-widgets/controls",
            "_model_module_version": "1.5.0",
            "_model_name": "HTMLModel",
            "_view_count": null,
            "_view_module": "@jupyter-widgets/controls",
            "_view_module_version": "1.5.0",
            "_view_name": "HTMLView",
            "description": "",
            "description_tooltip": null,
            "layout": "IPY_MODEL_bce01412b1f14404963e33463998c909",
            "placeholder": "​",
            "style": "IPY_MODEL_e1d4ab32687045a8b2c9d27e9d4d3d70",
            "value": " 308k/308k [00:00&lt;00:00, 535kB/s]"
          }
        },
        "433de41f6b974c1fa4a00d98a3f1aee9": {
          "model_module": "@jupyter-widgets/base",
          "model_name": "LayoutModel",
          "model_module_version": "1.2.0",
          "state": {
            "_model_module": "@jupyter-widgets/base",
            "_model_module_version": "1.2.0",
            "_model_name": "LayoutModel",
            "_view_count": null,
            "_view_module": "@jupyter-widgets/base",
            "_view_module_version": "1.2.0",
            "_view_name": "LayoutView",
            "align_content": null,
            "align_items": null,
            "align_self": null,
            "border": null,
            "bottom": null,
            "display": null,
            "flex": null,
            "flex_flow": null,
            "grid_area": null,
            "grid_auto_columns": null,
            "grid_auto_flow": null,
            "grid_auto_rows": null,
            "grid_column": null,
            "grid_gap": null,
            "grid_row": null,
            "grid_template_areas": null,
            "grid_template_columns": null,
            "grid_template_rows": null,
            "height": null,
            "justify_content": null,
            "justify_items": null,
            "left": null,
            "margin": null,
            "max_height": null,
            "max_width": null,
            "min_height": null,
            "min_width": null,
            "object_fit": null,
            "object_position": null,
            "order": null,
            "overflow": null,
            "overflow_x": null,
            "overflow_y": null,
            "padding": null,
            "right": null,
            "top": null,
            "visibility": null,
            "width": null
          }
        },
        "2f27c6b4384343688fcd0762b71c4d3a": {
          "model_module": "@jupyter-widgets/base",
          "model_name": "LayoutModel",
          "model_module_version": "1.2.0",
          "state": {
            "_model_module": "@jupyter-widgets/base",
            "_model_module_version": "1.2.0",
            "_model_name": "LayoutModel",
            "_view_count": null,
            "_view_module": "@jupyter-widgets/base",
            "_view_module_version": "1.2.0",
            "_view_name": "LayoutView",
            "align_content": null,
            "align_items": null,
            "align_self": null,
            "border": null,
            "bottom": null,
            "display": null,
            "flex": null,
            "flex_flow": null,
            "grid_area": null,
            "grid_auto_columns": null,
            "grid_auto_flow": null,
            "grid_auto_rows": null,
            "grid_column": null,
            "grid_gap": null,
            "grid_row": null,
            "grid_template_areas": null,
            "grid_template_columns": null,
            "grid_template_rows": null,
            "height": null,
            "justify_content": null,
            "justify_items": null,
            "left": null,
            "margin": null,
            "max_height": null,
            "max_width": null,
            "min_height": null,
            "min_width": null,
            "object_fit": null,
            "object_position": null,
            "order": null,
            "overflow": null,
            "overflow_x": null,
            "overflow_y": null,
            "padding": null,
            "right": null,
            "top": null,
            "visibility": null,
            "width": null
          }
        },
        "a9b970f044064c0183eb8834fc3cb341": {
          "model_module": "@jupyter-widgets/controls",
          "model_name": "DescriptionStyleModel",
          "model_module_version": "1.5.0",
          "state": {
            "_model_module": "@jupyter-widgets/controls",
            "_model_module_version": "1.5.0",
            "_model_name": "DescriptionStyleModel",
            "_view_count": null,
            "_view_module": "@jupyter-widgets/base",
            "_view_module_version": "1.2.0",
            "_view_name": "StyleView",
            "description_width": ""
          }
        },
        "961f2e66ea58465a8843d7c54db0f763": {
          "model_module": "@jupyter-widgets/base",
          "model_name": "LayoutModel",
          "model_module_version": "1.2.0",
          "state": {
            "_model_module": "@jupyter-widgets/base",
            "_model_module_version": "1.2.0",
            "_model_name": "LayoutModel",
            "_view_count": null,
            "_view_module": "@jupyter-widgets/base",
            "_view_module_version": "1.2.0",
            "_view_name": "LayoutView",
            "align_content": null,
            "align_items": null,
            "align_self": null,
            "border": null,
            "bottom": null,
            "display": null,
            "flex": null,
            "flex_flow": null,
            "grid_area": null,
            "grid_auto_columns": null,
            "grid_auto_flow": null,
            "grid_auto_rows": null,
            "grid_column": null,
            "grid_gap": null,
            "grid_row": null,
            "grid_template_areas": null,
            "grid_template_columns": null,
            "grid_template_rows": null,
            "height": null,
            "justify_content": null,
            "justify_items": null,
            "left": null,
            "margin": null,
            "max_height": null,
            "max_width": null,
            "min_height": null,
            "min_width": null,
            "object_fit": null,
            "object_position": null,
            "order": null,
            "overflow": null,
            "overflow_x": null,
            "overflow_y": null,
            "padding": null,
            "right": null,
            "top": null,
            "visibility": null,
            "width": null
          }
        },
        "edf68c44f401484b9a7a0e3c02804cc2": {
          "model_module": "@jupyter-widgets/controls",
          "model_name": "ProgressStyleModel",
          "model_module_version": "1.5.0",
          "state": {
            "_model_module": "@jupyter-widgets/controls",
            "_model_module_version": "1.5.0",
            "_model_name": "ProgressStyleModel",
            "_view_count": null,
            "_view_module": "@jupyter-widgets/base",
            "_view_module_version": "1.2.0",
            "_view_name": "StyleView",
            "bar_color": null,
            "description_width": ""
          }
        },
        "bce01412b1f14404963e33463998c909": {
          "model_module": "@jupyter-widgets/base",
          "model_name": "LayoutModel",
          "model_module_version": "1.2.0",
          "state": {
            "_model_module": "@jupyter-widgets/base",
            "_model_module_version": "1.2.0",
            "_model_name": "LayoutModel",
            "_view_count": null,
            "_view_module": "@jupyter-widgets/base",
            "_view_module_version": "1.2.0",
            "_view_name": "LayoutView",
            "align_content": null,
            "align_items": null,
            "align_self": null,
            "border": null,
            "bottom": null,
            "display": null,
            "flex": null,
            "flex_flow": null,
            "grid_area": null,
            "grid_auto_columns": null,
            "grid_auto_flow": null,
            "grid_auto_rows": null,
            "grid_column": null,
            "grid_gap": null,
            "grid_row": null,
            "grid_template_areas": null,
            "grid_template_columns": null,
            "grid_template_rows": null,
            "height": null,
            "justify_content": null,
            "justify_items": null,
            "left": null,
            "margin": null,
            "max_height": null,
            "max_width": null,
            "min_height": null,
            "min_width": null,
            "object_fit": null,
            "object_position": null,
            "order": null,
            "overflow": null,
            "overflow_x": null,
            "overflow_y": null,
            "padding": null,
            "right": null,
            "top": null,
            "visibility": null,
            "width": null
          }
        },
        "e1d4ab32687045a8b2c9d27e9d4d3d70": {
          "model_module": "@jupyter-widgets/controls",
          "model_name": "DescriptionStyleModel",
          "model_module_version": "1.5.0",
          "state": {
            "_model_module": "@jupyter-widgets/controls",
            "_model_module_version": "1.5.0",
            "_model_name": "DescriptionStyleModel",
            "_view_count": null,
            "_view_module": "@jupyter-widgets/base",
            "_view_module_version": "1.2.0",
            "_view_name": "StyleView",
            "description_width": ""
          }
        },
        "6d458780240f4da29fb0c28dba3bd8f3": {
          "model_module": "@jupyter-widgets/controls",
          "model_name": "HBoxModel",
          "model_module_version": "1.5.0",
          "state": {
            "_dom_classes": [],
            "_model_module": "@jupyter-widgets/controls",
            "_model_module_version": "1.5.0",
            "_model_name": "HBoxModel",
            "_view_count": null,
            "_view_module": "@jupyter-widgets/controls",
            "_view_module_version": "1.5.0",
            "_view_name": "HBoxView",
            "box_style": "",
            "children": [
              "IPY_MODEL_5ccaf960dc304891b81681960ca17087",
              "IPY_MODEL_5df0e096bae84167878ba05c820ef826",
              "IPY_MODEL_520e96bb10e54a5388f4507155cb5162"
            ],
            "layout": "IPY_MODEL_60456047e0254278906dd4c66de73b7e"
          }
        },
        "5ccaf960dc304891b81681960ca17087": {
          "model_module": "@jupyter-widgets/controls",
          "model_name": "HTMLModel",
          "model_module_version": "1.5.0",
          "state": {
            "_dom_classes": [],
            "_model_module": "@jupyter-widgets/controls",
            "_model_module_version": "1.5.0",
            "_model_name": "HTMLModel",
            "_view_count": null,
            "_view_module": "@jupyter-widgets/controls",
            "_view_module_version": "1.5.0",
            "_view_name": "HTMLView",
            "description": "",
            "description_tooltip": null,
            "layout": "IPY_MODEL_cea319fe2fa5409d9bfc2b53132856bf",
            "placeholder": "​",
            "style": "IPY_MODEL_d6ed6a3f741c4430bd03d27ea23c0054",
            "value": "Generating train split: 100%"
          }
        },
        "5df0e096bae84167878ba05c820ef826": {
          "model_module": "@jupyter-widgets/controls",
          "model_name": "FloatProgressModel",
          "model_module_version": "1.5.0",
          "state": {
            "_dom_classes": [],
            "_model_module": "@jupyter-widgets/controls",
            "_model_module_version": "1.5.0",
            "_model_name": "FloatProgressModel",
            "_view_count": null,
            "_view_module": "@jupyter-widgets/controls",
            "_view_module_version": "1.5.0",
            "_view_name": "ProgressView",
            "bar_style": "success",
            "description": "",
            "description_tooltip": null,
            "layout": "IPY_MODEL_5cdc9e19ec6c40c1994d952b5151f486",
            "max": 3668,
            "min": 0,
            "orientation": "horizontal",
            "style": "IPY_MODEL_e0b00700399c4568b27c9ace2ec53400",
            "value": 3668
          }
        },
        "520e96bb10e54a5388f4507155cb5162": {
          "model_module": "@jupyter-widgets/controls",
          "model_name": "HTMLModel",
          "model_module_version": "1.5.0",
          "state": {
            "_dom_classes": [],
            "_model_module": "@jupyter-widgets/controls",
            "_model_module_version": "1.5.0",
            "_model_name": "HTMLModel",
            "_view_count": null,
            "_view_module": "@jupyter-widgets/controls",
            "_view_module_version": "1.5.0",
            "_view_name": "HTMLView",
            "description": "",
            "description_tooltip": null,
            "layout": "IPY_MODEL_a2df06c8bfd44914920b5bdc8e853063",
            "placeholder": "​",
            "style": "IPY_MODEL_f6decf90025b48789931f6e7d2745879",
            "value": " 3668/3668 [00:00&lt;00:00, 46362.80 examples/s]"
          }
        },
        "60456047e0254278906dd4c66de73b7e": {
          "model_module": "@jupyter-widgets/base",
          "model_name": "LayoutModel",
          "model_module_version": "1.2.0",
          "state": {
            "_model_module": "@jupyter-widgets/base",
            "_model_module_version": "1.2.0",
            "_model_name": "LayoutModel",
            "_view_count": null,
            "_view_module": "@jupyter-widgets/base",
            "_view_module_version": "1.2.0",
            "_view_name": "LayoutView",
            "align_content": null,
            "align_items": null,
            "align_self": null,
            "border": null,
            "bottom": null,
            "display": null,
            "flex": null,
            "flex_flow": null,
            "grid_area": null,
            "grid_auto_columns": null,
            "grid_auto_flow": null,
            "grid_auto_rows": null,
            "grid_column": null,
            "grid_gap": null,
            "grid_row": null,
            "grid_template_areas": null,
            "grid_template_columns": null,
            "grid_template_rows": null,
            "height": null,
            "justify_content": null,
            "justify_items": null,
            "left": null,
            "margin": null,
            "max_height": null,
            "max_width": null,
            "min_height": null,
            "min_width": null,
            "object_fit": null,
            "object_position": null,
            "order": null,
            "overflow": null,
            "overflow_x": null,
            "overflow_y": null,
            "padding": null,
            "right": null,
            "top": null,
            "visibility": null,
            "width": null
          }
        },
        "cea319fe2fa5409d9bfc2b53132856bf": {
          "model_module": "@jupyter-widgets/base",
          "model_name": "LayoutModel",
          "model_module_version": "1.2.0",
          "state": {
            "_model_module": "@jupyter-widgets/base",
            "_model_module_version": "1.2.0",
            "_model_name": "LayoutModel",
            "_view_count": null,
            "_view_module": "@jupyter-widgets/base",
            "_view_module_version": "1.2.0",
            "_view_name": "LayoutView",
            "align_content": null,
            "align_items": null,
            "align_self": null,
            "border": null,
            "bottom": null,
            "display": null,
            "flex": null,
            "flex_flow": null,
            "grid_area": null,
            "grid_auto_columns": null,
            "grid_auto_flow": null,
            "grid_auto_rows": null,
            "grid_column": null,
            "grid_gap": null,
            "grid_row": null,
            "grid_template_areas": null,
            "grid_template_columns": null,
            "grid_template_rows": null,
            "height": null,
            "justify_content": null,
            "justify_items": null,
            "left": null,
            "margin": null,
            "max_height": null,
            "max_width": null,
            "min_height": null,
            "min_width": null,
            "object_fit": null,
            "object_position": null,
            "order": null,
            "overflow": null,
            "overflow_x": null,
            "overflow_y": null,
            "padding": null,
            "right": null,
            "top": null,
            "visibility": null,
            "width": null
          }
        },
        "d6ed6a3f741c4430bd03d27ea23c0054": {
          "model_module": "@jupyter-widgets/controls",
          "model_name": "DescriptionStyleModel",
          "model_module_version": "1.5.0",
          "state": {
            "_model_module": "@jupyter-widgets/controls",
            "_model_module_version": "1.5.0",
            "_model_name": "DescriptionStyleModel",
            "_view_count": null,
            "_view_module": "@jupyter-widgets/base",
            "_view_module_version": "1.2.0",
            "_view_name": "StyleView",
            "description_width": ""
          }
        },
        "5cdc9e19ec6c40c1994d952b5151f486": {
          "model_module": "@jupyter-widgets/base",
          "model_name": "LayoutModel",
          "model_module_version": "1.2.0",
          "state": {
            "_model_module": "@jupyter-widgets/base",
            "_model_module_version": "1.2.0",
            "_model_name": "LayoutModel",
            "_view_count": null,
            "_view_module": "@jupyter-widgets/base",
            "_view_module_version": "1.2.0",
            "_view_name": "LayoutView",
            "align_content": null,
            "align_items": null,
            "align_self": null,
            "border": null,
            "bottom": null,
            "display": null,
            "flex": null,
            "flex_flow": null,
            "grid_area": null,
            "grid_auto_columns": null,
            "grid_auto_flow": null,
            "grid_auto_rows": null,
            "grid_column": null,
            "grid_gap": null,
            "grid_row": null,
            "grid_template_areas": null,
            "grid_template_columns": null,
            "grid_template_rows": null,
            "height": null,
            "justify_content": null,
            "justify_items": null,
            "left": null,
            "margin": null,
            "max_height": null,
            "max_width": null,
            "min_height": null,
            "min_width": null,
            "object_fit": null,
            "object_position": null,
            "order": null,
            "overflow": null,
            "overflow_x": null,
            "overflow_y": null,
            "padding": null,
            "right": null,
            "top": null,
            "visibility": null,
            "width": null
          }
        },
        "e0b00700399c4568b27c9ace2ec53400": {
          "model_module": "@jupyter-widgets/controls",
          "model_name": "ProgressStyleModel",
          "model_module_version": "1.5.0",
          "state": {
            "_model_module": "@jupyter-widgets/controls",
            "_model_module_version": "1.5.0",
            "_model_name": "ProgressStyleModel",
            "_view_count": null,
            "_view_module": "@jupyter-widgets/base",
            "_view_module_version": "1.2.0",
            "_view_name": "StyleView",
            "bar_color": null,
            "description_width": ""
          }
        },
        "a2df06c8bfd44914920b5bdc8e853063": {
          "model_module": "@jupyter-widgets/base",
          "model_name": "LayoutModel",
          "model_module_version": "1.2.0",
          "state": {
            "_model_module": "@jupyter-widgets/base",
            "_model_module_version": "1.2.0",
            "_model_name": "LayoutModel",
            "_view_count": null,
            "_view_module": "@jupyter-widgets/base",
            "_view_module_version": "1.2.0",
            "_view_name": "LayoutView",
            "align_content": null,
            "align_items": null,
            "align_self": null,
            "border": null,
            "bottom": null,
            "display": null,
            "flex": null,
            "flex_flow": null,
            "grid_area": null,
            "grid_auto_columns": null,
            "grid_auto_flow": null,
            "grid_auto_rows": null,
            "grid_column": null,
            "grid_gap": null,
            "grid_row": null,
            "grid_template_areas": null,
            "grid_template_columns": null,
            "grid_template_rows": null,
            "height": null,
            "justify_content": null,
            "justify_items": null,
            "left": null,
            "margin": null,
            "max_height": null,
            "max_width": null,
            "min_height": null,
            "min_width": null,
            "object_fit": null,
            "object_position": null,
            "order": null,
            "overflow": null,
            "overflow_x": null,
            "overflow_y": null,
            "padding": null,
            "right": null,
            "top": null,
            "visibility": null,
            "width": null
          }
        },
        "f6decf90025b48789931f6e7d2745879": {
          "model_module": "@jupyter-widgets/controls",
          "model_name": "DescriptionStyleModel",
          "model_module_version": "1.5.0",
          "state": {
            "_model_module": "@jupyter-widgets/controls",
            "_model_module_version": "1.5.0",
            "_model_name": "DescriptionStyleModel",
            "_view_count": null,
            "_view_module": "@jupyter-widgets/base",
            "_view_module_version": "1.2.0",
            "_view_name": "StyleView",
            "description_width": ""
          }
        },
        "9c8ea9ec6f304edebafef1990f22cd57": {
          "model_module": "@jupyter-widgets/controls",
          "model_name": "HBoxModel",
          "model_module_version": "1.5.0",
          "state": {
            "_dom_classes": [],
            "_model_module": "@jupyter-widgets/controls",
            "_model_module_version": "1.5.0",
            "_model_name": "HBoxModel",
            "_view_count": null,
            "_view_module": "@jupyter-widgets/controls",
            "_view_module_version": "1.5.0",
            "_view_name": "HBoxView",
            "box_style": "",
            "children": [
              "IPY_MODEL_5c39a8f9f0904a488834df84b329cee8",
              "IPY_MODEL_27ab0a0034c34ad9b528961833cf96e0",
              "IPY_MODEL_6a31209fa65f430e80b71d18d5519de6"
            ],
            "layout": "IPY_MODEL_bd83f2a789d34973ad2909d6a75f5590"
          }
        },
        "5c39a8f9f0904a488834df84b329cee8": {
          "model_module": "@jupyter-widgets/controls",
          "model_name": "HTMLModel",
          "model_module_version": "1.5.0",
          "state": {
            "_dom_classes": [],
            "_model_module": "@jupyter-widgets/controls",
            "_model_module_version": "1.5.0",
            "_model_name": "HTMLModel",
            "_view_count": null,
            "_view_module": "@jupyter-widgets/controls",
            "_view_module_version": "1.5.0",
            "_view_name": "HTMLView",
            "description": "",
            "description_tooltip": null,
            "layout": "IPY_MODEL_84d143aa2b534d148367cbba7b4b3936",
            "placeholder": "​",
            "style": "IPY_MODEL_3959f998d4af4013a35b0a532ead45d5",
            "value": "Generating validation split: 100%"
          }
        },
        "27ab0a0034c34ad9b528961833cf96e0": {
          "model_module": "@jupyter-widgets/controls",
          "model_name": "FloatProgressModel",
          "model_module_version": "1.5.0",
          "state": {
            "_dom_classes": [],
            "_model_module": "@jupyter-widgets/controls",
            "_model_module_version": "1.5.0",
            "_model_name": "FloatProgressModel",
            "_view_count": null,
            "_view_module": "@jupyter-widgets/controls",
            "_view_module_version": "1.5.0",
            "_view_name": "ProgressView",
            "bar_style": "success",
            "description": "",
            "description_tooltip": null,
            "layout": "IPY_MODEL_72ca97bc7df542f585dcefefcabc9649",
            "max": 408,
            "min": 0,
            "orientation": "horizontal",
            "style": "IPY_MODEL_dddb3ed1bf894ac9bfb3c12026571ee1",
            "value": 408
          }
        },
        "6a31209fa65f430e80b71d18d5519de6": {
          "model_module": "@jupyter-widgets/controls",
          "model_name": "HTMLModel",
          "model_module_version": "1.5.0",
          "state": {
            "_dom_classes": [],
            "_model_module": "@jupyter-widgets/controls",
            "_model_module_version": "1.5.0",
            "_model_name": "HTMLModel",
            "_view_count": null,
            "_view_module": "@jupyter-widgets/controls",
            "_view_module_version": "1.5.0",
            "_view_name": "HTMLView",
            "description": "",
            "description_tooltip": null,
            "layout": "IPY_MODEL_91389f6aaf0c4635b333c40301c1d64b",
            "placeholder": "​",
            "style": "IPY_MODEL_00ffccd3094643f385d17ec010d166e0",
            "value": " 408/408 [00:00&lt;00:00, 7428.51 examples/s]"
          }
        },
        "bd83f2a789d34973ad2909d6a75f5590": {
          "model_module": "@jupyter-widgets/base",
          "model_name": "LayoutModel",
          "model_module_version": "1.2.0",
          "state": {
            "_model_module": "@jupyter-widgets/base",
            "_model_module_version": "1.2.0",
            "_model_name": "LayoutModel",
            "_view_count": null,
            "_view_module": "@jupyter-widgets/base",
            "_view_module_version": "1.2.0",
            "_view_name": "LayoutView",
            "align_content": null,
            "align_items": null,
            "align_self": null,
            "border": null,
            "bottom": null,
            "display": null,
            "flex": null,
            "flex_flow": null,
            "grid_area": null,
            "grid_auto_columns": null,
            "grid_auto_flow": null,
            "grid_auto_rows": null,
            "grid_column": null,
            "grid_gap": null,
            "grid_row": null,
            "grid_template_areas": null,
            "grid_template_columns": null,
            "grid_template_rows": null,
            "height": null,
            "justify_content": null,
            "justify_items": null,
            "left": null,
            "margin": null,
            "max_height": null,
            "max_width": null,
            "min_height": null,
            "min_width": null,
            "object_fit": null,
            "object_position": null,
            "order": null,
            "overflow": null,
            "overflow_x": null,
            "overflow_y": null,
            "padding": null,
            "right": null,
            "top": null,
            "visibility": null,
            "width": null
          }
        },
        "84d143aa2b534d148367cbba7b4b3936": {
          "model_module": "@jupyter-widgets/base",
          "model_name": "LayoutModel",
          "model_module_version": "1.2.0",
          "state": {
            "_model_module": "@jupyter-widgets/base",
            "_model_module_version": "1.2.0",
            "_model_name": "LayoutModel",
            "_view_count": null,
            "_view_module": "@jupyter-widgets/base",
            "_view_module_version": "1.2.0",
            "_view_name": "LayoutView",
            "align_content": null,
            "align_items": null,
            "align_self": null,
            "border": null,
            "bottom": null,
            "display": null,
            "flex": null,
            "flex_flow": null,
            "grid_area": null,
            "grid_auto_columns": null,
            "grid_auto_flow": null,
            "grid_auto_rows": null,
            "grid_column": null,
            "grid_gap": null,
            "grid_row": null,
            "grid_template_areas": null,
            "grid_template_columns": null,
            "grid_template_rows": null,
            "height": null,
            "justify_content": null,
            "justify_items": null,
            "left": null,
            "margin": null,
            "max_height": null,
            "max_width": null,
            "min_height": null,
            "min_width": null,
            "object_fit": null,
            "object_position": null,
            "order": null,
            "overflow": null,
            "overflow_x": null,
            "overflow_y": null,
            "padding": null,
            "right": null,
            "top": null,
            "visibility": null,
            "width": null
          }
        },
        "3959f998d4af4013a35b0a532ead45d5": {
          "model_module": "@jupyter-widgets/controls",
          "model_name": "DescriptionStyleModel",
          "model_module_version": "1.5.0",
          "state": {
            "_model_module": "@jupyter-widgets/controls",
            "_model_module_version": "1.5.0",
            "_model_name": "DescriptionStyleModel",
            "_view_count": null,
            "_view_module": "@jupyter-widgets/base",
            "_view_module_version": "1.2.0",
            "_view_name": "StyleView",
            "description_width": ""
          }
        },
        "72ca97bc7df542f585dcefefcabc9649": {
          "model_module": "@jupyter-widgets/base",
          "model_name": "LayoutModel",
          "model_module_version": "1.2.0",
          "state": {
            "_model_module": "@jupyter-widgets/base",
            "_model_module_version": "1.2.0",
            "_model_name": "LayoutModel",
            "_view_count": null,
            "_view_module": "@jupyter-widgets/base",
            "_view_module_version": "1.2.0",
            "_view_name": "LayoutView",
            "align_content": null,
            "align_items": null,
            "align_self": null,
            "border": null,
            "bottom": null,
            "display": null,
            "flex": null,
            "flex_flow": null,
            "grid_area": null,
            "grid_auto_columns": null,
            "grid_auto_flow": null,
            "grid_auto_rows": null,
            "grid_column": null,
            "grid_gap": null,
            "grid_row": null,
            "grid_template_areas": null,
            "grid_template_columns": null,
            "grid_template_rows": null,
            "height": null,
            "justify_content": null,
            "justify_items": null,
            "left": null,
            "margin": null,
            "max_height": null,
            "max_width": null,
            "min_height": null,
            "min_width": null,
            "object_fit": null,
            "object_position": null,
            "order": null,
            "overflow": null,
            "overflow_x": null,
            "overflow_y": null,
            "padding": null,
            "right": null,
            "top": null,
            "visibility": null,
            "width": null
          }
        },
        "dddb3ed1bf894ac9bfb3c12026571ee1": {
          "model_module": "@jupyter-widgets/controls",
          "model_name": "ProgressStyleModel",
          "model_module_version": "1.5.0",
          "state": {
            "_model_module": "@jupyter-widgets/controls",
            "_model_module_version": "1.5.0",
            "_model_name": "ProgressStyleModel",
            "_view_count": null,
            "_view_module": "@jupyter-widgets/base",
            "_view_module_version": "1.2.0",
            "_view_name": "StyleView",
            "bar_color": null,
            "description_width": ""
          }
        },
        "91389f6aaf0c4635b333c40301c1d64b": {
          "model_module": "@jupyter-widgets/base",
          "model_name": "LayoutModel",
          "model_module_version": "1.2.0",
          "state": {
            "_model_module": "@jupyter-widgets/base",
            "_model_module_version": "1.2.0",
            "_model_name": "LayoutModel",
            "_view_count": null,
            "_view_module": "@jupyter-widgets/base",
            "_view_module_version": "1.2.0",
            "_view_name": "LayoutView",
            "align_content": null,
            "align_items": null,
            "align_self": null,
            "border": null,
            "bottom": null,
            "display": null,
            "flex": null,
            "flex_flow": null,
            "grid_area": null,
            "grid_auto_columns": null,
            "grid_auto_flow": null,
            "grid_auto_rows": null,
            "grid_column": null,
            "grid_gap": null,
            "grid_row": null,
            "grid_template_areas": null,
            "grid_template_columns": null,
            "grid_template_rows": null,
            "height": null,
            "justify_content": null,
            "justify_items": null,
            "left": null,
            "margin": null,
            "max_height": null,
            "max_width": null,
            "min_height": null,
            "min_width": null,
            "object_fit": null,
            "object_position": null,
            "order": null,
            "overflow": null,
            "overflow_x": null,
            "overflow_y": null,
            "padding": null,
            "right": null,
            "top": null,
            "visibility": null,
            "width": null
          }
        },
        "00ffccd3094643f385d17ec010d166e0": {
          "model_module": "@jupyter-widgets/controls",
          "model_name": "DescriptionStyleModel",
          "model_module_version": "1.5.0",
          "state": {
            "_model_module": "@jupyter-widgets/controls",
            "_model_module_version": "1.5.0",
            "_model_name": "DescriptionStyleModel",
            "_view_count": null,
            "_view_module": "@jupyter-widgets/base",
            "_view_module_version": "1.2.0",
            "_view_name": "StyleView",
            "description_width": ""
          }
        },
        "9467b20d1f024ea884f05f575ac2ee21": {
          "model_module": "@jupyter-widgets/controls",
          "model_name": "HBoxModel",
          "model_module_version": "1.5.0",
          "state": {
            "_dom_classes": [],
            "_model_module": "@jupyter-widgets/controls",
            "_model_module_version": "1.5.0",
            "_model_name": "HBoxModel",
            "_view_count": null,
            "_view_module": "@jupyter-widgets/controls",
            "_view_module_version": "1.5.0",
            "_view_name": "HBoxView",
            "box_style": "",
            "children": [
              "IPY_MODEL_656578f9f6f64248b9e3ac323e4e0c51",
              "IPY_MODEL_c60407ee3a384dafa8d8541e861c3a83",
              "IPY_MODEL_04fd4a7f1d7e4f1db12de54cf1605cc7"
            ],
            "layout": "IPY_MODEL_9dec418215dc4b93ade59a6eb01c1848"
          }
        },
        "656578f9f6f64248b9e3ac323e4e0c51": {
          "model_module": "@jupyter-widgets/controls",
          "model_name": "HTMLModel",
          "model_module_version": "1.5.0",
          "state": {
            "_dom_classes": [],
            "_model_module": "@jupyter-widgets/controls",
            "_model_module_version": "1.5.0",
            "_model_name": "HTMLModel",
            "_view_count": null,
            "_view_module": "@jupyter-widgets/controls",
            "_view_module_version": "1.5.0",
            "_view_name": "HTMLView",
            "description": "",
            "description_tooltip": null,
            "layout": "IPY_MODEL_37b1b3fb8b2e46baa9b753ddc384162f",
            "placeholder": "​",
            "style": "IPY_MODEL_c9ea3406e543444ca81d33e09da96fe5",
            "value": "Generating test split: 100%"
          }
        },
        "c60407ee3a384dafa8d8541e861c3a83": {
          "model_module": "@jupyter-widgets/controls",
          "model_name": "FloatProgressModel",
          "model_module_version": "1.5.0",
          "state": {
            "_dom_classes": [],
            "_model_module": "@jupyter-widgets/controls",
            "_model_module_version": "1.5.0",
            "_model_name": "FloatProgressModel",
            "_view_count": null,
            "_view_module": "@jupyter-widgets/controls",
            "_view_module_version": "1.5.0",
            "_view_name": "ProgressView",
            "bar_style": "success",
            "description": "",
            "description_tooltip": null,
            "layout": "IPY_MODEL_76e8512e9edf415fac895f74f5418f91",
            "max": 1725,
            "min": 0,
            "orientation": "horizontal",
            "style": "IPY_MODEL_49be6a78cc2447f9abcc2d73ad817dbf",
            "value": 1725
          }
        },
        "04fd4a7f1d7e4f1db12de54cf1605cc7": {
          "model_module": "@jupyter-widgets/controls",
          "model_name": "HTMLModel",
          "model_module_version": "1.5.0",
          "state": {
            "_dom_classes": [],
            "_model_module": "@jupyter-widgets/controls",
            "_model_module_version": "1.5.0",
            "_model_name": "HTMLModel",
            "_view_count": null,
            "_view_module": "@jupyter-widgets/controls",
            "_view_module_version": "1.5.0",
            "_view_name": "HTMLView",
            "description": "",
            "description_tooltip": null,
            "layout": "IPY_MODEL_dff275c3635440f5953098c188032c5e",
            "placeholder": "​",
            "style": "IPY_MODEL_d36e46818c414125a036b3e070a41fe6",
            "value": " 1725/1725 [00:00&lt;00:00, 25705.41 examples/s]"
          }
        },
        "9dec418215dc4b93ade59a6eb01c1848": {
          "model_module": "@jupyter-widgets/base",
          "model_name": "LayoutModel",
          "model_module_version": "1.2.0",
          "state": {
            "_model_module": "@jupyter-widgets/base",
            "_model_module_version": "1.2.0",
            "_model_name": "LayoutModel",
            "_view_count": null,
            "_view_module": "@jupyter-widgets/base",
            "_view_module_version": "1.2.0",
            "_view_name": "LayoutView",
            "align_content": null,
            "align_items": null,
            "align_self": null,
            "border": null,
            "bottom": null,
            "display": null,
            "flex": null,
            "flex_flow": null,
            "grid_area": null,
            "grid_auto_columns": null,
            "grid_auto_flow": null,
            "grid_auto_rows": null,
            "grid_column": null,
            "grid_gap": null,
            "grid_row": null,
            "grid_template_areas": null,
            "grid_template_columns": null,
            "grid_template_rows": null,
            "height": null,
            "justify_content": null,
            "justify_items": null,
            "left": null,
            "margin": null,
            "max_height": null,
            "max_width": null,
            "min_height": null,
            "min_width": null,
            "object_fit": null,
            "object_position": null,
            "order": null,
            "overflow": null,
            "overflow_x": null,
            "overflow_y": null,
            "padding": null,
            "right": null,
            "top": null,
            "visibility": null,
            "width": null
          }
        },
        "37b1b3fb8b2e46baa9b753ddc384162f": {
          "model_module": "@jupyter-widgets/base",
          "model_name": "LayoutModel",
          "model_module_version": "1.2.0",
          "state": {
            "_model_module": "@jupyter-widgets/base",
            "_model_module_version": "1.2.0",
            "_model_name": "LayoutModel",
            "_view_count": null,
            "_view_module": "@jupyter-widgets/base",
            "_view_module_version": "1.2.0",
            "_view_name": "LayoutView",
            "align_content": null,
            "align_items": null,
            "align_self": null,
            "border": null,
            "bottom": null,
            "display": null,
            "flex": null,
            "flex_flow": null,
            "grid_area": null,
            "grid_auto_columns": null,
            "grid_auto_flow": null,
            "grid_auto_rows": null,
            "grid_column": null,
            "grid_gap": null,
            "grid_row": null,
            "grid_template_areas": null,
            "grid_template_columns": null,
            "grid_template_rows": null,
            "height": null,
            "justify_content": null,
            "justify_items": null,
            "left": null,
            "margin": null,
            "max_height": null,
            "max_width": null,
            "min_height": null,
            "min_width": null,
            "object_fit": null,
            "object_position": null,
            "order": null,
            "overflow": null,
            "overflow_x": null,
            "overflow_y": null,
            "padding": null,
            "right": null,
            "top": null,
            "visibility": null,
            "width": null
          }
        },
        "c9ea3406e543444ca81d33e09da96fe5": {
          "model_module": "@jupyter-widgets/controls",
          "model_name": "DescriptionStyleModel",
          "model_module_version": "1.5.0",
          "state": {
            "_model_module": "@jupyter-widgets/controls",
            "_model_module_version": "1.5.0",
            "_model_name": "DescriptionStyleModel",
            "_view_count": null,
            "_view_module": "@jupyter-widgets/base",
            "_view_module_version": "1.2.0",
            "_view_name": "StyleView",
            "description_width": ""
          }
        },
        "76e8512e9edf415fac895f74f5418f91": {
          "model_module": "@jupyter-widgets/base",
          "model_name": "LayoutModel",
          "model_module_version": "1.2.0",
          "state": {
            "_model_module": "@jupyter-widgets/base",
            "_model_module_version": "1.2.0",
            "_model_name": "LayoutModel",
            "_view_count": null,
            "_view_module": "@jupyter-widgets/base",
            "_view_module_version": "1.2.0",
            "_view_name": "LayoutView",
            "align_content": null,
            "align_items": null,
            "align_self": null,
            "border": null,
            "bottom": null,
            "display": null,
            "flex": null,
            "flex_flow": null,
            "grid_area": null,
            "grid_auto_columns": null,
            "grid_auto_flow": null,
            "grid_auto_rows": null,
            "grid_column": null,
            "grid_gap": null,
            "grid_row": null,
            "grid_template_areas": null,
            "grid_template_columns": null,
            "grid_template_rows": null,
            "height": null,
            "justify_content": null,
            "justify_items": null,
            "left": null,
            "margin": null,
            "max_height": null,
            "max_width": null,
            "min_height": null,
            "min_width": null,
            "object_fit": null,
            "object_position": null,
            "order": null,
            "overflow": null,
            "overflow_x": null,
            "overflow_y": null,
            "padding": null,
            "right": null,
            "top": null,
            "visibility": null,
            "width": null
          }
        },
        "49be6a78cc2447f9abcc2d73ad817dbf": {
          "model_module": "@jupyter-widgets/controls",
          "model_name": "ProgressStyleModel",
          "model_module_version": "1.5.0",
          "state": {
            "_model_module": "@jupyter-widgets/controls",
            "_model_module_version": "1.5.0",
            "_model_name": "ProgressStyleModel",
            "_view_count": null,
            "_view_module": "@jupyter-widgets/base",
            "_view_module_version": "1.2.0",
            "_view_name": "StyleView",
            "bar_color": null,
            "description_width": ""
          }
        },
        "dff275c3635440f5953098c188032c5e": {
          "model_module": "@jupyter-widgets/base",
          "model_name": "LayoutModel",
          "model_module_version": "1.2.0",
          "state": {
            "_model_module": "@jupyter-widgets/base",
            "_model_module_version": "1.2.0",
            "_model_name": "LayoutModel",
            "_view_count": null,
            "_view_module": "@jupyter-widgets/base",
            "_view_module_version": "1.2.0",
            "_view_name": "LayoutView",
            "align_content": null,
            "align_items": null,
            "align_self": null,
            "border": null,
            "bottom": null,
            "display": null,
            "flex": null,
            "flex_flow": null,
            "grid_area": null,
            "grid_auto_columns": null,
            "grid_auto_flow": null,
            "grid_auto_rows": null,
            "grid_column": null,
            "grid_gap": null,
            "grid_row": null,
            "grid_template_areas": null,
            "grid_template_columns": null,
            "grid_template_rows": null,
            "height": null,
            "justify_content": null,
            "justify_items": null,
            "left": null,
            "margin": null,
            "max_height": null,
            "max_width": null,
            "min_height": null,
            "min_width": null,
            "object_fit": null,
            "object_position": null,
            "order": null,
            "overflow": null,
            "overflow_x": null,
            "overflow_y": null,
            "padding": null,
            "right": null,
            "top": null,
            "visibility": null,
            "width": null
          }
        },
        "d36e46818c414125a036b3e070a41fe6": {
          "model_module": "@jupyter-widgets/controls",
          "model_name": "DescriptionStyleModel",
          "model_module_version": "1.5.0",
          "state": {
            "_model_module": "@jupyter-widgets/controls",
            "_model_module_version": "1.5.0",
            "_model_name": "DescriptionStyleModel",
            "_view_count": null,
            "_view_module": "@jupyter-widgets/base",
            "_view_module_version": "1.2.0",
            "_view_name": "StyleView",
            "description_width": ""
          }
        },
        "183d53319caa41a49401fbb423a5ac0e": {
          "model_module": "@jupyter-widgets/controls",
          "model_name": "HBoxModel",
          "model_module_version": "1.5.0",
          "state": {
            "_dom_classes": [],
            "_model_module": "@jupyter-widgets/controls",
            "_model_module_version": "1.5.0",
            "_model_name": "HBoxModel",
            "_view_count": null,
            "_view_module": "@jupyter-widgets/controls",
            "_view_module_version": "1.5.0",
            "_view_name": "HBoxView",
            "box_style": "",
            "children": [
              "IPY_MODEL_4c09ae2a5f52496db8a6f4f11f1982dd",
              "IPY_MODEL_2c1caad20e94404091c25c9d9f9092c4",
              "IPY_MODEL_44645b0827f84541a3f94e4a4fac13ac"
            ],
            "layout": "IPY_MODEL_8fc8da3835cf4d45882f07f965eb4eab"
          }
        },
        "4c09ae2a5f52496db8a6f4f11f1982dd": {
          "model_module": "@jupyter-widgets/controls",
          "model_name": "HTMLModel",
          "model_module_version": "1.5.0",
          "state": {
            "_dom_classes": [],
            "_model_module": "@jupyter-widgets/controls",
            "_model_module_version": "1.5.0",
            "_model_name": "HTMLModel",
            "_view_count": null,
            "_view_module": "@jupyter-widgets/controls",
            "_view_module_version": "1.5.0",
            "_view_name": "HTMLView",
            "description": "",
            "description_tooltip": null,
            "layout": "IPY_MODEL_798f5360828e44d2b9124ffe29af7ddc",
            "placeholder": "​",
            "style": "IPY_MODEL_c6f404b1b8f04696a19eefc8ca218cde",
            "value": "tokenizer_config.json: 100%"
          }
        },
        "2c1caad20e94404091c25c9d9f9092c4": {
          "model_module": "@jupyter-widgets/controls",
          "model_name": "FloatProgressModel",
          "model_module_version": "1.5.0",
          "state": {
            "_dom_classes": [],
            "_model_module": "@jupyter-widgets/controls",
            "_model_module_version": "1.5.0",
            "_model_name": "FloatProgressModel",
            "_view_count": null,
            "_view_module": "@jupyter-widgets/controls",
            "_view_module_version": "1.5.0",
            "_view_name": "ProgressView",
            "bar_style": "success",
            "description": "",
            "description_tooltip": null,
            "layout": "IPY_MODEL_1f78bc53eb374d8fa9b99a33c8194db2",
            "max": 48,
            "min": 0,
            "orientation": "horizontal",
            "style": "IPY_MODEL_2cd87516fed949e581f0fd9df78f1c53",
            "value": 48
          }
        },
        "44645b0827f84541a3f94e4a4fac13ac": {
          "model_module": "@jupyter-widgets/controls",
          "model_name": "HTMLModel",
          "model_module_version": "1.5.0",
          "state": {
            "_dom_classes": [],
            "_model_module": "@jupyter-widgets/controls",
            "_model_module_version": "1.5.0",
            "_model_name": "HTMLModel",
            "_view_count": null,
            "_view_module": "@jupyter-widgets/controls",
            "_view_module_version": "1.5.0",
            "_view_name": "HTMLView",
            "description": "",
            "description_tooltip": null,
            "layout": "IPY_MODEL_0de9d5f32a1f43b5be25e34ff425486c",
            "placeholder": "​",
            "style": "IPY_MODEL_43f9c8b899bb43ed9b9550447c3211d2",
            "value": " 48.0/48.0 [00:00&lt;00:00, 808B/s]"
          }
        },
        "8fc8da3835cf4d45882f07f965eb4eab": {
          "model_module": "@jupyter-widgets/base",
          "model_name": "LayoutModel",
          "model_module_version": "1.2.0",
          "state": {
            "_model_module": "@jupyter-widgets/base",
            "_model_module_version": "1.2.0",
            "_model_name": "LayoutModel",
            "_view_count": null,
            "_view_module": "@jupyter-widgets/base",
            "_view_module_version": "1.2.0",
            "_view_name": "LayoutView",
            "align_content": null,
            "align_items": null,
            "align_self": null,
            "border": null,
            "bottom": null,
            "display": null,
            "flex": null,
            "flex_flow": null,
            "grid_area": null,
            "grid_auto_columns": null,
            "grid_auto_flow": null,
            "grid_auto_rows": null,
            "grid_column": null,
            "grid_gap": null,
            "grid_row": null,
            "grid_template_areas": null,
            "grid_template_columns": null,
            "grid_template_rows": null,
            "height": null,
            "justify_content": null,
            "justify_items": null,
            "left": null,
            "margin": null,
            "max_height": null,
            "max_width": null,
            "min_height": null,
            "min_width": null,
            "object_fit": null,
            "object_position": null,
            "order": null,
            "overflow": null,
            "overflow_x": null,
            "overflow_y": null,
            "padding": null,
            "right": null,
            "top": null,
            "visibility": null,
            "width": null
          }
        },
        "798f5360828e44d2b9124ffe29af7ddc": {
          "model_module": "@jupyter-widgets/base",
          "model_name": "LayoutModel",
          "model_module_version": "1.2.0",
          "state": {
            "_model_module": "@jupyter-widgets/base",
            "_model_module_version": "1.2.0",
            "_model_name": "LayoutModel",
            "_view_count": null,
            "_view_module": "@jupyter-widgets/base",
            "_view_module_version": "1.2.0",
            "_view_name": "LayoutView",
            "align_content": null,
            "align_items": null,
            "align_self": null,
            "border": null,
            "bottom": null,
            "display": null,
            "flex": null,
            "flex_flow": null,
            "grid_area": null,
            "grid_auto_columns": null,
            "grid_auto_flow": null,
            "grid_auto_rows": null,
            "grid_column": null,
            "grid_gap": null,
            "grid_row": null,
            "grid_template_areas": null,
            "grid_template_columns": null,
            "grid_template_rows": null,
            "height": null,
            "justify_content": null,
            "justify_items": null,
            "left": null,
            "margin": null,
            "max_height": null,
            "max_width": null,
            "min_height": null,
            "min_width": null,
            "object_fit": null,
            "object_position": null,
            "order": null,
            "overflow": null,
            "overflow_x": null,
            "overflow_y": null,
            "padding": null,
            "right": null,
            "top": null,
            "visibility": null,
            "width": null
          }
        },
        "c6f404b1b8f04696a19eefc8ca218cde": {
          "model_module": "@jupyter-widgets/controls",
          "model_name": "DescriptionStyleModel",
          "model_module_version": "1.5.0",
          "state": {
            "_model_module": "@jupyter-widgets/controls",
            "_model_module_version": "1.5.0",
            "_model_name": "DescriptionStyleModel",
            "_view_count": null,
            "_view_module": "@jupyter-widgets/base",
            "_view_module_version": "1.2.0",
            "_view_name": "StyleView",
            "description_width": ""
          }
        },
        "1f78bc53eb374d8fa9b99a33c8194db2": {
          "model_module": "@jupyter-widgets/base",
          "model_name": "LayoutModel",
          "model_module_version": "1.2.0",
          "state": {
            "_model_module": "@jupyter-widgets/base",
            "_model_module_version": "1.2.0",
            "_model_name": "LayoutModel",
            "_view_count": null,
            "_view_module": "@jupyter-widgets/base",
            "_view_module_version": "1.2.0",
            "_view_name": "LayoutView",
            "align_content": null,
            "align_items": null,
            "align_self": null,
            "border": null,
            "bottom": null,
            "display": null,
            "flex": null,
            "flex_flow": null,
            "grid_area": null,
            "grid_auto_columns": null,
            "grid_auto_flow": null,
            "grid_auto_rows": null,
            "grid_column": null,
            "grid_gap": null,
            "grid_row": null,
            "grid_template_areas": null,
            "grid_template_columns": null,
            "grid_template_rows": null,
            "height": null,
            "justify_content": null,
            "justify_items": null,
            "left": null,
            "margin": null,
            "max_height": null,
            "max_width": null,
            "min_height": null,
            "min_width": null,
            "object_fit": null,
            "object_position": null,
            "order": null,
            "overflow": null,
            "overflow_x": null,
            "overflow_y": null,
            "padding": null,
            "right": null,
            "top": null,
            "visibility": null,
            "width": null
          }
        },
        "2cd87516fed949e581f0fd9df78f1c53": {
          "model_module": "@jupyter-widgets/controls",
          "model_name": "ProgressStyleModel",
          "model_module_version": "1.5.0",
          "state": {
            "_model_module": "@jupyter-widgets/controls",
            "_model_module_version": "1.5.0",
            "_model_name": "ProgressStyleModel",
            "_view_count": null,
            "_view_module": "@jupyter-widgets/base",
            "_view_module_version": "1.2.0",
            "_view_name": "StyleView",
            "bar_color": null,
            "description_width": ""
          }
        },
        "0de9d5f32a1f43b5be25e34ff425486c": {
          "model_module": "@jupyter-widgets/base",
          "model_name": "LayoutModel",
          "model_module_version": "1.2.0",
          "state": {
            "_model_module": "@jupyter-widgets/base",
            "_model_module_version": "1.2.0",
            "_model_name": "LayoutModel",
            "_view_count": null,
            "_view_module": "@jupyter-widgets/base",
            "_view_module_version": "1.2.0",
            "_view_name": "LayoutView",
            "align_content": null,
            "align_items": null,
            "align_self": null,
            "border": null,
            "bottom": null,
            "display": null,
            "flex": null,
            "flex_flow": null,
            "grid_area": null,
            "grid_auto_columns": null,
            "grid_auto_flow": null,
            "grid_auto_rows": null,
            "grid_column": null,
            "grid_gap": null,
            "grid_row": null,
            "grid_template_areas": null,
            "grid_template_columns": null,
            "grid_template_rows": null,
            "height": null,
            "justify_content": null,
            "justify_items": null,
            "left": null,
            "margin": null,
            "max_height": null,
            "max_width": null,
            "min_height": null,
            "min_width": null,
            "object_fit": null,
            "object_position": null,
            "order": null,
            "overflow": null,
            "overflow_x": null,
            "overflow_y": null,
            "padding": null,
            "right": null,
            "top": null,
            "visibility": null,
            "width": null
          }
        },
        "43f9c8b899bb43ed9b9550447c3211d2": {
          "model_module": "@jupyter-widgets/controls",
          "model_name": "DescriptionStyleModel",
          "model_module_version": "1.5.0",
          "state": {
            "_model_module": "@jupyter-widgets/controls",
            "_model_module_version": "1.5.0",
            "_model_name": "DescriptionStyleModel",
            "_view_count": null,
            "_view_module": "@jupyter-widgets/base",
            "_view_module_version": "1.2.0",
            "_view_name": "StyleView",
            "description_width": ""
          }
        },
        "1b8be898c97b49cf9e0cea13c8c8c045": {
          "model_module": "@jupyter-widgets/controls",
          "model_name": "HBoxModel",
          "model_module_version": "1.5.0",
          "state": {
            "_dom_classes": [],
            "_model_module": "@jupyter-widgets/controls",
            "_model_module_version": "1.5.0",
            "_model_name": "HBoxModel",
            "_view_count": null,
            "_view_module": "@jupyter-widgets/controls",
            "_view_module_version": "1.5.0",
            "_view_name": "HBoxView",
            "box_style": "",
            "children": [
              "IPY_MODEL_562529c9617e45acab93fbde18dcdd00",
              "IPY_MODEL_25a12ada98f9485384030d77496d7f0e",
              "IPY_MODEL_9ee1f9f6c1f348fc8962b02ab030526f"
            ],
            "layout": "IPY_MODEL_380118f98c40462f8e44156fd7bf5a01"
          }
        },
        "562529c9617e45acab93fbde18dcdd00": {
          "model_module": "@jupyter-widgets/controls",
          "model_name": "HTMLModel",
          "model_module_version": "1.5.0",
          "state": {
            "_dom_classes": [],
            "_model_module": "@jupyter-widgets/controls",
            "_model_module_version": "1.5.0",
            "_model_name": "HTMLModel",
            "_view_count": null,
            "_view_module": "@jupyter-widgets/controls",
            "_view_module_version": "1.5.0",
            "_view_name": "HTMLView",
            "description": "",
            "description_tooltip": null,
            "layout": "IPY_MODEL_79aea2c7166645bebea86f83ddbc9f20",
            "placeholder": "​",
            "style": "IPY_MODEL_aa1742f4377d4b2cb061e6458ad6c7e8",
            "value": "config.json: 100%"
          }
        },
        "25a12ada98f9485384030d77496d7f0e": {
          "model_module": "@jupyter-widgets/controls",
          "model_name": "FloatProgressModel",
          "model_module_version": "1.5.0",
          "state": {
            "_dom_classes": [],
            "_model_module": "@jupyter-widgets/controls",
            "_model_module_version": "1.5.0",
            "_model_name": "FloatProgressModel",
            "_view_count": null,
            "_view_module": "@jupyter-widgets/controls",
            "_view_module_version": "1.5.0",
            "_view_name": "ProgressView",
            "bar_style": "success",
            "description": "",
            "description_tooltip": null,
            "layout": "IPY_MODEL_2632ab253a094a8e80b59ca83b7c1848",
            "max": 570,
            "min": 0,
            "orientation": "horizontal",
            "style": "IPY_MODEL_1c935de97bab48078fd990e43a20fc06",
            "value": 570
          }
        },
        "9ee1f9f6c1f348fc8962b02ab030526f": {
          "model_module": "@jupyter-widgets/controls",
          "model_name": "HTMLModel",
          "model_module_version": "1.5.0",
          "state": {
            "_dom_classes": [],
            "_model_module": "@jupyter-widgets/controls",
            "_model_module_version": "1.5.0",
            "_model_name": "HTMLModel",
            "_view_count": null,
            "_view_module": "@jupyter-widgets/controls",
            "_view_module_version": "1.5.0",
            "_view_name": "HTMLView",
            "description": "",
            "description_tooltip": null,
            "layout": "IPY_MODEL_33dfaa85843242f8ae19e2655b061811",
            "placeholder": "​",
            "style": "IPY_MODEL_1d10a8df63eb45d9ba94e43868fafff3",
            "value": " 570/570 [00:00&lt;00:00, 5.59kB/s]"
          }
        },
        "380118f98c40462f8e44156fd7bf5a01": {
          "model_module": "@jupyter-widgets/base",
          "model_name": "LayoutModel",
          "model_module_version": "1.2.0",
          "state": {
            "_model_module": "@jupyter-widgets/base",
            "_model_module_version": "1.2.0",
            "_model_name": "LayoutModel",
            "_view_count": null,
            "_view_module": "@jupyter-widgets/base",
            "_view_module_version": "1.2.0",
            "_view_name": "LayoutView",
            "align_content": null,
            "align_items": null,
            "align_self": null,
            "border": null,
            "bottom": null,
            "display": null,
            "flex": null,
            "flex_flow": null,
            "grid_area": null,
            "grid_auto_columns": null,
            "grid_auto_flow": null,
            "grid_auto_rows": null,
            "grid_column": null,
            "grid_gap": null,
            "grid_row": null,
            "grid_template_areas": null,
            "grid_template_columns": null,
            "grid_template_rows": null,
            "height": null,
            "justify_content": null,
            "justify_items": null,
            "left": null,
            "margin": null,
            "max_height": null,
            "max_width": null,
            "min_height": null,
            "min_width": null,
            "object_fit": null,
            "object_position": null,
            "order": null,
            "overflow": null,
            "overflow_x": null,
            "overflow_y": null,
            "padding": null,
            "right": null,
            "top": null,
            "visibility": null,
            "width": null
          }
        },
        "79aea2c7166645bebea86f83ddbc9f20": {
          "model_module": "@jupyter-widgets/base",
          "model_name": "LayoutModel",
          "model_module_version": "1.2.0",
          "state": {
            "_model_module": "@jupyter-widgets/base",
            "_model_module_version": "1.2.0",
            "_model_name": "LayoutModel",
            "_view_count": null,
            "_view_module": "@jupyter-widgets/base",
            "_view_module_version": "1.2.0",
            "_view_name": "LayoutView",
            "align_content": null,
            "align_items": null,
            "align_self": null,
            "border": null,
            "bottom": null,
            "display": null,
            "flex": null,
            "flex_flow": null,
            "grid_area": null,
            "grid_auto_columns": null,
            "grid_auto_flow": null,
            "grid_auto_rows": null,
            "grid_column": null,
            "grid_gap": null,
            "grid_row": null,
            "grid_template_areas": null,
            "grid_template_columns": null,
            "grid_template_rows": null,
            "height": null,
            "justify_content": null,
            "justify_items": null,
            "left": null,
            "margin": null,
            "max_height": null,
            "max_width": null,
            "min_height": null,
            "min_width": null,
            "object_fit": null,
            "object_position": null,
            "order": null,
            "overflow": null,
            "overflow_x": null,
            "overflow_y": null,
            "padding": null,
            "right": null,
            "top": null,
            "visibility": null,
            "width": null
          }
        },
        "aa1742f4377d4b2cb061e6458ad6c7e8": {
          "model_module": "@jupyter-widgets/controls",
          "model_name": "DescriptionStyleModel",
          "model_module_version": "1.5.0",
          "state": {
            "_model_module": "@jupyter-widgets/controls",
            "_model_module_version": "1.5.0",
            "_model_name": "DescriptionStyleModel",
            "_view_count": null,
            "_view_module": "@jupyter-widgets/base",
            "_view_module_version": "1.2.0",
            "_view_name": "StyleView",
            "description_width": ""
          }
        },
        "2632ab253a094a8e80b59ca83b7c1848": {
          "model_module": "@jupyter-widgets/base",
          "model_name": "LayoutModel",
          "model_module_version": "1.2.0",
          "state": {
            "_model_module": "@jupyter-widgets/base",
            "_model_module_version": "1.2.0",
            "_model_name": "LayoutModel",
            "_view_count": null,
            "_view_module": "@jupyter-widgets/base",
            "_view_module_version": "1.2.0",
            "_view_name": "LayoutView",
            "align_content": null,
            "align_items": null,
            "align_self": null,
            "border": null,
            "bottom": null,
            "display": null,
            "flex": null,
            "flex_flow": null,
            "grid_area": null,
            "grid_auto_columns": null,
            "grid_auto_flow": null,
            "grid_auto_rows": null,
            "grid_column": null,
            "grid_gap": null,
            "grid_row": null,
            "grid_template_areas": null,
            "grid_template_columns": null,
            "grid_template_rows": null,
            "height": null,
            "justify_content": null,
            "justify_items": null,
            "left": null,
            "margin": null,
            "max_height": null,
            "max_width": null,
            "min_height": null,
            "min_width": null,
            "object_fit": null,
            "object_position": null,
            "order": null,
            "overflow": null,
            "overflow_x": null,
            "overflow_y": null,
            "padding": null,
            "right": null,
            "top": null,
            "visibility": null,
            "width": null
          }
        },
        "1c935de97bab48078fd990e43a20fc06": {
          "model_module": "@jupyter-widgets/controls",
          "model_name": "ProgressStyleModel",
          "model_module_version": "1.5.0",
          "state": {
            "_model_module": "@jupyter-widgets/controls",
            "_model_module_version": "1.5.0",
            "_model_name": "ProgressStyleModel",
            "_view_count": null,
            "_view_module": "@jupyter-widgets/base",
            "_view_module_version": "1.2.0",
            "_view_name": "StyleView",
            "bar_color": null,
            "description_width": ""
          }
        },
        "33dfaa85843242f8ae19e2655b061811": {
          "model_module": "@jupyter-widgets/base",
          "model_name": "LayoutModel",
          "model_module_version": "1.2.0",
          "state": {
            "_model_module": "@jupyter-widgets/base",
            "_model_module_version": "1.2.0",
            "_model_name": "LayoutModel",
            "_view_count": null,
            "_view_module": "@jupyter-widgets/base",
            "_view_module_version": "1.2.0",
            "_view_name": "LayoutView",
            "align_content": null,
            "align_items": null,
            "align_self": null,
            "border": null,
            "bottom": null,
            "display": null,
            "flex": null,
            "flex_flow": null,
            "grid_area": null,
            "grid_auto_columns": null,
            "grid_auto_flow": null,
            "grid_auto_rows": null,
            "grid_column": null,
            "grid_gap": null,
            "grid_row": null,
            "grid_template_areas": null,
            "grid_template_columns": null,
            "grid_template_rows": null,
            "height": null,
            "justify_content": null,
            "justify_items": null,
            "left": null,
            "margin": null,
            "max_height": null,
            "max_width": null,
            "min_height": null,
            "min_width": null,
            "object_fit": null,
            "object_position": null,
            "order": null,
            "overflow": null,
            "overflow_x": null,
            "overflow_y": null,
            "padding": null,
            "right": null,
            "top": null,
            "visibility": null,
            "width": null
          }
        },
        "1d10a8df63eb45d9ba94e43868fafff3": {
          "model_module": "@jupyter-widgets/controls",
          "model_name": "DescriptionStyleModel",
          "model_module_version": "1.5.0",
          "state": {
            "_model_module": "@jupyter-widgets/controls",
            "_model_module_version": "1.5.0",
            "_model_name": "DescriptionStyleModel",
            "_view_count": null,
            "_view_module": "@jupyter-widgets/base",
            "_view_module_version": "1.2.0",
            "_view_name": "StyleView",
            "description_width": ""
          }
        },
        "7aa7e329838c4410b2b51518b292addd": {
          "model_module": "@jupyter-widgets/controls",
          "model_name": "HBoxModel",
          "model_module_version": "1.5.0",
          "state": {
            "_dom_classes": [],
            "_model_module": "@jupyter-widgets/controls",
            "_model_module_version": "1.5.0",
            "_model_name": "HBoxModel",
            "_view_count": null,
            "_view_module": "@jupyter-widgets/controls",
            "_view_module_version": "1.5.0",
            "_view_name": "HBoxView",
            "box_style": "",
            "children": [
              "IPY_MODEL_0b3a2a177eab48bb8f0ce895d785b260",
              "IPY_MODEL_06faf318a7ae476fb81ce9d0f6e0bced",
              "IPY_MODEL_f2c575731458420fb0a92e1e0a7cdc34"
            ],
            "layout": "IPY_MODEL_6d0f08d142f644bd9a7e46012f88235a"
          }
        },
        "0b3a2a177eab48bb8f0ce895d785b260": {
          "model_module": "@jupyter-widgets/controls",
          "model_name": "HTMLModel",
          "model_module_version": "1.5.0",
          "state": {
            "_dom_classes": [],
            "_model_module": "@jupyter-widgets/controls",
            "_model_module_version": "1.5.0",
            "_model_name": "HTMLModel",
            "_view_count": null,
            "_view_module": "@jupyter-widgets/controls",
            "_view_module_version": "1.5.0",
            "_view_name": "HTMLView",
            "description": "",
            "description_tooltip": null,
            "layout": "IPY_MODEL_befbf128674d4022937711dd2555e0bb",
            "placeholder": "​",
            "style": "IPY_MODEL_92a059334e334d358affc2266366c2a6",
            "value": "vocab.txt: 100%"
          }
        },
        "06faf318a7ae476fb81ce9d0f6e0bced": {
          "model_module": "@jupyter-widgets/controls",
          "model_name": "FloatProgressModel",
          "model_module_version": "1.5.0",
          "state": {
            "_dom_classes": [],
            "_model_module": "@jupyter-widgets/controls",
            "_model_module_version": "1.5.0",
            "_model_name": "FloatProgressModel",
            "_view_count": null,
            "_view_module": "@jupyter-widgets/controls",
            "_view_module_version": "1.5.0",
            "_view_name": "ProgressView",
            "bar_style": "success",
            "description": "",
            "description_tooltip": null,
            "layout": "IPY_MODEL_180026b12b45401bb34c2bc24554d2c4",
            "max": 231508,
            "min": 0,
            "orientation": "horizontal",
            "style": "IPY_MODEL_2aab16ac74084c7f87fcb9b94ff2c6d3",
            "value": 231508
          }
        },
        "f2c575731458420fb0a92e1e0a7cdc34": {
          "model_module": "@jupyter-widgets/controls",
          "model_name": "HTMLModel",
          "model_module_version": "1.5.0",
          "state": {
            "_dom_classes": [],
            "_model_module": "@jupyter-widgets/controls",
            "_model_module_version": "1.5.0",
            "_model_name": "HTMLModel",
            "_view_count": null,
            "_view_module": "@jupyter-widgets/controls",
            "_view_module_version": "1.5.0",
            "_view_name": "HTMLView",
            "description": "",
            "description_tooltip": null,
            "layout": "IPY_MODEL_bf080b7673a2424e8612cf3e75ea4efe",
            "placeholder": "​",
            "style": "IPY_MODEL_6c9de0e9e2f04669982af59981e6dbd5",
            "value": " 232k/232k [00:00&lt;00:00, 1.08MB/s]"
          }
        },
        "6d0f08d142f644bd9a7e46012f88235a": {
          "model_module": "@jupyter-widgets/base",
          "model_name": "LayoutModel",
          "model_module_version": "1.2.0",
          "state": {
            "_model_module": "@jupyter-widgets/base",
            "_model_module_version": "1.2.0",
            "_model_name": "LayoutModel",
            "_view_count": null,
            "_view_module": "@jupyter-widgets/base",
            "_view_module_version": "1.2.0",
            "_view_name": "LayoutView",
            "align_content": null,
            "align_items": null,
            "align_self": null,
            "border": null,
            "bottom": null,
            "display": null,
            "flex": null,
            "flex_flow": null,
            "grid_area": null,
            "grid_auto_columns": null,
            "grid_auto_flow": null,
            "grid_auto_rows": null,
            "grid_column": null,
            "grid_gap": null,
            "grid_row": null,
            "grid_template_areas": null,
            "grid_template_columns": null,
            "grid_template_rows": null,
            "height": null,
            "justify_content": null,
            "justify_items": null,
            "left": null,
            "margin": null,
            "max_height": null,
            "max_width": null,
            "min_height": null,
            "min_width": null,
            "object_fit": null,
            "object_position": null,
            "order": null,
            "overflow": null,
            "overflow_x": null,
            "overflow_y": null,
            "padding": null,
            "right": null,
            "top": null,
            "visibility": null,
            "width": null
          }
        },
        "befbf128674d4022937711dd2555e0bb": {
          "model_module": "@jupyter-widgets/base",
          "model_name": "LayoutModel",
          "model_module_version": "1.2.0",
          "state": {
            "_model_module": "@jupyter-widgets/base",
            "_model_module_version": "1.2.0",
            "_model_name": "LayoutModel",
            "_view_count": null,
            "_view_module": "@jupyter-widgets/base",
            "_view_module_version": "1.2.0",
            "_view_name": "LayoutView",
            "align_content": null,
            "align_items": null,
            "align_self": null,
            "border": null,
            "bottom": null,
            "display": null,
            "flex": null,
            "flex_flow": null,
            "grid_area": null,
            "grid_auto_columns": null,
            "grid_auto_flow": null,
            "grid_auto_rows": null,
            "grid_column": null,
            "grid_gap": null,
            "grid_row": null,
            "grid_template_areas": null,
            "grid_template_columns": null,
            "grid_template_rows": null,
            "height": null,
            "justify_content": null,
            "justify_items": null,
            "left": null,
            "margin": null,
            "max_height": null,
            "max_width": null,
            "min_height": null,
            "min_width": null,
            "object_fit": null,
            "object_position": null,
            "order": null,
            "overflow": null,
            "overflow_x": null,
            "overflow_y": null,
            "padding": null,
            "right": null,
            "top": null,
            "visibility": null,
            "width": null
          }
        },
        "92a059334e334d358affc2266366c2a6": {
          "model_module": "@jupyter-widgets/controls",
          "model_name": "DescriptionStyleModel",
          "model_module_version": "1.5.0",
          "state": {
            "_model_module": "@jupyter-widgets/controls",
            "_model_module_version": "1.5.0",
            "_model_name": "DescriptionStyleModel",
            "_view_count": null,
            "_view_module": "@jupyter-widgets/base",
            "_view_module_version": "1.2.0",
            "_view_name": "StyleView",
            "description_width": ""
          }
        },
        "180026b12b45401bb34c2bc24554d2c4": {
          "model_module": "@jupyter-widgets/base",
          "model_name": "LayoutModel",
          "model_module_version": "1.2.0",
          "state": {
            "_model_module": "@jupyter-widgets/base",
            "_model_module_version": "1.2.0",
            "_model_name": "LayoutModel",
            "_view_count": null,
            "_view_module": "@jupyter-widgets/base",
            "_view_module_version": "1.2.0",
            "_view_name": "LayoutView",
            "align_content": null,
            "align_items": null,
            "align_self": null,
            "border": null,
            "bottom": null,
            "display": null,
            "flex": null,
            "flex_flow": null,
            "grid_area": null,
            "grid_auto_columns": null,
            "grid_auto_flow": null,
            "grid_auto_rows": null,
            "grid_column": null,
            "grid_gap": null,
            "grid_row": null,
            "grid_template_areas": null,
            "grid_template_columns": null,
            "grid_template_rows": null,
            "height": null,
            "justify_content": null,
            "justify_items": null,
            "left": null,
            "margin": null,
            "max_height": null,
            "max_width": null,
            "min_height": null,
            "min_width": null,
            "object_fit": null,
            "object_position": null,
            "order": null,
            "overflow": null,
            "overflow_x": null,
            "overflow_y": null,
            "padding": null,
            "right": null,
            "top": null,
            "visibility": null,
            "width": null
          }
        },
        "2aab16ac74084c7f87fcb9b94ff2c6d3": {
          "model_module": "@jupyter-widgets/controls",
          "model_name": "ProgressStyleModel",
          "model_module_version": "1.5.0",
          "state": {
            "_model_module": "@jupyter-widgets/controls",
            "_model_module_version": "1.5.0",
            "_model_name": "ProgressStyleModel",
            "_view_count": null,
            "_view_module": "@jupyter-widgets/base",
            "_view_module_version": "1.2.0",
            "_view_name": "StyleView",
            "bar_color": null,
            "description_width": ""
          }
        },
        "bf080b7673a2424e8612cf3e75ea4efe": {
          "model_module": "@jupyter-widgets/base",
          "model_name": "LayoutModel",
          "model_module_version": "1.2.0",
          "state": {
            "_model_module": "@jupyter-widgets/base",
            "_model_module_version": "1.2.0",
            "_model_name": "LayoutModel",
            "_view_count": null,
            "_view_module": "@jupyter-widgets/base",
            "_view_module_version": "1.2.0",
            "_view_name": "LayoutView",
            "align_content": null,
            "align_items": null,
            "align_self": null,
            "border": null,
            "bottom": null,
            "display": null,
            "flex": null,
            "flex_flow": null,
            "grid_area": null,
            "grid_auto_columns": null,
            "grid_auto_flow": null,
            "grid_auto_rows": null,
            "grid_column": null,
            "grid_gap": null,
            "grid_row": null,
            "grid_template_areas": null,
            "grid_template_columns": null,
            "grid_template_rows": null,
            "height": null,
            "justify_content": null,
            "justify_items": null,
            "left": null,
            "margin": null,
            "max_height": null,
            "max_width": null,
            "min_height": null,
            "min_width": null,
            "object_fit": null,
            "object_position": null,
            "order": null,
            "overflow": null,
            "overflow_x": null,
            "overflow_y": null,
            "padding": null,
            "right": null,
            "top": null,
            "visibility": null,
            "width": null
          }
        },
        "6c9de0e9e2f04669982af59981e6dbd5": {
          "model_module": "@jupyter-widgets/controls",
          "model_name": "DescriptionStyleModel",
          "model_module_version": "1.5.0",
          "state": {
            "_model_module": "@jupyter-widgets/controls",
            "_model_module_version": "1.5.0",
            "_model_name": "DescriptionStyleModel",
            "_view_count": null,
            "_view_module": "@jupyter-widgets/base",
            "_view_module_version": "1.2.0",
            "_view_name": "StyleView",
            "description_width": ""
          }
        },
        "fd292de5aba143d8bcc640795a0130c6": {
          "model_module": "@jupyter-widgets/controls",
          "model_name": "HBoxModel",
          "model_module_version": "1.5.0",
          "state": {
            "_dom_classes": [],
            "_model_module": "@jupyter-widgets/controls",
            "_model_module_version": "1.5.0",
            "_model_name": "HBoxModel",
            "_view_count": null,
            "_view_module": "@jupyter-widgets/controls",
            "_view_module_version": "1.5.0",
            "_view_name": "HBoxView",
            "box_style": "",
            "children": [
              "IPY_MODEL_adc0663742754a70b04498d9d97e374d",
              "IPY_MODEL_c3ea7196c54c4098973603a0d203775c",
              "IPY_MODEL_0a919b4ab5a441b49fcab1a6deda0835"
            ],
            "layout": "IPY_MODEL_4a7b3a0c187944cba770a3930cdc6a98"
          }
        },
        "adc0663742754a70b04498d9d97e374d": {
          "model_module": "@jupyter-widgets/controls",
          "model_name": "HTMLModel",
          "model_module_version": "1.5.0",
          "state": {
            "_dom_classes": [],
            "_model_module": "@jupyter-widgets/controls",
            "_model_module_version": "1.5.0",
            "_model_name": "HTMLModel",
            "_view_count": null,
            "_view_module": "@jupyter-widgets/controls",
            "_view_module_version": "1.5.0",
            "_view_name": "HTMLView",
            "description": "",
            "description_tooltip": null,
            "layout": "IPY_MODEL_18be2d498e46439382f3878e146c2b22",
            "placeholder": "​",
            "style": "IPY_MODEL_6c8e90137bda4ddaa909f1c533064ac2",
            "value": "tokenizer.json: 100%"
          }
        },
        "c3ea7196c54c4098973603a0d203775c": {
          "model_module": "@jupyter-widgets/controls",
          "model_name": "FloatProgressModel",
          "model_module_version": "1.5.0",
          "state": {
            "_dom_classes": [],
            "_model_module": "@jupyter-widgets/controls",
            "_model_module_version": "1.5.0",
            "_model_name": "FloatProgressModel",
            "_view_count": null,
            "_view_module": "@jupyter-widgets/controls",
            "_view_module_version": "1.5.0",
            "_view_name": "ProgressView",
            "bar_style": "success",
            "description": "",
            "description_tooltip": null,
            "layout": "IPY_MODEL_7522a73178f9460a844ffe2a9b693439",
            "max": 466062,
            "min": 0,
            "orientation": "horizontal",
            "style": "IPY_MODEL_0e4a97a67cd14751b62e597cc2af3d07",
            "value": 466062
          }
        },
        "0a919b4ab5a441b49fcab1a6deda0835": {
          "model_module": "@jupyter-widgets/controls",
          "model_name": "HTMLModel",
          "model_module_version": "1.5.0",
          "state": {
            "_dom_classes": [],
            "_model_module": "@jupyter-widgets/controls",
            "_model_module_version": "1.5.0",
            "_model_name": "HTMLModel",
            "_view_count": null,
            "_view_module": "@jupyter-widgets/controls",
            "_view_module_version": "1.5.0",
            "_view_name": "HTMLView",
            "description": "",
            "description_tooltip": null,
            "layout": "IPY_MODEL_8794dbf219eb4fddb7021acd8ff1a8fc",
            "placeholder": "​",
            "style": "IPY_MODEL_9a6a78f667a74e12bd0ac641df4a70a1",
            "value": " 466k/466k [00:00&lt;00:00, 8.06MB/s]"
          }
        },
        "4a7b3a0c187944cba770a3930cdc6a98": {
          "model_module": "@jupyter-widgets/base",
          "model_name": "LayoutModel",
          "model_module_version": "1.2.0",
          "state": {
            "_model_module": "@jupyter-widgets/base",
            "_model_module_version": "1.2.0",
            "_model_name": "LayoutModel",
            "_view_count": null,
            "_view_module": "@jupyter-widgets/base",
            "_view_module_version": "1.2.0",
            "_view_name": "LayoutView",
            "align_content": null,
            "align_items": null,
            "align_self": null,
            "border": null,
            "bottom": null,
            "display": null,
            "flex": null,
            "flex_flow": null,
            "grid_area": null,
            "grid_auto_columns": null,
            "grid_auto_flow": null,
            "grid_auto_rows": null,
            "grid_column": null,
            "grid_gap": null,
            "grid_row": null,
            "grid_template_areas": null,
            "grid_template_columns": null,
            "grid_template_rows": null,
            "height": null,
            "justify_content": null,
            "justify_items": null,
            "left": null,
            "margin": null,
            "max_height": null,
            "max_width": null,
            "min_height": null,
            "min_width": null,
            "object_fit": null,
            "object_position": null,
            "order": null,
            "overflow": null,
            "overflow_x": null,
            "overflow_y": null,
            "padding": null,
            "right": null,
            "top": null,
            "visibility": null,
            "width": null
          }
        },
        "18be2d498e46439382f3878e146c2b22": {
          "model_module": "@jupyter-widgets/base",
          "model_name": "LayoutModel",
          "model_module_version": "1.2.0",
          "state": {
            "_model_module": "@jupyter-widgets/base",
            "_model_module_version": "1.2.0",
            "_model_name": "LayoutModel",
            "_view_count": null,
            "_view_module": "@jupyter-widgets/base",
            "_view_module_version": "1.2.0",
            "_view_name": "LayoutView",
            "align_content": null,
            "align_items": null,
            "align_self": null,
            "border": null,
            "bottom": null,
            "display": null,
            "flex": null,
            "flex_flow": null,
            "grid_area": null,
            "grid_auto_columns": null,
            "grid_auto_flow": null,
            "grid_auto_rows": null,
            "grid_column": null,
            "grid_gap": null,
            "grid_row": null,
            "grid_template_areas": null,
            "grid_template_columns": null,
            "grid_template_rows": null,
            "height": null,
            "justify_content": null,
            "justify_items": null,
            "left": null,
            "margin": null,
            "max_height": null,
            "max_width": null,
            "min_height": null,
            "min_width": null,
            "object_fit": null,
            "object_position": null,
            "order": null,
            "overflow": null,
            "overflow_x": null,
            "overflow_y": null,
            "padding": null,
            "right": null,
            "top": null,
            "visibility": null,
            "width": null
          }
        },
        "6c8e90137bda4ddaa909f1c533064ac2": {
          "model_module": "@jupyter-widgets/controls",
          "model_name": "DescriptionStyleModel",
          "model_module_version": "1.5.0",
          "state": {
            "_model_module": "@jupyter-widgets/controls",
            "_model_module_version": "1.5.0",
            "_model_name": "DescriptionStyleModel",
            "_view_count": null,
            "_view_module": "@jupyter-widgets/base",
            "_view_module_version": "1.2.0",
            "_view_name": "StyleView",
            "description_width": ""
          }
        },
        "7522a73178f9460a844ffe2a9b693439": {
          "model_module": "@jupyter-widgets/base",
          "model_name": "LayoutModel",
          "model_module_version": "1.2.0",
          "state": {
            "_model_module": "@jupyter-widgets/base",
            "_model_module_version": "1.2.0",
            "_model_name": "LayoutModel",
            "_view_count": null,
            "_view_module": "@jupyter-widgets/base",
            "_view_module_version": "1.2.0",
            "_view_name": "LayoutView",
            "align_content": null,
            "align_items": null,
            "align_self": null,
            "border": null,
            "bottom": null,
            "display": null,
            "flex": null,
            "flex_flow": null,
            "grid_area": null,
            "grid_auto_columns": null,
            "grid_auto_flow": null,
            "grid_auto_rows": null,
            "grid_column": null,
            "grid_gap": null,
            "grid_row": null,
            "grid_template_areas": null,
            "grid_template_columns": null,
            "grid_template_rows": null,
            "height": null,
            "justify_content": null,
            "justify_items": null,
            "left": null,
            "margin": null,
            "max_height": null,
            "max_width": null,
            "min_height": null,
            "min_width": null,
            "object_fit": null,
            "object_position": null,
            "order": null,
            "overflow": null,
            "overflow_x": null,
            "overflow_y": null,
            "padding": null,
            "right": null,
            "top": null,
            "visibility": null,
            "width": null
          }
        },
        "0e4a97a67cd14751b62e597cc2af3d07": {
          "model_module": "@jupyter-widgets/controls",
          "model_name": "ProgressStyleModel",
          "model_module_version": "1.5.0",
          "state": {
            "_model_module": "@jupyter-widgets/controls",
            "_model_module_version": "1.5.0",
            "_model_name": "ProgressStyleModel",
            "_view_count": null,
            "_view_module": "@jupyter-widgets/base",
            "_view_module_version": "1.2.0",
            "_view_name": "StyleView",
            "bar_color": null,
            "description_width": ""
          }
        },
        "8794dbf219eb4fddb7021acd8ff1a8fc": {
          "model_module": "@jupyter-widgets/base",
          "model_name": "LayoutModel",
          "model_module_version": "1.2.0",
          "state": {
            "_model_module": "@jupyter-widgets/base",
            "_model_module_version": "1.2.0",
            "_model_name": "LayoutModel",
            "_view_count": null,
            "_view_module": "@jupyter-widgets/base",
            "_view_module_version": "1.2.0",
            "_view_name": "LayoutView",
            "align_content": null,
            "align_items": null,
            "align_self": null,
            "border": null,
            "bottom": null,
            "display": null,
            "flex": null,
            "flex_flow": null,
            "grid_area": null,
            "grid_auto_columns": null,
            "grid_auto_flow": null,
            "grid_auto_rows": null,
            "grid_column": null,
            "grid_gap": null,
            "grid_row": null,
            "grid_template_areas": null,
            "grid_template_columns": null,
            "grid_template_rows": null,
            "height": null,
            "justify_content": null,
            "justify_items": null,
            "left": null,
            "margin": null,
            "max_height": null,
            "max_width": null,
            "min_height": null,
            "min_width": null,
            "object_fit": null,
            "object_position": null,
            "order": null,
            "overflow": null,
            "overflow_x": null,
            "overflow_y": null,
            "padding": null,
            "right": null,
            "top": null,
            "visibility": null,
            "width": null
          }
        },
        "9a6a78f667a74e12bd0ac641df4a70a1": {
          "model_module": "@jupyter-widgets/controls",
          "model_name": "DescriptionStyleModel",
          "model_module_version": "1.5.0",
          "state": {
            "_model_module": "@jupyter-widgets/controls",
            "_model_module_version": "1.5.0",
            "_model_name": "DescriptionStyleModel",
            "_view_count": null,
            "_view_module": "@jupyter-widgets/base",
            "_view_module_version": "1.2.0",
            "_view_name": "StyleView",
            "description_width": ""
          }
        },
        "deb1cfc5754c4a8687c7a8d8b9711b9f": {
          "model_module": "@jupyter-widgets/controls",
          "model_name": "HBoxModel",
          "model_module_version": "1.5.0",
          "state": {
            "_dom_classes": [],
            "_model_module": "@jupyter-widgets/controls",
            "_model_module_version": "1.5.0",
            "_model_name": "HBoxModel",
            "_view_count": null,
            "_view_module": "@jupyter-widgets/controls",
            "_view_module_version": "1.5.0",
            "_view_name": "HBoxView",
            "box_style": "",
            "children": [
              "IPY_MODEL_7bee11b497444eafbd9fe1760498f690",
              "IPY_MODEL_f0101efe233445e4b0d519623be1cdb3",
              "IPY_MODEL_7155712a7e7146c6b493f0af27ef4fe8"
            ],
            "layout": "IPY_MODEL_d986f545ac38423f8cb1eab8152f2bd3"
          }
        },
        "7bee11b497444eafbd9fe1760498f690": {
          "model_module": "@jupyter-widgets/controls",
          "model_name": "HTMLModel",
          "model_module_version": "1.5.0",
          "state": {
            "_dom_classes": [],
            "_model_module": "@jupyter-widgets/controls",
            "_model_module_version": "1.5.0",
            "_model_name": "HTMLModel",
            "_view_count": null,
            "_view_module": "@jupyter-widgets/controls",
            "_view_module_version": "1.5.0",
            "_view_name": "HTMLView",
            "description": "",
            "description_tooltip": null,
            "layout": "IPY_MODEL_efb8a494b9ee4dca9d906b49ba9ef013",
            "placeholder": "​",
            "style": "IPY_MODEL_45823bae72414ce99af87009a86842bc",
            "value": "Map: 100%"
          }
        },
        "f0101efe233445e4b0d519623be1cdb3": {
          "model_module": "@jupyter-widgets/controls",
          "model_name": "FloatProgressModel",
          "model_module_version": "1.5.0",
          "state": {
            "_dom_classes": [],
            "_model_module": "@jupyter-widgets/controls",
            "_model_module_version": "1.5.0",
            "_model_name": "FloatProgressModel",
            "_view_count": null,
            "_view_module": "@jupyter-widgets/controls",
            "_view_module_version": "1.5.0",
            "_view_name": "ProgressView",
            "bar_style": "success",
            "description": "",
            "description_tooltip": null,
            "layout": "IPY_MODEL_bc589835c986415d881e817c0c055268",
            "max": 3668,
            "min": 0,
            "orientation": "horizontal",
            "style": "IPY_MODEL_9d196eb054d5413a949cd9d0337ee5ec",
            "value": 3668
          }
        },
        "7155712a7e7146c6b493f0af27ef4fe8": {
          "model_module": "@jupyter-widgets/controls",
          "model_name": "HTMLModel",
          "model_module_version": "1.5.0",
          "state": {
            "_dom_classes": [],
            "_model_module": "@jupyter-widgets/controls",
            "_model_module_version": "1.5.0",
            "_model_name": "HTMLModel",
            "_view_count": null,
            "_view_module": "@jupyter-widgets/controls",
            "_view_module_version": "1.5.0",
            "_view_name": "HTMLView",
            "description": "",
            "description_tooltip": null,
            "layout": "IPY_MODEL_82ea4027c6824e8d82c6259104737b94",
            "placeholder": "​",
            "style": "IPY_MODEL_9ba87743410c4d1f9bc591e3049c056f",
            "value": " 3668/3668 [00:01&lt;00:00, 3007.13 examples/s]"
          }
        },
        "d986f545ac38423f8cb1eab8152f2bd3": {
          "model_module": "@jupyter-widgets/base",
          "model_name": "LayoutModel",
          "model_module_version": "1.2.0",
          "state": {
            "_model_module": "@jupyter-widgets/base",
            "_model_module_version": "1.2.0",
            "_model_name": "LayoutModel",
            "_view_count": null,
            "_view_module": "@jupyter-widgets/base",
            "_view_module_version": "1.2.0",
            "_view_name": "LayoutView",
            "align_content": null,
            "align_items": null,
            "align_self": null,
            "border": null,
            "bottom": null,
            "display": null,
            "flex": null,
            "flex_flow": null,
            "grid_area": null,
            "grid_auto_columns": null,
            "grid_auto_flow": null,
            "grid_auto_rows": null,
            "grid_column": null,
            "grid_gap": null,
            "grid_row": null,
            "grid_template_areas": null,
            "grid_template_columns": null,
            "grid_template_rows": null,
            "height": null,
            "justify_content": null,
            "justify_items": null,
            "left": null,
            "margin": null,
            "max_height": null,
            "max_width": null,
            "min_height": null,
            "min_width": null,
            "object_fit": null,
            "object_position": null,
            "order": null,
            "overflow": null,
            "overflow_x": null,
            "overflow_y": null,
            "padding": null,
            "right": null,
            "top": null,
            "visibility": null,
            "width": null
          }
        },
        "efb8a494b9ee4dca9d906b49ba9ef013": {
          "model_module": "@jupyter-widgets/base",
          "model_name": "LayoutModel",
          "model_module_version": "1.2.0",
          "state": {
            "_model_module": "@jupyter-widgets/base",
            "_model_module_version": "1.2.0",
            "_model_name": "LayoutModel",
            "_view_count": null,
            "_view_module": "@jupyter-widgets/base",
            "_view_module_version": "1.2.0",
            "_view_name": "LayoutView",
            "align_content": null,
            "align_items": null,
            "align_self": null,
            "border": null,
            "bottom": null,
            "display": null,
            "flex": null,
            "flex_flow": null,
            "grid_area": null,
            "grid_auto_columns": null,
            "grid_auto_flow": null,
            "grid_auto_rows": null,
            "grid_column": null,
            "grid_gap": null,
            "grid_row": null,
            "grid_template_areas": null,
            "grid_template_columns": null,
            "grid_template_rows": null,
            "height": null,
            "justify_content": null,
            "justify_items": null,
            "left": null,
            "margin": null,
            "max_height": null,
            "max_width": null,
            "min_height": null,
            "min_width": null,
            "object_fit": null,
            "object_position": null,
            "order": null,
            "overflow": null,
            "overflow_x": null,
            "overflow_y": null,
            "padding": null,
            "right": null,
            "top": null,
            "visibility": null,
            "width": null
          }
        },
        "45823bae72414ce99af87009a86842bc": {
          "model_module": "@jupyter-widgets/controls",
          "model_name": "DescriptionStyleModel",
          "model_module_version": "1.5.0",
          "state": {
            "_model_module": "@jupyter-widgets/controls",
            "_model_module_version": "1.5.0",
            "_model_name": "DescriptionStyleModel",
            "_view_count": null,
            "_view_module": "@jupyter-widgets/base",
            "_view_module_version": "1.2.0",
            "_view_name": "StyleView",
            "description_width": ""
          }
        },
        "bc589835c986415d881e817c0c055268": {
          "model_module": "@jupyter-widgets/base",
          "model_name": "LayoutModel",
          "model_module_version": "1.2.0",
          "state": {
            "_model_module": "@jupyter-widgets/base",
            "_model_module_version": "1.2.0",
            "_model_name": "LayoutModel",
            "_view_count": null,
            "_view_module": "@jupyter-widgets/base",
            "_view_module_version": "1.2.0",
            "_view_name": "LayoutView",
            "align_content": null,
            "align_items": null,
            "align_self": null,
            "border": null,
            "bottom": null,
            "display": null,
            "flex": null,
            "flex_flow": null,
            "grid_area": null,
            "grid_auto_columns": null,
            "grid_auto_flow": null,
            "grid_auto_rows": null,
            "grid_column": null,
            "grid_gap": null,
            "grid_row": null,
            "grid_template_areas": null,
            "grid_template_columns": null,
            "grid_template_rows": null,
            "height": null,
            "justify_content": null,
            "justify_items": null,
            "left": null,
            "margin": null,
            "max_height": null,
            "max_width": null,
            "min_height": null,
            "min_width": null,
            "object_fit": null,
            "object_position": null,
            "order": null,
            "overflow": null,
            "overflow_x": null,
            "overflow_y": null,
            "padding": null,
            "right": null,
            "top": null,
            "visibility": null,
            "width": null
          }
        },
        "9d196eb054d5413a949cd9d0337ee5ec": {
          "model_module": "@jupyter-widgets/controls",
          "model_name": "ProgressStyleModel",
          "model_module_version": "1.5.0",
          "state": {
            "_model_module": "@jupyter-widgets/controls",
            "_model_module_version": "1.5.0",
            "_model_name": "ProgressStyleModel",
            "_view_count": null,
            "_view_module": "@jupyter-widgets/base",
            "_view_module_version": "1.2.0",
            "_view_name": "StyleView",
            "bar_color": null,
            "description_width": ""
          }
        },
        "82ea4027c6824e8d82c6259104737b94": {
          "model_module": "@jupyter-widgets/base",
          "model_name": "LayoutModel",
          "model_module_version": "1.2.0",
          "state": {
            "_model_module": "@jupyter-widgets/base",
            "_model_module_version": "1.2.0",
            "_model_name": "LayoutModel",
            "_view_count": null,
            "_view_module": "@jupyter-widgets/base",
            "_view_module_version": "1.2.0",
            "_view_name": "LayoutView",
            "align_content": null,
            "align_items": null,
            "align_self": null,
            "border": null,
            "bottom": null,
            "display": null,
            "flex": null,
            "flex_flow": null,
            "grid_area": null,
            "grid_auto_columns": null,
            "grid_auto_flow": null,
            "grid_auto_rows": null,
            "grid_column": null,
            "grid_gap": null,
            "grid_row": null,
            "grid_template_areas": null,
            "grid_template_columns": null,
            "grid_template_rows": null,
            "height": null,
            "justify_content": null,
            "justify_items": null,
            "left": null,
            "margin": null,
            "max_height": null,
            "max_width": null,
            "min_height": null,
            "min_width": null,
            "object_fit": null,
            "object_position": null,
            "order": null,
            "overflow": null,
            "overflow_x": null,
            "overflow_y": null,
            "padding": null,
            "right": null,
            "top": null,
            "visibility": null,
            "width": null
          }
        },
        "9ba87743410c4d1f9bc591e3049c056f": {
          "model_module": "@jupyter-widgets/controls",
          "model_name": "DescriptionStyleModel",
          "model_module_version": "1.5.0",
          "state": {
            "_model_module": "@jupyter-widgets/controls",
            "_model_module_version": "1.5.0",
            "_model_name": "DescriptionStyleModel",
            "_view_count": null,
            "_view_module": "@jupyter-widgets/base",
            "_view_module_version": "1.2.0",
            "_view_name": "StyleView",
            "description_width": ""
          }
        },
        "fe6e7eca9b9e4334aab8cafe2a2c8a83": {
          "model_module": "@jupyter-widgets/controls",
          "model_name": "HBoxModel",
          "model_module_version": "1.5.0",
          "state": {
            "_dom_classes": [],
            "_model_module": "@jupyter-widgets/controls",
            "_model_module_version": "1.5.0",
            "_model_name": "HBoxModel",
            "_view_count": null,
            "_view_module": "@jupyter-widgets/controls",
            "_view_module_version": "1.5.0",
            "_view_name": "HBoxView",
            "box_style": "",
            "children": [
              "IPY_MODEL_50fb4c169af84d5d8947f080308d2478",
              "IPY_MODEL_3863dd6a847845be9b8a552cc53e8fcc",
              "IPY_MODEL_7bf8ca9b074841388d21c75311c112a4"
            ],
            "layout": "IPY_MODEL_ff3c5257f24f4c229c7fbcc55384a92d"
          }
        },
        "50fb4c169af84d5d8947f080308d2478": {
          "model_module": "@jupyter-widgets/controls",
          "model_name": "HTMLModel",
          "model_module_version": "1.5.0",
          "state": {
            "_dom_classes": [],
            "_model_module": "@jupyter-widgets/controls",
            "_model_module_version": "1.5.0",
            "_model_name": "HTMLModel",
            "_view_count": null,
            "_view_module": "@jupyter-widgets/controls",
            "_view_module_version": "1.5.0",
            "_view_name": "HTMLView",
            "description": "",
            "description_tooltip": null,
            "layout": "IPY_MODEL_a00b12ac96394124a4abbf7abd90979b",
            "placeholder": "​",
            "style": "IPY_MODEL_512794ff24c848b4b3a1a9e40bc3049f",
            "value": "Map: 100%"
          }
        },
        "3863dd6a847845be9b8a552cc53e8fcc": {
          "model_module": "@jupyter-widgets/controls",
          "model_name": "FloatProgressModel",
          "model_module_version": "1.5.0",
          "state": {
            "_dom_classes": [],
            "_model_module": "@jupyter-widgets/controls",
            "_model_module_version": "1.5.0",
            "_model_name": "FloatProgressModel",
            "_view_count": null,
            "_view_module": "@jupyter-widgets/controls",
            "_view_module_version": "1.5.0",
            "_view_name": "ProgressView",
            "bar_style": "success",
            "description": "",
            "description_tooltip": null,
            "layout": "IPY_MODEL_759ef0511348485cb8a7cfa3264a9b2b",
            "max": 408,
            "min": 0,
            "orientation": "horizontal",
            "style": "IPY_MODEL_4dfc051f46994aa9b74e9f0ea23f9576",
            "value": 408
          }
        },
        "7bf8ca9b074841388d21c75311c112a4": {
          "model_module": "@jupyter-widgets/controls",
          "model_name": "HTMLModel",
          "model_module_version": "1.5.0",
          "state": {
            "_dom_classes": [],
            "_model_module": "@jupyter-widgets/controls",
            "_model_module_version": "1.5.0",
            "_model_name": "HTMLModel",
            "_view_count": null,
            "_view_module": "@jupyter-widgets/controls",
            "_view_module_version": "1.5.0",
            "_view_name": "HTMLView",
            "description": "",
            "description_tooltip": null,
            "layout": "IPY_MODEL_cf04e76bf19d455d91c932cb73527a31",
            "placeholder": "​",
            "style": "IPY_MODEL_0ae4343b8e2e4c219eae23127420d6a6",
            "value": " 408/408 [00:00&lt;00:00, 1674.97 examples/s]"
          }
        },
        "ff3c5257f24f4c229c7fbcc55384a92d": {
          "model_module": "@jupyter-widgets/base",
          "model_name": "LayoutModel",
          "model_module_version": "1.2.0",
          "state": {
            "_model_module": "@jupyter-widgets/base",
            "_model_module_version": "1.2.0",
            "_model_name": "LayoutModel",
            "_view_count": null,
            "_view_module": "@jupyter-widgets/base",
            "_view_module_version": "1.2.0",
            "_view_name": "LayoutView",
            "align_content": null,
            "align_items": null,
            "align_self": null,
            "border": null,
            "bottom": null,
            "display": null,
            "flex": null,
            "flex_flow": null,
            "grid_area": null,
            "grid_auto_columns": null,
            "grid_auto_flow": null,
            "grid_auto_rows": null,
            "grid_column": null,
            "grid_gap": null,
            "grid_row": null,
            "grid_template_areas": null,
            "grid_template_columns": null,
            "grid_template_rows": null,
            "height": null,
            "justify_content": null,
            "justify_items": null,
            "left": null,
            "margin": null,
            "max_height": null,
            "max_width": null,
            "min_height": null,
            "min_width": null,
            "object_fit": null,
            "object_position": null,
            "order": null,
            "overflow": null,
            "overflow_x": null,
            "overflow_y": null,
            "padding": null,
            "right": null,
            "top": null,
            "visibility": null,
            "width": null
          }
        },
        "a00b12ac96394124a4abbf7abd90979b": {
          "model_module": "@jupyter-widgets/base",
          "model_name": "LayoutModel",
          "model_module_version": "1.2.0",
          "state": {
            "_model_module": "@jupyter-widgets/base",
            "_model_module_version": "1.2.0",
            "_model_name": "LayoutModel",
            "_view_count": null,
            "_view_module": "@jupyter-widgets/base",
            "_view_module_version": "1.2.0",
            "_view_name": "LayoutView",
            "align_content": null,
            "align_items": null,
            "align_self": null,
            "border": null,
            "bottom": null,
            "display": null,
            "flex": null,
            "flex_flow": null,
            "grid_area": null,
            "grid_auto_columns": null,
            "grid_auto_flow": null,
            "grid_auto_rows": null,
            "grid_column": null,
            "grid_gap": null,
            "grid_row": null,
            "grid_template_areas": null,
            "grid_template_columns": null,
            "grid_template_rows": null,
            "height": null,
            "justify_content": null,
            "justify_items": null,
            "left": null,
            "margin": null,
            "max_height": null,
            "max_width": null,
            "min_height": null,
            "min_width": null,
            "object_fit": null,
            "object_position": null,
            "order": null,
            "overflow": null,
            "overflow_x": null,
            "overflow_y": null,
            "padding": null,
            "right": null,
            "top": null,
            "visibility": null,
            "width": null
          }
        },
        "512794ff24c848b4b3a1a9e40bc3049f": {
          "model_module": "@jupyter-widgets/controls",
          "model_name": "DescriptionStyleModel",
          "model_module_version": "1.5.0",
          "state": {
            "_model_module": "@jupyter-widgets/controls",
            "_model_module_version": "1.5.0",
            "_model_name": "DescriptionStyleModel",
            "_view_count": null,
            "_view_module": "@jupyter-widgets/base",
            "_view_module_version": "1.2.0",
            "_view_name": "StyleView",
            "description_width": ""
          }
        },
        "759ef0511348485cb8a7cfa3264a9b2b": {
          "model_module": "@jupyter-widgets/base",
          "model_name": "LayoutModel",
          "model_module_version": "1.2.0",
          "state": {
            "_model_module": "@jupyter-widgets/base",
            "_model_module_version": "1.2.0",
            "_model_name": "LayoutModel",
            "_view_count": null,
            "_view_module": "@jupyter-widgets/base",
            "_view_module_version": "1.2.0",
            "_view_name": "LayoutView",
            "align_content": null,
            "align_items": null,
            "align_self": null,
            "border": null,
            "bottom": null,
            "display": null,
            "flex": null,
            "flex_flow": null,
            "grid_area": null,
            "grid_auto_columns": null,
            "grid_auto_flow": null,
            "grid_auto_rows": null,
            "grid_column": null,
            "grid_gap": null,
            "grid_row": null,
            "grid_template_areas": null,
            "grid_template_columns": null,
            "grid_template_rows": null,
            "height": null,
            "justify_content": null,
            "justify_items": null,
            "left": null,
            "margin": null,
            "max_height": null,
            "max_width": null,
            "min_height": null,
            "min_width": null,
            "object_fit": null,
            "object_position": null,
            "order": null,
            "overflow": null,
            "overflow_x": null,
            "overflow_y": null,
            "padding": null,
            "right": null,
            "top": null,
            "visibility": null,
            "width": null
          }
        },
        "4dfc051f46994aa9b74e9f0ea23f9576": {
          "model_module": "@jupyter-widgets/controls",
          "model_name": "ProgressStyleModel",
          "model_module_version": "1.5.0",
          "state": {
            "_model_module": "@jupyter-widgets/controls",
            "_model_module_version": "1.5.0",
            "_model_name": "ProgressStyleModel",
            "_view_count": null,
            "_view_module": "@jupyter-widgets/base",
            "_view_module_version": "1.2.0",
            "_view_name": "StyleView",
            "bar_color": null,
            "description_width": ""
          }
        },
        "cf04e76bf19d455d91c932cb73527a31": {
          "model_module": "@jupyter-widgets/base",
          "model_name": "LayoutModel",
          "model_module_version": "1.2.0",
          "state": {
            "_model_module": "@jupyter-widgets/base",
            "_model_module_version": "1.2.0",
            "_model_name": "LayoutModel",
            "_view_count": null,
            "_view_module": "@jupyter-widgets/base",
            "_view_module_version": "1.2.0",
            "_view_name": "LayoutView",
            "align_content": null,
            "align_items": null,
            "align_self": null,
            "border": null,
            "bottom": null,
            "display": null,
            "flex": null,
            "flex_flow": null,
            "grid_area": null,
            "grid_auto_columns": null,
            "grid_auto_flow": null,
            "grid_auto_rows": null,
            "grid_column": null,
            "grid_gap": null,
            "grid_row": null,
            "grid_template_areas": null,
            "grid_template_columns": null,
            "grid_template_rows": null,
            "height": null,
            "justify_content": null,
            "justify_items": null,
            "left": null,
            "margin": null,
            "max_height": null,
            "max_width": null,
            "min_height": null,
            "min_width": null,
            "object_fit": null,
            "object_position": null,
            "order": null,
            "overflow": null,
            "overflow_x": null,
            "overflow_y": null,
            "padding": null,
            "right": null,
            "top": null,
            "visibility": null,
            "width": null
          }
        },
        "0ae4343b8e2e4c219eae23127420d6a6": {
          "model_module": "@jupyter-widgets/controls",
          "model_name": "DescriptionStyleModel",
          "model_module_version": "1.5.0",
          "state": {
            "_model_module": "@jupyter-widgets/controls",
            "_model_module_version": "1.5.0",
            "_model_name": "DescriptionStyleModel",
            "_view_count": null,
            "_view_module": "@jupyter-widgets/base",
            "_view_module_version": "1.2.0",
            "_view_name": "StyleView",
            "description_width": ""
          }
        },
        "b232b86b03e041e29c49a9cb5631209f": {
          "model_module": "@jupyter-widgets/controls",
          "model_name": "HBoxModel",
          "model_module_version": "1.5.0",
          "state": {
            "_dom_classes": [],
            "_model_module": "@jupyter-widgets/controls",
            "_model_module_version": "1.5.0",
            "_model_name": "HBoxModel",
            "_view_count": null,
            "_view_module": "@jupyter-widgets/controls",
            "_view_module_version": "1.5.0",
            "_view_name": "HBoxView",
            "box_style": "",
            "children": [
              "IPY_MODEL_349e222fb012471ebefe9ada74d49620",
              "IPY_MODEL_ffb86a11856f4a50894e6034366c8e06",
              "IPY_MODEL_f59010171eeb4efaab30bbcecf81b19f"
            ],
            "layout": "IPY_MODEL_a0a5ee5c317848a99b8bc456434380f5"
          }
        },
        "349e222fb012471ebefe9ada74d49620": {
          "model_module": "@jupyter-widgets/controls",
          "model_name": "HTMLModel",
          "model_module_version": "1.5.0",
          "state": {
            "_dom_classes": [],
            "_model_module": "@jupyter-widgets/controls",
            "_model_module_version": "1.5.0",
            "_model_name": "HTMLModel",
            "_view_count": null,
            "_view_module": "@jupyter-widgets/controls",
            "_view_module_version": "1.5.0",
            "_view_name": "HTMLView",
            "description": "",
            "description_tooltip": null,
            "layout": "IPY_MODEL_d015cc656d424a719c52360a08604320",
            "placeholder": "​",
            "style": "IPY_MODEL_f7d9728da4754e2eaaf2f77cbe11836b",
            "value": "Map: 100%"
          }
        },
        "ffb86a11856f4a50894e6034366c8e06": {
          "model_module": "@jupyter-widgets/controls",
          "model_name": "FloatProgressModel",
          "model_module_version": "1.5.0",
          "state": {
            "_dom_classes": [],
            "_model_module": "@jupyter-widgets/controls",
            "_model_module_version": "1.5.0",
            "_model_name": "FloatProgressModel",
            "_view_count": null,
            "_view_module": "@jupyter-widgets/controls",
            "_view_module_version": "1.5.0",
            "_view_name": "ProgressView",
            "bar_style": "success",
            "description": "",
            "description_tooltip": null,
            "layout": "IPY_MODEL_1214cda97d9b4efab31ccf267965b07c",
            "max": 1725,
            "min": 0,
            "orientation": "horizontal",
            "style": "IPY_MODEL_417b00f1c3a04ddc9069a3db24d39f95",
            "value": 1725
          }
        },
        "f59010171eeb4efaab30bbcecf81b19f": {
          "model_module": "@jupyter-widgets/controls",
          "model_name": "HTMLModel",
          "model_module_version": "1.5.0",
          "state": {
            "_dom_classes": [],
            "_model_module": "@jupyter-widgets/controls",
            "_model_module_version": "1.5.0",
            "_model_name": "HTMLModel",
            "_view_count": null,
            "_view_module": "@jupyter-widgets/controls",
            "_view_module_version": "1.5.0",
            "_view_name": "HTMLView",
            "description": "",
            "description_tooltip": null,
            "layout": "IPY_MODEL_70a5273f498643f886057450f979032b",
            "placeholder": "​",
            "style": "IPY_MODEL_99c41c6023264c77861a8667b2a1dae8",
            "value": " 1725/1725 [00:00&lt;00:00, 1884.86 examples/s]"
          }
        },
        "a0a5ee5c317848a99b8bc456434380f5": {
          "model_module": "@jupyter-widgets/base",
          "model_name": "LayoutModel",
          "model_module_version": "1.2.0",
          "state": {
            "_model_module": "@jupyter-widgets/base",
            "_model_module_version": "1.2.0",
            "_model_name": "LayoutModel",
            "_view_count": null,
            "_view_module": "@jupyter-widgets/base",
            "_view_module_version": "1.2.0",
            "_view_name": "LayoutView",
            "align_content": null,
            "align_items": null,
            "align_self": null,
            "border": null,
            "bottom": null,
            "display": null,
            "flex": null,
            "flex_flow": null,
            "grid_area": null,
            "grid_auto_columns": null,
            "grid_auto_flow": null,
            "grid_auto_rows": null,
            "grid_column": null,
            "grid_gap": null,
            "grid_row": null,
            "grid_template_areas": null,
            "grid_template_columns": null,
            "grid_template_rows": null,
            "height": null,
            "justify_content": null,
            "justify_items": null,
            "left": null,
            "margin": null,
            "max_height": null,
            "max_width": null,
            "min_height": null,
            "min_width": null,
            "object_fit": null,
            "object_position": null,
            "order": null,
            "overflow": null,
            "overflow_x": null,
            "overflow_y": null,
            "padding": null,
            "right": null,
            "top": null,
            "visibility": null,
            "width": null
          }
        },
        "d015cc656d424a719c52360a08604320": {
          "model_module": "@jupyter-widgets/base",
          "model_name": "LayoutModel",
          "model_module_version": "1.2.0",
          "state": {
            "_model_module": "@jupyter-widgets/base",
            "_model_module_version": "1.2.0",
            "_model_name": "LayoutModel",
            "_view_count": null,
            "_view_module": "@jupyter-widgets/base",
            "_view_module_version": "1.2.0",
            "_view_name": "LayoutView",
            "align_content": null,
            "align_items": null,
            "align_self": null,
            "border": null,
            "bottom": null,
            "display": null,
            "flex": null,
            "flex_flow": null,
            "grid_area": null,
            "grid_auto_columns": null,
            "grid_auto_flow": null,
            "grid_auto_rows": null,
            "grid_column": null,
            "grid_gap": null,
            "grid_row": null,
            "grid_template_areas": null,
            "grid_template_columns": null,
            "grid_template_rows": null,
            "height": null,
            "justify_content": null,
            "justify_items": null,
            "left": null,
            "margin": null,
            "max_height": null,
            "max_width": null,
            "min_height": null,
            "min_width": null,
            "object_fit": null,
            "object_position": null,
            "order": null,
            "overflow": null,
            "overflow_x": null,
            "overflow_y": null,
            "padding": null,
            "right": null,
            "top": null,
            "visibility": null,
            "width": null
          }
        },
        "f7d9728da4754e2eaaf2f77cbe11836b": {
          "model_module": "@jupyter-widgets/controls",
          "model_name": "DescriptionStyleModel",
          "model_module_version": "1.5.0",
          "state": {
            "_model_module": "@jupyter-widgets/controls",
            "_model_module_version": "1.5.0",
            "_model_name": "DescriptionStyleModel",
            "_view_count": null,
            "_view_module": "@jupyter-widgets/base",
            "_view_module_version": "1.2.0",
            "_view_name": "StyleView",
            "description_width": ""
          }
        },
        "1214cda97d9b4efab31ccf267965b07c": {
          "model_module": "@jupyter-widgets/base",
          "model_name": "LayoutModel",
          "model_module_version": "1.2.0",
          "state": {
            "_model_module": "@jupyter-widgets/base",
            "_model_module_version": "1.2.0",
            "_model_name": "LayoutModel",
            "_view_count": null,
            "_view_module": "@jupyter-widgets/base",
            "_view_module_version": "1.2.0",
            "_view_name": "LayoutView",
            "align_content": null,
            "align_items": null,
            "align_self": null,
            "border": null,
            "bottom": null,
            "display": null,
            "flex": null,
            "flex_flow": null,
            "grid_area": null,
            "grid_auto_columns": null,
            "grid_auto_flow": null,
            "grid_auto_rows": null,
            "grid_column": null,
            "grid_gap": null,
            "grid_row": null,
            "grid_template_areas": null,
            "grid_template_columns": null,
            "grid_template_rows": null,
            "height": null,
            "justify_content": null,
            "justify_items": null,
            "left": null,
            "margin": null,
            "max_height": null,
            "max_width": null,
            "min_height": null,
            "min_width": null,
            "object_fit": null,
            "object_position": null,
            "order": null,
            "overflow": null,
            "overflow_x": null,
            "overflow_y": null,
            "padding": null,
            "right": null,
            "top": null,
            "visibility": null,
            "width": null
          }
        },
        "417b00f1c3a04ddc9069a3db24d39f95": {
          "model_module": "@jupyter-widgets/controls",
          "model_name": "ProgressStyleModel",
          "model_module_version": "1.5.0",
          "state": {
            "_model_module": "@jupyter-widgets/controls",
            "_model_module_version": "1.5.0",
            "_model_name": "ProgressStyleModel",
            "_view_count": null,
            "_view_module": "@jupyter-widgets/base",
            "_view_module_version": "1.2.0",
            "_view_name": "StyleView",
            "bar_color": null,
            "description_width": ""
          }
        },
        "70a5273f498643f886057450f979032b": {
          "model_module": "@jupyter-widgets/base",
          "model_name": "LayoutModel",
          "model_module_version": "1.2.0",
          "state": {
            "_model_module": "@jupyter-widgets/base",
            "_model_module_version": "1.2.0",
            "_model_name": "LayoutModel",
            "_view_count": null,
            "_view_module": "@jupyter-widgets/base",
            "_view_module_version": "1.2.0",
            "_view_name": "LayoutView",
            "align_content": null,
            "align_items": null,
            "align_self": null,
            "border": null,
            "bottom": null,
            "display": null,
            "flex": null,
            "flex_flow": null,
            "grid_area": null,
            "grid_auto_columns": null,
            "grid_auto_flow": null,
            "grid_auto_rows": null,
            "grid_column": null,
            "grid_gap": null,
            "grid_row": null,
            "grid_template_areas": null,
            "grid_template_columns": null,
            "grid_template_rows": null,
            "height": null,
            "justify_content": null,
            "justify_items": null,
            "left": null,
            "margin": null,
            "max_height": null,
            "max_width": null,
            "min_height": null,
            "min_width": null,
            "object_fit": null,
            "object_position": null,
            "order": null,
            "overflow": null,
            "overflow_x": null,
            "overflow_y": null,
            "padding": null,
            "right": null,
            "top": null,
            "visibility": null,
            "width": null
          }
        },
        "99c41c6023264c77861a8667b2a1dae8": {
          "model_module": "@jupyter-widgets/controls",
          "model_name": "DescriptionStyleModel",
          "model_module_version": "1.5.0",
          "state": {
            "_model_module": "@jupyter-widgets/controls",
            "_model_module_version": "1.5.0",
            "_model_name": "DescriptionStyleModel",
            "_view_count": null,
            "_view_module": "@jupyter-widgets/base",
            "_view_module_version": "1.2.0",
            "_view_name": "StyleView",
            "description_width": ""
          }
        },
        "59c15bf75e84488c9fe2f6ad0838b332": {
          "model_module": "@jupyter-widgets/controls",
          "model_name": "HBoxModel",
          "model_module_version": "1.5.0",
          "state": {
            "_dom_classes": [],
            "_model_module": "@jupyter-widgets/controls",
            "_model_module_version": "1.5.0",
            "_model_name": "HBoxModel",
            "_view_count": null,
            "_view_module": "@jupyter-widgets/controls",
            "_view_module_version": "1.5.0",
            "_view_name": "HBoxView",
            "box_style": "",
            "children": [
              "IPY_MODEL_15b61426362a433c8577591895ee14ec",
              "IPY_MODEL_c84b39e044ab47139224eccb4aa2522d",
              "IPY_MODEL_82d2f66040104d09a0269c884b91f04d"
            ],
            "layout": "IPY_MODEL_a8b8599bdfab473ab1bdec67ade635c9"
          }
        },
        "15b61426362a433c8577591895ee14ec": {
          "model_module": "@jupyter-widgets/controls",
          "model_name": "HTMLModel",
          "model_module_version": "1.5.0",
          "state": {
            "_dom_classes": [],
            "_model_module": "@jupyter-widgets/controls",
            "_model_module_version": "1.5.0",
            "_model_name": "HTMLModel",
            "_view_count": null,
            "_view_module": "@jupyter-widgets/controls",
            "_view_module_version": "1.5.0",
            "_view_name": "HTMLView",
            "description": "",
            "description_tooltip": null,
            "layout": "IPY_MODEL_6a036d7155334fcda53e50d2e54d403a",
            "placeholder": "​",
            "style": "IPY_MODEL_11c62a1fd32c42f0b95ea76f06d3b6fb",
            "value": "model.safetensors: 100%"
          }
        },
        "c84b39e044ab47139224eccb4aa2522d": {
          "model_module": "@jupyter-widgets/controls",
          "model_name": "FloatProgressModel",
          "model_module_version": "1.5.0",
          "state": {
            "_dom_classes": [],
            "_model_module": "@jupyter-widgets/controls",
            "_model_module_version": "1.5.0",
            "_model_name": "FloatProgressModel",
            "_view_count": null,
            "_view_module": "@jupyter-widgets/controls",
            "_view_module_version": "1.5.0",
            "_view_name": "ProgressView",
            "bar_style": "success",
            "description": "",
            "description_tooltip": null,
            "layout": "IPY_MODEL_f39a6a47224345c38865311ce8384e6d",
            "max": 440449768,
            "min": 0,
            "orientation": "horizontal",
            "style": "IPY_MODEL_0af18ff84db74d5db71e000693162ed2",
            "value": 440449768
          }
        },
        "82d2f66040104d09a0269c884b91f04d": {
          "model_module": "@jupyter-widgets/controls",
          "model_name": "HTMLModel",
          "model_module_version": "1.5.0",
          "state": {
            "_dom_classes": [],
            "_model_module": "@jupyter-widgets/controls",
            "_model_module_version": "1.5.0",
            "_model_name": "HTMLModel",
            "_view_count": null,
            "_view_module": "@jupyter-widgets/controls",
            "_view_module_version": "1.5.0",
            "_view_name": "HTMLView",
            "description": "",
            "description_tooltip": null,
            "layout": "IPY_MODEL_dc9612d56b4049a497d656ee6c62898e",
            "placeholder": "​",
            "style": "IPY_MODEL_da67ccb8a21b435ab430247b5f023d66",
            "value": " 440M/440M [00:03&lt;00:00, 75.1MB/s]"
          }
        },
        "a8b8599bdfab473ab1bdec67ade635c9": {
          "model_module": "@jupyter-widgets/base",
          "model_name": "LayoutModel",
          "model_module_version": "1.2.0",
          "state": {
            "_model_module": "@jupyter-widgets/base",
            "_model_module_version": "1.2.0",
            "_model_name": "LayoutModel",
            "_view_count": null,
            "_view_module": "@jupyter-widgets/base",
            "_view_module_version": "1.2.0",
            "_view_name": "LayoutView",
            "align_content": null,
            "align_items": null,
            "align_self": null,
            "border": null,
            "bottom": null,
            "display": null,
            "flex": null,
            "flex_flow": null,
            "grid_area": null,
            "grid_auto_columns": null,
            "grid_auto_flow": null,
            "grid_auto_rows": null,
            "grid_column": null,
            "grid_gap": null,
            "grid_row": null,
            "grid_template_areas": null,
            "grid_template_columns": null,
            "grid_template_rows": null,
            "height": null,
            "justify_content": null,
            "justify_items": null,
            "left": null,
            "margin": null,
            "max_height": null,
            "max_width": null,
            "min_height": null,
            "min_width": null,
            "object_fit": null,
            "object_position": null,
            "order": null,
            "overflow": null,
            "overflow_x": null,
            "overflow_y": null,
            "padding": null,
            "right": null,
            "top": null,
            "visibility": null,
            "width": null
          }
        },
        "6a036d7155334fcda53e50d2e54d403a": {
          "model_module": "@jupyter-widgets/base",
          "model_name": "LayoutModel",
          "model_module_version": "1.2.0",
          "state": {
            "_model_module": "@jupyter-widgets/base",
            "_model_module_version": "1.2.0",
            "_model_name": "LayoutModel",
            "_view_count": null,
            "_view_module": "@jupyter-widgets/base",
            "_view_module_version": "1.2.0",
            "_view_name": "LayoutView",
            "align_content": null,
            "align_items": null,
            "align_self": null,
            "border": null,
            "bottom": null,
            "display": null,
            "flex": null,
            "flex_flow": null,
            "grid_area": null,
            "grid_auto_columns": null,
            "grid_auto_flow": null,
            "grid_auto_rows": null,
            "grid_column": null,
            "grid_gap": null,
            "grid_row": null,
            "grid_template_areas": null,
            "grid_template_columns": null,
            "grid_template_rows": null,
            "height": null,
            "justify_content": null,
            "justify_items": null,
            "left": null,
            "margin": null,
            "max_height": null,
            "max_width": null,
            "min_height": null,
            "min_width": null,
            "object_fit": null,
            "object_position": null,
            "order": null,
            "overflow": null,
            "overflow_x": null,
            "overflow_y": null,
            "padding": null,
            "right": null,
            "top": null,
            "visibility": null,
            "width": null
          }
        },
        "11c62a1fd32c42f0b95ea76f06d3b6fb": {
          "model_module": "@jupyter-widgets/controls",
          "model_name": "DescriptionStyleModel",
          "model_module_version": "1.5.0",
          "state": {
            "_model_module": "@jupyter-widgets/controls",
            "_model_module_version": "1.5.0",
            "_model_name": "DescriptionStyleModel",
            "_view_count": null,
            "_view_module": "@jupyter-widgets/base",
            "_view_module_version": "1.2.0",
            "_view_name": "StyleView",
            "description_width": ""
          }
        },
        "f39a6a47224345c38865311ce8384e6d": {
          "model_module": "@jupyter-widgets/base",
          "model_name": "LayoutModel",
          "model_module_version": "1.2.0",
          "state": {
            "_model_module": "@jupyter-widgets/base",
            "_model_module_version": "1.2.0",
            "_model_name": "LayoutModel",
            "_view_count": null,
            "_view_module": "@jupyter-widgets/base",
            "_view_module_version": "1.2.0",
            "_view_name": "LayoutView",
            "align_content": null,
            "align_items": null,
            "align_self": null,
            "border": null,
            "bottom": null,
            "display": null,
            "flex": null,
            "flex_flow": null,
            "grid_area": null,
            "grid_auto_columns": null,
            "grid_auto_flow": null,
            "grid_auto_rows": null,
            "grid_column": null,
            "grid_gap": null,
            "grid_row": null,
            "grid_template_areas": null,
            "grid_template_columns": null,
            "grid_template_rows": null,
            "height": null,
            "justify_content": null,
            "justify_items": null,
            "left": null,
            "margin": null,
            "max_height": null,
            "max_width": null,
            "min_height": null,
            "min_width": null,
            "object_fit": null,
            "object_position": null,
            "order": null,
            "overflow": null,
            "overflow_x": null,
            "overflow_y": null,
            "padding": null,
            "right": null,
            "top": null,
            "visibility": null,
            "width": null
          }
        },
        "0af18ff84db74d5db71e000693162ed2": {
          "model_module": "@jupyter-widgets/controls",
          "model_name": "ProgressStyleModel",
          "model_module_version": "1.5.0",
          "state": {
            "_model_module": "@jupyter-widgets/controls",
            "_model_module_version": "1.5.0",
            "_model_name": "ProgressStyleModel",
            "_view_count": null,
            "_view_module": "@jupyter-widgets/base",
            "_view_module_version": "1.2.0",
            "_view_name": "StyleView",
            "bar_color": null,
            "description_width": ""
          }
        },
        "dc9612d56b4049a497d656ee6c62898e": {
          "model_module": "@jupyter-widgets/base",
          "model_name": "LayoutModel",
          "model_module_version": "1.2.0",
          "state": {
            "_model_module": "@jupyter-widgets/base",
            "_model_module_version": "1.2.0",
            "_model_name": "LayoutModel",
            "_view_count": null,
            "_view_module": "@jupyter-widgets/base",
            "_view_module_version": "1.2.0",
            "_view_name": "LayoutView",
            "align_content": null,
            "align_items": null,
            "align_self": null,
            "border": null,
            "bottom": null,
            "display": null,
            "flex": null,
            "flex_flow": null,
            "grid_area": null,
            "grid_auto_columns": null,
            "grid_auto_flow": null,
            "grid_auto_rows": null,
            "grid_column": null,
            "grid_gap": null,
            "grid_row": null,
            "grid_template_areas": null,
            "grid_template_columns": null,
            "grid_template_rows": null,
            "height": null,
            "justify_content": null,
            "justify_items": null,
            "left": null,
            "margin": null,
            "max_height": null,
            "max_width": null,
            "min_height": null,
            "min_width": null,
            "object_fit": null,
            "object_position": null,
            "order": null,
            "overflow": null,
            "overflow_x": null,
            "overflow_y": null,
            "padding": null,
            "right": null,
            "top": null,
            "visibility": null,
            "width": null
          }
        },
        "da67ccb8a21b435ab430247b5f023d66": {
          "model_module": "@jupyter-widgets/controls",
          "model_name": "DescriptionStyleModel",
          "model_module_version": "1.5.0",
          "state": {
            "_model_module": "@jupyter-widgets/controls",
            "_model_module_version": "1.5.0",
            "_model_name": "DescriptionStyleModel",
            "_view_count": null,
            "_view_module": "@jupyter-widgets/base",
            "_view_module_version": "1.2.0",
            "_view_name": "StyleView",
            "description_width": ""
          }
        },
        "f1321feb8e3b4163b70df4f81307a8c1": {
          "model_module": "@jupyter-widgets/controls",
          "model_name": "HBoxModel",
          "model_module_version": "1.5.0",
          "state": {
            "_dom_classes": [],
            "_model_module": "@jupyter-widgets/controls",
            "_model_module_version": "1.5.0",
            "_model_name": "HBoxModel",
            "_view_count": null,
            "_view_module": "@jupyter-widgets/controls",
            "_view_module_version": "1.5.0",
            "_view_name": "HBoxView",
            "box_style": "",
            "children": [
              "IPY_MODEL_2b9500c50f8d4782a047934d7a468b56",
              "IPY_MODEL_00e956acfb5647088e9843cb2addc9e5",
              "IPY_MODEL_c2a8c61892414f43a57c080bf3a3429c"
            ],
            "layout": "IPY_MODEL_7c9ff609f4754d8191241d0f979a8093"
          }
        },
        "2b9500c50f8d4782a047934d7a468b56": {
          "model_module": "@jupyter-widgets/controls",
          "model_name": "HTMLModel",
          "model_module_version": "1.5.0",
          "state": {
            "_dom_classes": [],
            "_model_module": "@jupyter-widgets/controls",
            "_model_module_version": "1.5.0",
            "_model_name": "HTMLModel",
            "_view_count": null,
            "_view_module": "@jupyter-widgets/controls",
            "_view_module_version": "1.5.0",
            "_view_name": "HTMLView",
            "description": "",
            "description_tooltip": null,
            "layout": "IPY_MODEL_6cbd87da2d2641d39f584441280a0da8",
            "placeholder": "​",
            "style": "IPY_MODEL_302282ceebf44605991730f9d6355585",
            "value": "Downloading builder script: 100%"
          }
        },
        "00e956acfb5647088e9843cb2addc9e5": {
          "model_module": "@jupyter-widgets/controls",
          "model_name": "FloatProgressModel",
          "model_module_version": "1.5.0",
          "state": {
            "_dom_classes": [],
            "_model_module": "@jupyter-widgets/controls",
            "_model_module_version": "1.5.0",
            "_model_name": "FloatProgressModel",
            "_view_count": null,
            "_view_module": "@jupyter-widgets/controls",
            "_view_module_version": "1.5.0",
            "_view_name": "ProgressView",
            "bar_style": "success",
            "description": "",
            "description_tooltip": null,
            "layout": "IPY_MODEL_ba88754a40e443a3a2a114c3141030b6",
            "max": 5749,
            "min": 0,
            "orientation": "horizontal",
            "style": "IPY_MODEL_0cf96b83ec154117912dca170f17be03",
            "value": 5749
          }
        },
        "c2a8c61892414f43a57c080bf3a3429c": {
          "model_module": "@jupyter-widgets/controls",
          "model_name": "HTMLModel",
          "model_module_version": "1.5.0",
          "state": {
            "_dom_classes": [],
            "_model_module": "@jupyter-widgets/controls",
            "_model_module_version": "1.5.0",
            "_model_name": "HTMLModel",
            "_view_count": null,
            "_view_module": "@jupyter-widgets/controls",
            "_view_module_version": "1.5.0",
            "_view_name": "HTMLView",
            "description": "",
            "description_tooltip": null,
            "layout": "IPY_MODEL_2385104f37f24053a3337b8d0f4a2f1e",
            "placeholder": "​",
            "style": "IPY_MODEL_1fe7fa917ae14de196abd403e73f6010",
            "value": " 5.75k/5.75k [00:00&lt;00:00, 166kB/s]"
          }
        },
        "7c9ff609f4754d8191241d0f979a8093": {
          "model_module": "@jupyter-widgets/base",
          "model_name": "LayoutModel",
          "model_module_version": "1.2.0",
          "state": {
            "_model_module": "@jupyter-widgets/base",
            "_model_module_version": "1.2.0",
            "_model_name": "LayoutModel",
            "_view_count": null,
            "_view_module": "@jupyter-widgets/base",
            "_view_module_version": "1.2.0",
            "_view_name": "LayoutView",
            "align_content": null,
            "align_items": null,
            "align_self": null,
            "border": null,
            "bottom": null,
            "display": null,
            "flex": null,
            "flex_flow": null,
            "grid_area": null,
            "grid_auto_columns": null,
            "grid_auto_flow": null,
            "grid_auto_rows": null,
            "grid_column": null,
            "grid_gap": null,
            "grid_row": null,
            "grid_template_areas": null,
            "grid_template_columns": null,
            "grid_template_rows": null,
            "height": null,
            "justify_content": null,
            "justify_items": null,
            "left": null,
            "margin": null,
            "max_height": null,
            "max_width": null,
            "min_height": null,
            "min_width": null,
            "object_fit": null,
            "object_position": null,
            "order": null,
            "overflow": null,
            "overflow_x": null,
            "overflow_y": null,
            "padding": null,
            "right": null,
            "top": null,
            "visibility": null,
            "width": null
          }
        },
        "6cbd87da2d2641d39f584441280a0da8": {
          "model_module": "@jupyter-widgets/base",
          "model_name": "LayoutModel",
          "model_module_version": "1.2.0",
          "state": {
            "_model_module": "@jupyter-widgets/base",
            "_model_module_version": "1.2.0",
            "_model_name": "LayoutModel",
            "_view_count": null,
            "_view_module": "@jupyter-widgets/base",
            "_view_module_version": "1.2.0",
            "_view_name": "LayoutView",
            "align_content": null,
            "align_items": null,
            "align_self": null,
            "border": null,
            "bottom": null,
            "display": null,
            "flex": null,
            "flex_flow": null,
            "grid_area": null,
            "grid_auto_columns": null,
            "grid_auto_flow": null,
            "grid_auto_rows": null,
            "grid_column": null,
            "grid_gap": null,
            "grid_row": null,
            "grid_template_areas": null,
            "grid_template_columns": null,
            "grid_template_rows": null,
            "height": null,
            "justify_content": null,
            "justify_items": null,
            "left": null,
            "margin": null,
            "max_height": null,
            "max_width": null,
            "min_height": null,
            "min_width": null,
            "object_fit": null,
            "object_position": null,
            "order": null,
            "overflow": null,
            "overflow_x": null,
            "overflow_y": null,
            "padding": null,
            "right": null,
            "top": null,
            "visibility": null,
            "width": null
          }
        },
        "302282ceebf44605991730f9d6355585": {
          "model_module": "@jupyter-widgets/controls",
          "model_name": "DescriptionStyleModel",
          "model_module_version": "1.5.0",
          "state": {
            "_model_module": "@jupyter-widgets/controls",
            "_model_module_version": "1.5.0",
            "_model_name": "DescriptionStyleModel",
            "_view_count": null,
            "_view_module": "@jupyter-widgets/base",
            "_view_module_version": "1.2.0",
            "_view_name": "StyleView",
            "description_width": ""
          }
        },
        "ba88754a40e443a3a2a114c3141030b6": {
          "model_module": "@jupyter-widgets/base",
          "model_name": "LayoutModel",
          "model_module_version": "1.2.0",
          "state": {
            "_model_module": "@jupyter-widgets/base",
            "_model_module_version": "1.2.0",
            "_model_name": "LayoutModel",
            "_view_count": null,
            "_view_module": "@jupyter-widgets/base",
            "_view_module_version": "1.2.0",
            "_view_name": "LayoutView",
            "align_content": null,
            "align_items": null,
            "align_self": null,
            "border": null,
            "bottom": null,
            "display": null,
            "flex": null,
            "flex_flow": null,
            "grid_area": null,
            "grid_auto_columns": null,
            "grid_auto_flow": null,
            "grid_auto_rows": null,
            "grid_column": null,
            "grid_gap": null,
            "grid_row": null,
            "grid_template_areas": null,
            "grid_template_columns": null,
            "grid_template_rows": null,
            "height": null,
            "justify_content": null,
            "justify_items": null,
            "left": null,
            "margin": null,
            "max_height": null,
            "max_width": null,
            "min_height": null,
            "min_width": null,
            "object_fit": null,
            "object_position": null,
            "order": null,
            "overflow": null,
            "overflow_x": null,
            "overflow_y": null,
            "padding": null,
            "right": null,
            "top": null,
            "visibility": null,
            "width": null
          }
        },
        "0cf96b83ec154117912dca170f17be03": {
          "model_module": "@jupyter-widgets/controls",
          "model_name": "ProgressStyleModel",
          "model_module_version": "1.5.0",
          "state": {
            "_model_module": "@jupyter-widgets/controls",
            "_model_module_version": "1.5.0",
            "_model_name": "ProgressStyleModel",
            "_view_count": null,
            "_view_module": "@jupyter-widgets/base",
            "_view_module_version": "1.2.0",
            "_view_name": "StyleView",
            "bar_color": null,
            "description_width": ""
          }
        },
        "2385104f37f24053a3337b8d0f4a2f1e": {
          "model_module": "@jupyter-widgets/base",
          "model_name": "LayoutModel",
          "model_module_version": "1.2.0",
          "state": {
            "_model_module": "@jupyter-widgets/base",
            "_model_module_version": "1.2.0",
            "_model_name": "LayoutModel",
            "_view_count": null,
            "_view_module": "@jupyter-widgets/base",
            "_view_module_version": "1.2.0",
            "_view_name": "LayoutView",
            "align_content": null,
            "align_items": null,
            "align_self": null,
            "border": null,
            "bottom": null,
            "display": null,
            "flex": null,
            "flex_flow": null,
            "grid_area": null,
            "grid_auto_columns": null,
            "grid_auto_flow": null,
            "grid_auto_rows": null,
            "grid_column": null,
            "grid_gap": null,
            "grid_row": null,
            "grid_template_areas": null,
            "grid_template_columns": null,
            "grid_template_rows": null,
            "height": null,
            "justify_content": null,
            "justify_items": null,
            "left": null,
            "margin": null,
            "max_height": null,
            "max_width": null,
            "min_height": null,
            "min_width": null,
            "object_fit": null,
            "object_position": null,
            "order": null,
            "overflow": null,
            "overflow_x": null,
            "overflow_y": null,
            "padding": null,
            "right": null,
            "top": null,
            "visibility": null,
            "width": null
          }
        },
        "1fe7fa917ae14de196abd403e73f6010": {
          "model_module": "@jupyter-widgets/controls",
          "model_name": "DescriptionStyleModel",
          "model_module_version": "1.5.0",
          "state": {
            "_model_module": "@jupyter-widgets/controls",
            "_model_module_version": "1.5.0",
            "_model_name": "DescriptionStyleModel",
            "_view_count": null,
            "_view_module": "@jupyter-widgets/base",
            "_view_module_version": "1.2.0",
            "_view_name": "StyleView",
            "description_width": ""
          }
        },
        "70d15e53a81d4a03b6c3a7d6d50951fa": {
          "model_module": "@jupyter-widgets/controls",
          "model_name": "HBoxModel",
          "model_module_version": "1.5.0",
          "state": {
            "_dom_classes": [],
            "_model_module": "@jupyter-widgets/controls",
            "_model_module_version": "1.5.0",
            "_model_name": "HBoxModel",
            "_view_count": null,
            "_view_module": "@jupyter-widgets/controls",
            "_view_module_version": "1.5.0",
            "_view_name": "HBoxView",
            "box_style": "",
            "children": [
              "IPY_MODEL_ec930b267a57480d9df26a73dda2d564",
              "IPY_MODEL_6569b5fdadb04dae93da365b3b9f1aa4",
              "IPY_MODEL_ca46f9bf39e84d2ba64330013cc5c57a"
            ],
            "layout": "IPY_MODEL_5253191abb3145a1bb1f854249b33afd"
          }
        },
        "ec930b267a57480d9df26a73dda2d564": {
          "model_module": "@jupyter-widgets/controls",
          "model_name": "HTMLModel",
          "model_module_version": "1.5.0",
          "state": {
            "_dom_classes": [],
            "_model_module": "@jupyter-widgets/controls",
            "_model_module_version": "1.5.0",
            "_model_name": "HTMLModel",
            "_view_count": null,
            "_view_module": "@jupyter-widgets/controls",
            "_view_module_version": "1.5.0",
            "_view_name": "HTMLView",
            "description": "",
            "description_tooltip": null,
            "layout": "IPY_MODEL_d2a9e19d804e481c94a9b99cf0da290b",
            "placeholder": "​",
            "style": "IPY_MODEL_6f83b7d64e4b4b289323d9395c350384",
            "value": "Map: 100%"
          }
        },
        "6569b5fdadb04dae93da365b3b9f1aa4": {
          "model_module": "@jupyter-widgets/controls",
          "model_name": "FloatProgressModel",
          "model_module_version": "1.5.0",
          "state": {
            "_dom_classes": [],
            "_model_module": "@jupyter-widgets/controls",
            "_model_module_version": "1.5.0",
            "_model_name": "FloatProgressModel",
            "_view_count": null,
            "_view_module": "@jupyter-widgets/controls",
            "_view_module_version": "1.5.0",
            "_view_name": "ProgressView",
            "bar_style": "success",
            "description": "",
            "description_tooltip": null,
            "layout": "IPY_MODEL_32aa308f93bb4613ae91da46ee9d1fb5",
            "max": 3668,
            "min": 0,
            "orientation": "horizontal",
            "style": "IPY_MODEL_30fceba3dfec45d693fe42a72f482525",
            "value": 3668
          }
        },
        "ca46f9bf39e84d2ba64330013cc5c57a": {
          "model_module": "@jupyter-widgets/controls",
          "model_name": "HTMLModel",
          "model_module_version": "1.5.0",
          "state": {
            "_dom_classes": [],
            "_model_module": "@jupyter-widgets/controls",
            "_model_module_version": "1.5.0",
            "_model_name": "HTMLModel",
            "_view_count": null,
            "_view_module": "@jupyter-widgets/controls",
            "_view_module_version": "1.5.0",
            "_view_name": "HTMLView",
            "description": "",
            "description_tooltip": null,
            "layout": "IPY_MODEL_88ce58c6a7664190a03bc5fde625afea",
            "placeholder": "​",
            "style": "IPY_MODEL_c954c66efc844fcda0acff691a27ad35",
            "value": " 3668/3668 [00:00&lt;00:00, 5129.51 examples/s]"
          }
        },
        "5253191abb3145a1bb1f854249b33afd": {
          "model_module": "@jupyter-widgets/base",
          "model_name": "LayoutModel",
          "model_module_version": "1.2.0",
          "state": {
            "_model_module": "@jupyter-widgets/base",
            "_model_module_version": "1.2.0",
            "_model_name": "LayoutModel",
            "_view_count": null,
            "_view_module": "@jupyter-widgets/base",
            "_view_module_version": "1.2.0",
            "_view_name": "LayoutView",
            "align_content": null,
            "align_items": null,
            "align_self": null,
            "border": null,
            "bottom": null,
            "display": null,
            "flex": null,
            "flex_flow": null,
            "grid_area": null,
            "grid_auto_columns": null,
            "grid_auto_flow": null,
            "grid_auto_rows": null,
            "grid_column": null,
            "grid_gap": null,
            "grid_row": null,
            "grid_template_areas": null,
            "grid_template_columns": null,
            "grid_template_rows": null,
            "height": null,
            "justify_content": null,
            "justify_items": null,
            "left": null,
            "margin": null,
            "max_height": null,
            "max_width": null,
            "min_height": null,
            "min_width": null,
            "object_fit": null,
            "object_position": null,
            "order": null,
            "overflow": null,
            "overflow_x": null,
            "overflow_y": null,
            "padding": null,
            "right": null,
            "top": null,
            "visibility": null,
            "width": null
          }
        },
        "d2a9e19d804e481c94a9b99cf0da290b": {
          "model_module": "@jupyter-widgets/base",
          "model_name": "LayoutModel",
          "model_module_version": "1.2.0",
          "state": {
            "_model_module": "@jupyter-widgets/base",
            "_model_module_version": "1.2.0",
            "_model_name": "LayoutModel",
            "_view_count": null,
            "_view_module": "@jupyter-widgets/base",
            "_view_module_version": "1.2.0",
            "_view_name": "LayoutView",
            "align_content": null,
            "align_items": null,
            "align_self": null,
            "border": null,
            "bottom": null,
            "display": null,
            "flex": null,
            "flex_flow": null,
            "grid_area": null,
            "grid_auto_columns": null,
            "grid_auto_flow": null,
            "grid_auto_rows": null,
            "grid_column": null,
            "grid_gap": null,
            "grid_row": null,
            "grid_template_areas": null,
            "grid_template_columns": null,
            "grid_template_rows": null,
            "height": null,
            "justify_content": null,
            "justify_items": null,
            "left": null,
            "margin": null,
            "max_height": null,
            "max_width": null,
            "min_height": null,
            "min_width": null,
            "object_fit": null,
            "object_position": null,
            "order": null,
            "overflow": null,
            "overflow_x": null,
            "overflow_y": null,
            "padding": null,
            "right": null,
            "top": null,
            "visibility": null,
            "width": null
          }
        },
        "6f83b7d64e4b4b289323d9395c350384": {
          "model_module": "@jupyter-widgets/controls",
          "model_name": "DescriptionStyleModel",
          "model_module_version": "1.5.0",
          "state": {
            "_model_module": "@jupyter-widgets/controls",
            "_model_module_version": "1.5.0",
            "_model_name": "DescriptionStyleModel",
            "_view_count": null,
            "_view_module": "@jupyter-widgets/base",
            "_view_module_version": "1.2.0",
            "_view_name": "StyleView",
            "description_width": ""
          }
        },
        "32aa308f93bb4613ae91da46ee9d1fb5": {
          "model_module": "@jupyter-widgets/base",
          "model_name": "LayoutModel",
          "model_module_version": "1.2.0",
          "state": {
            "_model_module": "@jupyter-widgets/base",
            "_model_module_version": "1.2.0",
            "_model_name": "LayoutModel",
            "_view_count": null,
            "_view_module": "@jupyter-widgets/base",
            "_view_module_version": "1.2.0",
            "_view_name": "LayoutView",
            "align_content": null,
            "align_items": null,
            "align_self": null,
            "border": null,
            "bottom": null,
            "display": null,
            "flex": null,
            "flex_flow": null,
            "grid_area": null,
            "grid_auto_columns": null,
            "grid_auto_flow": null,
            "grid_auto_rows": null,
            "grid_column": null,
            "grid_gap": null,
            "grid_row": null,
            "grid_template_areas": null,
            "grid_template_columns": null,
            "grid_template_rows": null,
            "height": null,
            "justify_content": null,
            "justify_items": null,
            "left": null,
            "margin": null,
            "max_height": null,
            "max_width": null,
            "min_height": null,
            "min_width": null,
            "object_fit": null,
            "object_position": null,
            "order": null,
            "overflow": null,
            "overflow_x": null,
            "overflow_y": null,
            "padding": null,
            "right": null,
            "top": null,
            "visibility": null,
            "width": null
          }
        },
        "30fceba3dfec45d693fe42a72f482525": {
          "model_module": "@jupyter-widgets/controls",
          "model_name": "ProgressStyleModel",
          "model_module_version": "1.5.0",
          "state": {
            "_model_module": "@jupyter-widgets/controls",
            "_model_module_version": "1.5.0",
            "_model_name": "ProgressStyleModel",
            "_view_count": null,
            "_view_module": "@jupyter-widgets/base",
            "_view_module_version": "1.2.0",
            "_view_name": "StyleView",
            "bar_color": null,
            "description_width": ""
          }
        },
        "88ce58c6a7664190a03bc5fde625afea": {
          "model_module": "@jupyter-widgets/base",
          "model_name": "LayoutModel",
          "model_module_version": "1.2.0",
          "state": {
            "_model_module": "@jupyter-widgets/base",
            "_model_module_version": "1.2.0",
            "_model_name": "LayoutModel",
            "_view_count": null,
            "_view_module": "@jupyter-widgets/base",
            "_view_module_version": "1.2.0",
            "_view_name": "LayoutView",
            "align_content": null,
            "align_items": null,
            "align_self": null,
            "border": null,
            "bottom": null,
            "display": null,
            "flex": null,
            "flex_flow": null,
            "grid_area": null,
            "grid_auto_columns": null,
            "grid_auto_flow": null,
            "grid_auto_rows": null,
            "grid_column": null,
            "grid_gap": null,
            "grid_row": null,
            "grid_template_areas": null,
            "grid_template_columns": null,
            "grid_template_rows": null,
            "height": null,
            "justify_content": null,
            "justify_items": null,
            "left": null,
            "margin": null,
            "max_height": null,
            "max_width": null,
            "min_height": null,
            "min_width": null,
            "object_fit": null,
            "object_position": null,
            "order": null,
            "overflow": null,
            "overflow_x": null,
            "overflow_y": null,
            "padding": null,
            "right": null,
            "top": null,
            "visibility": null,
            "width": null
          }
        },
        "c954c66efc844fcda0acff691a27ad35": {
          "model_module": "@jupyter-widgets/controls",
          "model_name": "DescriptionStyleModel",
          "model_module_version": "1.5.0",
          "state": {
            "_model_module": "@jupyter-widgets/controls",
            "_model_module_version": "1.5.0",
            "_model_name": "DescriptionStyleModel",
            "_view_count": null,
            "_view_module": "@jupyter-widgets/base",
            "_view_module_version": "1.2.0",
            "_view_name": "StyleView",
            "description_width": ""
          }
        },
        "497f6b4ef7324bb689f2014a1cf191e8": {
          "model_module": "@jupyter-widgets/controls",
          "model_name": "HBoxModel",
          "model_module_version": "1.5.0",
          "state": {
            "_dom_classes": [],
            "_model_module": "@jupyter-widgets/controls",
            "_model_module_version": "1.5.0",
            "_model_name": "HBoxModel",
            "_view_count": null,
            "_view_module": "@jupyter-widgets/controls",
            "_view_module_version": "1.5.0",
            "_view_name": "HBoxView",
            "box_style": "",
            "children": [
              "IPY_MODEL_52952b75b95045829640f7cd7a47fd8d",
              "IPY_MODEL_a30cb51788cb441c8079ac3f9b04b480",
              "IPY_MODEL_b6085e8ee7e94e12a8369817866b7267"
            ],
            "layout": "IPY_MODEL_7ad39d73cd104a20b69822f245c4594b"
          }
        },
        "52952b75b95045829640f7cd7a47fd8d": {
          "model_module": "@jupyter-widgets/controls",
          "model_name": "HTMLModel",
          "model_module_version": "1.5.0",
          "state": {
            "_dom_classes": [],
            "_model_module": "@jupyter-widgets/controls",
            "_model_module_version": "1.5.0",
            "_model_name": "HTMLModel",
            "_view_count": null,
            "_view_module": "@jupyter-widgets/controls",
            "_view_module_version": "1.5.0",
            "_view_name": "HTMLView",
            "description": "",
            "description_tooltip": null,
            "layout": "IPY_MODEL_ebdd5917fe634cc8bf62787c707f7eac",
            "placeholder": "​",
            "style": "IPY_MODEL_fe72eedc64d54bbe83f33e11c49e64d9",
            "value": "100%"
          }
        },
        "a30cb51788cb441c8079ac3f9b04b480": {
          "model_module": "@jupyter-widgets/controls",
          "model_name": "FloatProgressModel",
          "model_module_version": "1.5.0",
          "state": {
            "_dom_classes": [],
            "_model_module": "@jupyter-widgets/controls",
            "_model_module_version": "1.5.0",
            "_model_name": "FloatProgressModel",
            "_view_count": null,
            "_view_module": "@jupyter-widgets/controls",
            "_view_module_version": "1.5.0",
            "_view_name": "ProgressView",
            "bar_style": "",
            "description": "",
            "description_tooltip": null,
            "layout": "IPY_MODEL_706674cefd734d3fb58979792e87685f",
            "max": 1377,
            "min": 0,
            "orientation": "horizontal",
            "style": "IPY_MODEL_789c58878ee3442ebdfd21052f5ef0b6",
            "value": 1376
          }
        },
        "b6085e8ee7e94e12a8369817866b7267": {
          "model_module": "@jupyter-widgets/controls",
          "model_name": "HTMLModel",
          "model_module_version": "1.5.0",
          "state": {
            "_dom_classes": [],
            "_model_module": "@jupyter-widgets/controls",
            "_model_module_version": "1.5.0",
            "_model_name": "HTMLModel",
            "_view_count": null,
            "_view_module": "@jupyter-widgets/controls",
            "_view_module_version": "1.5.0",
            "_view_name": "HTMLView",
            "description": "",
            "description_tooltip": null,
            "layout": "IPY_MODEL_b3bab4561045490e8d44a8a677b39d57",
            "placeholder": "​",
            "style": "IPY_MODEL_e0bcc175a9d145e6a0b8107ac38383a1",
            "value": " 1376/1377 [02:55&lt;00:00,  7.58it/s]"
          }
        },
        "7ad39d73cd104a20b69822f245c4594b": {
          "model_module": "@jupyter-widgets/base",
          "model_name": "LayoutModel",
          "model_module_version": "1.2.0",
          "state": {
            "_model_module": "@jupyter-widgets/base",
            "_model_module_version": "1.2.0",
            "_model_name": "LayoutModel",
            "_view_count": null,
            "_view_module": "@jupyter-widgets/base",
            "_view_module_version": "1.2.0",
            "_view_name": "LayoutView",
            "align_content": null,
            "align_items": null,
            "align_self": null,
            "border": null,
            "bottom": null,
            "display": null,
            "flex": null,
            "flex_flow": null,
            "grid_area": null,
            "grid_auto_columns": null,
            "grid_auto_flow": null,
            "grid_auto_rows": null,
            "grid_column": null,
            "grid_gap": null,
            "grid_row": null,
            "grid_template_areas": null,
            "grid_template_columns": null,
            "grid_template_rows": null,
            "height": null,
            "justify_content": null,
            "justify_items": null,
            "left": null,
            "margin": null,
            "max_height": null,
            "max_width": null,
            "min_height": null,
            "min_width": null,
            "object_fit": null,
            "object_position": null,
            "order": null,
            "overflow": null,
            "overflow_x": null,
            "overflow_y": null,
            "padding": null,
            "right": null,
            "top": null,
            "visibility": null,
            "width": null
          }
        },
        "ebdd5917fe634cc8bf62787c707f7eac": {
          "model_module": "@jupyter-widgets/base",
          "model_name": "LayoutModel",
          "model_module_version": "1.2.0",
          "state": {
            "_model_module": "@jupyter-widgets/base",
            "_model_module_version": "1.2.0",
            "_model_name": "LayoutModel",
            "_view_count": null,
            "_view_module": "@jupyter-widgets/base",
            "_view_module_version": "1.2.0",
            "_view_name": "LayoutView",
            "align_content": null,
            "align_items": null,
            "align_self": null,
            "border": null,
            "bottom": null,
            "display": null,
            "flex": null,
            "flex_flow": null,
            "grid_area": null,
            "grid_auto_columns": null,
            "grid_auto_flow": null,
            "grid_auto_rows": null,
            "grid_column": null,
            "grid_gap": null,
            "grid_row": null,
            "grid_template_areas": null,
            "grid_template_columns": null,
            "grid_template_rows": null,
            "height": null,
            "justify_content": null,
            "justify_items": null,
            "left": null,
            "margin": null,
            "max_height": null,
            "max_width": null,
            "min_height": null,
            "min_width": null,
            "object_fit": null,
            "object_position": null,
            "order": null,
            "overflow": null,
            "overflow_x": null,
            "overflow_y": null,
            "padding": null,
            "right": null,
            "top": null,
            "visibility": null,
            "width": null
          }
        },
        "fe72eedc64d54bbe83f33e11c49e64d9": {
          "model_module": "@jupyter-widgets/controls",
          "model_name": "DescriptionStyleModel",
          "model_module_version": "1.5.0",
          "state": {
            "_model_module": "@jupyter-widgets/controls",
            "_model_module_version": "1.5.0",
            "_model_name": "DescriptionStyleModel",
            "_view_count": null,
            "_view_module": "@jupyter-widgets/base",
            "_view_module_version": "1.2.0",
            "_view_name": "StyleView",
            "description_width": ""
          }
        },
        "706674cefd734d3fb58979792e87685f": {
          "model_module": "@jupyter-widgets/base",
          "model_name": "LayoutModel",
          "model_module_version": "1.2.0",
          "state": {
            "_model_module": "@jupyter-widgets/base",
            "_model_module_version": "1.2.0",
            "_model_name": "LayoutModel",
            "_view_count": null,
            "_view_module": "@jupyter-widgets/base",
            "_view_module_version": "1.2.0",
            "_view_name": "LayoutView",
            "align_content": null,
            "align_items": null,
            "align_self": null,
            "border": null,
            "bottom": null,
            "display": null,
            "flex": null,
            "flex_flow": null,
            "grid_area": null,
            "grid_auto_columns": null,
            "grid_auto_flow": null,
            "grid_auto_rows": null,
            "grid_column": null,
            "grid_gap": null,
            "grid_row": null,
            "grid_template_areas": null,
            "grid_template_columns": null,
            "grid_template_rows": null,
            "height": null,
            "justify_content": null,
            "justify_items": null,
            "left": null,
            "margin": null,
            "max_height": null,
            "max_width": null,
            "min_height": null,
            "min_width": null,
            "object_fit": null,
            "object_position": null,
            "order": null,
            "overflow": null,
            "overflow_x": null,
            "overflow_y": null,
            "padding": null,
            "right": null,
            "top": null,
            "visibility": null,
            "width": null
          }
        },
        "789c58878ee3442ebdfd21052f5ef0b6": {
          "model_module": "@jupyter-widgets/controls",
          "model_name": "ProgressStyleModel",
          "model_module_version": "1.5.0",
          "state": {
            "_model_module": "@jupyter-widgets/controls",
            "_model_module_version": "1.5.0",
            "_model_name": "ProgressStyleModel",
            "_view_count": null,
            "_view_module": "@jupyter-widgets/base",
            "_view_module_version": "1.2.0",
            "_view_name": "StyleView",
            "bar_color": null,
            "description_width": ""
          }
        },
        "b3bab4561045490e8d44a8a677b39d57": {
          "model_module": "@jupyter-widgets/base",
          "model_name": "LayoutModel",
          "model_module_version": "1.2.0",
          "state": {
            "_model_module": "@jupyter-widgets/base",
            "_model_module_version": "1.2.0",
            "_model_name": "LayoutModel",
            "_view_count": null,
            "_view_module": "@jupyter-widgets/base",
            "_view_module_version": "1.2.0",
            "_view_name": "LayoutView",
            "align_content": null,
            "align_items": null,
            "align_self": null,
            "border": null,
            "bottom": null,
            "display": null,
            "flex": null,
            "flex_flow": null,
            "grid_area": null,
            "grid_auto_columns": null,
            "grid_auto_flow": null,
            "grid_auto_rows": null,
            "grid_column": null,
            "grid_gap": null,
            "grid_row": null,
            "grid_template_areas": null,
            "grid_template_columns": null,
            "grid_template_rows": null,
            "height": null,
            "justify_content": null,
            "justify_items": null,
            "left": null,
            "margin": null,
            "max_height": null,
            "max_width": null,
            "min_height": null,
            "min_width": null,
            "object_fit": null,
            "object_position": null,
            "order": null,
            "overflow": null,
            "overflow_x": null,
            "overflow_y": null,
            "padding": null,
            "right": null,
            "top": null,
            "visibility": null,
            "width": null
          }
        },
        "e0bcc175a9d145e6a0b8107ac38383a1": {
          "model_module": "@jupyter-widgets/controls",
          "model_name": "DescriptionStyleModel",
          "model_module_version": "1.5.0",
          "state": {
            "_model_module": "@jupyter-widgets/controls",
            "_model_module_version": "1.5.0",
            "_model_name": "DescriptionStyleModel",
            "_view_count": null,
            "_view_module": "@jupyter-widgets/base",
            "_view_module_version": "1.2.0",
            "_view_name": "StyleView",
            "description_width": ""
          }
        },
        "4158b94119bc4a5aaf08ab9da3b1def1": {
          "model_module": "@jupyter-widgets/controls",
          "model_name": "HBoxModel",
          "model_module_version": "1.5.0",
          "state": {
            "_dom_classes": [],
            "_model_module": "@jupyter-widgets/controls",
            "_model_module_version": "1.5.0",
            "_model_name": "HBoxModel",
            "_view_count": null,
            "_view_module": "@jupyter-widgets/controls",
            "_view_module_version": "1.5.0",
            "_view_name": "HBoxView",
            "box_style": "",
            "children": [
              "IPY_MODEL_c3e6240bbbc0402b9a66476c544a7a99",
              "IPY_MODEL_ba51d4729fcc4d098b7a32181ee2ac64",
              "IPY_MODEL_020ad78538cb40528f7eea9b5dfbc45f"
            ],
            "layout": "IPY_MODEL_c581eefa2e2146f8bd159cbe686e604f"
          }
        },
        "c3e6240bbbc0402b9a66476c544a7a99": {
          "model_module": "@jupyter-widgets/controls",
          "model_name": "HTMLModel",
          "model_module_version": "1.5.0",
          "state": {
            "_dom_classes": [],
            "_model_module": "@jupyter-widgets/controls",
            "_model_module_version": "1.5.0",
            "_model_name": "HTMLModel",
            "_view_count": null,
            "_view_module": "@jupyter-widgets/controls",
            "_view_module_version": "1.5.0",
            "_view_name": "HTMLView",
            "description": "",
            "description_tooltip": null,
            "layout": "IPY_MODEL_bce7ed56f722429da7c6b76269cb3f92",
            "placeholder": "​",
            "style": "IPY_MODEL_ad75260e947845cb9088f1efb21b501f",
            "value": "100%"
          }
        },
        "ba51d4729fcc4d098b7a32181ee2ac64": {
          "model_module": "@jupyter-widgets/controls",
          "model_name": "FloatProgressModel",
          "model_module_version": "1.5.0",
          "state": {
            "_dom_classes": [],
            "_model_module": "@jupyter-widgets/controls",
            "_model_module_version": "1.5.0",
            "_model_name": "FloatProgressModel",
            "_view_count": null,
            "_view_module": "@jupyter-widgets/controls",
            "_view_module_version": "1.5.0",
            "_view_name": "ProgressView",
            "bar_style": "",
            "description": "",
            "description_tooltip": null,
            "layout": "IPY_MODEL_daee8f7a7c5f4b0d905e41245a2f5a0b",
            "max": 1377,
            "min": 0,
            "orientation": "horizontal",
            "style": "IPY_MODEL_ee08febdc4e94d33943154f7e56841c4",
            "value": 1376
          }
        },
        "020ad78538cb40528f7eea9b5dfbc45f": {
          "model_module": "@jupyter-widgets/controls",
          "model_name": "HTMLModel",
          "model_module_version": "1.5.0",
          "state": {
            "_dom_classes": [],
            "_model_module": "@jupyter-widgets/controls",
            "_model_module_version": "1.5.0",
            "_model_name": "HTMLModel",
            "_view_count": null,
            "_view_module": "@jupyter-widgets/controls",
            "_view_module_version": "1.5.0",
            "_view_name": "HTMLView",
            "description": "",
            "description_tooltip": null,
            "layout": "IPY_MODEL_d053543fa73a4d1f922ee83b85f4e40f",
            "placeholder": "​",
            "style": "IPY_MODEL_1559f19014cc4015bee605ae6b59b2ae",
            "value": " 1376/1377 [02:54&lt;00:00,  8.23it/s]"
          }
        },
        "c581eefa2e2146f8bd159cbe686e604f": {
          "model_module": "@jupyter-widgets/base",
          "model_name": "LayoutModel",
          "model_module_version": "1.2.0",
          "state": {
            "_model_module": "@jupyter-widgets/base",
            "_model_module_version": "1.2.0",
            "_model_name": "LayoutModel",
            "_view_count": null,
            "_view_module": "@jupyter-widgets/base",
            "_view_module_version": "1.2.0",
            "_view_name": "LayoutView",
            "align_content": null,
            "align_items": null,
            "align_self": null,
            "border": null,
            "bottom": null,
            "display": null,
            "flex": null,
            "flex_flow": null,
            "grid_area": null,
            "grid_auto_columns": null,
            "grid_auto_flow": null,
            "grid_auto_rows": null,
            "grid_column": null,
            "grid_gap": null,
            "grid_row": null,
            "grid_template_areas": null,
            "grid_template_columns": null,
            "grid_template_rows": null,
            "height": null,
            "justify_content": null,
            "justify_items": null,
            "left": null,
            "margin": null,
            "max_height": null,
            "max_width": null,
            "min_height": null,
            "min_width": null,
            "object_fit": null,
            "object_position": null,
            "order": null,
            "overflow": null,
            "overflow_x": null,
            "overflow_y": null,
            "padding": null,
            "right": null,
            "top": null,
            "visibility": null,
            "width": null
          }
        },
        "bce7ed56f722429da7c6b76269cb3f92": {
          "model_module": "@jupyter-widgets/base",
          "model_name": "LayoutModel",
          "model_module_version": "1.2.0",
          "state": {
            "_model_module": "@jupyter-widgets/base",
            "_model_module_version": "1.2.0",
            "_model_name": "LayoutModel",
            "_view_count": null,
            "_view_module": "@jupyter-widgets/base",
            "_view_module_version": "1.2.0",
            "_view_name": "LayoutView",
            "align_content": null,
            "align_items": null,
            "align_self": null,
            "border": null,
            "bottom": null,
            "display": null,
            "flex": null,
            "flex_flow": null,
            "grid_area": null,
            "grid_auto_columns": null,
            "grid_auto_flow": null,
            "grid_auto_rows": null,
            "grid_column": null,
            "grid_gap": null,
            "grid_row": null,
            "grid_template_areas": null,
            "grid_template_columns": null,
            "grid_template_rows": null,
            "height": null,
            "justify_content": null,
            "justify_items": null,
            "left": null,
            "margin": null,
            "max_height": null,
            "max_width": null,
            "min_height": null,
            "min_width": null,
            "object_fit": null,
            "object_position": null,
            "order": null,
            "overflow": null,
            "overflow_x": null,
            "overflow_y": null,
            "padding": null,
            "right": null,
            "top": null,
            "visibility": null,
            "width": null
          }
        },
        "ad75260e947845cb9088f1efb21b501f": {
          "model_module": "@jupyter-widgets/controls",
          "model_name": "DescriptionStyleModel",
          "model_module_version": "1.5.0",
          "state": {
            "_model_module": "@jupyter-widgets/controls",
            "_model_module_version": "1.5.0",
            "_model_name": "DescriptionStyleModel",
            "_view_count": null,
            "_view_module": "@jupyter-widgets/base",
            "_view_module_version": "1.2.0",
            "_view_name": "StyleView",
            "description_width": ""
          }
        },
        "daee8f7a7c5f4b0d905e41245a2f5a0b": {
          "model_module": "@jupyter-widgets/base",
          "model_name": "LayoutModel",
          "model_module_version": "1.2.0",
          "state": {
            "_model_module": "@jupyter-widgets/base",
            "_model_module_version": "1.2.0",
            "_model_name": "LayoutModel",
            "_view_count": null,
            "_view_module": "@jupyter-widgets/base",
            "_view_module_version": "1.2.0",
            "_view_name": "LayoutView",
            "align_content": null,
            "align_items": null,
            "align_self": null,
            "border": null,
            "bottom": null,
            "display": null,
            "flex": null,
            "flex_flow": null,
            "grid_area": null,
            "grid_auto_columns": null,
            "grid_auto_flow": null,
            "grid_auto_rows": null,
            "grid_column": null,
            "grid_gap": null,
            "grid_row": null,
            "grid_template_areas": null,
            "grid_template_columns": null,
            "grid_template_rows": null,
            "height": null,
            "justify_content": null,
            "justify_items": null,
            "left": null,
            "margin": null,
            "max_height": null,
            "max_width": null,
            "min_height": null,
            "min_width": null,
            "object_fit": null,
            "object_position": null,
            "order": null,
            "overflow": null,
            "overflow_x": null,
            "overflow_y": null,
            "padding": null,
            "right": null,
            "top": null,
            "visibility": null,
            "width": null
          }
        },
        "ee08febdc4e94d33943154f7e56841c4": {
          "model_module": "@jupyter-widgets/controls",
          "model_name": "ProgressStyleModel",
          "model_module_version": "1.5.0",
          "state": {
            "_model_module": "@jupyter-widgets/controls",
            "_model_module_version": "1.5.0",
            "_model_name": "ProgressStyleModel",
            "_view_count": null,
            "_view_module": "@jupyter-widgets/base",
            "_view_module_version": "1.2.0",
            "_view_name": "StyleView",
            "bar_color": null,
            "description_width": ""
          }
        },
        "d053543fa73a4d1f922ee83b85f4e40f": {
          "model_module": "@jupyter-widgets/base",
          "model_name": "LayoutModel",
          "model_module_version": "1.2.0",
          "state": {
            "_model_module": "@jupyter-widgets/base",
            "_model_module_version": "1.2.0",
            "_model_name": "LayoutModel",
            "_view_count": null,
            "_view_module": "@jupyter-widgets/base",
            "_view_module_version": "1.2.0",
            "_view_name": "LayoutView",
            "align_content": null,
            "align_items": null,
            "align_self": null,
            "border": null,
            "bottom": null,
            "display": null,
            "flex": null,
            "flex_flow": null,
            "grid_area": null,
            "grid_auto_columns": null,
            "grid_auto_flow": null,
            "grid_auto_rows": null,
            "grid_column": null,
            "grid_gap": null,
            "grid_row": null,
            "grid_template_areas": null,
            "grid_template_columns": null,
            "grid_template_rows": null,
            "height": null,
            "justify_content": null,
            "justify_items": null,
            "left": null,
            "margin": null,
            "max_height": null,
            "max_width": null,
            "min_height": null,
            "min_width": null,
            "object_fit": null,
            "object_position": null,
            "order": null,
            "overflow": null,
            "overflow_x": null,
            "overflow_y": null,
            "padding": null,
            "right": null,
            "top": null,
            "visibility": null,
            "width": null
          }
        },
        "1559f19014cc4015bee605ae6b59b2ae": {
          "model_module": "@jupyter-widgets/controls",
          "model_name": "DescriptionStyleModel",
          "model_module_version": "1.5.0",
          "state": {
            "_model_module": "@jupyter-widgets/controls",
            "_model_module_version": "1.5.0",
            "_model_name": "DescriptionStyleModel",
            "_view_count": null,
            "_view_module": "@jupyter-widgets/base",
            "_view_module_version": "1.2.0",
            "_view_name": "StyleView",
            "description_width": ""
          }
        },
        "d29bf5dc80d449e4bf21ab724823abfa": {
          "model_module": "@jupyter-widgets/controls",
          "model_name": "HBoxModel",
          "model_module_version": "1.5.0",
          "state": {
            "_dom_classes": [],
            "_model_module": "@jupyter-widgets/controls",
            "_model_module_version": "1.5.0",
            "_model_name": "HBoxModel",
            "_view_count": null,
            "_view_module": "@jupyter-widgets/controls",
            "_view_module_version": "1.5.0",
            "_view_name": "HBoxView",
            "box_style": "",
            "children": [
              "IPY_MODEL_9aa620c11e1049df878c60b915882612",
              "IPY_MODEL_71e60b73e4e94811802fe474a3a88f4a",
              "IPY_MODEL_74e622fd3e3a4d0aaaf3ec0439ebdc55"
            ],
            "layout": "IPY_MODEL_e11dfc6647954fd58e2397f8d6c32c80"
          }
        },
        "9aa620c11e1049df878c60b915882612": {
          "model_module": "@jupyter-widgets/controls",
          "model_name": "HTMLModel",
          "model_module_version": "1.5.0",
          "state": {
            "_dom_classes": [],
            "_model_module": "@jupyter-widgets/controls",
            "_model_module_version": "1.5.0",
            "_model_name": "HTMLModel",
            "_view_count": null,
            "_view_module": "@jupyter-widgets/controls",
            "_view_module_version": "1.5.0",
            "_view_name": "HTMLView",
            "description": "",
            "description_tooltip": null,
            "layout": "IPY_MODEL_28a0046bce154c0b8256c33ef84c486b",
            "placeholder": "​",
            "style": "IPY_MODEL_476a7d3c44a741c893aa9231b1ac0717",
            "value": "100%"
          }
        },
        "71e60b73e4e94811802fe474a3a88f4a": {
          "model_module": "@jupyter-widgets/controls",
          "model_name": "FloatProgressModel",
          "model_module_version": "1.5.0",
          "state": {
            "_dom_classes": [],
            "_model_module": "@jupyter-widgets/controls",
            "_model_module_version": "1.5.0",
            "_model_name": "FloatProgressModel",
            "_view_count": null,
            "_view_module": "@jupyter-widgets/controls",
            "_view_module_version": "1.5.0",
            "_view_name": "ProgressView",
            "bar_style": "",
            "description": "",
            "description_tooltip": null,
            "layout": "IPY_MODEL_f9c3435373a9413a82d0e9291d8427ee",
            "max": 1377,
            "min": 0,
            "orientation": "horizontal",
            "style": "IPY_MODEL_2a19383a1979463c9cfd46d2c89e8b4f",
            "value": 1376
          }
        },
        "74e622fd3e3a4d0aaaf3ec0439ebdc55": {
          "model_module": "@jupyter-widgets/controls",
          "model_name": "HTMLModel",
          "model_module_version": "1.5.0",
          "state": {
            "_dom_classes": [],
            "_model_module": "@jupyter-widgets/controls",
            "_model_module_version": "1.5.0",
            "_model_name": "HTMLModel",
            "_view_count": null,
            "_view_module": "@jupyter-widgets/controls",
            "_view_module_version": "1.5.0",
            "_view_name": "HTMLView",
            "description": "",
            "description_tooltip": null,
            "layout": "IPY_MODEL_f46e501a8e41401c85e88c77f38d92d0",
            "placeholder": "​",
            "style": "IPY_MODEL_efdf201e38b747dba4ea8b3053bd88cf",
            "value": " 1376/1377 [02:56&lt;00:00,  8.07it/s]"
          }
        },
        "e11dfc6647954fd58e2397f8d6c32c80": {
          "model_module": "@jupyter-widgets/base",
          "model_name": "LayoutModel",
          "model_module_version": "1.2.0",
          "state": {
            "_model_module": "@jupyter-widgets/base",
            "_model_module_version": "1.2.0",
            "_model_name": "LayoutModel",
            "_view_count": null,
            "_view_module": "@jupyter-widgets/base",
            "_view_module_version": "1.2.0",
            "_view_name": "LayoutView",
            "align_content": null,
            "align_items": null,
            "align_self": null,
            "border": null,
            "bottom": null,
            "display": null,
            "flex": null,
            "flex_flow": null,
            "grid_area": null,
            "grid_auto_columns": null,
            "grid_auto_flow": null,
            "grid_auto_rows": null,
            "grid_column": null,
            "grid_gap": null,
            "grid_row": null,
            "grid_template_areas": null,
            "grid_template_columns": null,
            "grid_template_rows": null,
            "height": null,
            "justify_content": null,
            "justify_items": null,
            "left": null,
            "margin": null,
            "max_height": null,
            "max_width": null,
            "min_height": null,
            "min_width": null,
            "object_fit": null,
            "object_position": null,
            "order": null,
            "overflow": null,
            "overflow_x": null,
            "overflow_y": null,
            "padding": null,
            "right": null,
            "top": null,
            "visibility": null,
            "width": null
          }
        },
        "28a0046bce154c0b8256c33ef84c486b": {
          "model_module": "@jupyter-widgets/base",
          "model_name": "LayoutModel",
          "model_module_version": "1.2.0",
          "state": {
            "_model_module": "@jupyter-widgets/base",
            "_model_module_version": "1.2.0",
            "_model_name": "LayoutModel",
            "_view_count": null,
            "_view_module": "@jupyter-widgets/base",
            "_view_module_version": "1.2.0",
            "_view_name": "LayoutView",
            "align_content": null,
            "align_items": null,
            "align_self": null,
            "border": null,
            "bottom": null,
            "display": null,
            "flex": null,
            "flex_flow": null,
            "grid_area": null,
            "grid_auto_columns": null,
            "grid_auto_flow": null,
            "grid_auto_rows": null,
            "grid_column": null,
            "grid_gap": null,
            "grid_row": null,
            "grid_template_areas": null,
            "grid_template_columns": null,
            "grid_template_rows": null,
            "height": null,
            "justify_content": null,
            "justify_items": null,
            "left": null,
            "margin": null,
            "max_height": null,
            "max_width": null,
            "min_height": null,
            "min_width": null,
            "object_fit": null,
            "object_position": null,
            "order": null,
            "overflow": null,
            "overflow_x": null,
            "overflow_y": null,
            "padding": null,
            "right": null,
            "top": null,
            "visibility": null,
            "width": null
          }
        },
        "476a7d3c44a741c893aa9231b1ac0717": {
          "model_module": "@jupyter-widgets/controls",
          "model_name": "DescriptionStyleModel",
          "model_module_version": "1.5.0",
          "state": {
            "_model_module": "@jupyter-widgets/controls",
            "_model_module_version": "1.5.0",
            "_model_name": "DescriptionStyleModel",
            "_view_count": null,
            "_view_module": "@jupyter-widgets/base",
            "_view_module_version": "1.2.0",
            "_view_name": "StyleView",
            "description_width": ""
          }
        },
        "f9c3435373a9413a82d0e9291d8427ee": {
          "model_module": "@jupyter-widgets/base",
          "model_name": "LayoutModel",
          "model_module_version": "1.2.0",
          "state": {
            "_model_module": "@jupyter-widgets/base",
            "_model_module_version": "1.2.0",
            "_model_name": "LayoutModel",
            "_view_count": null,
            "_view_module": "@jupyter-widgets/base",
            "_view_module_version": "1.2.0",
            "_view_name": "LayoutView",
            "align_content": null,
            "align_items": null,
            "align_self": null,
            "border": null,
            "bottom": null,
            "display": null,
            "flex": null,
            "flex_flow": null,
            "grid_area": null,
            "grid_auto_columns": null,
            "grid_auto_flow": null,
            "grid_auto_rows": null,
            "grid_column": null,
            "grid_gap": null,
            "grid_row": null,
            "grid_template_areas": null,
            "grid_template_columns": null,
            "grid_template_rows": null,
            "height": null,
            "justify_content": null,
            "justify_items": null,
            "left": null,
            "margin": null,
            "max_height": null,
            "max_width": null,
            "min_height": null,
            "min_width": null,
            "object_fit": null,
            "object_position": null,
            "order": null,
            "overflow": null,
            "overflow_x": null,
            "overflow_y": null,
            "padding": null,
            "right": null,
            "top": null,
            "visibility": null,
            "width": null
          }
        },
        "2a19383a1979463c9cfd46d2c89e8b4f": {
          "model_module": "@jupyter-widgets/controls",
          "model_name": "ProgressStyleModel",
          "model_module_version": "1.5.0",
          "state": {
            "_model_module": "@jupyter-widgets/controls",
            "_model_module_version": "1.5.0",
            "_model_name": "ProgressStyleModel",
            "_view_count": null,
            "_view_module": "@jupyter-widgets/base",
            "_view_module_version": "1.2.0",
            "_view_name": "StyleView",
            "bar_color": null,
            "description_width": ""
          }
        },
        "f46e501a8e41401c85e88c77f38d92d0": {
          "model_module": "@jupyter-widgets/base",
          "model_name": "LayoutModel",
          "model_module_version": "1.2.0",
          "state": {
            "_model_module": "@jupyter-widgets/base",
            "_model_module_version": "1.2.0",
            "_model_name": "LayoutModel",
            "_view_count": null,
            "_view_module": "@jupyter-widgets/base",
            "_view_module_version": "1.2.0",
            "_view_name": "LayoutView",
            "align_content": null,
            "align_items": null,
            "align_self": null,
            "border": null,
            "bottom": null,
            "display": null,
            "flex": null,
            "flex_flow": null,
            "grid_area": null,
            "grid_auto_columns": null,
            "grid_auto_flow": null,
            "grid_auto_rows": null,
            "grid_column": null,
            "grid_gap": null,
            "grid_row": null,
            "grid_template_areas": null,
            "grid_template_columns": null,
            "grid_template_rows": null,
            "height": null,
            "justify_content": null,
            "justify_items": null,
            "left": null,
            "margin": null,
            "max_height": null,
            "max_width": null,
            "min_height": null,
            "min_width": null,
            "object_fit": null,
            "object_position": null,
            "order": null,
            "overflow": null,
            "overflow_x": null,
            "overflow_y": null,
            "padding": null,
            "right": null,
            "top": null,
            "visibility": null,
            "width": null
          }
        },
        "efdf201e38b747dba4ea8b3053bd88cf": {
          "model_module": "@jupyter-widgets/controls",
          "model_name": "DescriptionStyleModel",
          "model_module_version": "1.5.0",
          "state": {
            "_model_module": "@jupyter-widgets/controls",
            "_model_module_version": "1.5.0",
            "_model_name": "DescriptionStyleModel",
            "_view_count": null,
            "_view_module": "@jupyter-widgets/base",
            "_view_module_version": "1.2.0",
            "_view_name": "StyleView",
            "description_width": ""
          }
        }
      }
    }
  },
  "cells": [
    {
      "cell_type": "code",
      "source": [
        "!pip install --quiet transformers datasets accelerate\n",
        "!pip install --quiet transformers[torch]\n",
        "!pip install --quiet accelerate -U\n"
      ],
      "metadata": {
        "colab": {
          "base_uri": "https://localhost:8080/"
        },
        "id": "R41y7mde0BF_",
        "outputId": "fba4b452-aed5-4d00-f97c-adf5e22d567a"
      },
      "execution_count": 1,
      "outputs": [
        {
          "output_type": "stream",
          "name": "stdout",
          "text": [
            "\u001b[2K     \u001b[90m━━━━━━━━━━━━━━━━━━━━━━━━━━━━━━━━━━━━━━━━\u001b[0m \u001b[32m547.8/547.8 kB\u001b[0m \u001b[31m7.3 MB/s\u001b[0m eta \u001b[36m0:00:00\u001b[0m\n",
            "\u001b[2K     \u001b[90m━━━━━━━━━━━━━━━━━━━━━━━━━━━━━━━━━━━━━━━━\u001b[0m \u001b[32m314.1/314.1 kB\u001b[0m \u001b[31m13.7 MB/s\u001b[0m eta \u001b[36m0:00:00\u001b[0m\n",
            "\u001b[2K     \u001b[90m━━━━━━━━━━━━━━━━━━━━━━━━━━━━━━━━━━━━━━━━\u001b[0m \u001b[32m40.8/40.8 MB\u001b[0m \u001b[31m8.3 MB/s\u001b[0m eta \u001b[36m0:00:00\u001b[0m\n",
            "\u001b[2K     \u001b[90m━━━━━━━━━━━━━━━━━━━━━━━━━━━━━━━━━━━━━━━━\u001b[0m \u001b[32m116.3/116.3 kB\u001b[0m \u001b[31m7.2 MB/s\u001b[0m eta \u001b[36m0:00:00\u001b[0m\n",
            "\u001b[2K     \u001b[90m━━━━━━━━━━━━━━━━━━━━━━━━━━━━━━━━━━━━━━━━\u001b[0m \u001b[32m64.9/64.9 kB\u001b[0m \u001b[31m4.9 MB/s\u001b[0m eta \u001b[36m0:00:00\u001b[0m\n",
            "\u001b[2K     \u001b[90m━━━━━━━━━━━━━━━━━━━━━━━━━━━━━━━━━━━━━━━━\u001b[0m \u001b[32m194.1/194.1 kB\u001b[0m \u001b[31m4.9 MB/s\u001b[0m eta \u001b[36m0:00:00\u001b[0m\n",
            "\u001b[2K     \u001b[90m━━━━━━━━━━━━━━━━━━━━━━━━━━━━━━━━━━━━━━━━\u001b[0m \u001b[32m134.8/134.8 kB\u001b[0m \u001b[31m10.6 MB/s\u001b[0m eta \u001b[36m0:00:00\u001b[0m\n",
            "\u001b[2K     \u001b[90m━━━━━━━━━━━━━━━━━━━━━━━━━━━━━━━━━━━━━━━━\u001b[0m \u001b[32m21.3/21.3 MB\u001b[0m \u001b[31m43.5 MB/s\u001b[0m eta \u001b[36m0:00:00\u001b[0m\n",
            "\u001b[?25h\u001b[31mERROR: pip's dependency resolver does not currently take into account all the packages that are installed. This behaviour is the source of the following dependency conflicts.\n",
            "cudf-cu12 24.4.1 requires pyarrow<15.0.0a0,>=14.0.1, but you have pyarrow 16.1.0 which is incompatible.\n",
            "google-colab 1.0.0 requires requests==2.31.0, but you have requests 2.32.3 which is incompatible.\n",
            "ibis-framework 8.0.0 requires pyarrow<16,>=2, but you have pyarrow 16.1.0 which is incompatible.\u001b[0m\u001b[31m\n",
            "\u001b[0m"
          ]
        }
      ]
    },
    {
      "cell_type": "markdown",
      "source": [
        "# Fine tuning a pre-trained model\n",
        "\n",
        "- How to prepare a large dataset from the Hub\n",
        "- How to use the high-level Trainer API to fine-tune a model\n",
        "- How to use a custom training loop\n",
        "- How to leverage the 🤗 Accelerate library to easily run that custom training loop on any distributed setup"
      ],
      "metadata": {
        "id": "zVizc64lzD74"
      }
    },
    {
      "cell_type": "markdown",
      "source": [
        "# 1. Processing the data\n",
        "\n",
        "In this section we will use as an example the MRPC (Microsoft Research Paraphrase Corpus) dataset, introduced in a paper by William B. Dolan and Chris Brockett. The dataset consists of 5,801 pairs of sentences, with a label indicating if they are paraphrases or not (i.e., if both sentences mean the same thing). We’ve selected it for this chapter because it’s a small dataset, so it’s easy to experiment with training on it."
      ],
      "metadata": {
        "id": "Ckao0thFzQlX"
      }
    },
    {
      "cell_type": "markdown",
      "source": [
        "**Loading a dataset from the hub**\n",
        "\n",
        "The Hub doesn’t just contain models; it also has multiple datasets in lots of different languages. You can browse the datasets [here](https://huggingface.co/datasets), and we recommend you try to load and process a new dataset once you have gone through this section (see the general documentation [here](https://huggingface.co/docs/datasets/loading)). But for now, let’s focus on the MRPC dataset! This is one of the 10 datasets composing the GLUE benchmark, which is an academic benchmark that is used to measure the performance of ML models across 10 different text classification tasks.\n",
        "\n",
        "The 🤗 Datasets library provides a very simple command to download and cache a dataset on the Hub. We can download the MRPC dataset like this:"
      ],
      "metadata": {
        "id": "n2Xm2f_zzlt-"
      }
    },
    {
      "cell_type": "code",
      "execution_count": 2,
      "metadata": {
        "colab": {
          "base_uri": "https://localhost:8080/",
          "height": 608,
          "referenced_widgets": [
            "a455d2abb0544454a9c3a498383bf3af",
            "ea82b6bb6b714cc3bc77566ef37d944b",
            "a62e3e2f185c49da89ee818116dd5d0d",
            "6fb847667e94451fbd7e506ada59c8c2",
            "31bd81ceebe345ea8c3cc32230430748",
            "ea0e62ffc10c4026afa17576d3baed8e",
            "0bdd558ae31d49dab8afe294e99f7bb3",
            "90ea0cdc6af6486ca0969a663ef0887f",
            "b29e067a4cb245ef819cf82ce558c521",
            "729124dedac94ba5bf3afccb53d5d4f3",
            "90e8b884ccc84646bc6c33ab5c0b3e4d",
            "0a7e5ff0a31c4ae2a84f6ef97d9e4e33",
            "42dc044b87014b48958cb542bc18eacd",
            "77f0f7c6a37c4cf5b5487e43f06e36e9",
            "675cb99ae1a444d9b5b5219d14e4df98",
            "033025a47f8a44a3805b90535a4f0d00",
            "741c937a02bc49078af39db3efa42835",
            "5d2f7b78087e4e6f870469249d6ec814",
            "0ee7f40ceef743968c31948816eca6d6",
            "6fd3c6c13c0f431da0521a6c903d2c82",
            "00218590f56c466cac84362641ba276b",
            "f599817ddc84400db6c9aaff46267760",
            "b4d7972f96964affa00605f4c4f1bef1",
            "418ee5dbdd704edcafbf41d3d9acfe0d",
            "639112f7654d4f22a394795bcd87f0bd",
            "10515f802a16462e81263c89415dfbc1",
            "29e2e330e4884b409bdf72ab88bf6d6d",
            "a7b6c938c147464a8e44b9f8a080ebf9",
            "515a55872a8249698f864ce473d38d39",
            "e84c292c65fe49aab9497f6353a772c3",
            "d119282b6a434a05882d3481a3674417",
            "7eefc6deaea349f79b1cc6e1edf32a2b",
            "8e9312f0e5b644a392afcd45fa5da99a",
            "3b84b13a9cfc4d8690335436b588ad56",
            "8281a060656e425a8c74dc5d3c6165b1",
            "843ab90758bd4101b012ee2f78dc2b3b",
            "d16fc1ea1e5240dd92815c402e4ffdf0",
            "433de41f6b974c1fa4a00d98a3f1aee9",
            "2f27c6b4384343688fcd0762b71c4d3a",
            "a9b970f044064c0183eb8834fc3cb341",
            "961f2e66ea58465a8843d7c54db0f763",
            "edf68c44f401484b9a7a0e3c02804cc2",
            "bce01412b1f14404963e33463998c909",
            "e1d4ab32687045a8b2c9d27e9d4d3d70",
            "6d458780240f4da29fb0c28dba3bd8f3",
            "5ccaf960dc304891b81681960ca17087",
            "5df0e096bae84167878ba05c820ef826",
            "520e96bb10e54a5388f4507155cb5162",
            "60456047e0254278906dd4c66de73b7e",
            "cea319fe2fa5409d9bfc2b53132856bf",
            "d6ed6a3f741c4430bd03d27ea23c0054",
            "5cdc9e19ec6c40c1994d952b5151f486",
            "e0b00700399c4568b27c9ace2ec53400",
            "a2df06c8bfd44914920b5bdc8e853063",
            "f6decf90025b48789931f6e7d2745879",
            "9c8ea9ec6f304edebafef1990f22cd57",
            "5c39a8f9f0904a488834df84b329cee8",
            "27ab0a0034c34ad9b528961833cf96e0",
            "6a31209fa65f430e80b71d18d5519de6",
            "bd83f2a789d34973ad2909d6a75f5590",
            "84d143aa2b534d148367cbba7b4b3936",
            "3959f998d4af4013a35b0a532ead45d5",
            "72ca97bc7df542f585dcefefcabc9649",
            "dddb3ed1bf894ac9bfb3c12026571ee1",
            "91389f6aaf0c4635b333c40301c1d64b",
            "00ffccd3094643f385d17ec010d166e0",
            "9467b20d1f024ea884f05f575ac2ee21",
            "656578f9f6f64248b9e3ac323e4e0c51",
            "c60407ee3a384dafa8d8541e861c3a83",
            "04fd4a7f1d7e4f1db12de54cf1605cc7",
            "9dec418215dc4b93ade59a6eb01c1848",
            "37b1b3fb8b2e46baa9b753ddc384162f",
            "c9ea3406e543444ca81d33e09da96fe5",
            "76e8512e9edf415fac895f74f5418f91",
            "49be6a78cc2447f9abcc2d73ad817dbf",
            "dff275c3635440f5953098c188032c5e",
            "d36e46818c414125a036b3e070a41fe6"
          ]
        },
        "id": "rqYgXMgoy4GP",
        "outputId": "20018174-bf25-4b41-abe2-c8d6ae26e9e4"
      },
      "outputs": [
        {
          "output_type": "stream",
          "name": "stderr",
          "text": [
            "/usr/local/lib/python3.10/dist-packages/huggingface_hub/utils/_token.py:89: UserWarning: \n",
            "The secret `HF_TOKEN` does not exist in your Colab secrets.\n",
            "To authenticate with the Hugging Face Hub, create a token in your settings tab (https://huggingface.co/settings/tokens), set it as secret in your Google Colab and restart your session.\n",
            "You will be able to reuse this secret in all of your notebooks.\n",
            "Please note that authentication is recommended but still optional to access public models or datasets.\n",
            "  warnings.warn(\n"
          ]
        },
        {
          "output_type": "display_data",
          "data": {
            "text/plain": [
              "Downloading readme:   0%|          | 0.00/35.3k [00:00<?, ?B/s]"
            ],
            "application/vnd.jupyter.widget-view+json": {
              "version_major": 2,
              "version_minor": 0,
              "model_id": "a455d2abb0544454a9c3a498383bf3af"
            }
          },
          "metadata": {}
        },
        {
          "output_type": "display_data",
          "data": {
            "text/plain": [
              "Downloading data:   0%|          | 0.00/649k [00:00<?, ?B/s]"
            ],
            "application/vnd.jupyter.widget-view+json": {
              "version_major": 2,
              "version_minor": 0,
              "model_id": "0a7e5ff0a31c4ae2a84f6ef97d9e4e33"
            }
          },
          "metadata": {}
        },
        {
          "output_type": "display_data",
          "data": {
            "text/plain": [
              "Downloading data:   0%|          | 0.00/75.7k [00:00<?, ?B/s]"
            ],
            "application/vnd.jupyter.widget-view+json": {
              "version_major": 2,
              "version_minor": 0,
              "model_id": "b4d7972f96964affa00605f4c4f1bef1"
            }
          },
          "metadata": {}
        },
        {
          "output_type": "display_data",
          "data": {
            "text/plain": [
              "Downloading data:   0%|          | 0.00/308k [00:00<?, ?B/s]"
            ],
            "application/vnd.jupyter.widget-view+json": {
              "version_major": 2,
              "version_minor": 0,
              "model_id": "3b84b13a9cfc4d8690335436b588ad56"
            }
          },
          "metadata": {}
        },
        {
          "output_type": "display_data",
          "data": {
            "text/plain": [
              "Generating train split:   0%|          | 0/3668 [00:00<?, ? examples/s]"
            ],
            "application/vnd.jupyter.widget-view+json": {
              "version_major": 2,
              "version_minor": 0,
              "model_id": "6d458780240f4da29fb0c28dba3bd8f3"
            }
          },
          "metadata": {}
        },
        {
          "output_type": "display_data",
          "data": {
            "text/plain": [
              "Generating validation split:   0%|          | 0/408 [00:00<?, ? examples/s]"
            ],
            "application/vnd.jupyter.widget-view+json": {
              "version_major": 2,
              "version_minor": 0,
              "model_id": "9c8ea9ec6f304edebafef1990f22cd57"
            }
          },
          "metadata": {}
        },
        {
          "output_type": "display_data",
          "data": {
            "text/plain": [
              "Generating test split:   0%|          | 0/1725 [00:00<?, ? examples/s]"
            ],
            "application/vnd.jupyter.widget-view+json": {
              "version_major": 2,
              "version_minor": 0,
              "model_id": "9467b20d1f024ea884f05f575ac2ee21"
            }
          },
          "metadata": {}
        },
        {
          "output_type": "execute_result",
          "data": {
            "text/plain": [
              "DatasetDict({\n",
              "    train: Dataset({\n",
              "        features: ['sentence1', 'sentence2', 'label', 'idx'],\n",
              "        num_rows: 3668\n",
              "    })\n",
              "    validation: Dataset({\n",
              "        features: ['sentence1', 'sentence2', 'label', 'idx'],\n",
              "        num_rows: 408\n",
              "    })\n",
              "    test: Dataset({\n",
              "        features: ['sentence1', 'sentence2', 'label', 'idx'],\n",
              "        num_rows: 1725\n",
              "    })\n",
              "})"
            ]
          },
          "metadata": {},
          "execution_count": 2
        }
      ],
      "source": [
        "from datasets import load_dataset\n",
        "\n",
        "raw_datasets = load_dataset(\"glue\", \"mrpc\")\n",
        "raw_datasets"
      ]
    },
    {
      "cell_type": "markdown",
      "source": [
        "As you can see, we get a DatasetDict object which contains the training set, the validation set, and the test set. Each of those contains several columns (sentence1, sentence2, label, and idx) and a variable number of rows, which are the number of elements in each set (so, there are 3,668 pairs of sentences in the training set, 408 in the validation set, and 1,725 in the test set).\n",
        "\n",
        "This command downloads and caches the dataset, by default in `~/.cache/huggingface/datasets`. Recall from Chapter 2 that you can customize your cache folder by setting the HF_HOME environment variable.\n",
        "\n",
        "We can access each pair of sentences in our raw_datasets object by indexing, like with a dictionary:"
      ],
      "metadata": {
        "id": "LBeHEt2j0Zg1"
      }
    },
    {
      "cell_type": "code",
      "source": [
        "raw_train_dataset = raw_datasets[\"train\"]\n",
        "raw_train_dataset[0]"
      ],
      "metadata": {
        "colab": {
          "base_uri": "https://localhost:8080/"
        },
        "id": "FMhX0YvF0eC3",
        "outputId": "1e896121-1fcf-43a4-8b04-fba34cb17ff5"
      },
      "execution_count": 3,
      "outputs": [
        {
          "output_type": "execute_result",
          "data": {
            "text/plain": [
              "{'sentence1': 'Amrozi accused his brother , whom he called \" the witness \" , of deliberately distorting his evidence .',\n",
              " 'sentence2': 'Referring to him as only \" the witness \" , Amrozi accused his brother of deliberately distorting his evidence .',\n",
              " 'label': 1,\n",
              " 'idx': 0}"
            ]
          },
          "metadata": {},
          "execution_count": 3
        }
      ]
    },
    {
      "cell_type": "markdown",
      "source": [
        "We can see the labels are already integers, so we won’t have to do any preprocessing there. To know which integer corresponds to which label, we can inspect the features of our `raw_train_dataset`."
      ],
      "metadata": {
        "id": "wYQ2r6_d0n-g"
      }
    },
    {
      "cell_type": "code",
      "source": [
        "raw_train_dataset.features"
      ],
      "metadata": {
        "colab": {
          "base_uri": "https://localhost:8080/"
        },
        "id": "vclWPZky0o_8",
        "outputId": "dc72a2e9-1974-4c94-e8ad-1d37052395e8"
      },
      "execution_count": 4,
      "outputs": [
        {
          "output_type": "execute_result",
          "data": {
            "text/plain": [
              "{'sentence1': Value(dtype='string', id=None),\n",
              " 'sentence2': Value(dtype='string', id=None),\n",
              " 'label': ClassLabel(names=['not_equivalent', 'equivalent'], id=None),\n",
              " 'idx': Value(dtype='int32', id=None)}"
            ]
          },
          "metadata": {},
          "execution_count": 4
        }
      ]
    },
    {
      "cell_type": "markdown",
      "source": [
        "Behind the scenes, label is of type ClassLabel, and the mapping of integers to label name is stored in the names folder. 0 corresponds to not_equivalent, and 1 corresponds to equivalent."
      ],
      "metadata": {
        "id": "XO_h_4N_0xFM"
      }
    },
    {
      "cell_type": "markdown",
      "source": [
        "**Preprocessing a dataset**\n",
        "\n",
        "To preprocess the dataset, we need to convert the text to numbers the model can make sense of. As you saw in the previous chapter, this is done with a tokenizer. We can feed the tokenizer one sentence or a list of sentences, so we can directly tokenize all the first sentences and all the second sentences of each pair like this:"
      ],
      "metadata": {
        "id": "bUkHrzsj1ARG"
      }
    },
    {
      "cell_type": "code",
      "source": [
        "from transformers import AutoTokenizer\n",
        "\n",
        "checkpoint = \"bert-base-uncased\"\n",
        "tokenizer = AutoTokenizer.from_pretrained(checkpoint)\n",
        "tokenized_sentences_1 = tokenizer(raw_datasets[\"train\"][\"sentence1\"])\n",
        "tokenized_sentences_2 = tokenizer(raw_datasets[\"train\"][\"sentence2\"])"
      ],
      "metadata": {
        "colab": {
          "base_uri": "https://localhost:8080/",
          "height": 200,
          "referenced_widgets": [
            "183d53319caa41a49401fbb423a5ac0e",
            "4c09ae2a5f52496db8a6f4f11f1982dd",
            "2c1caad20e94404091c25c9d9f9092c4",
            "44645b0827f84541a3f94e4a4fac13ac",
            "8fc8da3835cf4d45882f07f965eb4eab",
            "798f5360828e44d2b9124ffe29af7ddc",
            "c6f404b1b8f04696a19eefc8ca218cde",
            "1f78bc53eb374d8fa9b99a33c8194db2",
            "2cd87516fed949e581f0fd9df78f1c53",
            "0de9d5f32a1f43b5be25e34ff425486c",
            "43f9c8b899bb43ed9b9550447c3211d2",
            "1b8be898c97b49cf9e0cea13c8c8c045",
            "562529c9617e45acab93fbde18dcdd00",
            "25a12ada98f9485384030d77496d7f0e",
            "9ee1f9f6c1f348fc8962b02ab030526f",
            "380118f98c40462f8e44156fd7bf5a01",
            "79aea2c7166645bebea86f83ddbc9f20",
            "aa1742f4377d4b2cb061e6458ad6c7e8",
            "2632ab253a094a8e80b59ca83b7c1848",
            "1c935de97bab48078fd990e43a20fc06",
            "33dfaa85843242f8ae19e2655b061811",
            "1d10a8df63eb45d9ba94e43868fafff3",
            "7aa7e329838c4410b2b51518b292addd",
            "0b3a2a177eab48bb8f0ce895d785b260",
            "06faf318a7ae476fb81ce9d0f6e0bced",
            "f2c575731458420fb0a92e1e0a7cdc34",
            "6d0f08d142f644bd9a7e46012f88235a",
            "befbf128674d4022937711dd2555e0bb",
            "92a059334e334d358affc2266366c2a6",
            "180026b12b45401bb34c2bc24554d2c4",
            "2aab16ac74084c7f87fcb9b94ff2c6d3",
            "bf080b7673a2424e8612cf3e75ea4efe",
            "6c9de0e9e2f04669982af59981e6dbd5",
            "fd292de5aba143d8bcc640795a0130c6",
            "adc0663742754a70b04498d9d97e374d",
            "c3ea7196c54c4098973603a0d203775c",
            "0a919b4ab5a441b49fcab1a6deda0835",
            "4a7b3a0c187944cba770a3930cdc6a98",
            "18be2d498e46439382f3878e146c2b22",
            "6c8e90137bda4ddaa909f1c533064ac2",
            "7522a73178f9460a844ffe2a9b693439",
            "0e4a97a67cd14751b62e597cc2af3d07",
            "8794dbf219eb4fddb7021acd8ff1a8fc",
            "9a6a78f667a74e12bd0ac641df4a70a1"
          ]
        },
        "id": "PQHZsqW21KgN",
        "outputId": "e5829955-7131-41f3-9d8c-c16e87fb87f3"
      },
      "execution_count": 5,
      "outputs": [
        {
          "output_type": "display_data",
          "data": {
            "text/plain": [
              "tokenizer_config.json:   0%|          | 0.00/48.0 [00:00<?, ?B/s]"
            ],
            "application/vnd.jupyter.widget-view+json": {
              "version_major": 2,
              "version_minor": 0,
              "model_id": "183d53319caa41a49401fbb423a5ac0e"
            }
          },
          "metadata": {}
        },
        {
          "output_type": "stream",
          "name": "stderr",
          "text": [
            "/usr/local/lib/python3.10/dist-packages/huggingface_hub/file_download.py:1132: FutureWarning: `resume_download` is deprecated and will be removed in version 1.0.0. Downloads always resume when possible. If you want to force a new download, use `force_download=True`.\n",
            "  warnings.warn(\n"
          ]
        },
        {
          "output_type": "display_data",
          "data": {
            "text/plain": [
              "config.json:   0%|          | 0.00/570 [00:00<?, ?B/s]"
            ],
            "application/vnd.jupyter.widget-view+json": {
              "version_major": 2,
              "version_minor": 0,
              "model_id": "1b8be898c97b49cf9e0cea13c8c8c045"
            }
          },
          "metadata": {}
        },
        {
          "output_type": "display_data",
          "data": {
            "text/plain": [
              "vocab.txt:   0%|          | 0.00/232k [00:00<?, ?B/s]"
            ],
            "application/vnd.jupyter.widget-view+json": {
              "version_major": 2,
              "version_minor": 0,
              "model_id": "7aa7e329838c4410b2b51518b292addd"
            }
          },
          "metadata": {}
        },
        {
          "output_type": "display_data",
          "data": {
            "text/plain": [
              "tokenizer.json:   0%|          | 0.00/466k [00:00<?, ?B/s]"
            ],
            "application/vnd.jupyter.widget-view+json": {
              "version_major": 2,
              "version_minor": 0,
              "model_id": "fd292de5aba143d8bcc640795a0130c6"
            }
          },
          "metadata": {}
        }
      ]
    },
    {
      "cell_type": "markdown",
      "source": [
        "However, we can’t just pass two sequences to the model and get a prediction of whether the two sentences are paraphrases or not. We need to handle the two sequences as a pair, and apply the appropriate preprocessing. Fortunately, the tokenizer can also take a pair of sequences and prepare it the way our BERT model expects:"
      ],
      "metadata": {
        "id": "zPehjnLD1MT5"
      }
    },
    {
      "cell_type": "code",
      "source": [
        "inputs = tokenizer(\"This is the first sentence.\", \"This is the second one.\")\n",
        "inputs"
      ],
      "metadata": {
        "colab": {
          "base_uri": "https://localhost:8080/"
        },
        "id": "xog4OZLq1Ptm",
        "outputId": "674e2484-2d44-42a7-84da-cbd17f7a0909"
      },
      "execution_count": 6,
      "outputs": [
        {
          "output_type": "execute_result",
          "data": {
            "text/plain": [
              "{'input_ids': [101, 2023, 2003, 1996, 2034, 6251, 1012, 102, 2023, 2003, 1996, 2117, 2028, 1012, 102], 'token_type_ids': [0, 0, 0, 0, 0, 0, 0, 0, 1, 1, 1, 1, 1, 1, 1], 'attention_mask': [1, 1, 1, 1, 1, 1, 1, 1, 1, 1, 1, 1, 1, 1, 1]}"
            ]
          },
          "metadata": {},
          "execution_count": 6
        }
      ]
    },
    {
      "cell_type": "markdown",
      "source": [
        "`token_type_ids` is what tells the model which part of the input is the first sentence and which is the second sentence.\n",
        "\n",
        "If we decode the IDs inside `input_ids` back to words:\n",
        "\n"
      ],
      "metadata": {
        "id": "LyyqHQN41YNN"
      }
    },
    {
      "cell_type": "code",
      "source": [
        "tokenizer.convert_ids_to_tokens(inputs[\"input_ids\"])"
      ],
      "metadata": {
        "colab": {
          "base_uri": "https://localhost:8080/"
        },
        "id": "0OYMTvYv1fVw",
        "outputId": "c49bd9f7-dedd-4a4d-9bab-09825b522dfe"
      },
      "execution_count": 7,
      "outputs": [
        {
          "output_type": "execute_result",
          "data": {
            "text/plain": [
              "['[CLS]',\n",
              " 'this',\n",
              " 'is',\n",
              " 'the',\n",
              " 'first',\n",
              " 'sentence',\n",
              " '.',\n",
              " '[SEP]',\n",
              " 'this',\n",
              " 'is',\n",
              " 'the',\n",
              " 'second',\n",
              " 'one',\n",
              " '.',\n",
              " '[SEP]']"
            ]
          },
          "metadata": {},
          "execution_count": 7
        }
      ]
    },
    {
      "cell_type": "markdown",
      "source": [
        "As you can see, the parts of the input corresponding to [CLS] sentence1 [SEP] all have a token type ID of 0, while the other parts, corresponding to sentence2 [SEP], all have a token type ID of 1.\n",
        "\n",
        "Note that if you select a different checkpoint, you won’t necessarily have the token_type_ids in your tokenized inputs (for instance, they’re not returned if you use a DistilBERT model). They are only returned when the model will know what to do with them, because it has seen them during its pretraining."
      ],
      "metadata": {
        "id": "XpMA7yEv1lPX"
      }
    },
    {
      "cell_type": "markdown",
      "source": [
        "BERT is pretrained using token type IDs and an additional objective called `next sentence prediction (NSP)` alongside the masked language modeling (MLM) objective. NSP involves providing the model with pairs of sentences and predicting whether the second sentence follows the first. Half the pairs follow the original document order, and half are from different documents.\n",
        "\n",
        "You don't need to worry about token_type_ids in tokenized inputs as long as the same checkpoint is used for both the tokenizer and model. To tokenize a dataset, you can feed the tokenizer a list of sentence pairs, compatible with padding and truncation options. This method can be used to preprocess the training dataset."
      ],
      "metadata": {
        "id": "TK0-p6Is1zp8"
      }
    },
    {
      "cell_type": "code",
      "source": [
        "tokenized_dataset = tokenizer(\n",
        "    raw_datasets[\"train\"][\"sentence1\"],\n",
        "    raw_datasets[\"train\"][\"sentence2\"],\n",
        "    padding=True,\n",
        "    truncation=True,\n",
        ")"
      ],
      "metadata": {
        "id": "U8W_JIbI13oo"
      },
      "execution_count": 8,
      "outputs": []
    },
    {
      "cell_type": "markdown",
      "source": [
        "The current method of tokenization returns a dictionary with keys like `input_ids`, `attention_mask`, and `token_type_ids`, and their values are lists of lists. This approach requires enough RAM to store the entire dataset during tokenization, unlike the 🤗 Datasets library which uses Apache Arrow files to keep most data on disk, only loading requested samples into memory.\n",
        "\n",
        "To address this, we can use the `Dataset.map()` method, which maintains the data as a dataset and offers more flexibility for additional preprocessing. The `map()` method applies a function to each element of the dataset, so we'll define a function for tokenizing the inputs."
      ],
      "metadata": {
        "id": "66Hsm8ZB2F5H"
      }
    },
    {
      "cell_type": "code",
      "source": [
        "def tokenize_function(example):\n",
        "    return tokenizer(example[\"sentence1\"], example[\"sentence2\"], truncation=True)"
      ],
      "metadata": {
        "id": "Pm4NOmyL2GAY"
      },
      "execution_count": 9,
      "outputs": []
    },
    {
      "cell_type": "markdown",
      "source": [
        "This function processes a dictionary by returning a new dictionary with the keys `input_ids`, `attention_mask`, and `token_type_ids`. It handles multiple samples efficiently by working on lists of sentence pairs, allowing the use of `batched=True` in the `map()` call to speed up tokenization. The tokenizer, from the 🤗 [Tokenizers](https://github.com/huggingface/tokenizers) library and written in Rust, performs well with large inputs.\n",
        "\n",
        "Padding is omitted during tokenization to avoid inefficiency. Padding is done while building a batch to match the maximum length within that batch, rather than the entire dataset, saving time and processing power. Using `batched=True` in the `map` function applies the tokenization to multiple dataset elements simultaneously, enhancing preprocessing speed."
      ],
      "metadata": {
        "id": "YDxWW5Ks2RiB"
      }
    },
    {
      "cell_type": "code",
      "source": [
        "tokenized_datasets = raw_datasets.map(tokenize_function, batched=True)\n",
        "tokenized_datasets"
      ],
      "metadata": {
        "colab": {
          "base_uri": "https://localhost:8080/",
          "height": 408,
          "referenced_widgets": [
            "deb1cfc5754c4a8687c7a8d8b9711b9f",
            "7bee11b497444eafbd9fe1760498f690",
            "f0101efe233445e4b0d519623be1cdb3",
            "7155712a7e7146c6b493f0af27ef4fe8",
            "d986f545ac38423f8cb1eab8152f2bd3",
            "efb8a494b9ee4dca9d906b49ba9ef013",
            "45823bae72414ce99af87009a86842bc",
            "bc589835c986415d881e817c0c055268",
            "9d196eb054d5413a949cd9d0337ee5ec",
            "82ea4027c6824e8d82c6259104737b94",
            "9ba87743410c4d1f9bc591e3049c056f",
            "fe6e7eca9b9e4334aab8cafe2a2c8a83",
            "50fb4c169af84d5d8947f080308d2478",
            "3863dd6a847845be9b8a552cc53e8fcc",
            "7bf8ca9b074841388d21c75311c112a4",
            "ff3c5257f24f4c229c7fbcc55384a92d",
            "a00b12ac96394124a4abbf7abd90979b",
            "512794ff24c848b4b3a1a9e40bc3049f",
            "759ef0511348485cb8a7cfa3264a9b2b",
            "4dfc051f46994aa9b74e9f0ea23f9576",
            "cf04e76bf19d455d91c932cb73527a31",
            "0ae4343b8e2e4c219eae23127420d6a6",
            "b232b86b03e041e29c49a9cb5631209f",
            "349e222fb012471ebefe9ada74d49620",
            "ffb86a11856f4a50894e6034366c8e06",
            "f59010171eeb4efaab30bbcecf81b19f",
            "a0a5ee5c317848a99b8bc456434380f5",
            "d015cc656d424a719c52360a08604320",
            "f7d9728da4754e2eaaf2f77cbe11836b",
            "1214cda97d9b4efab31ccf267965b07c",
            "417b00f1c3a04ddc9069a3db24d39f95",
            "70a5273f498643f886057450f979032b",
            "99c41c6023264c77861a8667b2a1dae8"
          ]
        },
        "id": "tl0dXB4n2jzj",
        "outputId": "738a4382-1295-4beb-826c-3ad9e884ce08"
      },
      "execution_count": 10,
      "outputs": [
        {
          "output_type": "display_data",
          "data": {
            "text/plain": [
              "Map:   0%|          | 0/3668 [00:00<?, ? examples/s]"
            ],
            "application/vnd.jupyter.widget-view+json": {
              "version_major": 2,
              "version_minor": 0,
              "model_id": "deb1cfc5754c4a8687c7a8d8b9711b9f"
            }
          },
          "metadata": {}
        },
        {
          "output_type": "display_data",
          "data": {
            "text/plain": [
              "Map:   0%|          | 0/408 [00:00<?, ? examples/s]"
            ],
            "application/vnd.jupyter.widget-view+json": {
              "version_major": 2,
              "version_minor": 0,
              "model_id": "fe6e7eca9b9e4334aab8cafe2a2c8a83"
            }
          },
          "metadata": {}
        },
        {
          "output_type": "display_data",
          "data": {
            "text/plain": [
              "Map:   0%|          | 0/1725 [00:00<?, ? examples/s]"
            ],
            "application/vnd.jupyter.widget-view+json": {
              "version_major": 2,
              "version_minor": 0,
              "model_id": "b232b86b03e041e29c49a9cb5631209f"
            }
          },
          "metadata": {}
        },
        {
          "output_type": "execute_result",
          "data": {
            "text/plain": [
              "DatasetDict({\n",
              "    train: Dataset({\n",
              "        features: ['sentence1', 'sentence2', 'label', 'idx', 'input_ids', 'token_type_ids', 'attention_mask'],\n",
              "        num_rows: 3668\n",
              "    })\n",
              "    validation: Dataset({\n",
              "        features: ['sentence1', 'sentence2', 'label', 'idx', 'input_ids', 'token_type_ids', 'attention_mask'],\n",
              "        num_rows: 408\n",
              "    })\n",
              "    test: Dataset({\n",
              "        features: ['sentence1', 'sentence2', 'label', 'idx', 'input_ids', 'token_type_ids', 'attention_mask'],\n",
              "        num_rows: 1725\n",
              "    })\n",
              "})"
            ]
          },
          "metadata": {},
          "execution_count": 10
        }
      ]
    },
    {
      "cell_type": "markdown",
      "source": [
        "You can use multiprocessing to speed up your preprocessing function with `map()` by specifying the `num_proc` argument. This isn't necessary when using the 🤗 Tokenizers library, as it already employs multiple threads for faster tokenization. The `tokenize_function` returns a dictionary with `input_ids`, `attention_mask`, and `token_type_ids`, adding these fields to all dataset splits. You can also update existing fields if the preprocessing function returns new values for existing keys. Lastly, dynamic padding is needed to pad all examples to the length of the longest element when batching them together."
      ],
      "metadata": {
        "id": "edfYlib12uXA"
      }
    },
    {
      "cell_type": "markdown",
      "source": [
        "**Dynamic padding**\n",
        "\n",
        "The `collate function` is responsible for assembling samples into a batch for a DataLoader. By default, it converts samples to PyTorch tensors and concatenates them, which is not suitable if samples vary in size. To handle variable input sizes and avoid excessive padding, padding is applied as needed for each batch, improving training speed.\n",
        "\n",
        "However, this can be problematic for TPU training, which prefers fixed shapes. The 🤗 Transformers library offers DataCollatorWithPadding, which automatically handles padding based on the provided tokenizer, accommodating model-specific padding requirements."
      ],
      "metadata": {
        "id": "OOFgB6ae2_FM"
      }
    },
    {
      "cell_type": "code",
      "source": [
        "from transformers import DataCollatorWithPadding\n",
        "\n",
        "data_collator = DataCollatorWithPadding(tokenizer=tokenizer)"
      ],
      "metadata": {
        "id": "Rq4LJP_62Ro2"
      },
      "execution_count": 11,
      "outputs": []
    },
    {
      "cell_type": "code",
      "source": [
        "# Here, we remove the columns idx, sentence1, and sentence2 as they won’t be needed\n",
        "# and contain strings (and we can’t create tensors with strings) and have a look at the lengths\n",
        "# of each entry in the batch:\n",
        "samples = tokenized_datasets[\"train\"][:8]\n",
        "samples = {k: v for k, v in samples.items() if k not in [\"idx\", \"sentence1\", \"sentence2\"]}\n",
        "[len(x) for x in samples[\"input_ids\"]]"
      ],
      "metadata": {
        "colab": {
          "base_uri": "https://localhost:8080/"
        },
        "id": "rODlDRU83Z_M",
        "outputId": "cff9a62d-6083-48f8-ad18-4d0fae286d19"
      },
      "execution_count": 12,
      "outputs": [
        {
          "output_type": "execute_result",
          "data": {
            "text/plain": [
              "[50, 59, 47, 67, 59, 50, 62, 32]"
            ]
          },
          "metadata": {},
          "execution_count": 12
        }
      ]
    },
    {
      "cell_type": "markdown",
      "source": [
        "No surprise, we get samples of varying length, from 32 to 67. Dynamic padding means the samples in this batch should all be padded to a length of 67, the maximum length inside the batch. Without dynamic padding, all of the samples would have to be padded to the maximum length in the whole dataset, or the maximum length the model can accept. Let’s double-check that our data_collator is dynamically padding the batch properly:"
      ],
      "metadata": {
        "id": "0qd2F5zk3iPb"
      }
    },
    {
      "cell_type": "code",
      "source": [
        "batch = data_collator(samples)\n",
        "{k: v.shape for k, v in batch.items()}"
      ],
      "metadata": {
        "colab": {
          "base_uri": "https://localhost:8080/"
        },
        "id": "4eaGDZLd3iVd",
        "outputId": "6753ef1c-c899-4bda-880d-9fe062567e12"
      },
      "execution_count": 13,
      "outputs": [
        {
          "output_type": "execute_result",
          "data": {
            "text/plain": [
              "{'input_ids': torch.Size([8, 67]),\n",
              " 'token_type_ids': torch.Size([8, 67]),\n",
              " 'attention_mask': torch.Size([8, 67]),\n",
              " 'labels': torch.Size([8])}"
            ]
          },
          "metadata": {},
          "execution_count": 13
        }
      ]
    },
    {
      "cell_type": "markdown",
      "source": [
        "Looking good! Now that we’ve gone from raw text to batches our model can deal with, we’re ready to fine-tune it!\n",
        "\n"
      ],
      "metadata": {
        "id": "k4Q-hz5U3lfN"
      }
    },
    {
      "cell_type": "markdown",
      "source": [
        "# 2. Fine-tuning a model with the trainer API or Keras\n",
        "\n",
        "🤗 Transformers provides a Trainer class to help you fine-tune any of the pretrained models it provides on your dataset. Once you’ve done all the data preprocessing work in the last section, you have just a few steps left to define the Trainer. The hardest part is likely to be preparing the environment to run Trainer.train(), as it will run very slowly on a CPU. If you don’t have a GPU set up, you can get access to free GPUs or TPUs on Google Colab."
      ],
      "metadata": {
        "id": "HK_HGKmX3l5F"
      }
    },
    {
      "cell_type": "markdown",
      "source": [
        "**Training**\n",
        "\n",
        "The first step before we can define our Trainer is to define a TrainingArguments class that will contain all the hyperparameters the Trainer will use for training and evaluation. The only argument you have to provide is a directory where the trained model will be saved, as well as the checkpoints along the way. For all the rest, you can leave the defaults, which should work pretty well for a basic fine-tuning."
      ],
      "metadata": {
        "id": "AWPATWwV3q_T"
      }
    },
    {
      "cell_type": "code",
      "source": [
        "from transformers import TrainingArguments\n",
        "\n",
        "training_args = TrainingArguments(\"test-trainer\")"
      ],
      "metadata": {
        "id": "IxOQK0iq3rKU"
      },
      "execution_count": 14,
      "outputs": []
    },
    {
      "cell_type": "code",
      "source": [
        "# define our model\n",
        "from transformers import AutoModelForSequenceClassification\n",
        "\n",
        "model = AutoModelForSequenceClassification.from_pretrained(checkpoint, num_labels=2)"
      ],
      "metadata": {
        "colab": {
          "base_uri": "https://localhost:8080/",
          "height": 104,
          "referenced_widgets": [
            "59c15bf75e84488c9fe2f6ad0838b332",
            "15b61426362a433c8577591895ee14ec",
            "c84b39e044ab47139224eccb4aa2522d",
            "82d2f66040104d09a0269c884b91f04d",
            "a8b8599bdfab473ab1bdec67ade635c9",
            "6a036d7155334fcda53e50d2e54d403a",
            "11c62a1fd32c42f0b95ea76f06d3b6fb",
            "f39a6a47224345c38865311ce8384e6d",
            "0af18ff84db74d5db71e000693162ed2",
            "dc9612d56b4049a497d656ee6c62898e",
            "da67ccb8a21b435ab430247b5f023d66"
          ]
        },
        "id": "ZkEGqnw93rM2",
        "outputId": "73579d31-8bd0-41d4-9190-01381a90b5c3"
      },
      "execution_count": 15,
      "outputs": [
        {
          "output_type": "display_data",
          "data": {
            "text/plain": [
              "model.safetensors:   0%|          | 0.00/440M [00:00<?, ?B/s]"
            ],
            "application/vnd.jupyter.widget-view+json": {
              "version_major": 2,
              "version_minor": 0,
              "model_id": "59c15bf75e84488c9fe2f6ad0838b332"
            }
          },
          "metadata": {}
        },
        {
          "output_type": "stream",
          "name": "stderr",
          "text": [
            "Some weights of BertForSequenceClassification were not initialized from the model checkpoint at bert-base-uncased and are newly initialized: ['classifier.bias', 'classifier.weight']\n",
            "You should probably TRAIN this model on a down-stream task to be able to use it for predictions and inference.\n"
          ]
        }
      ]
    },
    {
      "cell_type": "markdown",
      "source": [
        "Once we have our model, we can define a Trainer by passing it all the objects constructed up to now — the model, the training_args, the training and validation datasets, our data_collator, and our tokenizer:"
      ],
      "metadata": {
        "id": "9NrwbKdH3rBb"
      }
    },
    {
      "cell_type": "code",
      "source": [
        "from transformers import Trainer\n",
        "\n",
        "trainer = Trainer(\n",
        "    model,\n",
        "    training_args,\n",
        "    train_dataset=tokenized_datasets[\"train\"],\n",
        "    eval_dataset=tokenized_datasets[\"validation\"],\n",
        "    data_collator=data_collator,\n",
        "    tokenizer=tokenizer,\n",
        ")"
      ],
      "metadata": {
        "id": "h48wrw-V6uub"
      },
      "execution_count": 16,
      "outputs": []
    },
    {
      "cell_type": "markdown",
      "source": [
        "Note that when you pass the tokenizer as we did here, the default data_collator used by the Trainer will be a DataCollatorWithPadding as defined previously, so you can skip the line data_collator=data_collator in this call. It was still important to show you this part of the processing in section 2!\n",
        "\n",
        "To fine-tune the model on our dataset, we just have to call the train() method of our Trainer:"
      ],
      "metadata": {
        "id": "EPZHhw366xJt"
      }
    },
    {
      "cell_type": "code",
      "source": [
        "trainer.train()"
      ],
      "metadata": {
        "colab": {
          "base_uri": "https://localhost:8080/",
          "height": 190
        },
        "id": "zwrj4-wB6xRt",
        "outputId": "6703eea1-4f02-405b-f41c-4ba7f220dcd4"
      },
      "execution_count": 17,
      "outputs": [
        {
          "output_type": "display_data",
          "data": {
            "text/plain": [
              "<IPython.core.display.HTML object>"
            ],
            "text/html": [
              "\n",
              "    <div>\n",
              "      \n",
              "      <progress value='1377' max='1377' style='width:300px; height:20px; vertical-align: middle;'></progress>\n",
              "      [1377/1377 04:00, Epoch 3/3]\n",
              "    </div>\n",
              "    <table border=\"1\" class=\"dataframe\">\n",
              "  <thead>\n",
              " <tr style=\"text-align: left;\">\n",
              "      <th>Step</th>\n",
              "      <th>Training Loss</th>\n",
              "    </tr>\n",
              "  </thead>\n",
              "  <tbody>\n",
              "    <tr>\n",
              "      <td>500</td>\n",
              "      <td>0.519800</td>\n",
              "    </tr>\n",
              "    <tr>\n",
              "      <td>1000</td>\n",
              "      <td>0.239300</td>\n",
              "    </tr>\n",
              "  </tbody>\n",
              "</table><p>"
            ]
          },
          "metadata": {}
        },
        {
          "output_type": "execute_result",
          "data": {
            "text/plain": [
              "TrainOutput(global_step=1377, training_loss=0.30278645101975254, metrics={'train_runtime': 243.0352, 'train_samples_per_second': 45.277, 'train_steps_per_second': 5.666, 'total_flos': 405114969714960.0, 'train_loss': 0.30278645101975254, 'epoch': 3.0})"
            ]
          },
          "metadata": {},
          "execution_count": 17
        }
      ]
    },
    {
      "cell_type": "markdown",
      "source": [
        "This will start the fine-tuning (which should take a couple of minutes on a GPU) and report the training loss every 500 steps. It won’t, however, tell you how well (or badly) your model is performing. This is because:\n",
        "\n",
        "1. We didn’t tell the Trainer to evaluate during training by setting evaluation_strategy to either \"steps\" (evaluate every eval_steps) or \"epoch\" (evaluate at the end of each epoch).\n",
        "\n",
        "2. We didn’t provide the Trainer with a compute_metrics() function to calculate a metric during said evaluation (otherwise the evaluation would just have printed the loss, which is not a very intuitive number)."
      ],
      "metadata": {
        "id": "Ct0gIik27TZ2"
      }
    },
    {
      "cell_type": "markdown",
      "source": [
        "**Evaluation**\n",
        "\n",
        "To build a useful `compute_metrics()` function for evaluating model performance during training, follow these steps:\n",
        "\n",
        "1. The function should take an `EvalPrediction` object as input. This object is a named tuple with `predictions` and `label_ids` fields.\n",
        "2. The function should return a dictionary where:\n",
        "   - Keys are metric names (strings).\n",
        "   - Values are the corresponding metric values (floats).\n",
        "3. To generate predictions from the model, use the `Trainer.predict()` command."
      ],
      "metadata": {
        "id": "YlziMin57YWd"
      }
    },
    {
      "cell_type": "code",
      "source": [
        "predictions = trainer.predict(tokenized_datasets[\"validation\"])\n",
        "print(predictions.predictions.shape, predictions.label_ids.shape)"
      ],
      "metadata": {
        "colab": {
          "base_uri": "https://localhost:8080/",
          "height": 34
        },
        "id": "7Ob2VRFZ7qyl",
        "outputId": "8ce46ae6-ccb6-4a35-dd9a-cfb973b2e836"
      },
      "execution_count": 18,
      "outputs": [
        {
          "output_type": "display_data",
          "data": {
            "text/plain": [
              "<IPython.core.display.HTML object>"
            ],
            "text/html": []
          },
          "metadata": {}
        },
        {
          "output_type": "stream",
          "name": "stdout",
          "text": [
            "(408, 2) (408,)\n"
          ]
        }
      ]
    },
    {
      "cell_type": "markdown",
      "source": [
        "The `predict()` method returns a named tuple with three fields: `predictions`, `label_ids`, and `metrics`. The `metrics` field includes the dataset loss and time metrics (total and average prediction time). After implementing and passing the `compute_metrics()` function to the Trainer, `metrics` will also include additional computed metrics.\n",
        "\n",
        "The `predictions` field is a 2D array with a shape of 408 x 2, representing the logits for each of the 408 elements in the dataset. To convert these logits into actual predictions, we need to select the index with the maximum value along the second axis."
      ],
      "metadata": {
        "id": "8Dxl7yl07q5m"
      }
    },
    {
      "cell_type": "code",
      "source": [
        "import numpy as np\n",
        "\n",
        "preds = np.argmax(predictions.predictions, axis=-1)"
      ],
      "metadata": {
        "id": "wTiv7dll72Gr"
      },
      "execution_count": 19,
      "outputs": []
    },
    {
      "cell_type": "markdown",
      "source": [
        "We can now compare those preds to the labels. To build our compute_metric() function, we will rely on the metrics from the 🤗 [Evaluate](https://github.com/huggingface/evaluate/) library. We can load the metrics associated with the MRPC dataset as easily as we loaded the dataset, this time with the evaluate.load() function. The object returned has a compute() method we can use to do the metric calculation:"
      ],
      "metadata": {
        "id": "mhVzY-eo8j6F"
      }
    },
    {
      "cell_type": "code",
      "source": [
        "!pip install --quiet evaluate"
      ],
      "metadata": {
        "colab": {
          "base_uri": "https://localhost:8080/"
        },
        "id": "FLA5noTh8ysX",
        "outputId": "ad3f8da8-41a9-45b4-9405-ae1f355e65c6"
      },
      "execution_count": 20,
      "outputs": [
        {
          "output_type": "stream",
          "name": "stdout",
          "text": [
            "\u001b[?25l     \u001b[90m━━━━━━━━━━━━━━━━━━━━━━━━━━━━━━━━━━━━━━━━\u001b[0m \u001b[32m0.0/84.1 kB\u001b[0m \u001b[31m?\u001b[0m eta \u001b[36m-:--:--\u001b[0m\r\u001b[2K     \u001b[90m━━━━━━━━━━━━━━━━━━━━━━━━━━━━━━━━━━━━━━━━\u001b[0m \u001b[32m84.1/84.1 kB\u001b[0m \u001b[31m3.3 MB/s\u001b[0m eta \u001b[36m0:00:00\u001b[0m\n",
            "\u001b[?25h"
          ]
        }
      ]
    },
    {
      "cell_type": "code",
      "source": [
        "import evaluate\n",
        "\n",
        "metric = evaluate.load(\"glue\", \"mrpc\")\n",
        "metric.compute(predictions=preds, references=predictions.label_ids)"
      ],
      "metadata": {
        "colab": {
          "base_uri": "https://localhost:8080/",
          "height": 66,
          "referenced_widgets": [
            "f1321feb8e3b4163b70df4f81307a8c1",
            "2b9500c50f8d4782a047934d7a468b56",
            "00e956acfb5647088e9843cb2addc9e5",
            "c2a8c61892414f43a57c080bf3a3429c",
            "7c9ff609f4754d8191241d0f979a8093",
            "6cbd87da2d2641d39f584441280a0da8",
            "302282ceebf44605991730f9d6355585",
            "ba88754a40e443a3a2a114c3141030b6",
            "0cf96b83ec154117912dca170f17be03",
            "2385104f37f24053a3337b8d0f4a2f1e",
            "1fe7fa917ae14de196abd403e73f6010"
          ]
        },
        "id": "KfdHiPVo8kAA",
        "outputId": "65f8538e-6cf3-409c-e1e8-3777b4bf19e7"
      },
      "execution_count": 21,
      "outputs": [
        {
          "output_type": "display_data",
          "data": {
            "text/plain": [
              "Downloading builder script:   0%|          | 0.00/5.75k [00:00<?, ?B/s]"
            ],
            "application/vnd.jupyter.widget-view+json": {
              "version_major": 2,
              "version_minor": 0,
              "model_id": "f1321feb8e3b4163b70df4f81307a8c1"
            }
          },
          "metadata": {}
        },
        {
          "output_type": "execute_result",
          "data": {
            "text/plain": [
              "{'accuracy': 0.8431372549019608, 'f1': 0.8885017421602788}"
            ]
          },
          "metadata": {},
          "execution_count": 21
        }
      ]
    },
    {
      "cell_type": "markdown",
      "source": [
        "The exact results you get may vary, as the random initialization of the model head might change the metrics it achieved. Here, we can see our model has an accuracy of 85.78% on the validation set and an F1 score of 89.97. Those are the two metrics used to evaluate results on the MRPC dataset for the GLUE benchmark. The table in the BERT paper reported an F1 score of 88.9 for the base model. That was the uncased model while we are currently using the cased model, which explains the better result.\n",
        "\n",
        "Wrapping everything together, we get our compute_metrics() function:\n",
        "\n"
      ],
      "metadata": {
        "id": "o64GGi859BQg"
      }
    },
    {
      "cell_type": "code",
      "source": [
        "def compute_metrics(eval_preds):\n",
        "    metric = evaluate.load(\"glue\", \"mrpc\")\n",
        "    logits, labels = eval_preds\n",
        "    predictions = np.argmax(logits, axis=-1)\n",
        "    return metric.compute(predictions=predictions, references=labels)"
      ],
      "metadata": {
        "id": "YNaISsNd9G38"
      },
      "execution_count": 22,
      "outputs": []
    },
    {
      "cell_type": "code",
      "source": [
        "training_args = TrainingArguments(\"test-trainer\", evaluation_strategy=\"epoch\")\n",
        "model = AutoModelForSequenceClassification.from_pretrained(checkpoint, num_labels=2)\n",
        "\n",
        "trainer = Trainer(\n",
        "    model,\n",
        "    training_args,\n",
        "    train_dataset=tokenized_datasets[\"train\"],\n",
        "    eval_dataset=tokenized_datasets[\"validation\"],\n",
        "    data_collator=data_collator,\n",
        "    tokenizer=tokenizer,\n",
        "    compute_metrics=compute_metrics,\n",
        ")"
      ],
      "metadata": {
        "colab": {
          "base_uri": "https://localhost:8080/"
        },
        "id": "cTl3T0uu9LUs",
        "outputId": "57413bb4-21e6-4ae6-b6a1-e5b0c7a7b17b"
      },
      "execution_count": 23,
      "outputs": [
        {
          "output_type": "stream",
          "name": "stderr",
          "text": [
            "/usr/local/lib/python3.10/dist-packages/transformers/training_args.py:1474: FutureWarning: `evaluation_strategy` is deprecated and will be removed in version 4.46 of 🤗 Transformers. Use `eval_strategy` instead\n",
            "  warnings.warn(\n",
            "Some weights of BertForSequenceClassification were not initialized from the model checkpoint at bert-base-uncased and are newly initialized: ['classifier.bias', 'classifier.weight']\n",
            "You should probably TRAIN this model on a down-stream task to be able to use it for predictions and inference.\n"
          ]
        }
      ]
    },
    {
      "cell_type": "markdown",
      "source": [
        "Note that we create a new TrainingArguments with its evaluation_strategy set to \"epoch\" and a new model — otherwise, we would just be continuing the training of the model we have already trained."
      ],
      "metadata": {
        "id": "AMITTGk89SSM"
      }
    },
    {
      "cell_type": "code",
      "source": [
        "trainer.train()"
      ],
      "metadata": {
        "colab": {
          "base_uri": "https://localhost:8080/",
          "height": 222
        },
        "id": "mdr7DY2q9S4o",
        "outputId": "d876ccc5-1485-49c8-f265-c729ae7177fa"
      },
      "execution_count": 24,
      "outputs": [
        {
          "output_type": "display_data",
          "data": {
            "text/plain": [
              "<IPython.core.display.HTML object>"
            ],
            "text/html": [
              "\n",
              "    <div>\n",
              "      \n",
              "      <progress value='1377' max='1377' style='width:300px; height:20px; vertical-align: middle;'></progress>\n",
              "      [1377/1377 04:05, Epoch 3/3]\n",
              "    </div>\n",
              "    <table border=\"1\" class=\"dataframe\">\n",
              "  <thead>\n",
              " <tr style=\"text-align: left;\">\n",
              "      <th>Epoch</th>\n",
              "      <th>Training Loss</th>\n",
              "      <th>Validation Loss</th>\n",
              "      <th>Accuracy</th>\n",
              "      <th>F1</th>\n",
              "    </tr>\n",
              "  </thead>\n",
              "  <tbody>\n",
              "    <tr>\n",
              "      <td>1</td>\n",
              "      <td>No log</td>\n",
              "      <td>0.371126</td>\n",
              "      <td>0.857843</td>\n",
              "      <td>0.901024</td>\n",
              "    </tr>\n",
              "    <tr>\n",
              "      <td>2</td>\n",
              "      <td>0.527200</td>\n",
              "      <td>0.459970</td>\n",
              "      <td>0.845588</td>\n",
              "      <td>0.893401</td>\n",
              "    </tr>\n",
              "    <tr>\n",
              "      <td>3</td>\n",
              "      <td>0.279600</td>\n",
              "      <td>0.774146</td>\n",
              "      <td>0.848039</td>\n",
              "      <td>0.894915</td>\n",
              "    </tr>\n",
              "  </tbody>\n",
              "</table><p>"
            ]
          },
          "metadata": {}
        },
        {
          "output_type": "execute_result",
          "data": {
            "text/plain": [
              "TrainOutput(global_step=1377, training_loss=0.3341553964386319, metrics={'train_runtime': 245.4461, 'train_samples_per_second': 44.833, 'train_steps_per_second': 5.61, 'total_flos': 405114969714960.0, 'train_loss': 0.3341553964386319, 'epoch': 3.0})"
            ]
          },
          "metadata": {},
          "execution_count": 24
        }
      ]
    },
    {
      "cell_type": "markdown",
      "source": [
        "The validation loss and metrics will be reported at the end of each epoch in addition to the training loss. The exact accuracy or F1 score may vary due to the random initialization of the model's head, but should be similar overall. The Trainer can run on multiple GPUs or TPUs and supports various options, including mixed-precision training. More details will be covered in Chapter 10."
      ],
      "metadata": {
        "id": "G1Q2Kij19jRj"
      }
    },
    {
      "cell_type": "markdown",
      "source": [
        "# 3. A full training\n",
        "\n",
        "Now we’ll see how to achieve the same results as we did in the last section without using the Trainer class. Again, we assume you have done the data processing in section 2. Here is a short summary covering everything you will need:"
      ],
      "metadata": {
        "id": "RhfcXTGW9uxu"
      }
    },
    {
      "cell_type": "code",
      "source": [
        "from datasets import load_dataset\n",
        "from transformers import AutoTokenizer, DataCollatorWithPadding\n",
        "\n",
        "raw_datasets = load_dataset(\"glue\", \"mrpc\")\n",
        "checkpoint = \"bert-base-uncased\"\n",
        "tokenizer = AutoTokenizer.from_pretrained(checkpoint)\n",
        "\n",
        "\n",
        "def tokenize_function(example):\n",
        "    return tokenizer(example[\"sentence1\"], example[\"sentence2\"], truncation=True)\n",
        "\n",
        "\n",
        "tokenized_datasets = raw_datasets.map(tokenize_function, batched=True)\n",
        "data_collator = DataCollatorWithPadding(tokenizer=tokenizer)"
      ],
      "metadata": {
        "colab": {
          "base_uri": "https://localhost:8080/",
          "height": 49,
          "referenced_widgets": [
            "70d15e53a81d4a03b6c3a7d6d50951fa",
            "ec930b267a57480d9df26a73dda2d564",
            "6569b5fdadb04dae93da365b3b9f1aa4",
            "ca46f9bf39e84d2ba64330013cc5c57a",
            "5253191abb3145a1bb1f854249b33afd",
            "d2a9e19d804e481c94a9b99cf0da290b",
            "6f83b7d64e4b4b289323d9395c350384",
            "32aa308f93bb4613ae91da46ee9d1fb5",
            "30fceba3dfec45d693fe42a72f482525",
            "88ce58c6a7664190a03bc5fde625afea",
            "c954c66efc844fcda0acff691a27ad35"
          ]
        },
        "id": "-U5yfby8-EJj",
        "outputId": "b88110f7-f581-4bd1-e96f-2e9941d65392"
      },
      "execution_count": 25,
      "outputs": [
        {
          "output_type": "display_data",
          "data": {
            "text/plain": [
              "Map:   0%|          | 0/3668 [00:00<?, ? examples/s]"
            ],
            "application/vnd.jupyter.widget-view+json": {
              "version_major": 2,
              "version_minor": 0,
              "model_id": "70d15e53a81d4a03b6c3a7d6d50951fa"
            }
          },
          "metadata": {}
        }
      ]
    },
    {
      "cell_type": "markdown",
      "source": [
        "**Prepare for training**\n",
        "\n",
        "Before actually writing our training loop, we will need to define a few objects. The first ones are the dataloaders we will use to iterate over batches. But before we can define those dataloaders, we need to apply a bit of postprocessing to our tokenized_datasets, to take care of some things that the Trainer did for us automatically. Specifically, we need to:\n",
        "\n",
        "- Remove the columns corresponding to values the model does not expect (like the sentence1 and sentence2 columns).\n",
        "- Rename the column label to labels (because the model expects the argument to be named labels).\n",
        "- Set the format of the datasets so they return PyTorch tensors instead of lists.\n",
        "\n",
        "Our tokenized_datasets has one method for each of those steps:"
      ],
      "metadata": {
        "id": "W3K_rqq2-Fqi"
      }
    },
    {
      "cell_type": "code",
      "source": [
        "tokenized_datasets = tokenized_datasets.remove_columns([\"sentence1\", \"sentence2\", \"idx\"])\n",
        "tokenized_datasets = tokenized_datasets.rename_column(\"label\", \"labels\")\n",
        "tokenized_datasets.set_format(\"torch\")\n",
        "tokenized_datasets[\"train\"].column_names"
      ],
      "metadata": {
        "colab": {
          "base_uri": "https://localhost:8080/"
        },
        "id": "G9SgVXOl-cPV",
        "outputId": "085f7d58-31d1-4480-a1f2-af81b3adda94"
      },
      "execution_count": 26,
      "outputs": [
        {
          "output_type": "execute_result",
          "data": {
            "text/plain": [
              "['labels', 'input_ids', 'token_type_ids', 'attention_mask']"
            ]
          },
          "metadata": {},
          "execution_count": 26
        }
      ]
    },
    {
      "cell_type": "code",
      "source": [
        "from torch.utils.data import DataLoader\n",
        "\n",
        "train_dataloader = DataLoader(\n",
        "    tokenized_datasets[\"train\"], shuffle=True, batch_size=8, collate_fn=data_collator\n",
        ")\n",
        "eval_dataloader = DataLoader(\n",
        "    tokenized_datasets[\"validation\"], batch_size=8, collate_fn=data_collator\n",
        ")"
      ],
      "metadata": {
        "id": "2fPElfvn-kzC"
      },
      "execution_count": 27,
      "outputs": []
    },
    {
      "cell_type": "code",
      "source": [
        "# quickly check there is no mistake in the data processing\n",
        "for batch in train_dataloader:\n",
        "    break\n",
        "{k: v.shape for k, v in batch.items()}"
      ],
      "metadata": {
        "colab": {
          "base_uri": "https://localhost:8080/"
        },
        "id": "BVSLYX9o-oMR",
        "outputId": "5fc8fff3-6084-4324-b627-295f8b8eba90"
      },
      "execution_count": 28,
      "outputs": [
        {
          "output_type": "execute_result",
          "data": {
            "text/plain": [
              "{'labels': torch.Size([8]),\n",
              " 'input_ids': torch.Size([8, 81]),\n",
              " 'token_type_ids': torch.Size([8, 81]),\n",
              " 'attention_mask': torch.Size([8, 81])}"
            ]
          },
          "metadata": {},
          "execution_count": 28
        }
      ]
    },
    {
      "cell_type": "markdown",
      "source": [
        "Note that the actual shapes will probably be slightly different for you since we set shuffle=True for the training dataloader and we are padding to the maximum length inside the batch.\n",
        "\n",
        "Now that we’re completely finished with data preprocessing (a satisfying yet elusive goal for any ML practitioner), let’s turn to the model."
      ],
      "metadata": {
        "id": "IVzARKop-3dm"
      }
    },
    {
      "cell_type": "code",
      "source": [
        "from transformers import AutoModelForSequenceClassification\n",
        "\n",
        "model = AutoModelForSequenceClassification.from_pretrained(checkpoint, num_labels=2)"
      ],
      "metadata": {
        "colab": {
          "base_uri": "https://localhost:8080/"
        },
        "id": "AbCrOjJD_C40",
        "outputId": "69223403-bf57-4991-c13a-753c7448188d"
      },
      "execution_count": 29,
      "outputs": [
        {
          "output_type": "stream",
          "name": "stderr",
          "text": [
            "Some weights of BertForSequenceClassification were not initialized from the model checkpoint at bert-base-uncased and are newly initialized: ['classifier.bias', 'classifier.weight']\n",
            "You should probably TRAIN this model on a down-stream task to be able to use it for predictions and inference.\n"
          ]
        }
      ]
    },
    {
      "cell_type": "code",
      "source": [
        "outputs = model(**batch)\n",
        "print(outputs.loss, outputs.logits.shape)"
      ],
      "metadata": {
        "colab": {
          "base_uri": "https://localhost:8080/"
        },
        "id": "eFP8VGtl_EpG",
        "outputId": "a72b84a6-35cc-4518-c999-028dff3691dd"
      },
      "execution_count": 30,
      "outputs": [
        {
          "output_type": "stream",
          "name": "stdout",
          "text": [
            "tensor(0.9363, grad_fn=<NllLossBackward0>) torch.Size([8, 2])\n"
          ]
        }
      ]
    },
    {
      "cell_type": "markdown",
      "source": [
        "All 🤗 Transformers models will return the loss when labels are provided, and we also get the logits (two for each input in our batch, so a tensor of size 8 x 2).\n",
        "\n",
        "We’re almost ready to write our training loop! We’re just missing two things: an optimizer and a learning rate scheduler. Since we are trying to replicate what the Trainer was doing by hand, we will use the same defaults. The optimizer used by the Trainer is AdamW, which is the same as Adam, but with a twist for weight decay regularization (see [“Decoupled Weight Decay Regularization”](https://arxiv.org/abs/1711.05101) by Ilya Loshchilov and Frank Hutter):"
      ],
      "metadata": {
        "id": "zQ0fthnG_KfN"
      }
    },
    {
      "cell_type": "code",
      "source": [
        "from transformers import AdamW\n",
        "\n",
        "optimizer = AdamW(model.parameters(), lr=5e-5)"
      ],
      "metadata": {
        "colab": {
          "base_uri": "https://localhost:8080/"
        },
        "id": "YYCAzEa2_QZn",
        "outputId": "c9dabf84-3964-4737-fe6e-5b19e98fa72f"
      },
      "execution_count": 31,
      "outputs": [
        {
          "output_type": "stream",
          "name": "stderr",
          "text": [
            "/usr/local/lib/python3.10/dist-packages/transformers/optimization.py:588: FutureWarning: This implementation of AdamW is deprecated and will be removed in a future version. Use the PyTorch implementation torch.optim.AdamW instead, or set `no_deprecation_warning=True` to disable this warning\n",
            "  warnings.warn(\n"
          ]
        }
      ]
    },
    {
      "cell_type": "markdown",
      "source": [
        "Finally, the learning rate scheduler used by default is just a linear decay from the maximum value (5e-5) to 0. To properly define it, we need to know the number of training steps we will take, which is the number of epochs we want to run multiplied by the number of training batches (which is the length of our training dataloader). The Trainer uses three epochs by default, so we will follow that:"
      ],
      "metadata": {
        "id": "3t4_o0xM_VKR"
      }
    },
    {
      "cell_type": "code",
      "source": [
        "from transformers import get_scheduler\n",
        "\n",
        "num_epochs = 3\n",
        "num_training_steps = num_epochs * len(train_dataloader)\n",
        "lr_scheduler = get_scheduler(\n",
        "    \"linear\",\n",
        "    optimizer=optimizer,\n",
        "    num_warmup_steps=0,\n",
        "    num_training_steps=num_training_steps,\n",
        ")\n",
        "print(num_training_steps)"
      ],
      "metadata": {
        "colab": {
          "base_uri": "https://localhost:8080/"
        },
        "id": "wvYCR4EQ_VoZ",
        "outputId": "b9db65f3-d7cd-43ff-8b53-5be936f7d263"
      },
      "execution_count": 32,
      "outputs": [
        {
          "output_type": "stream",
          "name": "stdout",
          "text": [
            "1377\n"
          ]
        }
      ]
    },
    {
      "cell_type": "markdown",
      "source": [
        "**The training loop**\n",
        "\n",
        "One last thing: we will want to use the GPU if we have access to one (on a CPU, training might take several hours instead of a couple of minutes). To do this, we define a device we will put our model and our batches on:"
      ],
      "metadata": {
        "id": "yKBkF_z__Y9D"
      }
    },
    {
      "cell_type": "code",
      "source": [
        "import torch\n",
        "\n",
        "device = torch.device(\"cuda\") if torch.cuda.is_available() else torch.device(\"cpu\")\n",
        "model.to(device)\n",
        "device"
      ],
      "metadata": {
        "colab": {
          "base_uri": "https://localhost:8080/"
        },
        "id": "KLuDkWnS_eI-",
        "outputId": "409ff63f-33ac-42dc-8886-05fdee548a3d"
      },
      "execution_count": 33,
      "outputs": [
        {
          "output_type": "execute_result",
          "data": {
            "text/plain": [
              "device(type='cuda')"
            ]
          },
          "metadata": {},
          "execution_count": 33
        }
      ]
    },
    {
      "cell_type": "code",
      "source": [
        "from tqdm.auto import tqdm\n",
        "\n",
        "progress_bar = tqdm(range(num_training_steps))\n",
        "\n",
        "model.train()\n",
        "for epoch in range(num_epochs):\n",
        "    for batch in train_dataloader:\n",
        "        batch = {k: v.to(device) for k, v in batch.items()}\n",
        "        outputs = model(**batch)\n",
        "        loss = outputs.loss\n",
        "        loss.backward()\n",
        "\n",
        "        optimizer.step()\n",
        "        lr_scheduler.step()\n",
        "        optimizer.zero_grad()\n",
        "        progress_bar.update(1)"
      ],
      "metadata": {
        "colab": {
          "base_uri": "https://localhost:8080/",
          "height": 49,
          "referenced_widgets": [
            "497f6b4ef7324bb689f2014a1cf191e8",
            "52952b75b95045829640f7cd7a47fd8d",
            "a30cb51788cb441c8079ac3f9b04b480",
            "b6085e8ee7e94e12a8369817866b7267",
            "7ad39d73cd104a20b69822f245c4594b",
            "ebdd5917fe634cc8bf62787c707f7eac",
            "fe72eedc64d54bbe83f33e11c49e64d9",
            "706674cefd734d3fb58979792e87685f",
            "789c58878ee3442ebdfd21052f5ef0b6",
            "b3bab4561045490e8d44a8a677b39d57",
            "e0bcc175a9d145e6a0b8107ac38383a1"
          ]
        },
        "id": "CTgza3QT_h56",
        "outputId": "19796a04-6e23-4a4b-e4ca-c650cf1c9876"
      },
      "execution_count": 34,
      "outputs": [
        {
          "output_type": "display_data",
          "data": {
            "text/plain": [
              "  0%|          | 0/1377 [00:00<?, ?it/s]"
            ],
            "application/vnd.jupyter.widget-view+json": {
              "version_major": 2,
              "version_minor": 0,
              "model_id": "497f6b4ef7324bb689f2014a1cf191e8"
            }
          },
          "metadata": {}
        }
      ]
    },
    {
      "cell_type": "markdown",
      "source": [
        "**The evaluation loop**\n",
        "\n",
        "As we did earlier, we will use a metric provided by the 🤗 Evaluate library. We’ve already seen the metric.compute() method, but metrics can actually accumulate batches for us as we go over the prediction loop with the method add_batch(). Once we have accumulated all the batches, we can get the final result with metric.compute()."
      ],
      "metadata": {
        "id": "ze4sDvi2_qBt"
      }
    },
    {
      "cell_type": "code",
      "source": [
        "import evaluate\n",
        "\n",
        "metric = evaluate.load(\"glue\", \"mrpc\")\n",
        "model.eval()\n",
        "for batch in eval_dataloader:\n",
        "    batch = {k: v.to(device) for k, v in batch.items()}\n",
        "    with torch.no_grad():\n",
        "        outputs = model(**batch)\n",
        "\n",
        "    logits = outputs.logits\n",
        "    predictions = torch.argmax(logits, dim=-1)\n",
        "    metric.add_batch(predictions=predictions, references=batch[\"labels\"])\n",
        "\n",
        "metric.compute()"
      ],
      "metadata": {
        "colab": {
          "base_uri": "https://localhost:8080/"
        },
        "id": "oroMygF2_4xB",
        "outputId": "6e935aa9-0093-40c9-d081-75bf077feb14"
      },
      "execution_count": 35,
      "outputs": [
        {
          "output_type": "execute_result",
          "data": {
            "text/plain": [
              "{'accuracy': 0.8725490196078431, 'f1': 0.9109589041095889}"
            ]
          },
          "metadata": {},
          "execution_count": 35
        }
      ]
    },
    {
      "cell_type": "markdown",
      "source": [
        "**Supercharge your training loop with  🤗 Accelerate**\n",
        "\n",
        "The training loop we defined earlier works fine on a single CPU or GPU. But using the 🤗 Accelerate library, with just a few adjustments we can enable distributed training on multiple GPUs or TPUs. Starting from the creation of the training and validation dataloaders, here is what our manual training loop looks like:"
      ],
      "metadata": {
        "id": "rEWVHVV2_9lT"
      }
    },
    {
      "cell_type": "code",
      "source": [
        "from transformers import AdamW, AutoModelForSequenceClassification, get_scheduler\n",
        "\n",
        "model = AutoModelForSequenceClassification.from_pretrained(checkpoint, num_labels=2)\n",
        "optimizer = AdamW(model.parameters(), lr=3e-5)\n",
        "\n",
        "device = torch.device(\"cuda\") if torch.cuda.is_available() else torch.device(\"cpu\")\n",
        "model.to(device)\n",
        "\n",
        "num_epochs = 3\n",
        "num_training_steps = num_epochs * len(train_dataloader)\n",
        "lr_scheduler = get_scheduler(\n",
        "    \"linear\",\n",
        "    optimizer=optimizer,\n",
        "    num_warmup_steps=0,\n",
        "    num_training_steps=num_training_steps,\n",
        ")\n",
        "\n",
        "progress_bar = tqdm(range(num_training_steps))\n",
        "\n",
        "model.train()\n",
        "for epoch in range(num_epochs):\n",
        "    for batch in train_dataloader:\n",
        "        batch = {k: v.to(device) for k, v in batch.items()}\n",
        "        outputs = model(**batch)\n",
        "        loss = outputs.loss\n",
        "        loss.backward()\n",
        "\n",
        "        optimizer.step()\n",
        "        lr_scheduler.step()\n",
        "        optimizer.zero_grad()\n",
        "        progress_bar.update(1)"
      ],
      "metadata": {
        "colab": {
          "base_uri": "https://localhost:8080/",
          "height": 138,
          "referenced_widgets": [
            "4158b94119bc4a5aaf08ab9da3b1def1",
            "c3e6240bbbc0402b9a66476c544a7a99",
            "ba51d4729fcc4d098b7a32181ee2ac64",
            "020ad78538cb40528f7eea9b5dfbc45f",
            "c581eefa2e2146f8bd159cbe686e604f",
            "bce7ed56f722429da7c6b76269cb3f92",
            "ad75260e947845cb9088f1efb21b501f",
            "daee8f7a7c5f4b0d905e41245a2f5a0b",
            "ee08febdc4e94d33943154f7e56841c4",
            "d053543fa73a4d1f922ee83b85f4e40f",
            "1559f19014cc4015bee605ae6b59b2ae"
          ]
        },
        "id": "iJhnD3iTAOYt",
        "outputId": "182e5d2e-73df-427a-a7ba-8049a732fec1"
      },
      "execution_count": 36,
      "outputs": [
        {
          "output_type": "stream",
          "name": "stderr",
          "text": [
            "Some weights of BertForSequenceClassification were not initialized from the model checkpoint at bert-base-uncased and are newly initialized: ['classifier.bias', 'classifier.weight']\n",
            "You should probably TRAIN this model on a down-stream task to be able to use it for predictions and inference.\n",
            "/usr/local/lib/python3.10/dist-packages/transformers/optimization.py:588: FutureWarning: This implementation of AdamW is deprecated and will be removed in a future version. Use the PyTorch implementation torch.optim.AdamW instead, or set `no_deprecation_warning=True` to disable this warning\n",
            "  warnings.warn(\n"
          ]
        },
        {
          "output_type": "display_data",
          "data": {
            "text/plain": [
              "  0%|          | 0/1377 [00:00<?, ?it/s]"
            ],
            "application/vnd.jupyter.widget-view+json": {
              "version_major": 2,
              "version_minor": 0,
              "model_id": "4158b94119bc4a5aaf08ab9da3b1def1"
            }
          },
          "metadata": {}
        }
      ]
    },
    {
      "cell_type": "markdown",
      "source": [
        "The changes:\n",
        "\n",
        "![image.png](data:image/png;base64,iVBORw0KGgoAAAANSUhEUgAAAuwAAAMiCAYAAAA1tZaMAAAAAXNSR0IArs4c6QAAAARnQU1BAACxjwv8YQUAAAAJcEhZcwAAEnQAABJ0Ad5mH3gAAP+lSURBVHhe7N0LfBVVni/6H8km7xd5QSCAkIQmETQDjZCLNB0GhDHdflpF8XSrl+kW/Zxk9Mo5THNE0VZavHTTg0ebzBXsHk9r94ii9nEaB4ULPtoLyECj0IlDiAgCAZJA3iEvuGtVrdq7aj8ryU4o4Pf9fLamqvauqvWoVf9ataoYEp+cdQlCVEwChkRE4mJPp5wkIiIiIiIHiFD/R6QrCpcudqspIiIiIiJyAnfAjiERuHTpopogIiIiIiIn8ATsRERERETkOO4x7LGJ6ejubNNmEhERERGRM7CHnYiIiIjIwUwB+xD1fyIiIiIicgr2sBMRERERORgDdiIiIiIiB2PATkRERETkYAzYiYiIiIgcjAE7EREREZGDMWAnIiIiInIwBuxERERERA5m+pdOM9Dd2arNdApXSTaeenQismL16epN2/Hci/rf16TxI7HqdwXIUpNXbX7cnoN/+u/ZOLbhI/zP36l51HeLJuCFh8cgTptoxWc/34UNW7UJIiIiugI4uod9/l0T0P5v2/HAzfrnmg7Wpa9OYaXMi7/7Al8NqUP1FjV/ME3LxprtEzBdTQ6E/GnpSO6qx5d/VjOcor9pH5+JFTvn4jevjoBLzRoUmw7jEVlvfl6N5gv1+PxyBOuLC/DSppFIUpNERERkn4MD9lTkj23GsV1qkjxuTUFWfSMOfqWmB1H6nHSkn2jAPjU9ECpX7MFPig/h/cuQvmD6m/bpSycgueo0mtJikafmDaakG5OR9PU57FHTg2n61FS0HWtEk5omIiIi+wZwSEwySt/Lwpe3fokdao4d01+chQenRKspj7b9e/Hww9148L0iTE+Wc1qx56UqxC28AZPTIlDz7g48seYikBmDO1bfiPkTEuGKvIi2qi/x/MOnUN0MuB65AetvaMa+tHGY3nMYT//LUJQtz0H6sUNYep8IpLQtBePCrFUFuGN2JpIixWTjCfz+H0X6/qovlVyzR+DR//4t5KcNBXo6ULl5F9a+0K2WiqDvh+NQdv84jEkU10o9jfhkzV68Yuopz3l0Iv5+wUhkyeXNZ7Hl6S/wttdFS/4vilAaWyHyo1HNURJjULJmMhZMSkaclvYK/HLxaRzXlo3AU1snYYz2RbHe5xsw+Se5Yj+6sO+FT1C+Se7bGDx4Ty5yRH6ipxUHX92L5zfKfRdluX0apqqhSWZNn+7C0p/q9cb6+0bsWb8PGzaJMrFjwTisW5nj7oGVw31Wv6Am5LKHIvB5/UjMyqnFK/9wDrP+5w3I6TyK8lurtQB6zobZmN9UhZoJE7X6gOZTePu/V2CLKhvXlFT8eFkBpo6NEaV4EXV79+GXjzaiTi4MmjdfAEtCpz2kmdlYs3woXikHHnwE2HDrUVSqRVLweiHq3S8m4e4Z6aJcge6z1fj1/UdxUNRpTbByNyl5ZS6KKtVxYnZ9Mhb/jwIUjY/X82bXPjy7TA+uXY/egJfuytS/V3UIG74ZgXtni/3oPI4Ncw+L4D/IMTF+JH7+qmcIl5mnfCOQv2wiFpeMQHqUXufff+4LvPGRXBYf+ngnIiK6BgxcwL5oAl68qw2/XHjCJ3CwY8zT0/B4VjUeevCcmmMyRwRwK4bh2I6v8fbL53D8rJqfKE7wv5+CrN37se7FVjTFJqL0lenI2LEDT6+9qF0M3BP5BZ5aHoulm9LxHy9U4P3MCVh/WwuetbGfcaWTsCL/FDasEttsj8aPXp6Fb1f/GUtXXNC/IIKyn6/MxPE//BW//V0Hon44Ec/e24XXVFDpWjwR6+52Yec/VeDt7ReRtaIQPxPrW3rfWbSJ5fmrpqM0/yze+dUx7BBB+tTnxXSKyIPFZ+EJ+SNw96Y5yP1IBDwi+POIx+J3piC36q/YsFbsH/S0p2w1Bb6SSMNv5kXgk93VeLtc5JER9GVnYtnzKdj/qyNi22LfVk7Bz6edx9rbzIGlDNwL0L3Wdwx0UmkBnv1eBHaur8C7Wy4iY9kN+NmcZjzvFZiGlJiJFVtH4sh9B/CG6mFPWl6IdVPq8MQD5/H9TQXA+r/gtzUj8LNfJWFHcYW4IJT7VYiR+w+qtMdgcfnNmFojL/LERc31Yp3/cxwaXjuAV17pQOeUEXj8V7mofeHPKH9H34YmUN5oAqc9tAgRLP8fyP/wz1j7lrg4eCcJW7VgVxeqXswpn4XvR1Vhw4rTqBT17u6XZyL30w9FucqA1Wa5a/s/EW2r9+AV8xX0+HQsK89D1PYv8OuXWtGWJ/NmHGrWWNM5/+W5mBMt6vHrx/C2KF+jPoY8JiQtcE/HrgVfYIslT4HJv5iOB7O/wYbHTuHgsQi9zmcexdIfmi6gAx3vRERE14gI9f+wy79xGLq/Ot+nYF2aPDYRxw75CdaFpGnJSKo/jddWW0/eYx79FqaersSzq1WwdbYZ+6o7kJIpu0fjcWNOJz7f3IimiS7EoR3Ht15EXFYMOmuabe1nW/khPPGw2mZzF7rE/xrOGoFJBO4om4Cu7QewQQTrMqBp+8OXWKqCdRGJ4sF70lG58ZAWlEk1qw/gIRWUYfwI3H1zM975+6NawAxcxL6vxAVUZrx1+ERiOnKz63DEO2Beloei2kr87Kdq/0Taj4n/Z2TH619QpucPQ9uJY3htjVdAeuIs1i48rLYNtHaK/ze2o0qbUqYlYiz8jYFOxL23JWLfsyJtKpirOdSMtuREjNe/YJ+f4T6z8lNR/dEJ1DRHIym2Ayc/7kZ3XhySzzbgP+QX5H5F1mKHO+0XsEfkXVS07PIVvy/LR/KuAygXwbrM6+79Z1F5NgYpo7XFbgHzRgqY9tBci3IxN/KIuFgQE80X0RUbg3R9kRCiXtw+AbePP4PXHhDBulbvOvDGoh0qWLdf7liQKurReVR63e6a+shEZOzdj9Vr9TR3729GTXs80ieoL2iSkXPdBRz701G8YQrWpeDHhPKdFGScqMMnPnmajUXTRJ1/SAbrcoao87vq0ZYSi1HaF3SBjnciIqJrRXgDdtlD+elc7bNsdiKSZhbp071+UC/4+PWivHTU7D+tD2dwi8asG1NFkF9nCiiikZsVjdqvReA7PhljovSAxTUzFSknzuOg+Ma3c5JRU+U1tMQvOSyhEC9+rKfvN5/OwfzsRhz5VC0WgfTEsedQ+bYeSPlYkI4811nsM/fomiTdNULs30j8aKuxfvFZlAmcarb2UPsdvx6BBdPS4bq+EC8ZvxWfO0Skr6XdLUbkK1D550ZL0CXJIRlPbZ3j/u2629JRJy64zN9LCjSGe1EW8hMTRf54tv0bObylvhm9HYaePzUNOCbyUU3LYHFs9jn9AqVkGEbVn9OGgowpSEa3GhOt7dexOnysfV+KEBd88aitbhB/p4pAvBPVn3boizQpGJPZjFOH1KQmcN5IAdMeUjQW3TUGSeMnYY2WNzcgRy3RhKgX+UUiP6rOBNiu3XIX++93/Hoypk8SFw9zZnnK7VM5BMUrb+bIYF/s4yY17RbimFCmizL1N359zPeykCXLzRTIy3KN86rz/o93IiKia0dYA3bXq4fwk5nbxecAqsUJ/u0F8m/xMd3+t2VBMka112H/XjVtIXv7mnFkr3dgHI+stFbUHVaT0vVpyE87hd2vin37XjoyvqrT9uM7BcNwqkL23idj4ngRYPxJ+3ZQY57+G9w7tg4b7lNpeuE42hpN+zgzHhmNItAwRaiuRPWHNEFcwNQ0WQIv8/JRabHamGg9/0yfB6xhim9AK8UiJbEVe1Z5/VZ8LMNmxqciN+08qr0Dr5nZ+MclyTjy4od4SPvdXuxrb0X1LnOQqy5uKs0XRMrwGMRVfeGz7Z9YhtPYoQfaNZWmCyjZM9xQh90iX8fclAp8Le/aRGDGxBhU7dODUrlfdSIgdO/X+EzkZ53DFztEHZkWh4yoVpw09Yy7fpiJsQ012GEZGhIgb5SAaQ8hfXk+vnPugMpX+flCHBvRSJmmvhCiXozPjEddtfWC0rPcZrkLs/JF0FvlfcdK7EesOE69fvuTmdZhM1oPt5+HVUMeExp50SyuOVRZmeVmxaHpbKspT12iXONQucdc5wMd70RERNeOsAbs3UZP2aJUZNXoPaF9MaYoHXEnGv0He1pvn++tfaANdc3xGDMtWnvfdFxRKkqfy0HbO4exQ+zH1Lxk1eMaj9zsNr0XUK6r097bViaPTUZDtdjuMbHu/ETMujkBUeZ9rO9CZ3ImZt2uZ2nW/ePws98XYE62Ngk0daM7OxO3TZET8kG7Sfjlv2S7e1tb27sRN3YY8uXzfYkicBXL17w6wuuBPT8BraYbrW1RIu0icBZTLvGdO16ejqeWeb08UAS/WSfOwefGxdRUpDc3Yv/HF9Gd6cL0+4djZKS4kLEM/5D51onjn/sJnGTaMlMxS6VtzOJx+Pk7OZiqLewFP8N9ZM+wSw1Zmjw+DicPycBPBNdZjTj2nvyGvOgaiqj4KHfa7/55HlJ2/yfeloHj3gtoRBLy7o8Q4aBYX8lIPP7jZBx8+bh1GFSgvNEESXswialYvCAau/6Xd6DvQry47tKEqBftnV0YOVXUAxmkyweqXy7Cz5bF6AvtlrvIo7HZ/oLebnR2xou8idbyRh4zD26ahtK79KUGrYfbJ9i3cUxIicNMZWVVU3cBSaLOj5F1PjMac16cilntlXhlo75cE/B4JyIiunYMyEOnWctvQFlCNZ5Y2Zv1pWLZzinIj1KThhMVWLroFNrMb6tw60Llxo+wVo4NFuQ/tPT4wxP0N20012HPHyq1hz+7RcD14HsFaH1qL36PbKx5eiheufUoTi4vxLPZR33ftuJH+iMFeGrhSO0tHNobRvZn4dmHhqPKtP3JTxfiwWL5Jo+LaDt2FG+sPYpP9uvLZJA2p3waFt2ov4mjqbJCf4jQGJObGI8fvTQFc8bKN+SI5V8dwdv/93F88lfxy0dE2uXwGC/mN2VY0t7TiuqPxPpX6m9Bmbz2ZjxaZAR5hkbseFTkhwxqr8/Esl9NQr74bffZ43jtiTOY+utpyK/ab3roNxp3b56J+VnGNZ68g2I8RGhNW1vNKWx98Uts0d70EZp8e4kcxmFVh/fvO4DWJ2cj/0OZx7J+ZKPyNrHNWyfgxTta8LioF03y3ei/SMK+LS5xsZSJuJ4OHN/9Bdb/VL0BRkhfMhGP35etvcWku/4U3n/hS/d48ZB5owmW9sAmry3CPyT9J8pEHnoC9kys+DQHdauMhzpD1Ivr0/Hoc/qbUWS5Vr77F5SvvaCPbxeClbt8m9CymV5j2dHhfiuQZM4biIu2g1sP4tfPX1DHjPGGFpOaL/G0ekDbzjEhL1oefWcKJhtv2WmsxlrjQWRzndfK7a/aw6vi+sz6dho36/FORER0rXD0v3RKFIr2Bpn8U15v0iEiIiK6ehhdhkRXJJ/x60RERERXGQbsdAWT49c7fR6OJSIiIrqacEgMEREREZGDsYediIiIiMjBGLATERERETkYA3YiIiIiIgdjwE5ERERE5GAM2ImIiIiIHIwBOxERERGRgzFgJyIiIiJyMAbsREREREQO5siAfe7qzfho51b1WY9SNZ9CKcaaPxr5Jj4bl6j514IlePmaS7M3mQc8Xi6H0o1b8XKZmgiB7ZtTqTZEfbasLlbzB1uotizEft7yDLZcxv2XxwLrdRiVrQ/reU22P7brhqpLRl2z28bRwHBgwF6MeQXA7ucWYHax/JShXC257GTl/eMzmKsmHeeWYkzCZ1il5Zv4LNmoFtBl1c8G1wjwBrOxDNSo9yYwtcU4IfQxf/q0P34CmsEMMravWKgfn899hhY1z0LWF3WCNH/Clu9eJ+FrLbjSy1p9LO35Rjyg2s5NR9QsJyorRN6Rt9T5cQFKVuxUCwZBmIPHK8q1mPYPnkSJVs/WYHejmkeXDYfE0FVCnWyvuosU/QK26kgL8goH72Sx/eQZ9Ze3FtRXqT/DYO53ReKOVKMlt3DQg8aEooX6NkUAW5KrzXKORtOFt/o8sF4t65clePmxm1Cz2bTuzcCiayRolxeiizI8ebuqogArHReE9bMtU0HWoAbyJuVLZN46qKPND+OijT3GdCUZEp+cdUn+EZuYge7OVm3mZSF7fcSJJEFNelRjkzj4D4uGdmWRvrRl1xpsyViORfIkK09sP3gS2+UCeQW8MEf+JbRg93MLsfwD+be8hViI+l3DMaNI9t6LM1/pcsxINn8nMNnIG9u2cG9brv9O5Gkzxf4+V48SlZYqcWLUTrQB902SQ1lEy1H+PtIeU+uRPSimBtt7H2QeGA1ywP0zrcP6HT1PjQZVNl5aXgpVm9egfp7MGzEhf3+gEB8V1mN3xk2YIXvvxY+WyrSZ813bf/Ubybzv5nKVv9mWhpVaPpjywLvsLesOweu37vzWhC53LV8y3scm3GnKA/M6gqQtRLnvL/Tkq4VX2QYl0yciqXUy3+X/vfLFWnZvAQsLsd9dtqH2PUje5In6WnhAfP+Ivo5a+Vv5t6ynoY8Ze4x6L7fttV55vGjbt+6vnjZzvluZyy5gnVd5eqj2JqQdWIDXR23GUlSgpijNZt4J5uNZLJP1Z4pYl7XuefbRfLy6aXU3DVtMx6JGrntefdBjoM/H85uj/W/Toj9pN5eTTu6PJW+CtYVGfXe3E97Ho2D5vTXtUuC8MeqbV/0tW4LS9Rst65D7XFLrp8yC7bvk1R55t2XWffOqF16/9U63uVzN3OsItW+CZR3e5Rpk+4G27VlHiDoj9bfc+yXU/gVeHjrtoQUtd8mS9155I/NNtIWrauerdfiWbbD2wLJuUR83iYvUEqxX27dxvGr0/Enb5qdMgpSreb9kmv3GbWSbc3rYLbdeZKHrPSDGlbpxG3nVrhagoEyrUNpyo9BlpVwIUVHV/OcqMOkxc69RDiaJSjp78xlMKhVfLJe3PROQ5u+s78V9C3tztV7RjG24K5xxK/UtVGE4Su4SDY/6jla5vfdN7MMMy77pJpXKA0etJ/dOz9W/+P3SojOe34s8OiTyYM0t+mLLLXbz/hmNiTigVhZUeObLHjXTrWC9R0S/DZw1T88by+9zC/T8qi3AUi1tYv+S0zBBXyoO8OWYVLFG/41cjziBu4cbGOWq3f4Xv5dBmPY946AWDUGptcdP9nottTvGzl1vAt3GtlHuIq/d9UmUcd5CT9kETVuIcjfyVauzsnFXy+w28pq8NKBiJ7Z/sBOHRP7NU2WuEeW6KFc2zvp69xdag1jrvovjKsO875KdYyIXaaLkWjJGq/pyBsdMJ4r+keuuwDaRtm0Vov5/12aZu/Ndv00rT+xG3rpPJiHqvLTtzc9EfRfBuji2tqz4Rs3VBS93cZITJyj3dsVFrfWELk9udwLu/ZLH6/Lw9eb153iW9agxB4uC9Cr3L+0hhGynJVM74XU8+v5eXCSbyzVo3oj6luyn/noF6wGFbMdDtGUh2vFQbZlRrjJPzO2JO/BbX6bm+R++IIOnRfD8TgaAlnJ9rACHjPOuaK+zFm5271votmwnlv9AzZP7562/5d5Pc1eX6Z0O2vb1ttB8PAar8/1ux0OVu3feF8uOO6+0Z8zHPbKtFstX7QJmlNqt83qdhAiWtWWiopeYLhz6LUS5hozbqFeuyCExCbXv+1zlabfWd232NLyi8dtyJAdT3AdltTgpi4atqh6oPaAFi4drW5A1ymiwwufQm16VUWuITVe86w+IAM9bAmq2Gd/ZiP3yZBtw32TjaL3CDqa0UJxgt5n2af1m7PYO/gwVm33Xe+R9lV9AzQG5niOobxyOsdrvl2CKCBq1vFXKRSCEgmJPg2IQJ8stNho5eZBbeh/6xUa5i0bYXZ9k3oiARq83vUib4FPuYVBaOByHPpTb9w1qZbm2mOp8+RJ54eAhTzSefJS/F42mRZC8EfO0IP2W0ciqrRAXC/ICTQY86qfhUFaILHkxIv7c/qFIXIB87QtbdV67CBInL3O7oQlR7nIMsbgwft1dZ8qsAZZ6lsS9XB6v20QA0pshTck3YaV7jLn8eE6C/TueZduhByyedXsCs36nPYTQ7bRgbie0ttJoa/z/vqTcs69B80bWZX1u39hqx62Ct2W9a8f7Rz0b9qan/ZX7tu5DNaFdBJv2RbuwU3+HQX/Lvb8mZCSg6oCR9p04Js5lnnNA79r5/vMqd+2ZBP0cq5NlsRmHLWmvwOtq/2Rb2WLuMAta50VblGxKm8j3dTJ4DhNb5ar4i9uod67IgL2l1vcMIQ9IfwYiIA/ujN8eSHmbyXOC9Hc7P8jYYO0gG45F7t+Lj+1xl8UYm6H+tPB/d6HmZKCTSwDaSTDHum/y9pupQXFrrMdh9aeHaLzKZW+O6feXdTyt3phrAp3g/aUtrD3PBnkiScCMx/R8kbcWE7xOIkHLS/Z+uPNU/32vyR7+Wpkn/hvh/pAnmoSi5fr+aXUmQNDZa3brvAykP1MXRCZ2yr32G88J0pvIswTvgFveMnbfpbDBfKdM+xiBYjiOZxkwmNZt7im2czwHS3sIsp12l7n6yB56Szvtt50IQgSX+v7oeZNnaUvkMAeVNx98gxrte30XvB0P0Zb1qx0fGPLOnUH2wHv22zQ8JAxsnZ97W+69IDsiPBfMej1xHxu9OYf1RZ/KXd5VVX9KAY+5EHVeGsB8tXU8K/7iNuqdq+ahU3lA+tPrAHQgyKELpged9CEUveMe9qJ9fG/pBWYKQC3C9PCgdhL0DMvwfEw9UaGIBs24FSw/q2TjdtlOZKaAKNAJfgAbQAuvt0Fo5e7Vkxr4gtTP7fne9KzItIsT1j2qh7/8QLXY1ugwpl3v1TLXG3mr1/6wmGB6UefXP+nbw2mn3IMF3/LuhE/ALT5huQ08AMezuafYzvHcmwsPL7KdlmNZresO1wOSet6Yh0gZH71nz3xnsA/stOMh2rK+t+MDzM+wjXC+FeRyn59lvsshQEZAK4e/uHt7w3EOC2Hgyj1UnRfCdeHhx8Aez+TtqgnYtVvqxlsfJNEAlYiAYH84b8HIE7H6s1e8f1cmruh70xiKE4XvFbn9E7QMtvLmmce8LcQMbeywmu4XOXwnByXusZCqp8Z2wC0fevHtUR/Uq3HzG0pk3iQb9cY3baV33aSPKVfTdgR+40pw2q1O921cSTbOCe6gVpar+00nkgzw1Z++gV0xJvjtmQ1mOLIy1J0DOWymoMBvz7Pe69jLuyLaxcgBywlR5pP7DoI8ZnLne4ZqWNJmCBS89rfOhyh3GeAm34R73CdcefGh/pS0oTbm5XoeWZ8f6Lt+pU22JZYhMPJ4nY8898VIiOM5VNq1oNj8e+tyn3ZaO/6t+xOMv3Z+i6nu+eSNZbk+rMw8/lfvVbZZd0O24yHasn624/2j0n6XZ/uWcvW+SL1FPl/iq69tWdjOz1r97f3bXeTxt1SNAfcNKO2dw/qa9pDlLo8pc1vXy2MiaJ3XhjaZ0yaHRpnvdgQ/XkPp7/FMveOct8RoBe1nqIjsYVyyUTuAfG/p+3ma2u/TynLd6kloWZnv+gYlap3yILZ/Nei1j7IXTes1C77vkmww3A9nifn6E9+yR0NexcuH1EQLZHp7gfy+8ZaC0jJxsBd63mIiWZ4yt6TbQ151G1fZ1vyTvQme3gPLvrmp78h1q7d1yHXcc3KhWKf3/spp0y1Ud74IMr+NJ9RN3Psv39CAQiwy77/596EEWL+e9whZ7lq+iKC0KjfHXX7mfPNJm6lMQ9VZN+999F7uj/Yb+SCSqX5LsjxMbxCx1qtqkQ54nvi3bFceD/pbiLK0vM8NkTfQ0y3fDGSu4z77rueP7LGyfxwF+o3cxnzUqzRb6qx32hTLdwRbdV6mV5xhrG/ckds2vy0hWLkLlmNO7Js44cPyZgWvumH6vfc+G9z77lXG/gRMmxD0eJZ/etdHr98HPZ6lUGm3rN/PcsvvvY43n7Kx1gmN5fde5wDBmje+yy35Y0mbV5kZTN+xHm9e7XiItixkO+5TLoqqO/7rjSl9XvlqMG8jcNq98k0u097YMtyaf9776K7XXnXGzVS3gpWbnXIXtH2UD1ia9tsWf3ljOaZD1HkpYNqDC1nukte6LceE3Hd1DtZo37W+6Slonbesu0Ucj0BWrSnusSz3Ol6902wwp90rbwO3wQbfY5LscVDATjT4tAYl431bDS/54//EStcOGQT6vgaOKPxkXfP7us2gZDC+EMd+4HtR6vc1hUQOddUMiSGiy8DnDQdERANBf+7F/DYXW7Q3pai/LcI0HEn2MJseunR/vF4jS9Rf7GGnaxp72In6hz3s5HT+hmb4DEshcjgG7EREREREDsYhMUREREREDsaAnYiIiIjIwRiwExERERE5GAN2IiIiIiIHY8BORERERORgDNiJiIiIiByMATsRERERkYMxYCciIiIicjAG7EREREREDsaAnYiIiIjIwRiwExERERE5GAN2IiIiIiIHY8BORERERORgDNiJiIiIiByMATsRERERkYMxYCciIiIicjAG7EREREREDsaAnYiIiIjIwRiwExERERE5GAN2IiIiIiIHY8BORERERORgDNiJiIiIiByMATsRERERkYMxYCciIiIicjAG7EREREREDsaAnYiIiIjIwRiwExERERE5GAN2IiIiIiIHY8BORERERORgDNiJiIiIiByMATsRERERkYMxYPe2aAJe/HQufqN9ivDgAjWfnG38SPzcXW5zseIRNf8qlPXQRPz8lZGYPFbNEOJuz8Gad8ZhcqKaQURERFcNBuzeNh3GwzO34yerqtHUXo/Pt6r5g2lxAV7aNBJJavLKEo8H3xNB83s5mKzmDIqvTuEJWW4LvkA16nDkT2r+YJqWjTXbJ2C6mhwI6Y9MwqNT6/D84lM4eEzNFNreqcbbJ0bh3p9GqzlERER0tWDAHkDSjclI+voc9qjpwTR9airajjWiSU1fSdKX52HyiVM4nhyPMWreoLo1BVn1jTj4lZoeROlz0pF+ogH71HS4uUrG4dEpdfjlg3XiksTXni0nEZWfcXnynYiIiAbMkPjkrEvyj9jEDHR3tmozwyMZpe9l4ctbv8QONceWxBiUrJmMBZOSERcJtJ34EhseOIGDzWo5XJj1i0m4e0a6trz7bDV+ff9R+8uvT8bi/1GAovHx4psXUbdrH55d5hscl7wyF0WVO/DEmotqji79h2Pw4D25yEkT1zo9jdizfh82bNK/43r0Brx0V6b2N6oOYcM3I3DvbLEfncexYe5h7AmWNjmk49UCZOm/tqjetB2rXxB/ZMbgjtU3Yv6ERLgiL6Kt6ks8//ApVGtpkz3bRZieLP9uxZ6XqhC38AZMFvtZ865vOgZEYiqWvZmNytLTuPHVEfh85hfYohZJ6T8ch7L7x2FMop53n6zZi1dMXwi63JJ3Mu0V+OXi0ziuFhvyf1GE0tgKPPxwo5qjBCv3xBF4auskFeiexZbnGzD5J7liP7qw74VPUL5J1KlVBbhjdiaSRLmh8QR+/4+iXv9Vfl/U8+3TMDVW/m3V9OkuLP2pPKYikL9sIhaXjEB6lEhb81m8/9wXeOMj/XuT196MR4titL+bdu3H1rhv4Y4bxX6eqMDSRadU3YzH4nfy0PbEAbyhbdefTKx4Lx7v3HoUlWoOERERXfkGLmCXY8HvasMvF57wCaqCmbx6Cu5o+U+se7EVTbGpePQPUxD3tghYy/Xlc8pn4ftRVdiw4jQq26Nx98szkfvphyKg1QPSoMvHp2NZeR6itn+BX7/Uira8EXj8V+NQs2YXNliGvsggbCLaVu/BK6arjaTSAjz7vQjsXF+Bd7dcRMayG/CzOc143itAmv/yXMyJrsa+14/hbfG9bjU/VNo0WuCejl0LRLDrvggREkVA/vspyNq9X/0+EaWvTEfGjh14eq0pGJ8zDutWDMOxHV/j7ZfP4fhZNT+E/NXTsWy2nwHQlqAxuPxfTMfi9gNY/pRLXDzkoeEfRHCperpdiydi3d0u7PynCry9/SKyVhTiZ/mnsPS+s2gLuVwGq1OQW/VXbFgr0gQ97Slb1YWMWwTu3jQHuR9556nNci+dhN/Mi8Anu6vxdrnIY5X/cWL+CrEvG1aJbYs69aOXZ+Hb1X/G0hUX9C9oZJ0pQPda77okyl3ky4PZ32DDY3IYSwSmPj8dpZlHsfSHp035GoPF705H7olq7Hj1FHbssl5guZYU4Jc3nMQ/igsRoz75YsBORER0NRqwITH5Nw5D91fnexWsSwdX7MfTq1WwdLYHnbiAOmOs7u0TcPv4M3jtARGMy0C0uQNvLNrhDtZDLZ/6yERk7N2P1Wv19Xfvb0ZNezzSJ2iLPRakIg/nUWm5NZCIe29LxL5nD7mD8JpDzWhLTsR4/QtKMnKuu4BjfzqKN0zBuhQ0bYbvpCDjRB0+MQfrwphHv4WppyvxrPv3zdhX3YGUTGvXbtK0ZCTVn8Zrq+0H61LVc3vwEzkG3PtjM1jH9SPxo4l1eG1th5oRixR3vibiwXvSUblR5J0IxqWa1QfwkArWQy1PWpaHotpK/OynKk0i7cfE/zOy47XvuiWmIze7Dke8Ama75T49fxjaThzDa2tUHitt5YfwxMNq281d6BL/azhrDtaFaYkYCz/PPEzLxqJpzXjnIWPM+UXs21WPtpRYjNK+oIxPRW5aI75Yf8InWJfmz8zAyX3BgnVhUQqy2roQzvtkREREdPmFN2CXPZTqLR2ytzZpZpE+bfdBPDns4eXpeOlj420f0zA18hyOqGER+UVpIrI8E3CMcPDlyZg+KQbpc2a591G+BWZ6cjNOHVJfUfyOX1+UhfzERMz6hfFb8VmZI4LjZliGS8+Rwf5Z7Nukpg0h0maYPjXNz/j1aMy6MRXHDtWZArZo5GZFo/Zra3hWlJeOmv2n/Y5xDqbb6wKht+b8X3nIShuHR7fKtBlDc5QF6chziTx5R017C7o8AgumpcN1fSFecpfbXNyRB5+0+x+/brfcY5A/Fqj8s3dQLIdYFeJFd7nNwfzsRhz5VC1WkgKMXx/zvSxkHavDx6b8HVOQjLhTzdZecHGRmHXiLLb6He6SKvZNXEC+pSYDkOvty0UyEREROVtYA3bXq4dUz+wBVIug9e0FqpdWjt9W3wlmzq+mY257FZ5dqP9u6bsi7JTBjlo+PjMeddXWscku0yiO4MujkRIr9snoOXZ/rMNepFn5IuitOqemlOExiKv6wuu34nObdfiB1sPt52HVUGnTySBcXHPs8+4jjRfBcCvqDqtJ6fo05Kedwu5X1bRG9u4348he3x7aoCyvsjR9dhZgjo3XBLrE72/POIqn3fmyC3sao5A0Qn1hgrh4q2myBLPmcgu+PBYpia3Ys8pYt+djGfYi5IuLHRw75zUcxGa5az3c51HtdaE15um/wb1j67DhPvW7F46jrbEO+/eqLyjfzklGTaX5gkqXmxWHprOtpvkuzJgYh8o91ksq2bvfVH0uwN0MF6LaxYVh0IuqaMy5IQKf/2/2rxMREV1twhqwu3tpF6Uiq+ac6UFQO+KRmx2J2soGbehB0uxkLMhPQN0xT49ne2cXRk4dgSwZzMkHMF8uws+W6Q/rScGXd6OzMx5590eL8AeIK0rFg5umofQufalHMsZm+wl6m7rRnZmKWVPkRATGLB6Hn7+Tg6naQg+th9s72LeRNk3iMBHgNeLYe2rarQ11zfEYMy0acWJK7nvpczloe+cwdpjzWOvd9x7KY4PxKkvvT3GFdf1+RWPRXVlin4979ewORZTxXkqZd9mZuE3lXf6ySfjlv2QjR1soBF3ejda2KJF2ccEkplxj40W5TsdTy2QpmkVgslhWU+n1sKndctd6uM9hl5o0TB6bjIZqkafHxG/zEzHr5gREnWj0uiiQ5duJ45/7XijV1F1A0thhGCOfRc4UQfWLUzGrvRKvbNSX6/Te/arPvYbZ9IJrcQ5urK/G2149/0RERHTlG5CHTrOW34CyhGo8sbJ365u8ehr+QQSzrp4OVG/Zi9eiCvDUgkjseHQvfi97NK9Px6PP6W8+QU8rKt/9C8rXXlDjoIUQy9OXTMTj92Xrb/pobsTBrQfx6+cvaEGzfLvIspleY6LRod4SIv92YU75NCySb+/ARbTVnMLWF7/EFu1NH+Y3tJjUfImn1UO3IdMmJabi0XemYLIxLL2xGmvVA4Sukmw8/vAE/Q0qzXXY84dK/PZ3Hdq+W95O49aFyo0fYe0ranKApIttP3vzOTxrebhYz49090Oh1rxrqqzQHwqWY8I1wZdb0i7KtfojsXxlozbsx/WISPsi77SLrDe9GSdYuZvf0OLR6C6X9EdEOS0cqb2Zpm7vPvxyfxaefWg4qix5G427N8/E/Czj+lfeXVIPDSfG40cvTcGcsdFi3ztwfPdftYdXa7Rl5rfTeHT/dT8eetB80ZeKZTuzUXmb14PIhsRklP5uLI49IZYHfIMMERERXakG8LWORBQuczbMxqzDn1jfCCSJC4LFvytA1Mt7scHreQgiIiK6OhhdgkTkYDv+ZyW65kxCiTZsSKcNjXr5W8Dv9jFYJyIiuoqxh52IiIiIyMHYw05ERERE5GAM2ImIiIiIHIwBOxERERGRgzFgJyIiIiJyMAbsREREREQOxoCdiIiIiMjBGLATERERETkYA3YiIiIiIgdjwE5ERERE5GAM2ImIiIiIHIwBOxERERGRgzFgJyIiIiJyMAbsREREREQOxoCdiIiIiMjBGLATERERETkYA3YiIiIiIgdjwE5ERERE5GAM2ImIiIiIHIwBOxERERGRgzFgJyIiIiJyMAbsREREREQOxoCdiIiIiMjBGLATERERETkYA3YiIiIiIgdjwE5ERERE5GAM2ImIiIiIHIwBOxERERGRgzFgJyIiIiJyMAbsREREREQOxoCdiIiIiMjBGLATERERETkYA3YiIiIiIge7igP2JXh553qUqqlQSjduxUc71eePz2Cumk+9N3f1ZmxZXaymQrjlGWwx8l18Xi5T8+kyk8ePp1xsl2fYqf3YuERNeyvGmj969tPne6p+Xa7919sV++1QeDmlDK8+g1Ouwc5hqt734lwl93ng2le5P5ux5hY1OVAu8/HsRP2LXWQd63u5yXO9e9uXoZ27vO3r4GMPu1K+ZAFmF4vP5mo15zIwgteAwUlwfWuQ/TT8Zeu1A3BQgucPnkSJzPfiNdjdqOaZqX3x/oRv37wCvrCu+wpgyV9zw70RD2jlsgCbjqhZTnRLMSbhM6xS+zp7yUa1YBDIvOvjsTooygqRd+QtPV/Ep2TFTrXgajdIweNlVLpxOdK2iXL9wZPYruZRCPL8ehV2xl3O2GX7ioX6tp/7DC1qXrhZLki8gnMt7c/Vo+Qa6WRlwO4gc79bABypRktu4eBfMSbfhHu0QFWc7OblaLMco9EUkKnPA+vVsn6SJ74ZtZ6gZnbxW8DCayRolyewhcOx+zmV9ucqMOkxp/VWqAuHvgbi6oLwcgWr+sm0DOVqmq4Ol7VcxXFbgrfC1gZeUS7z8UyDS/bgLxJ13Tg/r9o1HIu8O0lEnVhXUaDil6vbkPjkrEvyj9jEDHR3tmozLwdZMEtRgZqim/ReoQOF+GihCBzl38bJWvZoyXmaFhFoLMTyD9SkIK/EFuXqf1dtloFXIfabGlW5jZVFCWqqGpv8NbhyG/PqsWrQey5kr5CoceWiFS6V/zelTe5T4QFT0CJvYxlpk3/fiTy1xKxqsyewDZx2td2KM5iRIbbx5mhsERHbodqbkHbA+L38jghsk7UfWMtEkoHfYzdBW7sIrjeJg6cE602NqnUfW3at8dPg6tuQvUaWE5Gd8ghSL6x1Yg3q56l0aGk44n+bFv1Ju7mcdHJ/prjzVQqSN3LdoizWbUvDSpU+c5lqzNv3c0wEq/P6MWcuJ2mJqH4btWpokPtcUuunzCzbDrVvgrzwMpdjsOUh1m1Nl4lRPiHaCslcN4KWq2DevuV3Zu51hKgzUrD9k9sOVe5BBNo/vW7lmuqbqA+yd0ql07ONwPuv15kQ7XQw6niWx8kiVX7mOm8uVzl/S8ZyPS2muhGwTnvXJzcjf83HWoC0B613ocpVLpdt9/tIe0xtx/s7Ieqluez8ncMk+R1rG2JiWb/1eNd/Z2oDvY9HW+nzLLe240bajfQY31X7EKLcNcHyJkS+acvFOXJV7XxVNzzfCdhW+KS/r0KUu9o3T16azwvqt/L8W5Sj1bf9hXod6M0xr1F57JOmoHVa7st81G+uwKSF6js++RLkHGXQtpGGLV51VfLOf7+/96tYnItycbhqI7YbZR1oO3K+bDPDUp7O5age9oSiNFGJ12B3xnxsGSUquLzNkjFav9UhC2QhxMGvX2n59AaKyrooVzYO+vL9hZ4KphHLVxZUeHpqNwOLwnUbRe6b+5ZN4Ns3weUiTZwIt32wE9sqgEnftTtGzxi6oA8pkQejcTXqPijtpP3DzXq+l96Emm1P4piaLcle6EkVa9zr3YQ7TWMIRYMjfgNxEGrLxVFUYmkcZYN0J+DerzU4VLA8fD3YIeqFcbtQDuvImie+WK6+pzWeMq9bkLcwcDn1L+2h2MmbAiyVjb1cvrnaa19FQ/pYAQ4ZPeTF8oRhPSaClfuEjATUnPRuOK3BemBe2xbHatZC8zAEPW9qTPVxlThZL/XKu4DLVU+anO9vSI7lVqw8wajvuk+K68vUev0PtZInEUvPjTjRe8o1eNqMOrVqV4t+Ylbr8JyQd2L5D9Q8f7epQ7VlmmDlHpyxf9q2TfunnySN9uItVGE4Su4SJzm13Ggvgtf5EO20Hck3aRe12vrFb1FU5s5bo1y1vC0o0wJT7XvGiThYnXbXGZk2GbCp7xQbwV2otIeq0yHKVZlUKoMx+T2xndw7Pcdzf89hmmKMzajGfn/HqM/6fYcKeNpAUX64yXQ8hi537+XyYsp/Oy7bNeO7psAqSLmHzJsQx7NG1Md71PpX7QJmlOppd7cVsszMbUWYg7uA5R5Sgt5ZJuvbvM0YK+q8rP9Zozx533eh6rQktj/POBa864Wdc1QQolyXFp3xlKv2e6Pc5br9xU3GHe6d4lxkCtalvDQkNNbjsJp0E3HTIRFBTVCTVytHBewtuzaLg3snjtUChz4UJ78PvkFNsl4I2nARbbkiGuctR3IwRVWc0sIc9Xtd+RLZKHvI5VUiEHUfoOtFgCpOivMsFbePTMGF9eN7tRlQWSGyKnZq+7f9QxGxFxTbPwGGYC/t+oVCAj7D65aTwRJMESeRLaYr4vI3RWNr7J8cQ5xsWi7yYp082RrUGGPPOsVJb5sIQAp7MfZXNPQrLQe0pyEPVS8sKjZbe2UE2Zhrt9lM6zcHbv1Keyh28ib5DLa4g9ADWqAx1ig3bYzy+6Y0yYBkMw6r5cHLXZ74tbl9JLdl6uWSDWagE6ki8zpYz0qo5eFTjHmi2ux+0wiw9W2v+1BN9CFtvWGrzgYr9zA69KZ30BKizgvB2mlbRNC0znTMbDmS4LeDIqH2fZ8exnC2475pD0e5i4vgbUa7vxH7ZUeBCrz6ew7T5SLN6AH34m/9JeVex5O7DdQ7KxIyjFsxocrdz3JxYfh6lXe5eYJ1n2M5SLn3qh0PqAKvq/XLc2hLb+pkvwUu99DExaVsi+RxJDvtRJ3ffvKMqWz6w06dFtsvN44F/RyUYD7H9ff8bSEveo39kX/7i5sC3VkQFx8LvY5/i4FpI53kihnDLnsD/TEfFL69hQY9OMlbaA765O26BKT5dmFcFrKxTiharu+bvH2VHKaLiYCBmW/at694H7vVRYPbLaORpf60MDeG/q54DfKK2Dvglrc2e9MjZ+4V0T6eCyE79cIQqH64e2C0z1uoEeWgXeFrac+xBPN62dhMeyh28qbX6xflpzWGoeq8HnD1h+yltq5bLdCIxrhc9uaYt2/uJQ61fPBtFyczQ/C09Y+tOtufemXbGRwzTuQGO8d7mB2u9X+R21LrfWslnO24n7QL/S/3FtT7RtkaWe7uNl595NAHe+ewPhJ12tyeB1y/nbbOD/MxI88pMx4TwbrIA3fAF4S53HvTjgdU+02AQG4wBC73y63XdbqqXqRG6e/5W1x4rfPqEOvbg/oiWN95J7J2rQkQzF8brpiAPVCjbm6AAh/cenBiHi5ifMJS+PJ2nrlCuj92AxC998Jz20i/pWd/WEwwgQIzfw3MRiz37hXRrvr9MAcUwRp1efD7BNziE6bbkXbqRe/ovSMaLe3WctE/5tu8/QhkBjRvQtd5mXe9OiGa+bnV6XOrWvbwmbbr88BQqOWXi5209UP462wY2TnewyxQsOZr4NvxgS53OX7Xe9/NPdGhj8cjqA/jPrnZaetC0ochlfxgPbyH2/hjLndHHxNXsr7UaRmkqz/DcY6ydoiJ7WcYw4VCDYlRtPhqPupl3fKOTyz8X4RfTa6YgF0bJlK00BMAi0IsEUGuMZav/EA1EszL5XAB9ackl+fNM43n0ypBmHr0vAIPz8dmY6cNbThg+a52S8zopZAHTe58z7gzr7TpAveY+qS9bCFmaOPl1XRQMoDNQYl5LONdNwFGT7x2i828XA43MJ2A5XLReJuf4JYPP5nHRvZHqHoRnLxq99oX7ffGxYxv2rXeCiOoDJV27eRqXi4vzNSfUn/zRg6VMNcLLT2msdYh6ryed17jSL0by0C8A7tb5DMYZnJffI8vT69pqOUDSR/+NeMuz8WBtVxDpU0nj9G+6F+d9ZB1xfoqznAIcbyHg/nuoTreDn1oLzCz1473Mai1We595VPufo7XYOcwnWzn/Q8V8Vev7J/jQrR1/upFwLZKDnWQdypNbYsUpNzDdUwEZe45DkA/puzmmU22zt8DxFadNg9JE0H0vBy0mM/v/TlHla3306NunF9tDImRv9ceMjUN6/FHG7ozGHclLy+HvSVGf2NF6cbNGPumLCDZoJmekpeFF+RJcVmR3G9HOFItghl4fivIbXieVrb+3vJbN99thF+gMX8y7fKqUt++Zd/9pE2ypk/viTIqvnWZ7Ekxfiu3L45G81tpBJkfnjcR6PvovpXm/fYAeWJwP4Xegio5fq828FtiLL+3/NbE+I4s8zC9JcbDO/3W24TmfPNZLnsbzPsSKu2W5aLcxEkPQd4S45M34szhefLdWic0Xvln3ffgdV4TMO+89stgSr9l3XK+9lYT+ZpIsY68JeKkV4hF7nUL5rwrC7HcTr0w/1Zxpz/AcvMbCix1w6tcg6YtQN57ys63TulM9S5InbVV7oK+/75l6t0O6IzvBShXc70LcrzLdYdsp4OR6Z4nygk5yFPrN5dJ8H3Xp6zf8U2/ZD3u7ac9eLmHKle53NqWyv2wvGHJq156H6+W/Q7Qzmv1465vUOIuL5Mg9Uqu2/x2GS2tGe8HLnevYyJYvdCXeZ1H1L5oaRR1Jli5a4IdE175ZnCvQy43v4lFOza93ybiVf4B0ud3/H1QocvdUq8s5Wr+rdi/P47G63KfvNMThLWuGzz5F7xOyzyZL/YJyMs1fceSL175Fuh4MTHqdalo51F4p2X/fMo9CP9p8z1u5H7cc3KhZd7VyDEBO9HVQDYcvq9KJCKNDERCXYBTSN7Bt+NdEeWuB6/eF8bkcD4dHFevK2ZIDBEROZwMzExjUd2fcL1ClzTlS+T71JmvYaUNTTW/dcsJZA+817GkPraGLl7l5IWrNmTmGukAYA87URixh50oCPawX5tY7kT9xoCdiIiIiMjBOCSGiIiIiMjBGLATERERETkYA3YiIiIiIgdjwE5ERERE5GAM2ImIiIiIHIwBOxERERGRgzFgJyIiIiJyMAbsREREREQOxoCdiIiIiMjBrr2A/ZZnsGXnVmxZXaxm9I78p+c/2rkZa25RM65BMg/6mn/9Vbpxq8j/9ShV02En68cfn8FcNRncErws6tJH6nO58oT81Av5T6GLMnm5TE2Hk2pDjHIfkG1cRgN+jBERUa9ddQG7PNlcbSfQwaKfqAf3YsR/eRVjzR9990NeKJTUrsHs4jKUq3mX10Y8ULxA7M8CbDqiZl1renWBMzD81ov1ZWJ6DernDUB9/uBJlGjlvga7G9W8MNM7BoyLgvCmwbpu/WO+2CxfItL2XD1KLnO5EhGRx7XXw65OtiUrdqoZvbN9xUJxol6I5R+oGVeNJZiSW42qIwmY9N3B6yk+XNui/vJ2BscsebwE9xRUYF0fy42uVsHqxU4sL6/ApLuWqOkrgwyoV4o0rVIXg7M3n8GMx8Lb4121Wa1bfXzaQ9FOrqsowD3s/CAicoQh8clZl+QfsYkZ6O5s1WZePnKIwZ3IU1Mtu9Z4TiTyFve8emwSJ5FFRQnaLM9y6+/M5InpgfXiD/n7hTn6TLRg93PmoFv+vhD1u4ZjRhHEMvGD0uWYkez5nuwJXpSrvt74GVb94ElsV5N6j7D8vppULPsfLG2yl/Kxm6ClSq57WxpWavvqvZ8DSOZP4QHMPlCo/3/JRrVA8No/WQYlWO9//wV3ngsy+FiKCtQU3YS8I2/p65dpk3+LbejL5bpytfzJ0vJF/l2I/aYeU8/3jPyUZL6LiKJCBDRFOdp29xfq5eS9DytVnQGqscnSQ28uO5Hfm0WANw9Y5y5fr7JV++1N1g/Zy2vdv1BknZiPernNhabyN9WtYPXOnC5Zn7ZkLNe/6/5esH0PXeeDpd2apyaWfexfnffehvV40vmvF2aqjpQPxHGk50/aNk9d04T9eNbLyvt4CFyng5N1asoBr332R6ZDXCV4jgUiIrpcHNTDLk9+dwLunp81OFSw3DpcIvkmLVDUlj/3GVBUpm4VG0MT9FvU5t4j90lJu0Xu+Y6vHEyS6958BpNKF4oTvBzmkIA0FW1ot4nVdn37hHdi+Q8825xd/BaqxLcOfWgEESHSpnr99XUXYKkMmLXv2Tu5yxOw9y1u79vcocwdNRxVB0Qwtv4AqnILTb15Yt9LbwJEsKTtk4gKSiyBmggmHivAoedU2kQashZab+EnFKWJYEPke8Z8bBkl0ibTmTHaerv9ltHIahQ5m6Gi08Z6HNb/0kzIgCk/zRIwI0NfZ9a8zRgrApFVu1qQNUqlXVyIWHsrgUWmW/1zV5dhBkRQpS0XlWWe58JDKt24HJMqVNrFZxPuDPNYdbH/8gJBW7/II9yEpWr9MihbBBEkG9uuvQkrN3p6i/W7PXp6UVCmBWHad1WAZd13mf/e+x68zgdLu7Ht2Zur9aBUfcfYdr/rvAgWlxadEYGo+ffG8e4RuF4YdmJbBdxpGhQh0tbb43Xu6vniYveAJyAPUadDa0H9KH2Mv/YJ9NsPduIQ0jBBTRIR0eXjnID9lmIRPHyG1929PiII3laNvELT7WwRGLhvfYuT4pawDt+oxha57qp6oPaAdmKVwzXcgZ9tRqBiCrbtpM2QfAZb/PTgBuO+mPD62O/tLca8gjPYr+3fRuw/koMpRmAl9z1Z5Y0k8n2dDBDd5MWSKa3yJO91QdSya7MINnbiWK0MrkTaPvgGNcl6ILD95BkkyCA9Lw2oqECNDORl8K7/VCnGWBGY+deC3W+qdaIC20Qa3OsUSgtzULXN1EO4frMIigswTwv8ZLoTTMvlEArzBZk+TMiddqH8TXGhWFAcxrG9Yv/LTdsX9SJBrV8Lik11ofyACI4DSKh936fHVNYLTx2Qgav3pWawOt/PtIe9zovf/8BUzzTB6oVV74/jMPGTNnvHq+xV1wNqeQfBXA+C12k71EWu2q73haDVcIy1vV4iIhoozgnYRcBm7tl08+6JNQk8/vlykcG63itpCZ5k2pLFSdHo0ZIfeYvcX9q8epYHhRaU52CR2jc5rMJ6oRR8n2RPsDtdO01DKHpB9vDXnNyJehl4hK03NFBA5+lF1nobq9Sf3rQLB0++aB851EFdbAwIETybLxjMb6HxDOny1VLr56lXOaTB9Hu/Q1gC6W/a+1vntQvD4dbtBwwqHazPx7PngeZ1KBPpN8aw63U6b6EpX7RjzlynvXvxzXe8inH4TbFe84WguBDzueNFRESO4pyA3RKomNR+4+lJ8jIhoxcByCAwhhD49GzLtJmHDRifMI0N7e+QmLnfLfAMedE+b1mHxQQL0vwMXejVmzNk3mQU4h6th18NXxgl5lvKXe+d771AvzMH6dZAx0LrtZfjg420GR/744V7zXThWrpRH9Pv3q4cfmKbPpSpxjQ8TBs6Y1d/0x6GOu8edqN99CE91jcK2a8X8mLQKXp7vG5fsV4cU0ZPt55m87A/42PuJLD24pvvTOzEdstdCiXgMe798DcREV0OzgnYtfGSN5neSiACjnk5+rhqQ7Lptq8IFEtyzePEpb4Gdv1njDf2OwzFJ236SdtuQB1K/4bEyGEh3uOAj6C+UQ2L0Ya45KDEva/6MBI3LbAzuSUXaepP+4YjC3pPpBzOklVQ4HO35bAo174Mf5LDSPLmmcboli3EDDl0RgtC9GEi5uXy4sWzbX14kCft6m5Cb3t6jZ5uv78zD+vS63xLhQiqxJT3HaTSUcP9X9T65X0sFGvjve2zmfZAF9r9rfPyIWif/PK9GxK6Xuj1O9BdFD14Htx3jgc/XuVdOq98knXWdNfKp05r9ctuGvS7NuYLn9K75DMqctiaF21Y02W440dERD4c9NCpHKP6FuC+1etnaEnjGaSVquWPyZPMeq8xrXqQY75d7D4xyQBArVfePp7xmL7cbgDh7hXThgUYt/qNW80qiM29U21DfdwBh3fatlqDeyOgs6w7fAF9UFow4N2LpgJZbViM2Pdy+YDvcrXvZUizBJIb8bp56ELpaLy+Tb6Gzua7o7Xx7AlIMHrURQAIMe09xGP7ivdR05ex4+vLsKqiwDM0YyGwydTLq/VeisDSWL4044wlAC1foj8sqad9q/6wn3s4gWfIihxGlGDkUS8fAKzJkEMe5HpE3YTnOQ0tze5834opJ9fjUIaoY6peGUOR5FAX97ZNwx/kUIcsd50rw9g39fXZrVfB065o5Wca+uJOe//qfCkOaA+5Gr/V2wPf4z1kvZBBZ+37Pr/T6cNL9GcsesHYd60tMQ1PMY73fh3PMt8WaG/8cad94XDr22W867T20Lfduz5yqE2QcjGRF6815rHyRER02TjstY5ByIB7Xr3X6xTpWiID1OCv8LvSyIB/PuoH69WdV6nA9UL2Vosr9oCvdGT+ByQvOkr5SkciIqdwUA87UXByTLPe88h/Np08/NYL7Y6afEd6kGC8rBB5RwL1vl+7tLuJj6VhC4N1IiLHYA870WXDHl4iIiIK7coJ2ImIiIiIrkEcEkNERERE5GAM2ImIiIiIHIwBOxERERGRgzFgJyIiIiJyMAbsREREREQOxoCdiIiIiMjBGLATERERETkYA3YiIiIiIgdjwE5ERERE5GAM2ImIiIiIHIwBOxERERGRgzFgJyIiIiJyMAbsREREREQOxoCdiIiIiMjBGLATERERETkYA3YiIiIiIgdjwE5ERERE5GAM2ImIiIiIHIwBOxERERGRgzFgJyIiIiJyMAbsREREREQOxoCdiIiIiMjBGLATERERETkYA3YiIiIiIgdjwE5ERERE5GAM2ImIiIiIHIwBOxERERGRgzFgJyIiIiJyMAbsREREREQOxoCdiIiIiMjBGLATERERETlYZFRM4s/kH0Oj43Gxp0ub6TjRSXgyIwLnWrpxVs0Kh9szsnB3Ug/OiPXWqXkUWEpcEn6aAnze1oMLal6/DFC5zkpOx+IRkYhq7MRXal5YDXHhh8OTMK27EzU9l9CiZrvzp92FJdfFI7mhY2C2L8xLHY4fuNqxq/OSmhPCkGj813HxyGrswPUZw/Gdnlbs61HLhMmxSfj7YcAZUbbn1LxeE9t4eFwmbu5u87tfKUNjsSQ7AwvSEzE7NREFHS34D4c2OYaw1/l+6nW52xGi3JzObzselYgV16WhWNSz2akxGNPchi8uqmU2jEtIwSPJlwKW+93Ds3DnCL0ez3Z19at+TI5NxL0pkUB7N06oeSOGxuPB4VFAa5d7XrgUD8vE/aOS9H2Pu4TO5vBvw6l4DlMCnMOKxHZ/FNOBTy/GYXmmC01hTldQg3GOusJdET3sRTFR6GjvxEE1HR7REO0tOto68aWac6WQJ+2HE9TEIJoWE4uWC11oUNP9NTDlGoHrEoaiu7UTR9ScsBoSifsyk4BzDfhtx0WcVrMlmT/n2zvQEBWNYSJdA7J9TSRGxPag9kIvIhCxTxmirh+6FIWMeLGPnWq+crC9BUcjUjAnRs3oixiR7iFdAfdrVkoKuutq8Ey1/vnnNrXAhqulzvdPH8rdjhDl5mwB2vHOZqyW9exYEzo6O3CiW823KVccL8HK/Y0zeh3+SxP0Y17N761cEUDOi+3Au3XiIsx0rXS6qxV/uRCHooTwn6J3nj+r7fu2ui50t3Vgl5o/mHgOC+ZyncMiMC42ArXtPZgs2oTIjq4wpyuEwThHXeGugIBdVqJInL9gutQKiw7881c1WNMU7vUOMHFlPDq+Bw2D3t0X7mBhoMr1Il49WYPVdR04quaETwS+n54sGrpz+INPz7CeP7JciuNi0CIanvBvX4kUDdrQTnFSV9M2GCeWo6JRTL/QgUqfjtSL+KC5HelxUWq6D9qb8MxXdXjVb3AUhSzRCDd2qMneuGrqfD/1odxtCVpuThe8HR8XMxTRot7vVNP26PWttj1UubuQESOCvz7Wy5Sh8bhNHBPvnvMfmO1sbsPQ+GhMVtPhNlrkzfkLl6HQeQ4L4TKdw4YMRXLsBdSKQDk/bijq2ga3bgzKOeoKNyQ+OUvLltjEDHR3tmozL6shEbg9NRWTk4cCl7pRe7oFyIrG6aMNeEfuqVw+LAX5ydFwicuN7sbzeK/uAg5oPxZXjtnDgNOmk09kLP7bqKE4+E0Ttonffz8jC38jLi41F8S8k63WHgZt+2L9SWr9DefwRn2Hu0HNjY7FvPQk0VCLhT3igDp1Dq96XQkOBHmL9r7hsWrK5FIr/nK0Cf+m5U2k2Pdkz76LvNlWfwF7tWXReHh8KkTuaL85eKIL2SNSMGxoD058cxa/lWkIlnaZj6OH4ujpS5iQlYDoIaLhE/n8z202G79Q5SpMi03ErIwEJIivoKsdB0+KZVpbGLpc5a28eenyh4I5TwwhyhURQ/FDkXe5SXIdF9FSX493GrstDea42CTcHtOG357v9u2hEY3dD4dF4ui5C0hISkRMazP+zdSO50bH4+8yEzAsStWbk6LeqAZT3qZ9RJy4X6hVPXVDYvDwuCh8rdKQ4orGfxmeote5LlF25+TtQc/35fK7RZ0cEe8Sae/B+dp6vNosTohyXco8sU8Jbc3YK/LtlogO/NZfMOKKx/Jh3Vgj1mubdhszFRlD9MmOurNY0+hJuLz9Pis1Uk15dJ+rxWqRj8EMRp3X8jZT5G2s+PFFUS/P1HvqdH/rvBCs3GVbdF1LDV5s16e19Ma2W8o1WLlb2qKLXThdcw4b7AYjIcpNmibq+5zh8YiWxSfy5vy5Bvx7Y5e9Xj/vdrqlATvPGr3IoY/nUHU6ZDuuaHncLvLYuOevicC8xCRMSYvV03ahBXtrmvHvRtapcj9dH4Hr0mPhGiLag7o6/FZcFJiPKe14yYrAZ980+1wQBG7LDCIPshLRcaYBbwQsMlFGo1w4ECBtAdloy/Tyj0W9aH/f0MrEI1S5h06bfzyHOfwcJo65B+MuYZuo54WpUWg4346dpu0Ha8vkHZPJPY1oSUjGCNVe/eWE2H+VtaHaOmnAzlFXEceNYf9+egYmDhEV+FQD/lVcgo9OSsG4i+34/7SxVJH4YVYaRnc244Mzjdh0/gLyhqXhuh5jLOwQ3JiYgNgLnrFP308fhjhx0G9SSTvc1oKPzreg82IMxna34l8tJ7gI3D0iDWM7m/DvYv1vnu9Afqo4abTr4x9lZb8nLRJfnz2HTXUtONUZjSIxbW8MoGggx2fiVm1MpfkTh5xWUblDNHgNnRe0/T7e5cKNF5vxwokGvC+mPxL7eFh+Qd7mGpmGzNbzeLu2Cf9b5c14kTefaWnvwWfy+xciMFsc7W097dheJ753zth28LSnxMZhVmQPvmppwbvnWnCuJxo3Jg9Bm0j7KfnzEIKXq2isklLxt4ndOHj6HH5T34KLQxIwPaFHjTUMXa4nOtq0/Pm8IwLTh3Riu1ivp0EKnjbt5DU6CTFifTLvPmrqxqThychsMY97jcCtGXFoqBf7YG5E3S7ioBqD+lVHJw6bvpMSnYjF6RH4SqTtJZG2c92i3iRcQrVIW5NYPitRnHREnd5pjB8Web0gQqVB7NvfZydqPSK/P9uET8U54qbhYrrF+H4k7sqMR2v9OfxB1MnP2yIwY0QUYox6och9+lKkpamnG3/p9psAkcQo3Bx7EZ+K/bKvB/+h1cN2jImLwYXGFktd/lqUmSyXc91RyO9sxDOnGrXpT2wElgNe58WJoXSUKNNaceKpbcbn7ZGYnuZChKjTx8Xi/tb54OUehe9mRqJR5NtBVRyzkoYh5kIDPtYCjxDlLpYvEid32RbJ4+VcTwymDbO/b6HKLSVatnU92HPiHP6XSPt/imB5VPQQtHb02Fp/kUjLxO5GVS7ieBuWipGdop3WgpVQx3PoOh28HTe4cHNaFNoarOPXs+MSMSdK1AXtHNKG4XGpom1qw6cdekGMi0/AtKhLONko2gqRt6cuROL6ETEYJtqtv2rf0I2Li8cUdOB/eR0vwdsyXUpMIooj2vCGCBYDdzS7MC0pAqdtnV8UW22ZEBWHW6J7sK/JWl9ClbudtAXCc5jDz2EXRX0Q5dyAS/hSnMu+VrOl4G2ZC99Nj0OM2P8/i/LYJNqUUbHD8C3XBdXOh2jrlIE7R109xKWQgwyNx2Rx1bVfXDVqV9SXLuK0KDhjjNi4+ERcJ076v23sxAFtubjKFQWeNNTowbsoGoUIRKrJlKhEFEQ0Y5ufsbL+bgeOi0/CRNGQvNPYpVesS13YcEJcEWsHlAvF6S58fboJ74hpeSAd7OxCR0wk0uXiUIZ04F+/8ozf9XxUz4BNcmylvzGTk+OTMVocAK+29OCoypujolLHuYy80RXHxKD7Qgv+zfieEjzt0Mf+tbZjm8gyue293eKP7h57D+uGKFfZo/xtcdX8lzOt+Hd1HH7SKTIlyoV8bcp+uf5NdIx+W01NS6HSNis5CbHnz+GfRX7JPGkQDUZD11AkmO+8uWIx+lI7Kt2Nn10u3JEZg9Mi6HpHVbeDLQ14pq5DnYR9b9PKMuq40KWlQe7bsJZG/KvYNznWUO5bu2hYPd/vwaunG/CGqpOnZfo6bZaLF234QI9cQR8MGSoadf12qj/XxUSLfe5FRTcZqDp/e1oKukRQ+GqHqF9i+nRHM9acbMUn+uL+1flQ5e4aimHdHTjqPu+4kBHrGV4RstwvdeCfTze7j5cWcUyhsxtV+qR9AcotPyYKru6L6B4ijjcxfbqnA682qOPXhl1N5/Ciu1wuoRtdEPGHEup4tl+ngw7rcEUjQwTU3uPXT7Q14Z/OG+cQkW/i/21dnuNPG78uLmDc7byoe+fFqVL2appNio0V2/bq6QvZlulmJYrftoYYSx0VhWE9F90PBNphqy0TimKjRaJFeappQ9Byt5m2UHgOu8rOYZGiDYkUwbjYN/2YEvvQ3gXXEHXAhGjreqNf56irQPgDdnmbJycLTxqfjGjtwLejKC4WrtYO7faQzjpGbFqCWJ6ShkdM65e3RZtEY264IBo4vWGNxPfFtk/VX/C9hSuuRtPi2yEWWUwS2z/fdsF669AQFYsRoqHJvc6UtrFJiBb7Zn7wMCB5EKk/+y7Q2L8ITE6QjWCnaRsRyIqOtOSNnJcdJxrhVvOVuy5o2v0FlX4alUBCleu4+BgMc8Vj2nhT3mbFAx3d7lvBtspVLJPp8x6jGDxtLuQlupCQOdyz7ZxM0TCIAMMUxEyWJzijce4NLWgQ21YNqw+fccl6GckHf2R6rouPQJ35xC6/7/J8Xw4d+K8jTfs+OgGutq4+PUgmT6R9DapTYkVw0dqJQ2raqh/j1weqzos2YERCO84EfPC1f3U+VLnL+hRtLidLcBm63OXt6YdHe8pdDjXoy8N0gcptV0szaiMTUSzaO629HZWIv7N7tpC37tNSsWKcqpM5GciOtI69D3Y8267TAdpxg//x6xGYl5yC5aZ2fGJCB+rd1d7P+HUZOHd2ocZcrWTQ4Wf8up22zDgeAl3cGiZHD0VPr9oce22ZFOhCJ1i520tbKDyH+avzHlfeOWycWG+CyBvzxZ9Wv+QFixC8reud/pyjrgZ2m2D7etrxT+YeZNMYpVDSo0QhiwrlJh+CiDMatkhEu7pw9Jhp3erzz2pclNTSI67IxWVsbkIiRrY14N/8VYqhogHuEOuyXKhFiqte0QCbgwrVy6BxDYGr6ZzPtp852erTS+GPfA2Y52DyfP5bYi+KQF7J+q3o4mD1bpQjREAS04qvzQ3jkKgAvaAh0h4oqPRqVAIJXq7AiEiXNobWJ2/FFbzBVrn67S0MkTZZr6Ja8RfvbVfXWR7CS4iIQFOX5YxtT5RYv2hg/qImpRSxfTeRNwkib9wNt1FGWl7LcrWe2FPESdzdOIrv3i1OqD31tdig9vvLFlkuPgUcmljXOBHAfm06lnrDX6+Qm+xh6TL3sPTCQNV5UeeSRBD2jakNsJRLP+t8qHK/LloEJ+qEJmnBpfv7Ico9Mha3jRiKM6fP4AWt3GtxQqQl9EOSvgKWW08H/vmUOCblXcGvzuBITwLy4+y1VfOGZWDCpRa897VeJ189IyqV1wk94PHcmzrttx338NcDXpiYgmkibz82ziPftKBbfMddN7XeQlHupvo2Ky5G7P8Fa+AfIOiw05aJRCKyq0u/cxCQDGCBb1p6c9DYa8uCXugEKXd7aQuB57Cr7hym3ZEydxYMicFwkTfysJeCt3W90M9z1NUg/AF7f4gGbJi4yp4sK8OQCPzdsERktHXgiNawXUJPj6i44qp2hJhKkQ+npKfiv3qdRE73iBoaGYN5yRexv8H3KlzyfztQrn8oRsa79PWLhuW+4em4W3xVI+t5VBTmqVtahbKHS1xBF+uTIRmvAfP+/FOz/ZNsijgwEvxW9G60d4kDPTZC2/cRonH6cVYi2s+24N/NJ4UYcYLz2wsaPO2WYEEK0GjOS80UFyHpuM+lZhiClqtoyC5eRLTYt2nactmbkYTl6dGYqC/W2ClX/72FIcpVWx6FrOgIrQGUeXff8FT8OFwPost6Ex+LYlVvpom0PTQ8FoX6JCa7RGa5IpGt8ub7qYl6GoxyuxSNbFGu+r5F4+5h8Z7GUaRl2JBO1HRexGnx+8LoWKRF9a0nuzAhAQkNrdb6Ypv/XiGD1sPS3rde/wGr85cuokvkV756xmuyOJ5/PDIJfyfLQbBX5+W4UnHhPT4J31dz3IKWewQSRbHHibLX9z1aHDsiuDQPEwhW7nLfusXFhjgkGsT+Fot0eAeZkhx3umJ8FpYnBWrm/ZfbrORU/LdhUShUeTFOBKeyXp22dUEgezKBJlFm8vb4OFFHp4kTtHfvf8DjuRd1OtCwDp3/HvDRMdHoEfsm30AxYogL8+KHwmWqm1pvoViW4G7nE/F/JHXgYIO1e9F/7729tsyOlOgEjO5qxa5exVc227IAFzqhyj0caeM57Go7h8k7JhEYKi4GtH0TcdndGUmIO9eID7S6a6Ots6l/56irg6PeEiNfc/XjUUlaYynfKlDZEY8Jl867314g/+GV+7LkU+FioqcLtfWN2Nbs9dYCUZmezBIV4lQtXjSfYOTTxXIIi5o0mN9WYVl/VzuOnmnCv6nxrbLi/V1qKqaliIXigOxubUFlXbN7TNdgkCfg0lEJsrNfY36zQ7B9tzx97iYam6/P4Q/qhBDs99oT4F217osL7a0miZ149Yz5Fl0E7hs1XJygW7Drm2bTrUO57uDlKh82+mFmKnITxJEtAqmOpibsP9eObeb4IFC5yodtTG+7cGs5796/4OUK5MYk4s4RCfpbEbrECaq2AW+IbZgblMmJqbg1otGzz7aZ6g1E2hobsOOcOHEY+RMh9j9b7L9cfKEVpztjMayzzr0d+SDTPNHwy/Gc5+ua0JqUiK6zauyifEhLNNzjRIMp0/XlqSYgfbg4STTgndPt9m99RsTg4eGR+I/TIkDoRWPov14Zb2yIwoPXpYkGWs02mMrFjoGs80WJKSiWbwER2dfd0oS9da3YppbZq/Oi7MaLsmtrwLsiv/U3VRmCl7t8//bdw+O1N5B0NLahTQQDDSc9PWJBy91cZ1qbsOtsJ8aNTseI5no8c84TgUxLSsffpUfg9Mmz2GAKeIOXm0irvEAYniICbz3Q725vxxF5TFhj1oDM+15bWy+C4RTcNhyWvA98PIeo0yHa8VBpM+d7y7lzeLc9BneLq5a6E2e0PPq7tOHI72xAg0hDtnzfszgmD4p6pbXzNtoaW20ZxLExNgY1x0V99Xe8iQuJH4+IQ62sz5bfhRa4LRP5OkoOk9C/59bZgk/UW25ClruttAXHc9hVdg6TQ6BHD8WJ2gjkiiDeJdsrr7cKhWrrbOnjOepq47zXOhI5kWyYRkZg7zeehxKvCjL4y4rGiZreBwdE1DfywiD3whm86H3K1S5YkgH5MLTNCyQiWwbgHObv9Yxhx3OUGwN2IpuKklNRhCb8obHb3oPGDjduaCy+lzYUR2qb3G82IAosAj8cIQLNeDVpYu4pJRtUEHJavnVMZZscynBregIu+P2H2Yj6L9znMO87F+HGc5QVA3YiIiIi6gUXfjw6BV01vRzeQn3GgJ2IiIiIyMH0p0uIiIiIiMiRGLATERERETkYA3YiIiIiIgdjwE5ERERE5GAM2ImIiIiIHIwBOxERERGRgzFgJyIiIiJyMAbsREREREQOFhkVk/gz+cfQ6Hhc7Lk6/z1k+c/n/sDVjl2d2r8RFVxUIlZcl4bi1ETMTo3BmOY2fDEw/+puSCmR0bh/eCJyOi7gpNiHC2q+Wa/S1gu3Z2Th7qQenGnpRp2a129DXLgvKwU3drRftjwlIiIiutJcAz3skRgR24PaCzYjxM5mrK6uwTPHmtDR2YETffkndyNj8d9GJ6JYTfZJRDT+S0Y0vjnbgDfEdVSDmm3Vy7TZFo0RiUBHWye+VHPC4lI3/q2+C6PTY1GoZhERERFRcFd/wB4ZhYyhnTjdy5sH42KGIrq9EzvVdG/kxkYj4UIn/qKme21IJO7LjMbps03492CxeB/TFloH/vmrGqxp6lHT4dPQ2YZvImJREKlmEBEREVFQQ+KTs7SxFLGJGejubNVmXj4iUB2VjKFN3RiREYu6k7WoSUzH3yRdxNFv6vCqDExFMHt7ajLyk6LhEpcb3Y3nsa3+AvaqESEprmj8l+EpyIgRC7tacfAcMDm2Ay/Udui91BFD8UPx+9ykoWLiIlrq6/FOYzeOymUm38/IwnXtNXixRc0IyYUfj85AdpSaNOmoO4s1jXrwOy0uCXMy4xEtA9audnx5qgFvePXiFyWl4tsXG8S2rdF6yLQNicDtw1KQn+zJm/fqLuCAtiwaD4+PxtfVTfg3OS2kRCehdFgX3jvdrn1HpvlvkvRluNCEbSdbsUtNStr2M8X2Y8XKL3aj9kw9/rnNs4+50bGYl56k719PB46eOodXO9VCk+9npCPlvCjPvty9ICIiIrrGOGsMuwgqZ6cPxfm6BnzeE4sc1wV82tAm9i0BiR2t2HdRBPQj05DZeh5v1zbhf5+/gLxhaRjf04LPtGA+Gn+fnQicO4ffn23CpyLYvmm4mG5pxk45xlss/6+jkxAjAln5+4/EhcGk4cnIbPEep+7CzWlRaBPbtj/W+iL+0tSCj8Q+5SREof7EWbxYL6db8GmHfjVRlJyOv427gI9Oncfvz7Xg4pAETEu4iOOt3Z4hL0OicGv6EBw514Gv1CxNqLSJi50fZqVhdGczPjjTiE0qb64TefMfWrG6MHVYDC41teOgtjuRuGtEAppEPnyg0ni4Td/fzosxGNvdin81D7WJjEXpqDg01IogvLYZn7dHYnqaCxHNXTguFo+LTcI9aZH4+uw5bKprwanOaBSJ6U6x/IS+Brdvxcch5sLlezaAiIiI6EoSof7vCCmxURjW1Io3eoCEyEh0dfbgyKUIJAztQEMnMDk+GaMvNODVlh4clUHnpW4cbetBnEsfXzErOQnDWhrxr2LeaTHd0NON9oueMd5yeez5c/hnsVz+Xi5v6BoKEV9buaKRgb6OXx+KFH+/FQFvUUon/lLbjl16/I5P2jrQPTQSI/RJTUpsDNLbO7BNfccQKm3j4hNxXWcjftvYiQMqb2pFniWJ9eu60dIRgcgh+lRuQiJGtjXg3/ykcXSMuGi6YF1we1oKuupFsN5xUbu4ON3RjDUnW/GJttSF4nQXvj7dhHfExYFcfrCzCx0xkUjXlpu5kBFzET1e6SMiIiIi/8IfsMsHLnOy8KTxyYgWAaw9fxMdIwLFDvGXCGLjulAvh1PIAPhiF74RgfvkhGicb+/09EaL3c+KjkSTCOzlb66Lj0Bda5dnuRzj7TLGeLuQl+hCQuZwz77lZGJcTBdavIZt9Gf8+rgA49cnx8UiQQToRrAuTY4eCldHt2XYybSYWDSLbVuFSpv4XUIsXClpeMSU93J4i5430iX09ERgqCzxIdGYl3IRFQ2mnn2DWJYW34568ytpxLwRCe0406amvUXFYkRUNHKv82z7ybFJiL6gX1xYaOXZgaPhHx5PREREdFUKf8De045/km9ZMT7G+OqQIpEd1436dvmnCEahB3UyAI6Rga4IuBO8g+sIEUjGtOJrLbiUyzu0XmVDigiIE1o7sFebikR0VCv+Yt437eM7lnpSbKy6cOi9XBG4nm/3TfOIoUPR0WkOkCOQHz8Up1us24mJ7EGDCsI9bKTN1YWjx7zTVoN/lvmpuYjmHvk9oDglEa6GFvybv17uoVEY1iHWZV4W6UJSp7xoUtNCiuqp17iGwNV0zmfbz5xsVfvnUSguXNDUbrlIISIiIqLAnDMkZshQpER0oUYE6Ski6E1o69KCukkxInjukBF1N9q7xHdiI7QhJCNEUP/jrES0n23BvxuB5KVoZIvlskd/RGQ07h4Wj5YLRq+07GGOQla0sTwK9w1PxY99HhKVQzbEb/y99FyYl5qJJ3PScZ8IfH3JOwMi4Pbz24buHkTHRKFQBrpDIvB3w1KR29OAHQG24yNk2iJF3ujDa1Lkg7npqfivcdbibRH74Boaj7+JbsUnXg+0GorEBRLEBZIl0L50EV3RsciXz+kKk6Pj8eORSfg7I2iXveVRUZinRt8UiuUPZ8X7vtZySBRuSupGVYBtExEREZEvxzx0mhIXh5svdeDV9h7MSkpGzIUm/EeXfPgzAo3nLuCvIig9fqEHN2ak4+b0REyNH4L62vN468JF9Q8K9WBoTzSuz0zG9JRYjO/qQEe0C82Nrerhxh40XojElKxUzEyTv49Ex/kGbO64pP1ePhD64+xkzE6NR1JkJIalyH84KQ45ra34i3v4RgRmpiZi2KV2fNnQaX0oVDMEE+OSkJchfys+wyKQ1NCBw2LJqc4OjIpPRtFwsY3kGMS1NeKD877vOR8bk4gRl1rVg6KGUGm7hG86Loq8SdPyZnpSFCKam7CttQfntN/rskTQfX36UJw87XnQVOOKx/Jx6fhbsc85cZGIiI3X9n+myJlP5Bj5S+KCqTsKk0cMQ7HIu7yIDvxFXCi9b6xD1Ju4oWK7I2T+iXVEduGrOnEhZd6GUDxMPuDbhN93+evaJyIiIiJ/HPZaR0qJSUJpUif+9ewFn1dNXsnkqyqLhsiHYntsDpEiIiIiIsk5Q2JI03ChBQcvJWCBGv5yxVPDf759qQl/YLBORERE1GvsYSciIiIicjD2sBMRERERORgDdiIiIiIiB2PATkRERETkYAzYiYiIiIgcjAE7EREREZGDMWAnIiIiInIwBuxERERERA7GgJ2IiIiIyMEYsBMRERERORgDdiIiIiIiB2PATkRERETkYAzYiYiIiIgcjAE7EREREZGDMWAnIiIiInIwBuxERERERA7GgJ2IiIiIyMEYsBMRERERORgDdiIiIiIiB2PATkRERETkYAzYiYiIiIgcjAE7EREREZGDMWAnIiIiInIwBuxERERERA7GgJ2IiIiIyMEYsBMRERERORgDdiIiIiIiB2PATkRERETkYAzYiYiIiIgcjAE7EREREZGDMWAnIiIiInIwBuxERERERA7GgJ2IiIiIyMGu4YA9AiWvzsFvNmcjS80ZENOysWZnAeaoyQE1fiR+/ulc/EZ9Vjyi5g+UwUzbZTb9xVnufP3Ne+OQr+b32eICvCTq3hg1OaAWTcCL7npRhAcXqPkD5WquF71KWwTu3mTku/i8kgmXWnJFGT8CT308Fz9f2ce9vz0H6z6djUfvV9PUP4N9PNNlkfXQRPz8lZGYPFbNoGuecwN2GdBsGokkNRl+qbhxfASaDp9HjZozEFxFqUg/cQ4fq2lb+pr2r07hiZnb8ZMFX6AadTjyJzV/gPQpbVeoPQ9/gp+IvF37aSvaqs+hUs3vq/yCZLR9fR7H1bQdczbMxs+X9+GQ3XQYD8t6saoaTe31+Hyrmj9AruZ60bu0XcQbi0S+i7x/uwqoqaxDt1riGPICZPsETFeTfi1Ix5jIZhzZ27e9z5+WjqTOelT+Wc2g/hnk49mvAT8/X9vSH5mER6fW4fnFp3DwmJpJ1zzHBuzTp6ai7VgjmtR0+NVhtWj0lq5oVdMD4zuThqHuq/O9OlH3O+23piCrvhEHv1LTA6QvabuyRWDy2HgReDWq6b6KxpTxUTh5qBd1LzEZE8d04vjnF9WM3ku6MRlJX5/DHjU9UK7metG3tCVjbLYMePtedgMlfU66uABpwD417Vf5IXHRsQev9DEwrFyxBz8pPoT3B7g9utYM1vHsz8Cfn69drpJxeHRKHX75YJ2IUog8hsQnZ12Sf8QmZqC7M5zBazJK38vCl7d+iR1qTkhySMerBX6HqFRv2o7VL8TjwfeKMD1ZzmnFnpeqELfwBkxOi0DNuzvwxJqLcM0egX94OA+Ts6LFdzpQs30/fvZUq/sEW/LKXNyRpyYaq7H21qOm3tJo/GjzDGT9+a/ovkWsNzkCbZVf4OkHzto8cFyY9YtJuHtGOuIiL6LuowpUF+YC6/+MDVvE4sQYlKyZjAWTksVyoO3El9jwwAkcbBbLQqZdrD1E2gz5vyhCaWwFHn7YGli6pqTix8sKMHVsjNhTsX979+GXjza605b+wzF48J5c5Ij8RE8rDr66F89vNNYeIm2C9feN2LN+HzZs0oOUyWtvxqNFMdrfTbv2Y2vct3DHjfFwnajA0kWn+t/wW/L2ItqqKvDLxaf1HuzEEXhqayb+Y+YXULsK1+ICrPteE3658IT2neBpVxIzsWLrSBy57wDe6E3wIfdt3d/gtnyR3p4OVL5djai70vH5ArE/suyD1Iuk5YVYd1u6vh6Ls3hb/d5uvZB1v6hSP07MgtcLUe6rCnDH7EwkiX1D4wn8/h/FMf1XbaEQul7kPDoRf79gJLISRd42n8WWp7/A27v0ZQNZL1yP3ID1NzRjX9o4TO85jKf/ZSjKlucg/dghLL3vtLburPvH4cEfjsMYuW+izu77f/6C8j/Yr/PB0ua2YBzWLRuK1+ceDmtwFbzcVFtWWY34aRO09HWfrcav7z8q6pVom7dPw9RY7YsWTZ/uwtKfivOAVtdvQI73fI1shyfBta8V+XPSUP3Sp6j6ThHuyL+EPWtF3rwjviLTvDLH3QNrtGEGebfoR9cPVVPKV4fwkCgXLfdDHs+T1HAykefPN2DyT3JFGruw74VPUL5JWzBwgrXjSrqoU2Wibhn16pM1e/GK0fhY6hVM5aIWB0u7SaDjGdcnY/H/KEDReHEcyXqxax+eXaYH165Hb8BLd2Xq36s6hA3fjMC9s8V+dB7HBq1+BjnebZyjZKdG/rKJWFwyAulR+jHx/nNf4I2P5LLQ5+/ggtVpsdhGvQh2jtLuNv0iCZUfR2FqsXHM78HjK1RbGqLcQ7Zltso1HovfyUPbE+Ic425jiXSi1g6QRcOR39aCI2rSFmNIx30VqNECEv12svzojUErNtwqplfKW4EdiMu+iLcf2KEt1w/2eNxbmolT//IpHhLzHn6pFslzx+Fv5U+VLYv19fkd2pCYjLFZbWg724LfLtqBh8R22vLH4Xs2B+Pmr56Ku8c34o1H5TY+xBsYLU6K53BENdSTHyvAt8XB+3iJWH77flSnTcT379OXhU576LTpAvQCX5+Jn/4iD64P9mKp+P1DD1eg7cbJuPt2tTw7E4vviMHu5z7U83NbByZ/f7R7rHaotCWVFuCpe5Pw5Usfavv3xLsdmPp/jnX//uCyP4vf/Rmf1HehNS4OXa/u0b73k3AE67KR+900FLVUiwBcrPP2vajMnIR7jTH8zd3oEo19yjQ1Lb7/47uTcfBlPVgPlXa3Pt25iMD8ddOwAEfx/O1i30o+w1cF4zG25pynoQ9SL5rWHND2aem7Igyr+kLPM+2jgn3b9SJAL2+IehFXOhHzU05gnczXBZ9gR3M2vv8j/aQkhaoX+aum49GbO7DjaZm3O1D+ZTxKHvKM5R7IejE1Lxltnefw+v0VOB6Xgsk9x/C4KPPuWBdSxPJ0EdCvWDgUn2j7ptfZG+8fj6n6z/udNsOA9ISGOp7HpyE/qwdR9eex7i7Rlj18AFWxOVhUKpv8RpTPlWnai33tInBaJf/WP+6gXARa8g7kT2buwp7GDlSJ4NxtfDLGJHeh7h0R8O3qQdakaOxZ+hl21EQiSQvGhK1Htf0KNDzv4//+kXubD689jJrGc9jxugrWQx7Pp/G0/O3vT8u4DEnj67U0/mSmnWA9BovfNT1XYPrYHW4WtB0XXIsnirYwHgfXqnq1tQtF92QiTi2fUy4ublJPo1wdU/9v5zh8/++NbYdIu1uA43l8Opb9qgAjP/8C/yjOIVq9mFqAe9Q49+7nv9D26Q1x4quLjMXY3V9g6XfEdtTFZNDjPeQ5SuTNL6ahdEoDXlssy0M/JuY/NEJduIU6f4cQtE4LIepFqHNUkrzb1BGB2s/0PHnid6cRNzsPd4zXl4cq9+Btmb1ydS0ZixtPHMXbDNbJjwEL2PNvHIbur3o3RtftOynIOFGHT4weBy9J08QJsP40Xlt9DsfFgenRilcWiav5LRe1hr+tQzQCje04pS80CRDU3pkuAqka/OkPF9Aktt29o1Wc2jrQ9rVaHsz4Ebh7dhc+eeooPtkvZ1zE52c7xNW1Z7zrwRX78fTqVm3dONuDTlxAnff4tIBpt5m2xHTkZosTpNft61ll+UjedQDlr4j0iOnu/WdReTYGKaP15ThxFmsXHsaOXXrD2dqpr79KToRMWyLuvS0R+549hLfV/tUcakZbciJUW6cbn4rctEZ8sf6EezvhkLQsD0W1lfjZT1V9ONuMY+L/Gdnx+hfQjrpGF+LT9Kn05XnIr67Ab408CpZ2k/ypYgXHejl+/fZcfO+6Wryx9LTIbzHdLIIfEYmax6/bqRffzkkOMAbaZr1YkIo8nEel1+2uUPWirfwQnnhY5Wtzl7jwARrOXtCWhawXcvnNzXjn74+qvL2IfV+JwC8zXuyLyYDUi3jcmNOJzzc3ommiSwRL7Ti+9SLismLQWdMs8j4Z994ei31rPOVe83YdahNjMEJOhCttwqz8dNRUnVNT4RHyeJbtSM3XeO15vV51769DpYhjhsaZerWnJWIsQoyB1oLz86g2BcKu76Ujq/I43hD5kpEUibZTrahrjkFySiOOew/uD3CR263at/QlBXh2SQI+eWI/fm9c/Ic8nnXT84eh7cQxvLZGHTu2XMBrPxIBkwykvD62gkYh+PGaiAfvSUflRtEWblf1avUBPHTfWa2ccPsE3D7+DF57wNMevLFohwh49e/aTXug43nqIxORsXc/Vq81yr0ZNe3xSJ+gvqBJRs51F3DsT0fd7YYh6PFuCHSOmpaNRdPEMfGQMe5aHBO76tGWEotR2hd0gc/fIdip04L/ehH6HCXb2Lo9VdhiLH+pTlyYDMVQdd6wdf4O0JbZLdf5MzNwcl+jn3aeKNwBe+kkd2/FstmJSJpZpE+HeqjJy3QRGAUbH1eUJ06A+0/7DFORQwOWvTvbvQ+/eWQMok6cx0G13C1AUOvzIOAi+z2qru9lYkzNWew2XRl/p8A03lXeDnt5Ol76WO3bp9MwNdLTW2cIlHbbafN7gkwVjVgnqj/tUNNSCsZkNuPUIX1K3sJ9ausc9/rlMAxj30OmbVEW8hMTMesXRtrER94Or2+GZTfESSZLBMdbw9p7EIEF09Lhur4QLxnbFh857Kn2a6NXsButbS64ZO/f+Ew8WNyNres8jWKwtHv0bfx6flEaor46azq5ReOG6yI949dt1YtkTBzvf/y63Xrhv5c3VL2Qt+4L8aJ73+ZgfnYjjnyqfTFkvUi6awTGRI3Ej7YavxefRZnAqWbrRc9A1AsZaEbpAY1rZipSVJ5oFz5VogwXj0J++1nsUWnRyIBA1dmwpS1QT2i/hD6etXZE7Kunw0TuRweOVXh+o/Uohhi/rgXn4iLFPMpH3rnQL0DiRTvaptcHGfx3+raVwS5yc5YX4qlb2/Ha4gq8r10USXaOZykG+WOByj/3PrgxLhb6JNTxuiAdea6z2CeHBfkh2wNUnQmQ53bTHuh4Tsb0STFIn2N6o9WncgiKp15o5shgX+yjz92I4Me7IdA5asz3spB1rA4fm/J3jDinxnkdE4HO36HYqdMB60XIc5TexlbvMq1Lnv/bRfr3ir9tnr/9t2V2yzVV7Ltos95Sk0Rewhqwu149pHorDqDafMusV2M3o5GbJdo08y1YC9k74OcEmJiKR382Dt1v79afoJ+5A++fEOeKQ356tvwGtb4PAsq7BHZ7VPPElXKT5a0f8mTWg+rP9AZgzq+mY257FZ6Vt8PE/mlDHGTjpi01BEh7L9Lm9wQ5LQ4ZUa04abpAcf0wE2MbarBD9tDMzMY/LknGkRf1W4XGrXKj8QqVNgyPQVyVfqvV8rnN/HyAaHDzh6Gp+ly/hzpYxSIl0Xpb3/isLldfQQcaWqKRMlzsw9IJiNv5pecBuBBpdwtwkRfK+Mx4nKowlZM27MrTKNuqF4F6QntRL/z28oaoF2Oe/hvcO7YOG+5TefrCcbQ11mG/PIEJoerFqLRYbeyzuUy0zwPWU/VA1AsZaGZ8Vae1OzLQ1stAnpTFCfhPIm3j4uE622qpn7PEsdPw+SltXrjSFqgntF9CHc9aOxKBkxWmduT24ciPrMVBU5AW+K6NhwzOrWUj71xcEOkR7e+0YcjBOXwh6oMM/uN83p4U6CJXBIYvTsejk87i+fuPYp+ll9XO8SxoPZnWnn87LK9nNX1e2iACKvWdYEIerxMSkVTTZAnIXYnqD0G2B3XV1vzwLLeZdsH/XRvRxsWK867Xb7UHhk31T+vh9jNEK9Txrgt8fs7NikOTOKY89cmFGRPjULnHfEwEOH+HZK9OB6wXoc5Rso2NFG2D6ZiaWpSJqMNntHyyd/4O1JbZLVcXotrFBUR/LijpqhbWgN3dc7FIXGWaxuj2SuIwcWA24th7atqb1jvg5wQ4MxmjIsWV/HsdaEuMQM4PRyI3WazH+wEwwW9Q6xVIaSebnET7PardF5FUMAJT5fM8YvvTn/4WJrvHu8qTfSRqKxu022FJs5OxID8Bdce8egECpd122gKcIPdeQCOSkHd/hHZSSioZicd/LMdwH9cDkqmpSG9uxP6PL6I704Xp9w/HSHPjFTRtQlO3+F0qZk2RExEYs3gcfv5OjnsssE7v+aj63Ov2qsnU528WJ89C3H29mmGL7D2PwphpokEWUy6R/jteno6nlllPv3XNHRg6ZhzuyPoaG9aYcj1U2g19fPNOt9jUyKkjkCVPypnRmL8mBznuY8NevZA9xH57Qm3XiwC9vCHqxeSxyWioFsfEMSAuPxGzbk5A1IlGz3ETol60tncjbuww5Kvlk5dNwppXRV7oi5VQ9SIRpbIXe9NI+Hv0NhAZaNZWN4i/ZB6rXmDZdqhe4ONn2oERos7KdxzLfVsh6t3YE3jtF+pCLSxpE3kadPx639IW8njWxvoCUenR2vK4olSU/v1w1LxzBJ/I5RqZL6HeOiSDc6+y0e5ciONDBHHmOxdFean6nQszfxe5idEoebkI38OXePq+U6j2OUfYO571nkxrz78dxutZvT8PPWjnlZs2jlfZFmZn4jbVFuaLevHLf8l2P7zb3tllag9iRNqK8LNlxjMhNtMe6HgWv+/sjBf1wlPuD26ahtK79KUGrYfbzxCtkMe7FOT8XFN3AUnimBgjjwnR1s15cSpmtVfilY36ck2g87dhZjZ+LnuxX/Y6ImzVaSFQvQhxjtLuNok1p7iXT8C9k5rw7npZp22evwO2ZXbLlSi4AXlLTNbyG1CWUI0nVvZhfbLX8J0p4uSoptWbXKrMT7e7daFy40dY+4r4M1E+1DEdszLFNYj2ZPp/Ag/Pwnx5YpBvAvF6a4Ghbf9e/W0q8r2y32sSV9DqQcTevhHk+kws+9Uk5IuTd3f9Cby9Nwp3TzjrfuvB5NXT8A/iQJdvCaneshevRRXgqQWR2PHoXvze6MEIkPbKEGk79YjIG3k73ov5yfv0JRPx+H3Z2pP/3fWn8P4LX7rHWFr2/exxvPbEGUz99TTkV+0XJzLRsIdIm2iCMKd8GhbJJ+JxEW01p7D1xS+xRb4ZwPLkvkf3X9W6DeLkvuzdQmR8/AmWP+XVux2CqyQbjz+svzVAvuGl+qMKbFjpefuNJN+cs2ymOGGv3uV+w4cmaNo7TG81MGk33qgQmnxF17PyzSTyrQDHjmDn2VGY1f0Fli7Tjw079UI+xLZuSbbW2EueN3kErxfxWpq9xr6iw/ImjWD1Iv0RsS8LR+pvS5BvINmfhWcfGo4q45gLVS/E/v3opSmYM1a+veYimr46grf/7+P4RN4utlkvXEsKsH5xPD7+qcgPr1vzgcm3URSg9SnxG2RjzdND8Yo4jk4uL8Sz2Uf1492rzjZVijqzQo0rlvqVNusbVtyMt0Woyb6lTRf0eNbasha8+/Uo3FEkyl8cE5Vv/wXPP39BHa9SNO7ePBPzs4w+G3lHVH+QWT9W/NebDcNvwPpJJ7Qykm96mXHoI6x+Qb51ZhzqHtTbSsubuNzq8L5sS78j9m3JSJHnVua3yAQ7ns1v4vBotLajAyj08RqqXqXj0ef0N6No5fLuX1C+9oI+vl0IlvZg5eLveEazuDjdehC/1srd/IYWkxp1fhR/hjzepUDnKPm3+ZgQ+XN891+xYdU51Ig6ZXk7jZvp/G2Qw2p/lImarZ/iiVWm80CIOh26XgQ5RwmyLs8/U4ljUydharI85k/h3V9VuJcHLfcvQ7dlds5RckjMsp3ZqLzNeKEAkdUAvtaRyL6kZYVY951GrPUaRkPXsgjc8YfvYtbXewb830sYfAOXNjns4572/abXMBJd2Qa2TssLzgJ0r92FDd53VgeZvHCYdfgTPL3W++4JkTxrUEjyIPI37vGK/afGHScad8yMxZ6XrqxgnfVigM3MxvSUY/jtc1dh4DlgafMz1pfoijbAddrP+PXLZcf/rETXnEko0YbmEFmxh52I6Gqh/eM26dhl/KNcRFe6Aa7T2j9Ol38KDy0+axoyRuQ8DNiJiIiIiByMQ2KIiIiIiByMATsRERERkYMxYCciIiIicjAG7EREREREDsaAnYiIiIjIwRiwExERERE5GAN2IiIiIiIHY8BORERERORgDNiJiIiIiByMAfvlcnsO1n06G4/er6YHyJwNs7Hm6Wg1NbCmvzgLv/l0rv55bxzy1fyBMphpu6zkP81t5Kv4rHhEze+zaPxo82wsW6wmB1QE7t7k2fffvJIJl1oyUK7metGrtC2agBfd9aYIDy5Q868wU9fejN/snIhZarp3IlDy6hz8ZnM2stQcIqIrEQN2v2RAMwuli9TkAMiflo6kznpU/lnNGBDxyM3uQfVnHWrajr6nfc/Dn+AnM7dj7aetaKs+h0o1f2D0JW1XqK9O4QmRrz9Z8AWqUYcjf1Lz+yoxGWOzzqPyLTVtx7RsrNk+AdPVpH0X8cYise9i/9+uAmoq69CtlgyMq7le9DJtmw7jYVlvVlWjqb0en29V8x1EXoD8fHmw01AMJk+IQXd1HT5Xc3onFTeOj0DT4fOoUXOIiK5EDNj9uT4N+ZmNOPaemh4AlSv24CfFh/D+V2rGQJg2DDmx53Bki5q2o99pj8DksfEiMGtU0wOkL2m70t2agqz6Rhzsb525Mx1ja87hYLOatiF9TjrSTzRgn5ruPXGRkN2MI3svqukBcjXXiz6mLenGZCR9fQ571LRjiAvHiWM6cfzzYHXiAl65bTseeqAOTWpO79RhtbhoWbqiVU0TEV2ZhsQnZ12Sf8QmZqC7M5yNWjJK38vCl7d+iR1qjtPJIR0PTvFzu7mxGmtvPYqqR2/AS3dl6vOqDmHDNyNw7+x0xHUex4a5h8UJ0YVZqwpwx+xMJEXK353A7/9RpP+v+k+wYBzWrcxBkpqs3rQdq19QE9LiArz0vRZs+ms6bp+birieZnyyZg9esXmCds0egUf/ewHy08R1WPMpvP2xC3fkn8VD953WejXTfzgGD96Tixy5vKcVB1/di+c36v2dodJeGSpthsRMrNg6EkfuO4A3LIFlBPKXTcTikhFIj5L7dxbvP/cF3vhILU6MQcmayVgwKRlxYv1tJ77EhgdOuIPKUGmz/v4i2qoq8MvFp3FcWzYCT22dhDHyb5zFlucbMPknuRiT2IV9L3yC8k3agn6x5m0j9qzfhw2b9EBk8tqb8eOLf8HSnxrHl7yLcROy/vQJ1r4iJkOk3ZD/iyKUxlbg4Yd7dzGU/sNxKLt/nEhvBLrPVuPd6hGYiy+wdJm+P4HrhTiGt0/D1FjtaxZNn+5S6bFZL2TdXzYUr2vHiVnweiHL/R8ezsPkLFk3O1CzfT9+9lSru5c+ZL24PhmL/0cBisbHiz29iLpd+/DsskYt+HOFPJ77Ix4PvjcJrn2tyJ+ThuqXPkXVd4rEvl3CnrV/xoZ3xFcyY3DH6hsxf0IiXFqd/RLPP3wK1XbrfJC0mZW8MhdFlTvwxJpwXiyFOJ61tqwD/+/ZTPztjWL/ejpQuXkX1r7QjaTlhVh3W7r6otlZvL3gC2wR6Zd1fdnMeJ/5kuuRG7D+hmbsSxuH6T2H8fS/DEXZ8hykHzuEpSJvZPplmu/I07/vacMUebfo+Ymw7sEF7FktykW1taGO50eLYrS/m3btx9a4b+EOmcYTFVi66FQfLyyIiIITrdEAWTQc+W0tOKImrwTGkI4N+zu0gET+rX1UY9/9/Bfa9Btioi4yFmN3i6DnO2K5OrnHlU7E/JQTWLdQzFvwCXY0Z+P7P9Ibds3Wo1gq1xdgaEN+QTI6G7rRuPUAHp65A28cjsGs2/2d2PwYn46frsxF1Mf/n3Yb/KEV55D/nWGo++q8fnLPzsTiO2Kw+7kPtTQ8sa0Dk78/2j3OPFTaQ6bNEKAXePIvpqF0SgNeW7xDrHcHyr+Mx/yHRrgvXiY/VoBvixPe4yVi/bfvR3XaRHz/PrUwVNpEcLT4d9NQ1FKNX8r9u30vKjMn4V5jrHfzaTwt0/L70/Lcj6Tx9Vh3l9yP8ATrSaUFeOreJHz50od4SGzniXc7MPX/HOvO2+7OLsSleC6Gkh75Fma0/Cc2yGBdCJp2tz7euRCB8uM/HoaaP3yq7dvS3wHfmRqFk4fUxUPQetGI8rlin2buxb72VuxZJf/WP8bFh916EaiXN3i9iMe9pZk49S/6vj/8Ui2S547D32rLhFD1Qixf9qsCjPz8C/zjArH84Qq0TS3APWosd6jjuV/GJ2NMchfq3hEXArt6kDUpGnuWfoYdNZFIShbLE0VA//I0TP7qEP5RK3dZZwtw70OqSe5n2jwG5s5GqON5+tQ08d+LqHl1jyi7HVj70QXk3zZeG1LVtOaAXoferRMXSl9oZavXK09QXvlTvQ16aJM4YE/U4RPTxevUvGS0dZ7D6/dX4HhcCib3HMPjL59Ad6wLKeo7Wxbr6/Q7PO/LE3jc2Kaos2/8tRVNf/0Sb6tgPdTxfHDZn8Vv/4xP6rvQGheHLi2NYl0M1oloAA1YwJ5/4zB0i5OL1sN5RYlGbpY4j+wzekO9JSPnugs49qejeGPLRRUw6trKD+GJh8/huDjHoLkLXeJ/DWcvaMss/Aa10ZgyPgrH/nwK+3bJk+tFHD/XibZ2uZbQpj4yEVmVB/GLtRfQJqa79zej6aJpvOuJs1i78DB2aOsGWjvF/xvbUaVNGQKn3W7a8uWJ+pjXCXJaNhZNa8Y7D53CwWNyxkWRxnq0pcRilPYFcRJcsR9PrxYnTnliPtuDTlxAnfbd0GlLWpaHotpK/Oynav/ONuOY+H9GttFDp5uePwxtJ47htTVqO2GRiHtvS8S+Zw+JE75eH2oONaMtORHj9S+g8nQ7XFHqUcvEZNy7IAKf/PKs++QeLO1uienIzRYXeb0ahxyBO+7PQeuOL7Dhdx3avrVtb0dblGn8up16MS0RY+F/DLTdejErPx01VefUlBKyXrTilUVfuI+ztg59305py0LXC7k8Y+9+rF6r561cXtMej/QJ2mIl8PHcH67vpYt9O4439ot6mBSJtlOtqGuOQXJKI45/DIx59FuYeroSz7rLvRn7qjuQkqnfzghP2oQFqciDKO9w3uYMWW6yHYlAlcjTT1RbVvlpHZoiXeISzOPbOckhn2mQwXmTCLg9gXA8bszpxOebG9E00YU4tOP41ouIy4pBZ02z1/kmwEWuzC/5f3HR9KN/mYJZZw7h8QfrIC4f5MyQx7NmfCpy0xrxxfoT7mOHiGgghTdgL53kfhvEstmJSJpZpE/36WG1y2R8GvKzgozhniNPgGexz6dn1oVZvyjEix8bb2WYg/nZjTjyqVps4jeo9XkQsDc9qvGYOiESx/Y1ek5+XuNd5bCIp7bOcZePvCXt6aFWAqbdbtr87/OY72Uh61gdPpaBiTKmIBlxp5r1PJBDQl6ejpfc65+GqZHGvodKWwQWTEuH6/pCvKTSJj/ydnjt1+YLjxjkjxXB859N6wmHRVnIT0wU+ePZ9m/ksKf6Zrivx5q6td4/2fuYv3Ii8g5U4Q1jyEjQtJv0Zfy6CPInjm1E5TZTiu9MxUjT+HU79SIp4Ph1u/XCfy9vqHohh4Qse3e2e99+88gYRJ04j4PaN0PVi2RMnxSD9DmmNxd9WoTpyc04dUj7ti7g8dw/MtDUL1Dkg6Jtep7IC59OWYbRmHVjKo4dMgerMsiNVnU2TGkTBmL8esjjWWtHrA81a/txtgH/oaZlGiaODzV+XQbnQNXnpgtAeedCXnCKCxDXzFSkqPqgBf9VXm1lsIvc65NR+rspGPvn/fjZShGQq9m2jmdJXAhliYvdrd5Dv4iIBkhYA3bXq4f024wzD6BaG3eobjuG4xbzYPlOCjK8bsGaJU3zfwIc8/Tf4N6xddhwn0rzC8fR1liH/XvVF9wCBOI+DwKm9qJHNR7pydYTpKsoVQRZ5/CxnJiZjX9ckowjL+q3eI0hDtW7vN42ESDtttMW4ASZmxWHprOecccy0JsxMQ6Ve/Q+rTm/mo657VV4Vg6rEOvXbpXLgEBbGiJtiEVKonW4hvFZXa59Qaf1iJ1HdZgDMwyPQVyVPrTC8rnNNGb2dDvaEqMx6vqR+NGk83j9Oc+FRPC0e/i9yAtlZjwyGs/hC1M5yWFXbV+rO18260WgnlDb9SJAL2/QepGYikd/Ng7db+/WhoTIYRfvnxBZcMjopQ9VL6KREivaIO235s8evGLaj0DHc//IQPOCSK8IRmWgDb0M5IVPnDY8Ix5Zaa2oO6y+LsmHvdNOYferciI8aZP83tnop1DHs9aOWNqyCMwVFyg1h+o9PeVB7tq4acOKrMesvHOR8VWdVl7fKRiGUxUybTL4FxeK3m9PCnCR65o9Ek/9aiLw5i6sfl6/8+Rm53gW5N06a88/EdHACmvA3m000ItSkdXLt1A4xeRJqWg75vvglqEoz/8JcPLYZDRUi5PsMSAuPxGzbk5A1IlG3wArQFBrCaQkmYe2e1RlL9UwfPuhaHHqFNsvSsc/LMj09JROFSf75kbs//giujNdmH7/cIyMFCc4r30IlHbbaQtwgqypu4CkscMwRj7flxmNOS9Oxaz2SryyUS6VPZCRqK1s0IZVJM1OxoL8BNSJ/dBPpCHSJv7b2haFMdPEiVZMucTF0B0vT8dTy7ze9q31iJ3DLjXpY/wIPPXpXLz4YrK2Hdtk73lmKmZNkRMRGLN4HH7+Tg6maguVwx1oFUHWrKVj0fCGuHh1Hxeh0m7o4/j1TvFJzsSs2/XDPOmubPxoimn8uq16IffRf0+o3XoRqJc3aL2YmYxRkc2ofK9DXOxEIOeHI5Gb3Ihj7gIMXS86O+ORd7+xPBUPbpqG0ru0hW6BjmdD0rJC/ObTm3v3mlOtF1jkowjSzb3ARXkiaNV6gdtQ1xwv6my0VmflvpU+l4O2dw5jh1Y3wpM2GcgGG7/ep7QJwY9nffy6KyoaGXK5KLvJK25AccJRbBLBsUHmS6i3DmnDiryOWXnnora6QfxlunMh75Jody60r7j5u8iNu30cnn0sE5XP7UH5H6xHmcbO8azu1ll6/omIBtiAvCUma/kNKEuoxhMrw7O+wTRm5RQ8JYI7g/4mF/nGB3nLWc001HyJpxee0ILs9EcK8NTCkdobSur27sMv92fh2YeGo2rjR9qbQCxvLXCrw/va21TkW0NmIOtP+nel3r4RZPLqafgHEfDJtzEc/6gKtVNz0b1evfXg+kws+9Uk5GtvCTmO1544g6m/nob8qv146EFPsOI/7aHSFiBv2k1v2pBjRV+agjljowG5f7v/ig2rzqFGBa7mfa/eshevRYntLYjEjkf34vci6AmaNsFVko3HH56gvQVFvuWk+qMKbFjZqI1JNb/RwaPRvW7DmFUiyL+5Gb+/rUIFTXa5MKd8GhbJt0SIQKut5hS2vvglthhvy9BkYsWnN2DsV4fw+H2n1VhZXbC0byq6AS8tUm8xMal51+4bP1woeVm+mUTmeysOvv4Nkn+Uiv8w3rhhq15E4+7NMzE/y7i297yxI2i9eEu+LegG5KhfuZnfpBGsXohli383HbMyxXa1N5D8J/DwLMyH55gLVS/Sl0wU+Z2tv71GXJgc3HoQv37+ggh3Qx/PumgsfmcWimr3o0zkh5/wzi/tLSaTTmh5KN8zPuPQR+I4km/cGYe6B/W3J1nqbHMd9vyhEr9VzxlIfU+b3nZ43rBi6PB6I1Lf0qYJejyrtmz/fyJ+ziSMiRXHxLGjeOPZo/jENHzEtXgi1i3J1i5YJPdbh7S3TAWqN424570CtD4ljl1kY83TQ/HKrUdxcnkhns0+qreVXm/iMrTt3yuWX9D+jYk53v+CkuUtMkGOZ8vbpjy6/2ptR4mIBsIAvtaR6EqRiNKtU5Dy7idYXW4nEKZrwu0T8OIjUfjTTwb430u4HAYqbfJf5X01HbtMr2EkIqL+Y8DudH7fGSzJcdu7sCHYGFCyxbWkAOu+cw5Pe/V+OxrrxYCbs+FmzKrYjaef71X/8xVhwNKmvX+9Cc9a7lQQEVF/MWAnIqKwkP8A2z3t+/XhLUREFDYM2ImIiIiIHMx4koyIiIiIiByIATsRERERkYMxYCciIiIicjAG7EREREREDsaAnYiIiIjIwRiwExERERE5GAN2IiIiIiIHY8BORERERORgzgzYMxPx4DvT8WCJmiYiIiIiukY5M2A/24zfvn4ekx8YgzFqFhERERHRtcixQ2K6N53EwejhmDVNzSAiIiIiugYNYMCejNL3JmKOmuq9Vpw860J8mpokIiIiIroGDVzAvmg48ttacERNEhERERFR7w1YwJ5/4zB0f3Uex9V07yVjbHY3WuvVJBERERHRNWhIfHLWJflHbGIGujtbtZl9VjoJv/nRCDVh0n4cG+Yexh41acu0bKx5eiheufUoKtUsIiIiIqJrTVgDdlci0N0s/0rHik9H4vMFX2CLNt17Y1ZNRxkOYPnKDjWHiIiIiOjaE9YhMXqwLixKRVbNORzsY7COxFTcPbUVO/6FwToRERERXdsGZAx71nUxaKzs+/j16avzELX1S7z/lZpBRERERHSNCu8Y9jCYvHoa7nVV4PGftqJbzSMiIiIiulYN4HvYeykzGnNenIJFPV/iaQbrREREREQax/WwExERERGRh3N62ImIiIiIyAcDdiIiIiIiB2PATkRERETkYAzYiYiIiIgcjAE7EREREZGDMWAnIiIiInIwBuxERERERA7GgJ2IiIiIyMEYsBMRERERORgDdiIiIiIiB2PATkRERETkYAzYiYiIiIgcjAE7EREREZGDMWAnIiIiInIwBuxERERERA7GgJ2IiIiIyMEYsBMRERERORgDdiIiIiIiB2PATkRERETkYAzYiYiIiIgcjAE7EREREZGDMWAnIiIiInIwBuxERERERA7GgJ2IiIiIyMEYsBMRERERORgDdiIiIiIiB2PATkRERETkYAzYiYiIiIgcjAE7EREREZGDMWAnIiIiInIwBuxERERERA7GgJ2IiIiIyMEYsDtCMdb8cTPW3KImiYiIiIgUBuxkwxK8vHMrPjI+G5eo+UREREQ00BiwUwgyWL8T2LwAs4vlZw12Z9yJLauL1XIiIiIiGkhD4pOzLsk/YhMz0N3Zqs28POSwkDKg/H2kPXYn8uSsI29h9pKN2lKUrcdHhQc801ogWYj9xWUoN35bcQYzinJQJYLL/YVbsSgX2t8PrFc/CWHu6s1YWZSgpqqxSVu3JNe/HGnb3gIWqn2zLJf078xIVpPmfddYl7fsWoOSFTv1iVBpF6z75v37wSX3ZSnWX7btExEREV1LHNfDPqlUBuGyJ/ctVOXeiZdFHGtPAmZkiID+uc+QNW8zxh5YgFW7WpA1ymZPsLggWFlQgVXatsVnM7Doj89grlos5S009m0BNh3JwSLT0JDSjcsxqWKN6oUWy2HthfZeviVjuU/aAqb9lmewtOiMuEDQfyt7uQ8VlNkc8y4vBkzDWUwf+3lrtgT3FAGHPmSwTkRERDQYHBawJ6Bmm9FrvRH7j8B+wI0W7H5zI/DBN6hBBbatB7afPIOEjFy1PLjSwhxUbXsS29U01m/GbhRgnikortrs6VEvf/MztOQWolSbWoIpudXYYupxlstRUKwCfj/LlyzA61XmtPUm7Tux/AcLsfwDNRmU/K4R6Fs/du88SLJXXQ/05UWF3W0TERERUX85LGBvQX2V+nNQFWNshuxBN/dAy+ErCUjTx7/40i4MlFtGI0v9aZGchgnqT3+2f2DupQ6S9g+exLpdw7HIvW/iM8gPfm5fsVAF+gcwRWyfY9iJiIiIBgcfOtXsxLFafby77V5oc5BuDt7NGutxWP3ZX56AWX70Bz/tDWkJ95CYjXhgc7XtOxdERERE1D9XTsBeVY+W3Pmecdtlherhz/AoP1CNvHmmMeu3PIMtO9erIS+6vELTmPW7bkLCkQOmISw5KDGPWRfLUbFTDbHxs3xjL3qp5QO3Pj3qdu9G9HNIjNy2JR/EBcC8HLF1WMb3ExEREdHAuHICdm1YCDDjMdVDXChieLUoLNaXYVVFAVYaPdCPFeDQc+a3wMjtFbp7pxflVmOT6S0u5Uvkg6DLPcvxluUtKqGWB1OKA9pDrMZv5XCdSRXrB2ccuciX2c/Vo8S07Rm1Yt9F2t3j/YmIiIhowDjotY5Opr+SMW1b7x7UJCIiIiLqr2tkDHu4x3ETEREREQ0O9rDbwh52IiIiIro8GLATERERETkYX+tIRERERORgDNiJiIiIiByMATsRERERkYMxYCciIiIicjAG7EREREREDsaAnYiIiIjIwRiwExERERE5GAN2IiIiIiIHY8BORERERORgDNgHWenGrfho53qUquneWYKXd4rfb1yipokGjqyrL5epCYeZu3qzOI7ksdSf48mmW57BFrGdLauL1YzBMjjHu8zLwUrboJabJMvuj89grprsn2Ks+aPY77Ctj4jIPgbsFrJB3ow1t6hJsi+sJ0ai4LavWIjZxQsw+7nP0KLmDQwRND+Whi1iWyUrdqp5Stn6a/fiuY9pH7xyGwg7sfwHYt+3pWElO02IaJAxYB9k5UtEg19chnI13Tsb8YA82S3ZqKb7SJ5sB6HnjuhKN3f1fGBzX4/X/grT8U7htb4MmzCfHTtENKiGxCdnXZJ/xCZmoLuzVZt5ecje7TIR0b6PtMfuRJ6cdeQtz8lKBpmFB0wnL3m7uBD7teBX/bbiDGYU5aBq8wLsL9yKRbnQ/n5gvfpJILJ3+LGbkKAmPVqw+7mFWP6B3JbaJ1Rj03P1KFHfd6/fax3W7cr9W44ZyWrSnC5NiLQHXbcgl5cC62TPz8IcbZb3d+St6JVFxhpEGnp10WBOv+T5vXW9Jo2fYdUPnsR2bcL6+5Zda0y9lXLZfNRvrsCkhSqNlt/6bsP6+4Elh4VMObAG9fNU+Vn2zSg3WUe0Gdq+LsV6bf/0vytQU3QT8mR5HijER7J8fMo/CFnvVZl66qOalMvm1WNTRQEWqfzxzpuQ5W5Zv3V58LRLgetFb5Ru3Iyxb5rS1RvasSF7wH23GyztodMmyfQZbYyH/K1sW3wY5Wo+XuV63celp/ws6/DedqjjXbWFq2rnq/R51YtQvPZP1p8SVWc1QbYfMu1SsDprCFJuwX9vpy01lovfynZlnmgbLcdsoN+b67OoL/7aeYMqA9vHMRFRPzmuh31SqTxByl7ot1CVe2cvxtAmYEaGaECf+wxZ80QAcGABVu1qQdYoG2MzP3gSJcY2tROE/Ft+jBOF6unSlg9HyV3iBKBNG424aOgfK8Ah43dyHxaah9aoW6ly2eZqNc9XwLS7928BNh1R83wUYKk8gaht5C00jQ8VJ8elRWdEwKKvY9Wu4VjUi9710o13IksEgtq6tfXD/Xv3LW6ZLhl4GN+xnCDvBMQJT//9GhwqWO5VrqLs5ElVLd+Nm7DUGFPrte/678ts9m7JbRvjZa2f3ozNzpq3UATlfvbNhoSiNFGm4ncZ87FllF4/WzJG2xs6JIMasWl32p8TwcdjXuN+k2/Sgi19+WdAkSlvRFCxsqDCUyay3MzDlnzWLwIUr2FNwdIerF5cdqHSLoQs11tGI+vIAZ+AUr9LprcvWsBnbMMI3ozjVRv2YTouVXsiLyQWwfO7TbU3WYdY2DneRX26R5X7ql3AjFK7w9HEMVF6E2CUm0hcieliOFRbFjLt3nVq8xnM8K6zwYSo86Ubl2NShVHn5HF1p2X8/dzVZZgBox0SjfM8z4WHZP29yF+Yfx+qnTdZfwBVdo9jIqIwcFjAnoCabUaPy0bsFycrWwG3RgTab4qTxgffoAYV2CYa2O0nzyAhw193UP8cetO7J0429KZeoA924lCj+tu2/qRdSD6DLcZJU55MxAlnrBG45aUhwRR4yHxBf04268vs9yzdUoxJ4gT6uvuEJy5etokLikJzYCfKrtzIU315QkFxgP2TFz/mHrdgTBdKXh+fE3AwFZvV9nZiW0VLr+pUy67NIt934litqDcfqvqZnIYJankwc79bIAIr+XtFBHJbjuRgivliQ1wkrTN6RrXlCZj0Xb3elBbmoGqbqa6u3ywC0wLMU/XC3/pLyr3uXPQm7b2oFzJotV44GRdX4XkQMVTaNaHSJo8b9WefmY9LRbvINc0rPxD4Ij6wCryuyn37hxVosVmntOMxuRpbTHVmnQy+3frZlmkXG6Zec60tsi9UnZcXDJ47SHq5eRRjXkGCqdzF8V9uHiu/BFNyTWkXyt8UF7kB2hrfdt6L3TwnIgoDhwXsLajvTet+WZzBMT/BohGA6B/TLVfb+pn2xnocVn/6qKpHS26hOxCaO2o4UPtN8JORSfmSt1BTtNyUvl48mCuDnuSbsNL9W/GRt7uDXTDI/VV/6gHFcCwy/36Qe3FrTnoFsYNkQkYCEiz5rg9HCHYhd7jWyLlijM1Qf1okIM0zhsWXCNDM9SJY2vtVLz7Ue4f1oWsJmPGYiMi03m4/QyR6TU973kJPvunHpDXtg1Kufo9LOfTCtG/u4R+90Ivj10ewtkLob1smh814fm8eMhWarPP+uOu87IF3r3urn+F4QdpReccEOda2RA558Rt4+2/niYguFz50Gg7iJOI9bGN3r3vYB5Ds9ZLDHYyTnBwqYLeHXGPcKlYfeZvb7i14GXybh8oYH5/xwiZePZvuYTfaR78Nbm9IS3iGxFwuMviWY9It+SY+wcbvewIevVffVzgvivteL7aLCwNDy67PUBXWAElPuxx3bM43+enVnRXzhWMY+Q4l6ksPez8E6xnub1tWth6LMszHuxxeYp/ngtNKv7jSh/PUmMpVG5pjEeSCVLv7Kp9l8Pxe//TxIjHEhQ8RUThdOQG71ktsejK/rLBXPTf2HEF9XwJt7URgcksu0tSfjiAfkCr1jMcMGiz7kEGvn55T7x6+QMGNvKWOm3CPKUCWPXDW9z57hnFo25uXg5YK1dMr992nR91u0BmmITEBycAwATPuMvZPvyUfLnKoA4oWmoaIyJ5Zr7JINg3zEMFWSW4LDn2oB8NyqEXePFMAXbYQM+RwMRUY+6xf6720OyTFZr0IQnuAUQR361Y8iQfkGPPe9NCH4JP2XqVNkce16c6UN21oWR94B6Wlo4YPyIWBX9oQlxyUuI8/rzprsy0LmHbvdqBsNLJ60ab6q5MludXYrx2v3hehxeICVf2p0YfImMtdDrHxpE4ONTSnXd1N6MsdO3n+6c9dDiKiXrpyAnZtaAQw4zHVS1oozg1qUfioAMzYhjuAMG5hy9u7pluq7oZ+I143D9soHY3Xt8mHrYzfm3p65e3v3Dv1v+0GEFqwof9eDolw3+q3e6KR40i9h6XY3nYujm2TD36ZfisfCvPuodfGZpu24X7ATwbNbwGm4QnygTtrL3ELajLK1PLl2kNjxrjsUhzQHgwzfiuXT6pYb3MM+8CTw0LkA8L6vpUhLUAPYZ/IOyNaIGukXT686zV+v/EM0krV8sfkw4SmvFlfhlUVBZ4ykeVmvljzXr/2sKHN3ka79SII7QFGY3/k+Hfz2OkQ3MM2tLd4eI5J950T77T3Jm1u+nFteWbATOtEMNVN43g0jldtuIXnmDAuUreveN8ylGjKyfU4lCHW4/178enT8R6UPq4b7u1719lQbZkSKO2iTm2RD9Ea8wu/wboKuT69vQlZbiHqpBxznuVuS8ow9k09Lz15u157gNjY/tKMM5YLiPIl+kPv+u+97zaGauc9SguH689MERENEge91pEGijxJ3nNyoaVXWc5bmfG+/YdHB4w8Sc5HfW9eS0c6efdhXr2f1xFS+Mj66ftqR7qGyeOOr3QkokF2jYxhN/Vwe32uhLHM/RN4mEZLrXxn3LWcN5eZPPH7yXf+0+dOshEPqOc/rMO4nIrH88BReSsvkhmsE9EgYw/7tUDeYtduQZt4/2Mtlw172PuMPexERETXBAbsREREREQOxtc6EhERERE5GAN2IiIiIiIHY8BORERERORgDNiJiIiIiByMATsRERERkYMxYCciIiIicjAG7EREREREDsaAnYiIiIjIwZwTsMt/jdPB/4x26cbw7lNv1jd39WbTPzG+HqVqPg28a6fc1T+7/sdnMFfNISIiImdwTsD+wZMoKV6A2cVrsLtRzSPN9hULRb6IvHnuM7SoedeacAfOV4LBLPfSjcuRtk1s6wdPYruaR0RERM7AITE0yFRP7s7NWHOLmkWX1y3PoARv4YH1apqIiIgc5YoJ2M3DA7asLtZ6XLXpXtzCd/9GfXx6bMvWm5b7G4JgBJvi47Nd0zL52bhEzVfM6/ZehiV42Wt7ve5Rtuy7NRg2p/vlMtN++uzHQJHpM/ZhOSZVrMHs4oVY/oFabFmul6/3/EW5QN5Cz3d6kzcs9+DlXnrXTag5sFFNERERkdNcMQG7MTxg1a4WoKAMUw7I4TO9uIUvAptFGZ9hlfyN9nkLWGgKluQY+oXAJmP5c/Uo8QrOsuaJL5TL5WuwGzdhqTuwlMGREYjqv9+EO62B58IcVG1W6z5QqAWgYeOz7xWY9JgnbeVL1D4dMadBfJbYCNK8ni3wfPwFtv6VbrwTWbuMvHkLNUVlpsBSBpJ3AkbeiLw9VLBcBa0b8YCaJ4dJufNPfGz3BrPcQ5R7McZmVGM/e9eJiIgc64ocEpNQ+34Ybt/LYLAM5Wpq7ncLgF2b3dPamPrynWpCqdiseoV3YltFCxIyjOhrCabkVmPLCs/3y9/8TFxYFOuBX1kh8ho/w+vGPq8v04KocPG371uO5GCKv55adxpscj9b4P3x5F1wMiBswaEPjbw5gvrGBKTlqclbijEJprwRebt8WzXyCgeq95/lbpWLtGT1JxERETnSFRmwt9T2IeqRwVLtTVhp6iX29IQG8MFOS+99zUmvQM5wy2hkIQeLTOv+6LGbkJCchgnqK6j9ZsAe5puQkYCEouWebYuP7MnNGuWbvoBpGDA7caw2AZO+a+yLDBBbUF+lJvPSRD5Zy+WjhTlAxmivoSd9xHLXDH65ExERUbhcUw+dGkME9I/30Ix++OAb1KDaMzTB/TH1QocrAPXjcG0LWtxDTjyfElPPb5+FYUiMzPctGUZgKYe/mMavV9WjpdE8ZEV9wvi2EpZ7MPKOh/qTiIiIHOmaCdjlQ6u+PatncEwFjts/rACKFlrHNtsOSjdi/5EclJjWrz0kazzct/4AqpJvwj3uoQpyKIX6UyODJvPvvZcH57Pvcux0uN7CEoYhMfJhR/czB+JjGc70wU4cgjlv9IclrWUle+nVn73Ecg9F5m2AYTRERETkCEPik7MuyT9iEzPQ3dmqzbwsZKAkhxOoSbcjb2kPyclAaGWR99IW7H7O/LaRQIpRWpaLsfPuxAzTeF35MKAleJRv3JDDMTTWdcsgUgadxve1/cl43/QAnwxMl3vWL3uNzb3ElnVXo0oEejCtz5p+63L/affaf8v6rcvkvvs+7Ch7hu0G3f3jb/9lz7CnJ1gGmnfCGNZulLmZ9zp8ys4vlrutcpf7cNc3KPHKcyIiInIG5wTsdJUSwfgfR+N1yxAXGaDPR72tiy0aDN4XJkREROQcV03A7r830bsnlwad7AGeV2/tddYC9kLsD0MPP8s9XNSdAnjdISAiIqLLjj3sNOD8BdX2hrQQEREREQN2IiIiIiIHu6Ze60hEREREdKVhwE5ERERE5GAM2ImIiIiIHIwBOxERERGRgzFgJyIiIiJyMAbsREREREQOxoCdiIiIiMjBGLATERERETkYA3YiIiIiIgdjwG5Wth4fbVwi/liCl//4DObqcwUxvXMrPlKfLauL1Xxfc1dvFt/ZjDW3qBlOETBtRERERORkDNht2YgHihdgtvhsOqJmERERERENAgbsYbZ9xUIR2C/E8g/UDCIiIiKifmDAHialGz1DZj7yGXJSjDV/lMNkTENrtOEpZsGH3QRbvz4Mx/M793c59IWIiIjoijckPjnrkvwjNjED3Z2t2kwKTAbDJbVrULJip5rj5ZZnsKUUWPeDJ7FdzdID9jJMwhls+UEZyrXg/E5g8wI8sN5Yvhxp2/xPy4B8Zcb7mL1ko1yo7cMivOWeNsjvLS0AarYtVOshIiIioisde9gHTYIIpGWwLm3E/iNA1ijVi35LsQjmP8Pr7iB7J5Zvq0Zeod4Lrw2zMQXn5Qeq1V++EmrfZ7BOREREdBVhwD5oWlBfpf70lpeGhOSbsNIY8iI/C3OAjNFqSIt1uIy2LICWWj4VS0RERHQ1YcDuBFX1aGn8DKvUm2jcHzWspnTjncjatcYzf3PgHnYiIiIiurowYHeCD3biEG7CPWVqWpDj1I0HTw/Xtmj/N5SOGg7rnDCR72rfuRUvm/aDiIiIiC4vPnRqi/6QaJ6acpO94u5e8K1YlKvP9mjB7ufkKx71h05R7nndo+/Dq17bOGJ+qNS6rGrzGtTPW44Ztfp3tIdSixLUUoOxbTVpg7aeggp3moiIiIjo8mPATm4h34BDRERERIOOQ2JIWYIpudXYwmCdiIiIyFHYw05ERERE5GDsYSciIiIicjAG7EREREREDsaAnYiIiIjIwRiwExERERE5GAN2IiIiIiIHY8BORERERORgDNiJiIiIiByMATsRERERkYMxYCciIiIicjAG7IOsdONWfLRzPUrVdO8swcs7xe83LlHT15J+pv2WZ7BF/H7L6mI1g4iIiOjKwIA9nGRQ+MdnMFdNUi+Urb9GL0SIiIiIghsSn5x1Sf4Rm5iB7s5WbSb1kQzYS4F1P3gS29UsskkG7IUHMHvJRjWDiIiIiCQG7CZzV2/GyqIENVWNTcVlKNf+LsaaPy5H2ra3gIV3Ik+b51lu/Z1J42dYpQXv+u9nJKv5R96yBKby90tRgZqim5Anlx0oxEcLczzfkxcCj90EYwtVmxfggfVqQpLBrvy+hXn/g6VNH6azKFf/u2rzGtTPU/vqtZ+BBUufHMoyH/WbKzBpoUqDO1+s27awlXa53TKg4gxmFOVoy/YX6utzf8+SNy3Y/dxCLP9ATQp+y860f6HTZqoPz9WjRO2rTxkRERER9REDdoMM7ObVewI1y7QRtHkCXS3QhFdA670Of+R3vHqS9aDxjFj3ZowVAeikivdR8uFov731crtTDgQPBrX1Zbzv2UbQtHnIdZdkVONQeZknqPUKmD2seVFSuwYlK3ZqS6zTKqj1uniZVOH5vuSzz374pl2VS60ohzdlfhXg0LaF2DZKXgCtt6zfHdyXWwN2b8HT4jut0y9Kso5UYN2SIGVPRERE1Accw66UFuagapsp2Fq/GbtRgHm3qGmharOnV7r8zc/QklvYx4dHfbXs2izWvRPHaoFDH4qg9YNvUJOchglquW0iGF9ZUIFVpsDXTtrcKjZbA9oPnkRJ8QLM9vkYebEEU3KrscUUwMq8QUGxaSx/C3aXG9vfieXbqpFgWd4fYt1vqvxCBbaJYH77yTNIyPDXbR+cvGiQF2GeYNxO2jwOvclgnYiIiMKPAbumGGMz1J8WCUjTxzv40gJEh5E95wuBTZaecz1teQvl22mMj7xb4D9tNSfNPcc23DIaWepPi2AXG1X1Isx2Fq2H3+tCR09bDha580185N0Gv2k7g2NBeu6JiIiI+ooBu0bv2fbVgvoq9ae3QIHq5SKHrshg3TQ2XaenTY6p9u4ltzXGWq7XHLC6P+rVlIEuXBrrcVj96SMvzc8Qm8vIuCvhNURIT5sc+uOdd955TERERDRwGLAr5QeqkTfP9ErGsoWYIYdYmHpN8wo9rx0svesmJBw5YA3cLlvP8RK8/FgBDj3nP5D0SZsWhNt8F3zIITEbsf9IDkpM7zeXeYOKnabgNwGTvmssL8aaeTlosSzXh7FcFsaFjnewrvFNm+yJ7/3rJ+X4eXGRw1d+EhERUR/woVMTbVhEsLfE1IrAN9d444h5ucH81hAh0Fti3PR1HBbbNR6SLN24GWPflA9G/v/t3Qt0FNeZL/q/3q+WWkJqhAwYY0nEKBBr8IDRcRysDMLEusmyg2x8PHFuJmM5K9JxVjg3c3VhBiaBE1iakzNkxUeaE8s3J2uch7FFzCSjxCDGMuObA8FjosSM8EGSbQxYCCGQROv9untX7equ6rfQgwL9f1693FXV9di7qtXf3vXVRm6rEKfkPoI9+GmMWKKlwviOEmMdEcVaNusy+SCl/0gtgcoXjE/5AowSgzbR4MlT+7eMwqL4ljHIKDEe2vI204OkYj+HluJluV1ZH8aDvQHrRtTAcf3BUWu9GPzPvadslmP3Od8GS/kl/XPgyDFERER0AxiwR0QF7I0MuKZOD9i7fYZTnFe0RkcmGiJuABERERF5MSWGaJZtfKgA0EYBIiIiIpo6BuxEs+zojjKfcduJiIiIIseUGCIiIiIiG2MPOxERERGRjTFgJyIiIiKyMQbsREREREQ2xoCdiIiIiMjGGLATEREREdkYA3YiIiIiIhtjwE5EREREZGMM2ImIiIiIbIwBOxERERGRjTFgJyIiIiKyMQbsZA+VNThWV64m7KQY1Ydex7Em9bLlMRIREdHtjAE7UQgVdVVY1VKNDcWbxasaJ1xb0LC3WC0lIiIimn1RKc6cSfkmKdWFsZF+bea8JHt4C5uxp+th7CxyiBlunNhXhqojcqHsZa0Eao1pYOPeemxDDUp3NKl1u0Uwtw7rcRJ7aoFt29fB0SveP7oLR/VVgjBvuxwvNm0B6jfjmRoZLNZj2av6PivqXsfWPLWKz3blsejHLI76eDUaXFX6Z7XPnceTTYXoPp6N9UUQZZIbrsJ6p7d8lrJIm3ajoQLYr+1DHl8VMhsPAmVbkK99oB0HiishihkZuT1ZH2rSfPyWcpm1HcSG8jr9vazfslz9veW8CHJZSTcOtBRgq6kOPGURfPfRquo3PHk+CnHKXFZL3RARERHNPvawm7kexpMicJW9qXuOA+srdmOjWhRWXoEIujfjQFcBtj0uArrig2h1ZmKFWhxcExpbgEwZCW9aipxeN3IKZdpFMZa5OnFOBdRbIQJYrZdX7mMddppSM47uKFPH7AYKKrGmWf/cBk9QmYtVslz1nVhVUaYfZ5tD32eE8stk4Kr235aLrRGnhoiAv2IdOkSQbBz/HhFcb1O91LXlap48dhmkq894gnUZIItDPmDM39eCVdtrIGJmL+c6lKrztmHfSaCoEtWb1DIR0G91iQaCsb44Lygz1vdJdzG9XhRtKP18dOOs8TlZ5iPn0RHReSUiIiKaGQzYLVrwsuqZPfpmC9xTCczaDmu9vme7gI5mGSi3obs3G8uMwDGEoxc7kbNYBLD5meIQWtDhWioaCnnIhAwWVUBuBLBCbXO7eufP0XU4QO9xOxpkuVq7ga5mdZyiYSD3GaHWem8vc+2rJ+HOK7QGzVMgy2PuAQ9l40OiIXS83tvDfWQXGkSDYY0MqA29J7Hf2J623IFVDwUrWx2e8fSYN6HqUSOQt760OhTnw3NXgIiIiOgmYcBu1nX+pqU5OFx52LgYOP1mkwjTRUNB9u56jkemZph6gD3pIf7cXW3q3SySvczqbXgiKK49iZwy0/E3+fSQh7DC5YCjqMq0rp7eEqqxIRsjHjWV+h0J0/oR56CLBo6+JRXYmxpNRERERHOFAbsdqMBwhQs4d6QJ57qyscyUrlJRtwU5x40HH8WrPngP+5yQjQn1NiJHdqHU1Hu953h2xCk1MviWOemesqtXqB56GeSbGWk3+usgOjwpM2FSYgKlv3jSZIiIiIjmBgP2iMgg2oH1jxtBZjFKCmYwWUIGhq5CrFEpMLXNncgszARUb7mlx1ioWJyten5nhkzJcRSVeXq9ZRqKb+nytbx6XcXj6+Boa47woVN5d8C/R933ToA8hkBkahJMx6Zvr96boy45C1BiTG/ajdI8t3anQpL5//496vqzAWFTYlCHU225KPWsr+fjo6XJ706MfLB1KncOiIiIiCLFgD1CteUH0Zq3RfXAViLTJ4ienjYRquciHyoFprUbOXm56LioB51HdxxGhyktZM3FGpx2iWNRvdQyKJXz5Ugx3vQRn6A2FJk2Ih8kVdvf5ur0axC0olBtV6aktONApOkhlcCpeni2LV87C1q8OecGeZfBU7/iZfTAy955y/pyFB3TKDFSr2jgVKjl20VAfbxGLS/GiouHcbrAnFIj1498hJva8mrT+lVY33UwQO++fEBYjk5jyrUnIiIimiEc1pHCkGkjcljHSIdCnGNqWMfww2fOJtnr/zC6zcNNEhEREc0Q9rDPBRlUenp4Ta9DUxg20q7ksIuByjaf0kMqC5GvRgkiIiIimmnsYacw2MNOREREdDMxYCciIiIisjGmxBARERER2RgDdiIiIiIiG2PATkRERERkYwzYiYiIiIhsjAE7EREREZGNMWAnIiIiIrIxBuxERERERDbGgJ2IiIiIyMYYsM8nm3ajoel1NOwtVjOmZuPeehxrqkf1JjWDSJjudVFR97pYvwYVapqIiIisGLDbifxn9uvK1QRNhQz6XqxUE2RSjOpDbGTdENnAPbQbG9UkERHRzcKAfT45sgulxZtRuqNJzZiaozvKsKG4DFVH1IwbIgNI2aPKIPJ2Md3rorZ8s1i/ErVq+oaou0fHGGATEdFtKCrFmTMp3ySlujA20q/NnJdk73ZhM/Z0PYydRQ4xw40T+4wgRAaZlSKy8AYlMg1gG2r04FdbtxsnXOuwHiexR0Qe27avg6NXvH90F47qqwQle4e35qkJs7aD2FBep+1LPyZxVMer0eCq0j9v2r5lG777lcdXlqsmzOVSQpY9zLYFuXxNczW6S6qw3ilm+H2mHC82bUG+mpJlmEqjwVx+ybu+dbtmrfWb8UyN/t66fjsOmIJDbZnrMA5gi6eM5nX992FdPzTjujmMzO1qG+qc6uS2C3HKtD29LuX+1botnVhflKsd06lC/TxYjy8IGcDKa1BNennPrfm8ttabzp9xjD7b8N1v6OsiXNnlcrU/ybJMkPuuAPY3ZmKnunb9yh3uug4p+Hn1vd48LGUMdU3LZQ+ju74Fq8pU/fnUT/BrmoiIyB972M1cD+NJEYRvKN6MPceB9RVT6K3LKxDByWYc6CrAtsdFoFF8EK3OTKxQi0PRexjlPt164CLeay8VwOg9mGp5QaUW0GnLVQAgf/y3wrvega512GlOrampVMuqcaJXzfMVouzG8W3Yd1KERYHllJRp5df2gXXYZsqTr6jbghwRkOjHcBAdRZWR966LwG1bUacIptQxiO2fFnWgr1+HZ9Q8WS4Z0OmfMQV2IqjbWdCCPcb69cBW317YvC3eOq1vR36ZN5/aeuxqfaNujV5dv5c1H3tVhQzK5frimhD7ijx1x4H1rmat3nNK6rFMHKO8BnIWR/AMgrqbou1TC2bV8Zt6wo3zeqDNfP7ES7vuRNC5vQCnjfXkMZRZ74pEcl0EL3sTqh5V64s6D0x8l0RD0viM+bxox1eW7S1XvWjYTOH7Guq8Gt837bhkoG18xhNwy8bGFsBzvclrssrnvIpzVyL/DujLLd+JkNc0ERGRPwbsFi14WfVyHX2zBe4IA25N22EtEDrbBXQ0yx/2NnT3ZmPZDP8IO7oO+/WuagGGqXeytjlYABTKNMoutdSrQLAJjS1uOFxG12sxlrncOP2m0Xso68WBTG/X5hTJQC/yntSKwly0Nnp7NlFTL4KnApSYz4toJHnqVC7vzcWaYEG1bPwYde0Jin1f5h54Bzoajek6nJLBcSQBt0YE2q+KfR05jw5xfhrFMR692Gmq2xnkOX8G2Rgy1fORJpwO1tgLajplF5ydaDDquqZZNDxM36dNS5HTK+rEOL7W7qlfs2bm8xrOpmKswkm87PkeimuyUTQoCs3Pn4hzV2tcd/pyR0FxkAbF1K5pIiKafxiwm3Wd9wZ2NuXuElGPH3kL3tTD60kTmIJplr3jYrDb+U041+XAqoeMQC0PmU43ulvVZDgiKN5/PBtbzeWL+MFc2VgA8stM6zbJNIxQDQZ5vOqtUFsu7whUmdafau79FMp6EwU6f/LOjbXe1IKITbPsvd04q976kY0Yp6nhlZ8JR6jP+5jWeZX7cq7DTs+64iW/c66lwXv4ZYNCvZ3eNU1ERPMRA/bbgP/t/RvpYZ89MnVC5t3rwYlMJZhab6InRUF7VeOEK9K0Ej34NqfKGC/fuxReepDvZaTdqJc59SLClJhbUoC0jaDpVDeFPC8yP17VeRlwwJJDH06I8xqODL7NqTLGK9T+ZZCv3ko3fk0TEdF8xIA9Inov8frHjV6wYpQUBHgobZpkusONONtlzSCuWJzt7c276WS+r/4gpRGgBA+WA5APFvr1Pvr23Fp7xc1kelB+iSkQ04Jsn4A6r9A7XVmG9c52nNKOUR57gJ5X425ERCkxocj0oFyUevL9y7FmxrNd5D7U26nQ0nBMNuUhU721Be08GvnxU6lzKcx5NZh7xc1kehDW4UlTgC0fwLX++wbmu0pifyW5cLc06duP6JomIiLyYsAeIXkLXT40p/egViLTJ0ieETJA8OxDvNSPupGaIEeVcHhu43sDjqM7Dltu76+5WIPTLrEdIyiQAYK2TE8HWa96JSP9B5RkMKKtL0cM8aQCRJpCoOe0W9NSprBvNGsjuHjXrcKqlhq/HnrZaDHvw9NbWVOJPS0F3vQF7UFKn+CuDVhjLC+TI7Ko5SJIPdfYglVGL662HDgQaa5zWE2oqj0JeM5doXYsM0s1Nj1l8J4347zKkV68dWc0Zurwsjlto2IpXm7sFNvxX//Grgu9IaetL9NJPNd9hHcntJz6XGtaSaT7jvS8amk3ptQXz8PKMuf8IGC63uRD39ZRXtzocFWq5eJ7h5PYr5ZHek0TEREZOKwjzbJyvHhIBHuWdAE17N2UhuGbHdrweq7DkT9wSPYgGqENi+utQbJsmJZ0+w07Ovfsc30TEdHtgT3sc8HTw+3zmg//yEtloWmsa7NOnJPBzHyum2ny9HD7vCK9e3Erk6P/BKSltZh6731ezBMnIqJbEXvYadbJwNLzD+woEf3jP3OAPey3KtmLbf6Hj6Sp/KNWs4k97ERENLMYsBMRERER2RhTYoiIiIiIbIwBOxERERGRjTFgJyIiIiKyMQbsREREREQ2xoCdiIiIiMjGGLATEREREdkYA3YiIiIiIhtjwE5EREREZGMM2ImIiIiIbMxGAXsxqg+9jmOHdmOjmkNERERENN9FpThzJuWbpFQXxkb6tZk3VWUNjhU2Y0N5nZpBRERERDR/2S8lpqYSB/AwqjepaSIiIiKiecyWOey1zZ1Y/3i5miIiIiIimr/s+dBpTTNaXUuZy05ERERE8559R4lxZmKFektERERENF/ZN2AnIiIiIiIbB+y93Tir3hIRERERzVf2DNgrC5HfdR5H1SQRERER0Xxly4C9ojAbJ17lOOxERERERPYL2CtrsBWHUXVETRMRERERzWM2CtiLUX3odRwr6cYe/iunRERERESaqBRnzqR8k5TqwthIvzaTiIiIiIjswb6jxBAREREREQN2IiIiIiI7Y8BORERERGRjDNiJiIiIiGyMATsRERERkY0xYCciIiIisjEG7ERERERENsaAnYiIiIjIxhiwExERERHZGAN2IiIiIiIbY8BORERERGRjDNiJiIiIiGyMATsRERERkY0xYCciIiIisjEG7ERERERENsaAnYiIiIjIxhiwExERERHZGAN2IiIiIiIbY8BORERERGRjDNiJiIiIiGyMATsRERERkY0xYCciIiIisjEG7ERERERENsaAnYiIiIjIxhiwExERERHZGAN2IiIiIiIbY8BORERERGRjDNiJiIiIiGyMATsRERERkY0xYCciIiIisjEG7ERERERENsaAnYiIiIjIxhiw3woqa3Ds0G5sVJPzWzlebKpBhZqammJUH3r9lq3Lijpx7Ddc9luVPN+i3HXlanqKNu1Gg1i/YW+xmkHhrqP5eZ0REdkbA3aaG7LRcaNB1wypqKtCZuNmbHh0F46qebeKjXvrUdpVjQ3FlahV82xBBsRsTN4QGRi/WKkm5lBtufgO7OtGaZDzFm45ERHNvfkbsMsAcjo9d3RrEYFlKQ7imRo1fVOoHv6melRvUrMiUo4nC1qwf0eTmp5P6vBMsQggy+vU9BQd2YVSsX7pNOtO73W+OQH2rBD1sr+lAE8GK0+45URENKeiUpw5k/JNUqoLYyP92sybQ976fhjd9S1YVbYODjmr9yT2qN5Q2cO4s0ibC/fxajS4qrA1z/oZLQgvy5XvBDdO7CtD1RE1KZi3AbTjgKm3Uv4ga9sTWuur0V1ShfVOMdF2UAULMthS8yTPfIM8/i3IV1O+29d6Irercknm4w5HlqukGwfED+hWUx2YgxDz8ftuO3zZZo/luMzM+zafNzH/ALZgTfNmT3BtPf6DQFkhTml1K8+JiChaOrG+KFcs24xThfpn5XtzcC63Yd6mIWzd+Jy3wNs1red3Xq3Xhe95C79cv263ocY/6JTHVgHsb8zETlV/5uPzW8/4vHZ8cr+F6D6eLeoO4rsiVqqQZfD/3gRi/S6ZGOU315uc5zlG0/ZDfV/D1Hu4sof7WxD+vIX7vofhc/ze7fv+nfCK9Pi1uncd1r4n3mvX/7o0f+/86k+yXA8BhFtORERzxmY97A6sLxE/ELJHrbgaJ7AO21Tu6dEdZWLeZuw57gYKKrXgS0570hvkj0sZRJCs5u8Tgf92Ux6mWL6tqNOzfI8IVLaaete128Bi/oE2IKdEbKhWbUf9SMt0ilUtMiVBfU78WJrzYivqtiBHBFvG8g31MG1f/PhXrEOH+NE0lu8RwbdRtog416FUBF/a+vtOAkWVnl5a+QO+FSKgUNs+0LUOO6dQtpBkvco7EX6vyHJcjX1r500GPeoYvfsWAYwITGRAoc1vLrQEGjJw2ZonGz/68lOFvsGOuGZczVqd5JTUY5m4LuS+chab67YYy1ztOOUbsAih60Yc2/YCnN6n5sl9lPn3jnvXs16zkvW6OIgO03nTg8ItgOe6qMbpgiq/XtwVLuD0mz7Buoe4jgpF+eX69e3IL5tK7nEuVslrqr4Tqyr0MhxocyAzUDTpw/g+yn1qwah2/OJlfB+P6D3bss7c5mMsVoGn7/dVHMN68/fVWF+85LkJLETZayrV/sQ56VXzfIQ6bxv3VmJ9l3G9iuWuLVPoXQ/1fVd3DNRxea578fIE1OH+lkl5eqNWW+5bdvmdcZnOibjuEOi6ONKE08jECjXpJ9xyIiKaMzYL2N04UWv05jShqrEdjoJivzxKR9dhv96ijQ8VAMfrvT3a4ge/oS0Xa4wf2fxMONqaPcuPXuwEXEsD52i21Ft642TgtkYEjQ2mHs7aV0XQHODYPGTAECIglgGPX49pKCIo8qREaGVzYNVDeoChBU+mfdU2iyAqGL+yhWEKnKyvGcqlrixEvijby8b5FPVmDtAqCnPhNp3X2vKDaFXvdeKaeVWU/ch5dKAFjWI78tw6XOaoPw+ZRk9pKH51I4MrU8+sDGACBX+e9ZrQ2OI27Vs2FNymYLsN3b2mgHhTsQiYTWVX13x+oTlNS25DvQ3E2YkG49zXNIu6ycayiNNt1DXd2g10NWtlONvl29iZAeZjNGjXleka0o59iqZVdiHoeZONJAdam41jbsK5LhHgT6NepvJ9D/u3TBKNX8/fwJp6Efz7LLeQ13Gw72u4OptinRIR0aywdw67CCTc6q2Zu8u/y03+wAbi+ZGV28or9PQybVycLYKU8wFv9XZc9Plh3bQUOcjFVnMPs7zd7fT2PslAsqOoytQDbe6JFYFYreydNa0/zVEYZGDlJW+zm7btuZXuz69sdhDkPBjm6pgD7UfevfCeM1OKhEnw45OBnrdhpTcc3Og2IlPZiHSuw07fcxesIRlIbzfOqre2FeQYZdqGt24Dp4mENM2yh7qu5PfL23DSG02RX4fT+77Lv2UOy98SPb0leINBb1B4yEavvMtmWp+j5BAR3drsHbDLgEa9DccawHp5fmRlj54c+UD9gO0saMGeED3gFlrvrTctI3Avs3GrW73kLf4K0ygLPj3Vvik5U2VuoPin44ToYZ+qaabERCRMgDr9Hl/Zs63eToVPGlWo9IpgZMqNfN5CrzOZ/mLqsZeNSHM6ifGy5Az7BGO3iwBpG1PuYZ9Fskd8T9fD6rzp6XB+OeChTOP7Lv+WyWcZPNeDegXvofe/C2Okeukv31Qss06cM67HgMItJyKiuWC7HHZvb2Qxqkty4W5pCtn7ajj6ZgtQVOYNIkWwVZpnyluWD3GJhXp+vHhN6UGqOpxqy0WpJce13jTCjMxFDjDyh6fnWPaA+we4ge4UBOUsQImxfa1s3lQL38ZKxeLsgHcmbohP4OF9TS0lRktBCkSmMjjXmUajkOlH6q0g03sc5vMqU2jU28jJoDdUykAQWkPNZFMeMtXbyMjrQn/Y1ag3S9Cn5Qiby673Ovv2hp4VAbv3exE5LTXIVHcy1SLSBnDEgtwFC8t3vcqlyLmRRtUskedBPrBrnLcppa9F9H0P3hDz+1umbc/n74vpbiEqy7De6f1bJ/82+feoBwi8tZSsEHcpwi0nIqI5Y7sc9g5XpadXaz28edtGaoIcmcJ7u9j0IyYDS/mgpzZfvLSHBX1yZH3TD0w/qsbteXnrOd9zK9u7vLZcfyDQWNfSQy8CuXON8sEwYz3xkg+NGctFQHbKfGxq/SkN09fbicwKtf72dcDxGk9P7dEdhy3pOGsu1uC0a4unQRGubHNCS0kSx6SO0dvYqcMz2kNzxnEVyg5xLy2n3ZSOJBbfSE+sfOYgx5IbrgtdN3V4WfaMGvuuWIqXG+XDkQEaZwHpudHe7eovbzDVhKpH5QOB3mXy4WHf4FA7v6GelwjGp+62uTpnriFnkI0a8/fKGLvbuDOjpY55l3vKLr6vDea0jcLz2N8i61rVvenOjuXcRHpXSjbQtfVlGpNDnDN9/UhTQ/SGojUtJfJ9R/Z919JuTOfe81Cr798y3zszkviOrDGWaw9tG3/rirHi4mHL3yp9ff8GtmzAdTQG77gIt5yIiOaO/YZ1jGBIuRshA/4nL5ZZejjlPDk8WkSjpdCckUF0oCEYp2u2thucuKYPiSDfcjfnxq5zea0GHNqRZoG8M1KGc4+ag1w5T/+Ht+bu+glsRv5uyQaRaBlxSEcioluDvXPYZ0wxSgoCJwNMKS1ltnh6A31e/JcGZ5S8S9JdMof1GjR9Z+p5wTKnWs+Fn6M7I6Yebutrju/M3AwyFSTgqELqgeFb/Puq3VXanomGIMF4uOVERDT35k0PuxaAmP8hE8nzj5mQncx9T/jskWWRKR1mAf8RG7IVrRfb5x+GCvSPWt0MvDNIRDT/2ChgJyIiIiIiX/MkJYaIiIiI6NbEgJ2IiIiIyMYYsBMRERER2RgDdiIiIiIiG2PATkRERERkYwzYiYiIiIhsjAE7EREREZGNMWAnIiIiIrIxBuxERERERDbGgJ2IiIiIyMYYsBMRERER2RgDdiIiIiIiG2PATkRERERkYwzYiYiIiIhsjAE7EREREZGNMWAnIiIiIrIxBuxERERERDbGgJ2IiIiIyMYYsBMRERER2RgDdiIiIiIiG2PATkRERERkYwzYiYiIiIhsjAE7EREREZGNMWAnIiIiIrIxBuxERERERDbGgJ2IiIiIyMYYsBMRERER2RgDdiIiIiIiG2PATkRERERkYwzYiYiIiIhsjAE7EREREZGN3cYBezlebKpBhZoKp6LudRxrUq9Du7FRzbcXWSZxfHXlavpGFKP6kE8ZK2u0cr9YqaaJiIiIyDbYw67Ulm/GhmLxqm9Xc27Apt1osG2wr6uoq0Jmoyjno7twVM1DTaUoezW6S+pRvUnNIyIiIiJbYMB+S6nDM7JRUV6npqdINChKcRDP1KhpiyZU1bZg1ePT6b0nIiIiopkWleLMmZRvklJdGBvp12beDBv31mMbWtBRtA75bQexobkQx8pyAfneCFBl6oacp3HjxL4yVB1Rk4JMa9map79vrT8IlBXiVHElavVZ2j52FjnUVDsOmJZ5yH2UdGOPuQc6DOt2TXpP6tuRPe/b10H7hJzXmImdWjlMZQhVNvP6Qmv9ZmvQLZdXAPs92w3wGUHWz5pm//leMl2mEqi11isRERER3Ty26mF3FGWKALsaJ1wPo2FxMzbsOwm3a6meYiKD0jKIIFulruxrwartphx1EfBuzZNBuL78VOEW5KtFGrF8Z0EL9hjr1wNbZyh95eiOMm86jQzIjX0YQf+RXSiV07I8KMC2QlE27TMqMPYtW30n1pvLZqwvXgfa1Dw/pu2K48gv883fL8YyVztOBQ3WpSY0tgCZloojIiIiopvJVgG7+3g9akXQeK4LOP1mnQhUz6PDmYkVYtnGhwoAbbkigtiGtlysUQ9KVhTmqvV1teUH0areS3J5a6M5b7seJ0SQWzLXOdvOTjT4prRoAbmpt7+m2XLsETFvV1s/G8ssZctDplO9DSNncbF6R0REREQ32y2Tw77CFSDlRDAHlx0Xm9Q7X7J3GcgvM40E01SF9U7H3Pcm93bjrHprZhmlpsnn7kAkgmyXiIiIiG5tt0zAfrbLrd5ZmYP04D3Deq+9zOvWU1G8r+D53HNIpvO4TKk0xda7AzOjDd296m0YwRs+RERERDTXbpmA/eibLUBRmTcve9NulOZ5c7Jrm9vhMC+vLLT0Usvl+SWmnHWZNz6Fcdp1ahz0YLnvrd0I3KwIw3e9yqXIiTC4jpxstHhTiAIrRkkB0D3zrQUiIiIiukG3TMCu5XnLB0WNtJHtBTi9z5z3XYkDbbne5YUiDlaLNGL5npYC7AyyviclRY6y4lynPjfFccm1nHtjXfEyAnutcSCm5UgvpuUNe9UdAZmP32Var/A89rdki7KoBoWxvnjJUXA8qT1T/AeUal89iZzCEOtsKsaqrsMcIYaIiIjIRmwzrCPNjeBDO3JIRyIiIiI7unV62GlG1JbLf9H0dWtajxwDvkn+C6gM1omIiIjshj3sREREREQ2xh52IiIiIiIbY8BORERERGRjDNiJiIiIiGyMATsRERERkY0xYCciIiIisjEG7ERERERENsaAnYiIiIjIxhiwExERERHZGAN2IiIiIiIbs2XAvnFvPY41va5eNahQ829fxag+VI/qTWryhpXjRVlndeVqev6pqJsv10wEKmumdS2wLomIiOzBhgF7MUoKgBP7NmNDsXxVolYtIQpFNvRKu6p5zcyQ2nLx/dvXjdJDu7FRzSMiIqK5x5SY20odnpGNnPI6NX0rkncbZM/uVO84lOPJghbs39GkpmlGHNmF/S0FeLJSTRMREdGci0px5kzKN0mpLoyN9Gszb4pNu9GwfR0catKrHQeMHlN5i78sV5sLuHFiXxmqjuhTsnd1Z5G+tvt4NRpcVdiaJyZ6T2LPo7twVFsSmnkblv1qQWQVMhsPAmVbkK/NMy+X9M+sd6rJtoM+gbN1uTzGUk9wKZeJiKj2MDK3q+37rR+CT9211m/GMzVqQpL1VtiMPV0Pq/JZ6y40mWZjKrPscVX78uwn5P4jKZt5H751I4Q47wZ57rahxrqeFKbsfuvJslQA++U1o63bjROudVgPcR2Jk71NlnMK11TossllD6O7vgWrylT9+W47XNktde+zPILzLtNetO+J4nftSOY6UbO8VPmmVCdEREQ0FfbpYT+yC6VaCkw1TvTKwMInJUYGDWUQQbKav08EOdu9+bVHd5Rp8/ccdwMFlVjTrD4XaRAhgpudBS3YY2y/HtjqkwqQX1aIU2r5gbZcbDXlB1fUVWFVi0zHUMuxBQ17i9VS/+WyQfGiT6/lqgpj+wfRmrfFb3lQnrqTx6Xm+XI9jCdFYCo/s+c4sL4i0jQH1WsvjwnZKH1cBG5qX3pgJwK27QU4bZyvfSeRU+bfOx6qbBV1W5AjAlltfbG8o6jSu36Y825Y4QJOv+kTrBtuuOxCXoFobIh67SrANq3s4vidmVihFocmGytbABEE62WrxukC3/PuwPoSo07FtY912GZcN2HL7lP3xbJR5FM3ocourvmtLhFoG9sXZUNZgJz1I004jUjLTERERDPtlkmJ2fiQCJyO13t7tEWQ2iCC5jUBglpH12H/XsIwKgpz0dpoCu5r6kXwVIASU+DZWu/tUa999STceYUquCnHmrx2NJh6d+VyFBSr4CjA8vLNeLnVG9DLwK2j0dh+HU6JwDtnsXn5dLXgZbX/o2+2wB1x0Gl1+lXfBpAM6E29tjK461XvPUKVrRjLXG5TsN2G7l4HMlWXdGTnXW5DvQ1oGmVvO6yV7WwX0NEsyy6PLxvLIknX2VSMVTiJlz3XYhOqGtuRX2h+EFQ0TmuNOtWXO9R1E7bslYXIV8enk+eiHmctxzaVssv1zXeNzIKVWTXo2LtOREQ0a26ZgH2Fy0i4sAoU1Lq7gnUzB6MHfPllMnfaeMn0FW/g6OfIeXSot9i0FDnqrUWYwPCoCG693OhuVW9nQ9f5GQioOnHOlE5hkGkl1npTCzxCla0J57ocWPWQcR7zkOn0fl6ed0dRlWn7egrHlBozM1L2G5CfCYdzHXaajl1Lb3EtDd7D39otaks3lWveq0lcV+qtFKrsNZU40GU9PvNdISIiIrKHWyZgP9tlhDFWHRfNQe+NkkGjnr+rpwZ4X0F76s1Bujl4N+vtxln19ra1aTe2FXV60za0lCa1LELyboNMEdKDRplC4u2xl+dd5n37nhdrrrp+/mxHBt8yt9vn2EP2RssgX72d3Wtep40E4zk2n3Qki8CNNSIiIpp9t0zALm/no6jMm18rAsXSvHacmmLqSzC1ze3ILzHl98r8YZ8xqM2pDBWPr4OjrdmU5pGLUnPOuliOliYVmAVYXneb9Gb6NlY25SFTvY2MzPN+3fvMgXiZG0l+5117yNE/R16mrHh76SN39GInHKbtyzSUwP3aN0DL/V5nGWHF/7yb7y6IuijJhVtdN2Gv+ZpmtOY9bKqLwHUTjLwz4n8NBgjMtdSeYI1PuU/R0OLQj0RERLPGRgG7+uFXqSjrt6vb9MaDnfLBSvkgqPYZ8dIetvPm2xppGXI0DG8KxRSGBqypxJ6WAm96gM/2pVYUqu3KtIx2HDCNdFJbrj9Q6FmOg5Ze4HDLp0VrXBjHZUrtmZF/QMk4L3Kkk1xv/Xu2XYeXj2d751csxcuNneL8RVr3TWhscfukI5mCWt/z7tMDbzi64zA6PM8MTIFMCxGNKWP721ydnpSU6WtC1aPyQU5vufzPuxsdrkq1XFz7OOkdmjLMNa/lj2sPohrbD1w3gRVjxcXDlmtSX98/h102YjrMz3cQERHRnLLPsI62JnuB5bCOIVJk6AaJBsEhEeRb0kRkI+FhdAcYvjGUoEM72taNlXNOycZgRbAhHYmIiGgu3DIpMXSbkiOdqLdWU8+ZlkN76rnwAYYmnA2mOxvW1xztf5bJ9J1j2zPRwGCdiIjopmIPe0TYwz6bfP/xHingP+Bz27kFetiJiIjopmPATkRERERkY0yJISIiIiKyMQbsREREREQ2xoCdiIiIiMjGGLATEREREdkYA3YiIiIiIhtjwE5EREREZGMM2ImIiIiIbIwBOxERERGRjTFgJyIiIiKyMQbsfuQ/F/86jqlXw95iNX82yX3Wo3qTmpxrlTU4VleuJm7cxr31os5uYjmmY9NuNMzB+a6oex0vVqqJWSb3ZVzHxw7txkY1f7bI8z833xciIqL5hQG7r8pC5LcdxIbizdqrdEeTWmB/cxkMzrXbuWzh3GjZa8v1a3hDfbuaQ0RERLciBuw0Y47uKBMBYhmqjqgZt5Iju1B6izXQiIiIaH6ISnHmTMo3SakujI30azPnI9mLuTVPTZi4j1erIK4Y1YeqsN6pz4fshS+vUxMypWUL8rX37Tiwrxul29fBIaZa6zfjmRptQQhy/YfRXd+CVWX6eug9iT2P7sJRbbnP8VmWmfdtZdm3THspy1UT4hiLK1GrprRlhc3Y0/UwdhbJvbtxYl/kgXfwY5NkvVUCtYeRuV0dp6XuQglfNpmGoR+zfq4aXFX6sXiOI9R5Eyz14l9uWbY1zdXoLlHb8CtfGObti30fwBaxvWDnxbz/yM5r6LpX5D5KugMuM9ef33Uh04TUdSz5Xcvm5WLfB1oKUIoaU6PHWgbvd0nwWXdPYyZ2avVgPQfG8UX2PSIiIro9sYddsaQPBEiJqairwqqWas98GXh583Xr8Iw2/yBakY3Sx4H96nORBxkOrC8x1qvGCazDNrV9GbRshfeYDnStw05Pzrmxb7FOrx5UGZ/z7FsGR2UQwZhaJhsUvjnNrofxpAi25PI9x4H1FZHnPHvqbt9JEW4FtqqiEKe0/Ys6ytsSYYpH+LLpvfrymMWeCyq1YFj7jApOredNbMdlPm9CTaV3mdhHIDklovJq1WdM5yU8EbCKINRz3M2F1kah73mp78T67TWo0BaGL3vo6yICIpDfWdCCPWr9DfXAVs91IY59ewFO71PLxLnNKTM/nyAaQhXrABGEa8tFlF/qCfwl2VDaAniOuxqnC6q8513d0dCvmQJsEw1G/XO36B0aIiKiWcSAPSLlWJPXjgZTukTtqydFgFgcMKg9/eoUemA93DhRa6zXhKrGdjjU9rWg1NQrXNs8tZzkjQ8ViMCq3ttzKoOlWm9ZdC14WZXv6JstcDszsUKbmgkOdDQaPbd1ONUmguDFM/9woqPrsF8DSTYmvD2+TWhsCdakCKGlXgWR+voOlznqDkE+D9F7Ei8bxyQaBwdE2T20oNXUo13TLBp8kZvudVFRKBoTjaZrtaZeNEgKUKIF5bLBYAqejzThtLlBs6kYq5ym74Qoy37ZaDLI5TCVXV3T+YUBGhTOTjQEueNiNMgib/gSERHdfhiwR2LTUuSotxYBg9pOnJuJHsLWblNvtUwtMI344UmhmAYRgFkaFV3nb6CRESk3uqcSid4gd5c5GlZkL7ap7rzpH5HruOjbuJmCMPUqU1o85zVICkxw07kuirHMpd5aOJCpDkL24HuPzZRWZOjtxln11k9+JhzOddjpe3yupf6N3FDbISIiIgbsETlyHh3qrcVsBhoy4FFvK+q2IMdIPZAvjvoRIT1to8OUTqKlzsylQAGqobIGW10nvSkpWkpV5KZ3XTThXJd6a6EaV6Khs62o05uuEyhlKNRdGNnglLnpnvXVayr5/0RERKRhwB4RmcaRi1JT7nLF4+uAFp9e6mlxYNVDxvZFoFmSC7fa/tkua5BZsTjb1PtuCBaA6SkuKCpTudGC1uts5ErfCoKXLTTf9YqxImCv8iyRKS7OdXjSk68vU6vUW8lyF0WoXIocvzz64GWP7LoITqbQ5JeYnlWoLMN6tKBR3iHybaRuykOmeqvRUmTM34lilBSY7l7I5TCXXTYwpj7OvdHLP1+H9CQiIpI4SoxijEZhZR6xItRoI9bRMDymNBrKw+LzQH6eOgbLiB/W7bfWq1FLuqzb9y2DZWSNoKORCHKZfOjP2JYM6LdnosGcXx2CZaQSD2Mfst5EtFXr3Z/8fGmXacSQCAQrW9jzppXFGOlEztdHq5E909r+LfXiZYxoIo/VPKqLtj/X4QjPq2DZfjtaRcMPpu1Z6k5cL/pIPbJn21v3wc9r6Osi9HnRp6zbto4SY1nmGcklO2jdtspnE7qCjxJj+T5Y1vWyjCQjGMdguZaJiIjmGQbsREREREQ2xoCd6EYF6SX2G8+ciIiIaBoYsBMRERER2RgfOiUiIiIisjEG7ERERERENsaAnYiIiIjIxhiwExERERHZGAN2IiIiIiIbY8BORERERGRjDNiJiIiIiGyMATsRERERkY0xYCciIiIisrGY+MTUb8s3cQkpmBgf1WbSzVOcsRBbE4bw22HtH6CdW1EJ+PrdqVjaM4T31KyboWTBQnzpjjRsWJCKDbGj+MPAOIZE2/KpRQtRNNqPd8bVB29T6TEJ+HJ2KnKHh3BxAqLs/koWZOPR2EEcH5nZ6+QxVw6eSBtHp3sMV9S8aYuKxdM56bh3eBB/FOW5UUWpC/DlJekoltdFRjTSeoZxVi2bNQlp2OWKxlVRH5fVLDuajfO23JGObzgn1fdvrsXg6cWZuHdoYFrXjDQr1/QMWp2Uii+lxwCDY7ig5i2KS8Gz2fFA/6hnnlc8nr1rIUozxfdAfBcKBt34tzG1iIhuW+xht5Vo5CRE4drQ9CJSGcw951ATUxGfANfAMNpuQlvBKwF5KYN4q70Du+Wraxg9cnZUHJzJw+ga0T5kTzFJ+M9LU1GsJm9IdAL+oysB5y/34BXRftbK7icGi5LG0TU0zUjGTwIWpQLDAyMz22CbHMOvukexNCsJhWrWlInGZGHWGN79QF0X7/fhV3NwnRYlxmN4cATvqml7mp3zlif+HriHRoNcgxGSDZ7sRCxXkxGLiYcrbgSXpt2HFKJuZuL7Ok15yWkoSRrGL6+Ixrfper402o/fDyWjyBHoJ3oEL3yofw9+3zeG4Zn+M0BEtsSA3U6i4pGZPIiO6QSlUbFYmjKOnhvoErNFcBITjaSxMVxTkx6RNiaixI+geN0MeUkJcAyN4PdqesqiYvD0wgRcutyH34T6EZ6xYMbXMP7h/Q5U9838LYyekQGcj05CQYyaMVXy/A+O4sM5bUxGY3lSzLQb0LNvNs6b/neka3B60WBxcgKGRdD/gZqOVHpCHBz9w3hbTd+44HUz7e/rNKXHpeALKSJYvzqCNjXPrOn6AOJSErBaTfsRjfslMQM4Y+dODCKaMVEpzhztJzAp1YWxkX5tJt0ksjcqYxzvjSThnvQ4rWeyq7Mb/zCg/2imxybgiaw0LEqJFcvGca2rGy9dF8G5WCZvXz+dnaR9zmKyH7//QPVGRkXjsQXpWJmWgFjRVBvruYpXukUQrH1Qppy44OgVofKCTCxKFMt7xfIrxvK587nMLOT0XcGPTAFpkTMLnxFhfHWv/OGNRkl6OtYkDOJ/XR7EW54gLhZfXerCkth+vC3K/Bs1N6yoBDx3dwI+bBf1pGali3NRkTGKX18aRLOaF5jaZ7yaNBm+clkdL7A2OQ2fXZiCBBmwjg7ivY978IrPbeyitAX404kePO+2BknyvP/H7HS4EsVJG+3Hu1flbfRh/MBz90Gc1wxxXp3qvIpz+OsrQ/pxR1C2z7ty8Cdp+jIM9aHxYj+Oq0lJ2/9Csf8ksfEJ6zUp5SUkoURcl9rxjQ/jg4+v4qUAQcTnXVlIv3YFL0V8+z5Y3Y7jwvnL+JHch2jkPLbA6b2mRdkbu4fwtna9y7IvQIZcRXwP3r0wiiWL0pERZ1o/FJkitjwJlz7owWtie+mxiXg6xyHOq/heiEB2Wj3PMuVjiTiyS6b6kD2+i+Pw7nlxDjzXdHChz9s0v89a73McLnVH466sJMRGTcB9RXwnReAb8Jpz96BJfBe1XuKoRFHvGXq9++jq6BDXjnwnvsPONKzJSNK/E/3i+DvF8atyy7uEq0ev4VJyOvIc4gMDYvkl7/JwgtdNZN/X4Ne0TNVxIq5vDItcSbhysQsdqVliXxP44Lw4l9rfLJ+yjY+K78xV/NxyzYjt5KRiuFP8HQjaJhLX3+JYNPt8HzUiWP+6KxZtXf1onF6biohuEcxht5HiNCeWxY6i9Wov/udVNwYmEnFvRgyi+0bwofgD/7gI+Pq7r+JnV9z4w0A01i+KR+I1PY+3Z2QIx6658dFoLO6duI4fXOjBYTF9TC2XPyJPLMrEshERyHb24lUxf+UCEfwPqhzRqHh8emEMRvsG8S89fTjWN4nV2SlYcD2SHNJo8SO2CI8u1HMqza9Pjbpxcgo9QOkiAPtUWgoSh8256tH4TIYDE+7reGcyTjRMMrB8uBc/uTqCFvUJTVQc1qfFI7b3Og4NTUwh7zYW92UkYlKU/V0tIBB1vciBvq4+HAlb9gn8vk/W8xByHfHovnAZz3fLabfnOQTZ2PizZHF+Pr6Gn4rzOhHlwFrHBD7qH/P+gIv6fyQrCm1Xh/G+mqURQeNfLEkFrl7FTy/34bduYF22mBZ10aTlr8fgqZxMLB25jiPivB4Qx5GfkYm7xt34N+3rHL5sZwf04x0R19uysX783JxqIwK3isXJ6OkSAUvXdfxhMAb3Z8Yi+vooPhKLlyel4cnMGHx4+SoOiOvy45EEFInpEbHcN/f2EynJSJxSTrJRtwNYnJCMkcuX8Pddclo0QuW1Ie9I3JGJhf3X8AtRnn9SZb9blP2kVvZxnJTfgaFobBBR5cD4II5eEZ+7qtYPR/xNfCR2BP/LPYZlopyPu2JwpuMaDoh6n35OdxTuTXUgach7nX8+KwPJIsA+EOGf4ZDnbVrfZ3FeU8Q1Gj+Ji73ib4W4nj8eisEnRdSf0TOEfxfLi9IycM9Yr6p38bckYwHuGDFyqcf0eu8Zw6fSJ/DeB92oE9e9PFb9mpQBeRbWiIb1Gx09+Lk4v9kpGeK89av1Y/DAgiREi2vl9z3XxTU9ioLMdCwajjxXO3jdhP++hrymxfdxQ1Ycrl3pwR/Gk5AbO4Tf9gyI308HUtXfrMLUDDyUMIDXRdkOiHJ/1D+JpaLB1DU8AdHW1qQnpqI4egCviIZv8GspFmvTonEpwHdJ1v/KyQEcFuuLPwlENA9Eq//TTafnr18SwUij+gF/e2AYwzFR4s+2NI6XLnnzmi/J35aRcb+HqGTe6bVB1fNqsjwlDfeIQP613lE9cJscxQsXjB4hQUs5GcTbw+P4QCzvGRvDoPjhFZMRmMCvPla5xT6v5yP8NZE9Yrtyc/CNpU7EXLuMF4bVAsnIX5+UvX5OJF27ir+/PoZLarHH5DD+4fxlVPdMNe92DO7haIiq1uQ5UnHHQA9+FXFPsBATh3QM44LvOiLgLUofwe+7vDmqb4nzOhYXg0X6pCY9KRFZ4rz59qw+6ExDhrsXPx8Y18rbMy7Oy4Q3f315SiruGunFj3pH0Kyd1zEtzz9NbF8XedmWJopAZMi64DERKI2KRuJLItjQrrvh66i+2I+3tKWxKM6KxYeX+vCaui7fHRnFcGIMsrTlZrFwJU5g3Kd8EZHnP8k/VWx1ihNLh3rwklu/ZmXZPxD1lBxrlF1XnJiIsSE3fmV8LkJaitjQOJaI4LIkbRRvfCwauxF9HyIh6nNEnBd1qOnxqSiIvo5Grfd5agKdt+l9n/W/I+5et/e8imvzmvgbJXvTpeN9V8V326j3SbHlUYh2jVV8PDL6R3Dat87jUrA2ZQD/68qwfidkcgKvdHbiHwb1xXrK1xDaxAaNa9o9Oh7xsZsFrBsp2Pc1zDWdniTK1NePV8SxOMTJGxV/g9smo+GIE39z1fW5NDEB4+JCj9Mn8cHooPh+jlrubDyYmoRr/WH+Tsn6Gw8ckB/vu45LSRl4VvzN3HWT8/CJaG7MfMAub6XKPyLGy5Ug/jBSWAHy15eLH5uEQT2/UaYlfP2ObG+9LnUgdmDU51Zp8Pz1VcniB2JgKGguqV/+uvyxkLmnvj+2QfRE+LlgftWlB/ivXZnA8rQENVeRwQeSsDJDzI8SEU5UxF20EZoUP7DRiJPfhqgElKRPoKXH1PsdgeVB8mFXi3p3iADdfCt/dUIcYofHLOdubWISrov6t4rBXSnRuGL+YZfBTKw3f32tIwmx6Zn4huk7J1MB+kQgoYuwbGJZZsogus3Xjpi3yDGIzmBBZHwSFolzk3eXd9+7lqUhQQS5fo0pGSBNDOODGwl45fn3y1+PxmqHbJyOmMoiG70xprJL0ViSLBoa5rsZEZH56+L7l56GPBF5yUB1dJrXuK8hEYzpAXCMaLAm4GNR+VNOPwt03oTpfZ8D5K/L9UXg2iGrVqbDZC7AjuXGeXdhSYz/MxXFyYkB89eLxHdCtCJVo8+fX/66aLClJwxN/YHzIHUjBfu+hrum/yQhUTQAZG+CaHAnj6JbHpN2bY/ivKrb0719GBDB9Ofu1tffkS0a7ZbnauKRkxL+AXr5d2LcfA4N4rfi2cVJcF++jB/IjpHz19GkFhHR7WvmA/bxQfy9qYfVM8oHhSZ/EEUAbg5KCsUPm7t/BB+IP9BPLE7FeHcXXlD1+p4b6BI/OBZBe41ikB4vgj5Lr7X4YVRv9eDE+nDd2kQRHItAM5KHvuRQlJ4fN/MrM37KjTVHXKw2MoWZDD7Geq7gR509OH5tHIvSpzHaSEATuD4eg4RYUZb0VMT2uKc8AkmwOxuL4uIwPGIOFqOxMiUOl0TAYpYYIxpaPgGPDJwcidYfdmswI49ZBETnTN839fL0VkZatjhx/Q37BHQxsUgTQZoRiEjp5sAjNgqxfVf99r37Yr/fdSOvZfQN+ufiRiDww9CybkbhNn8FokUDI7EfH1oaHeIavKFgT7+r8975K3j+8nV0JaRhnU87crrc4+NIjom5sTs6hkDnbZrfZ+3viAzATcfzoAi+0T+kBYYlGS6smHTj12qkkpc6xcXm94CobDyJv1GD/i20rPg4XPfp9TZfV7LxahmdRpx/radeTUYsYN3ogn1fQ1/TMaLxN4Zu+d2SDWfxt1Y2QGXwnygb5foW8MFIP56/2Kmt94P3u3ElPg2rLTnzUYgZHdXvkgYlG6TAebd//cnzkzE8iCPqDgARzQ8zH7DTDZG9UXKEFO2HS7yKHOlYGdeH4/0T+h/oqBF0jEzgklhWmJCEzPhh9FpjPhGUBxv1QPayxuGOlFgtDSNdbO/p7Cw8YQQgRsqJKaiRvYsBbyUH0HTtsv8PnHx1m3s/w5NDnH0m/jp+ed3cg64HH7KXWfZwHe9z41qyA2t8HxqTd3Zkj1/WjUVV7rFxxMal4E8S+vGWz0OfkhwbflduFp7W85N8yN62wHc2esR2E0TAUaid12h8LmMB8sZ78EaAzwY0mYAlSeK6EG8XxSTgiYwUUzAjz6tojIn60c6rfAAzawG+nmz9Wocrm1Qkgg6/gG5yAqPiWlup7u2vTkjBV+9Iw+eM4ErGEqKhWaLSOgrF8udyUvxvz4ugeV3aGFqD7Du0YCO1jGFwVASWom5k2ReJAOqrOakYvOzGb8yB0I0Ge7JXf2AQZ+RuJ4dxumdCNBQTkacv9Xgw3YVdd6fjiRv4S3ppXHy/YhJR4pzAqSne0TEEPG/T/D5rvc+iDuWznlJhQir+Q9ow3tValHJIUdH2En9nZLrKcvG3ZG1inP/wj+IYMpNFQ8mvEarfWchwJGC19p2Q12wWvuoZvlBu3zpkqUxpkg02c099ujimHXfnoCoteMUHrBtN8O9ryGta9vRH63cZtL+16g7nKtHAuDYs6zZaK8tzouKWq+/IXeJzGVGDIojXpyOVnuDA0tF+HPe97KUxcW4TU/CIOkYimh/40KktROM/iEBspG8QSxa5sDkrFcswiLc7+3FMBh8icLo70YmV2WnY4IjFZN8ABsX0ipRxyz/okih+PO/LcqJIPfC5fmJQPUg1ifPD4yjIysSnxbbvT4lCz5UevCaWab9ZpofrtG1FJeAzC4HuK/oDZnMjHmU5sWi9NICTao5GBHufXhiFy93GP+Y0hhTx32rHBC72j3ke4kJiMkrS4uHuFY2cG/jHhHJEYPrJrDhcvBToQdNoPCDqM2NyEO/1jFgfCtVE4R7R2Mh3qYdtTf+oz8cjw1icIs5JthMbnIlIHujFkWv+Y0IvS0zFosl+z0N5unHEjSfgkwuduD89CXePDmM4IRbXe/vVg4PyvE7gXpc6r6L80df70NgvrgttfV3QssWmoGp5Fv5MHHNucgyik1K0439AXBVvyYBpUgQhY/FYvSgDxZmpyI8exu9FQHzY2Ib4e5EcJ/a7SJRNbiNmFO9fEQGzT/0VZzix0N2Hn04lp0SOmHTXArFdBxbER8GR5vsQ8yQ+EkH8va4srez3iWu6u+saDorjlte0fND3q0vEcaWKll18Eu6V52VBPBZ7Hr4NrciRiiVj/fiFehDxI9FY/tTCVNzRP+B9YFVcm5sXOYArV/Gi+txU9MTG489c4nt/uQc/n0rdhDtv0/w+F6U64XT3IypzIT4vyvyJ+FGcEdfOP2nlnkSK2N7qhenYIK7JO0b68YcxMZ2daK1bEYgXiu3ki3OjfSeSJz0PIr8/PIpPpGdgrUv8PZPXbM81vNqvcrVFA2ZjhviM5+HrGDyYmYwh0VA3Pyi8OiUNn0gWVX/Nbf2H1MLVjSb49zXUNZ2enIxPi8bbS4PjeDDNicShPvF9jcWnM6PRe1XW7SR6xHn8pCsD92eJsom/6XfFjuKPl657vzOaGKwR1+JEX5B/+CsqFk+54nDuygB+F/CymMBd4hxP7QFuIrrVcVhHsof4VOxwjqB2nqZQpSemoSJtBD+/HPw5g1uRHKqyKEo+FKuGA7yNLE9Jx9Ppo37DYBKF87nMbOQNdeJ5359cOfKRaNxDPugdtP8sHs8uS0THOe9QrUR0+2MPO9lDbAIedKm7A44oNZTl/DE0Nor0ZCfWTA6hbWwmhg28ybT0nwysmujDgT7/0YxufdF4JCsFvV29aGAvJ01R2/AY7nOlYOnAMN5TvegyresJVxpG5RCuAX6K5UhaT+bIuwLJIqDvwT8Zd0iJaF5gDzsRERERkY3xoVMiIiIiIhtjwE5EREREZGMM2ImIiIiIbIwBOxERERGRjTFgJyIiIiKyMQbsREREREQ2xoCdiIiIiMjGGLATEREREdkYA3YiIiIiIhtjwE5EREREZGMM2InMNu1Gw6Hd2KgmQyvHi02v45h6NewtVvODqKzRPvdipZqeLrm9iI915lXUhSpLMaoPiXq5icdHRER0u2DAfhsJHUBN05QC2fmiDs8Ub8YG8TrQpmYFI+uvpBt7xGefqVHzbEEG1vWo3qQmZ0wTqh4VddOYiZ115WoeERER3QgG7ERzoOLxApyu3YWjanreqKnEATw8Cw0CIiKi+SMqxZkzKd8kpbowNtKvzaSbQaZXbEG+mnIfr0bpjiZ9QqY+FDZjQ3mdPq19thCniitR67OeWWu93pu7cW89droOi8BpC7bmWZdJcvk21Hj3J3uDK4D9j+4C5LpFDn2+We9J7BHL9QDU9xjacUA7ttkme4crgZZOrC/K1cp0qvB1rYy+5fOWwffY5DaqsN4p37txor4Fq0r0sutlMy8X2g6azoOXvLtR2mU6Z2am+gwWsFfU1WPZq2WoOqJmWIj6PbQUL/uuL6+Lkm4caCnAVlU+y3UT6tjlMW1fB/8zK+pgn/c4ZLmMa8a37HLZmuZqdJeofViuCRO/65eIiIimgj3stiADqy2ACDJlesWG4mqcLqiKML3FSMuoxolePVDVt+GTepG3RQRXall9O/LLaiBiyLCO7ijzrKMFZGrbG0yBWUXdFuSIQNHY74Z6YGukaRAqr9vvFXH6jQPrXSIY3HcSOSUi6BVl3HPcjZzFKp9cbH9nQYv3uOWxmba9cW8l1sMol6iwEmsQW1FXhVUt3rLJRk/YXHVf+ZmiUdEUNFifFuc6lIrGlnZ8og5QVOnpzbYeu7g+XKZjP7ILpdr8g2jVgnS9fBuKvcG6bOhshQjStfmiXrse9it7TkkZUKu2j3XYFqhuaprR6lrKdCoiIqIbxIDdDjYVY5UIGl/2BNhNqGoUQXXhDOb+th30BvA19SK4z8Wa2cp3r6mMvDdVflYFhJZXiN5oKxFsvir2deQ8OtCCRlHGoxc74XDp3cIVhblobTRtS5YdBSjRgtpilBQ4TMtFvdeeFFs0lGNNXjsaTL3mta+KoLigeErB58bF2eqdlQyIZePE2zCTDTfZYJGNKfN7RfaKy8aMuTEkGlH7jeMTQXhDmwOrHtKD5tryzabe9iY0tnhLFp6sG+h1q8jG2/431YShpV4F+Pr2jXr348zECvWWiIiIpoYBux3kZwZITRBmrVeyCee61NsZUFt+EB1FVd7e8abZeIjxRhRjmUu9tXAg05O/40Z3q3rra9NS5CAXWz3lEi+ZRjJTweebes+4nsbjwPrtInLXeqv1lJ1G7X0z1sh0I+c67JRpNbIxE6IxdLbLFJQbAb56BUxtmqKjR6wpPx0XrdNEREQ08xiw20Frt6lX16Tr/OykUQQNZG+Ud7QU7VXfifUVEaa0TDslJpRgDRNzkG4O3n1ovfYy591UNu01tfx82eMfiDn4dR8/iVZ04pwnh71JLFdv5V2E4+0RXQ8rXEZQXozqinXoMKVIyVShm6a3G2fVWyIiIpoaBux2IAK301iHJ82pESW5aG1WPakyoM8zjbRRWRjgIdMwveZ5hd7UisoyrHe245RKkdFSSIrKPMs3PlTg3+MfrFEhjzXQsICRNjamnRITWm1zO/JLTMG/LLtMnTGlcZiXW8teh1NtuSg15WVraSxTHaZQ1F2wNBrtoU6XTGvZhWdkfr3l7oT+MG/O8RpU7ZCjrWzxb8g4jfQeYdNulOa5cfpN2RDwvR6KRTCv3lq0obtXvbWQdQOsf9xb1hsquySv11lrfBIREd3+OEqMbVhHWrGO9qEHS56UhrZ2tOZBjRLjZfmMYB0lplOsk+vZvnkUFck8GohbbB+ubp9RTXxGgjFGBNlUjor8pSgtMz+sOcejxNTKByVNI6n4jEpirZdQo8QEKrt1eejRcZQAo6WEHgXmBslylohzCXFejeM3XzeWkWDkg6WHkbldf0DYfG1ZRoLRPhdklBifcumjxPiMxuM67JeyMytlJyIimkcYsM8DwQIpmkMyeJY56D6B/G3Pp/FEREREU8eUGKK5IIdRlP/qZ9Ms/mu0tiLvTLyujRO/h8E6ERHRtLCHfR5gDzsRERHRrYsBOxERERGRjTElhoiIiIjIxhiwExERERHZGAN2IiIiIiIbY8BORERERGRjDNiJiIiIiGyMATsRERERkY0xYCciIiIisjEG7ERERERENsZ/OMkONu1Gw/Z1cKjJ1vrNeKZGTdCti+eViIiIZgB72O3gyC6UFm/GhuJqnOhV88iiou51vFipJmZcMaoP1aN6k5qcKTyvRERENAMYsBMRERER2RhTYmxF9vRWIbMxQOpEZQ2OleWqCTdO7CtD1RE1KWzcW4+dRUbyhfjE8WqU7mhSU3oP9dY8NSHMbXpGOV5s2oJ8NWU9NrmsEKeKK1Gr5shjXdMsj8+6npnn+GW9lHTjQEsBtqrym7cv62Ubarz7k2kqFcD+R3fhqE/Kipe5fn2PoR0HTMcamRDnNWTdhD+v4ZYTERHRrY897LcCGViWQQSKMr1CvPa1YNX2Goi4UyeWbyvq9C4vrsbpgkpviocIare6TmKPZ/lBoMy0fihy302v45jfK8L1tWB1CyACbO+xVUWY3lKHZ9Q6MqVEBun6NnwCX+c6lIqgXFu27yRQZCp7KJ6UlYNo1YJ0Y/vexlBF3RbkiCDY2O+GemBrXbm+cNrC1E248xpuOREREd0WGLDfAjY+VAAcr/f26opAs6EtF2uCBr1NqHrU2gNvJQPhCHuJPUGt7yvC9TcVYxVO4mVPgC2OrbEd+YUzFfQKvSex3+hV1urGgVUPFevTM62mEhvK69TENE25bsKd13DLiYiI6FbEgP0WsMLln7Qh5SxWQakIUvcfz8ZWcw+4uRdYBJkHutZhp2l5w95ZCmh95WcGSDkRXEuxUb2daWe73Ord9NWWH0RHUZW3Xptm8OHUcHUT7ryGW05ERES3BQbst4BgAWjHRW+u8tEdZabe72qccG2xpJ3Ulpt7x2UQGmHqxHRTYlq7EfDou87jqHo704I1cG6MkZajXvWdWF+xe2YaGxHUTbjzGm45ERER3foYsN8Cjr7ZAhSVWXLWS/PaccpIpZAPXvr1rLrR3aq/kw8m+veod+JcJKkT002JOdKE01iHJz1BZDGqS3LR2myklbShuzcXpZ7jK8ca08Oxuiac61JvA3EWoMSU112a58bpN/XGzNGLnXCY6k6mF/mH8/IY1FsLmWMeoEfdr7EhHxwVjZhDUwzkw9VNmPMadjkRERHdFjhKjB3IXuxAo5W0HfTmS8vgLMgoMRWVImgr3GIZBcY7WkixWJ6HZSVbsN6pL5PsM0qMYCl/O1rbRDm1UWK0GRrf0VCso8SIaeQiX5XPd/vmEXLcbe2Aq1sfJUafpbGOoqPqVxx3Rf5SlJaZz02gUWJU+XpPYo95u5Gc1xB1E/q8hl9OREREtwcG7HRr0wL2bmugTERERHQbYUoMEREREZGNMWAnIiIiIrIxpsQQEREREdkYe9iJiIiIiGyMATsRERERkY0xYCciIiIisjEG7ERERERENsaAnYiIiIjIxhiwExERERHZGAN2IiIiIiIbY8BORERERGRjDNiJiIiIiGyMAbvNPJGdg1256uVKQLqabwfLHemzekyrUxdg14J4NXWzReOpRdl4NkFNmkXF4qnsdHw1IRqL1CxEReMxVxa+nsyvFBEREc0sRhc280pnB3a3d+D3fcC1wWH0qPl2kBefAPfQ6Kwd012JCaLMI2rqJouKgzN5GF2+hxMVg6cXpgFXe/Cj4QlcUrMxOYHXut2IdTnwuSg1j4iIiGgGMGC3pVi4EkVgPKQmbSEWS1PG0TU4oaZnWjxyUobRbZN4HaJx4hoYRtukmtZE4/NZThGsX8XPRtUss4khfDiQhKV2uUlAREREt4WoFGeOFpIkpbowNtKvzaSbLDYFVTnROHn+OprULE1UDB5b4MTKtATEiqbWWO81NHYP4W0jqIyOw9OudCxPiRWfFdND/Xi3sw+vjemL02MT8B8XpsOVpLfTxtx9eLurH42RxOAxSfjPS+NwqTsad2UlITZqAu4rV/CjvnHV4x6NktQ0rMlMQkKMmBxy4+2O6/iNadt5CSn43EIHMuLF/seH8cHFq3jJCHxlmRcB/3qhH8fFpPzsFxYm4NKlqziekI4nYq6junccn8vMxtroHuzuGtZSaErE3v/++oRWtiey0rBIln1yHNe6uvHSdXVsUQl47u4FyJDvJ0WdXBjFkkXpyIgbx4Xzl/Ej0UjQji07TcwTn+nvw7uDSViBa9o+DcuT0vBY4gB+dG0s6F2GImcWCkev4B8G1AwiIiKiaWIPuw0tT4xDwuCIX7D+9B2ZWDLci59/2IHd73fhUkIG1ier5eJUPrUwA47r3Xjhfbm8A40i2HTEqFMcFY8n7kgVQXYnftAul3fi3SHAEeEVsDwpAQ4R+A8O9aD2gw681jGIRFcqNqn0jyXJDqyOHcDhc/q23xt34FOmjacnpIqAOgYXOjq1lJ/XrkxguTMBS9Ty1WL7CQOjIlgXgb9zAbZkTODtC3pP9qKYWAyMiMA5KhF3xQzDra0RjdUpE/jALVsEMfi8aET0dHdpZXvh4iBSXSl4UPucMDmM52WZPxYN0sFoOOJH8M/nxXS7HqzLxsKW7AT0dOp180K3KG9GDK4NeYN1ub+i9Fhc6A0erBMRERHNBgbsNrQqKUkEi8NqSrc6xYmlIlh+yT2OD2SP+uQYPhgYR3Ks7M6W4uAUAez4eBQcMogWnznu7sdLw6qLOyYOGdFjGJ6MRoa2fAK/6u339L6Ho+Wv97rxmgigZcD67uAwronLR/b0SxcG+vD310bQrB2b2Kf4/8Co0b0eiy8uTMSly97e/nfdPdh9ZRgX9Ek9f10c61OLXFgTcx0HLw3iLXXnICsuBrIYDzqTMdwvDmBcLIhLwtLxQTRpnxnHS5d68Io6tktyngjwr8hFJsWJiRgbcuNXRh0qjy1Iw+hVUbdiJ9r6Y2MYFQ0DS/56rNjf5CDOGEUKYmlijDgHaoKIiIhoBsx8wC5TJ4xRTmw40on9Bcpfj8Zqh/5Aprd3Nxo5CTHokz3PmmG81zWGjJyFeOpuUe/LXXguNcZb92ODaLkejbzF2XhaLr8rC88mRnr6A+Svx8cjY2QUHdruZa94Oqru8p73exymfPTYBLgwhA+M9Bc/Mn8dyMhMQ6aYSoiKsgTbsVHjGJyIx8qEQZwS7ZhBERE/mCIaNdf1h3JlOszX78j2XnNLHYjVeuvNorEkWQTj/T495FEJWCSO9ZKlbAnI6Lfmr8s7ABD1/66aDiwe6YmD6LBLHj4RERHdFmY+YB8fxN/L9APj1WWvkU5sTwtuh3HB0vMdC4cI4t3mQDBaBJqJ/fjQFNg39fWgWqbLiHp/6eMhpC5Ixlq1DJjAr7qvYq9a/svuCSxKT8A9amlIMXFIjxnBJdMxPZicCPQPaWk7hanpWJs4jH+V6TDynJ93Y2xoGB8YbYn4GCQMjeD3alJKN4+kEhuHjHE3jp+/iuevuDHsdOAR48YBYrQUluH4ZCS4B9EstpUmAuOVKYM4I8suU30Wp2K8uwsvqGvuPTfQJfZnIT6XnjDkP+pLTCzSRkzHKhQlxmPYJzh3REejbzR013l6YiKy3EOeOwNEREREM4EpMTYTMH8dYxgcFUFzkj7u96KYeHw1JxWDl934jQwOYxLw9cXpeCJOBI3y41HRuCc5Abg+jLfF5JK4FPznRan4nAqC06NisCIpFu7+Ybynz9LIPPMdd+egKs16WWj562I/DrV+ofjcf0gbxrs9epf50sQEjIsA+Yz4zKKoWJSkxCF20NTDLePclCQUq/XXJqfha9lJKNQn9fx1cSyNsixj/TjrTsBdabHq7kAMkiaATMcE3lMPco7Gi8/3DeItOSFTfaJG0DEygUuiEVCYkITM+GH0WjOKABGEZ/SP4LSatBDrrJQPmwrL45Pwp07f/PVIROOR9Fic7zXfBSEiIiKavpj4xNRvyzdxCSmYGA+as0CzKUoE3HcvxCMLUnGvQ0SOiUnYIN5viB/DR1oKxyQ+EgHkva4sfDorFfelRKG76xoODk1A62CfHEcSEvGp7Aw8kCnWS0uEc+g6ftMzgo/E4j6xPD0+BX+SnY5isfx+EQxP9vbgVfe4eoBTtzolDZ9IBq5cc+Mdc49zqhNOdz+iMhfi8wtT8Yn4UZy51Id/Up+ZEMHqalcGihak4BOTQ/jdYDRWZqdh5UC/vh1xXSVHi/0vcmJDRgruHO/HG1eGcEpfHfc705E40IuTqgf/0mgU1mYnIqN3CP8+GYt12U4k9VzDT4cnsTYpFZ9cAFzsGsC7MsCfnMDdiU5tfxscolx9AxgU0ytSxnHVPYZcZxa+ukTsNzUeEMH4vbJeF8RjsQj4tfUnxrEgOhmfEPvY4ExEtmhoxKaJY+gesjRmMuITsSp2BL8VxxBInsOJ+8b7cGBwUj8nRERERDOEwzoSRUI+m3FHNN4+36/37JvkJadhS/IwDl4ZRpuaR0RERDRTmBJDFInxQRzvS8BaZ6yWlqSJAooc6fhC4jB+3c1gnYiIiGYHe9iJiIiIiGyMPexERERERDbGgJ2IiIiIyMYYsBMRERER2RgDdiIiIiIiG2PATkRERERkYwzYiYiIiIhsjAE7EREREZGNMWAnIiIiIrIxBuxERERERDbGgJ28tq7A87/diP9Xe1DQbrYAAA5MSURBVBXh2c1q/nxw9x34L7/9FEpT1fQMu/M7a/HDFxaoqZstAX9evwHf+oqatIjGfXsK8bffX4A7F+pz7n/+QXVNiNevl2OlPnvOJD+Wi+rXlmP1LJ0bIiIiu2PATl4HzuK5B47iL/e0o2+wG394Xc2fS18pwA8P3IE0NTlnPpMOV8dVvHtdTc+w1cuc+Ljlqpq6yVKdWJZzDWcOqmmT1X9XiMcmWvHdb17FR5f1eb977i38pbguvvfbfgy0X8UZffacGXitHb+4sBhf+r8T1BwiIqL5hQE7+Um714m0D6/id2p6Lt1/3wIMnOtFn5qeK/ffl4mB96/hIzU9sxZg5bJetP1WTd5sW7KwLEDjJOsbn8LW6P+Nb/9tP8bUPK9o0ehIQceZXjU9t37XcBHxK124U00TERHNJ1EpzpxJ+SYp1YWxkX5t5sxwouLXOXjvkffwhppDYaQmorR6NTavciI5Bhi48B5eeOaCKbCKxYN/twpPrM/Slo9dbsd///IHkS//pBNf+X8KUHR3ivjkBK4cfwff/ZZ/cFz6440oOvMG/qZ6Qs3RZT11J559Mg+5maKdN96L39W8gxcO6J+J/ean8MPHVQ5F62m8cH4RvrRBHMfIR3hh41n8LlTZZDrKSwXI0de2aD9wFHt/IN4sTMQX996Lh1ekIjZmAgOt7+H7z32Mdq1sKXj210W43ynf9+N3P2xFctmnsFocZ8cv/cvhT6aIrEfOmXakrF2BO1OjfepO1OueAnxxw0KkiWNH7wX89K/Edf3vcpkudsMifPP/+gRWZsaJuhnGmfrj+N4PVNi7eTn2fyMaP3qkHe+KyaynVuCvvuzAmR8248d/WIT/8t8T8NNHPkBreQFqvhKLXz7wRzSsXYLqHdGoeewjfCy2/Z+ey8fqHNnDPIyOo6dMQXX4smc9tRyVX17uKdcv2xdhI/6Ibd8yfd/vzsKO/7YA//Jlca4815NJ6kLseP0OtD3djFfeV/OUHLHtZ8U+5PbldfHO//g9an9mhPzWaxLj/Tjzi9/j+98fUscfbrlB7P/XKXhN1NNc9/ATERHdbLPXw741GysH3GhTkxTe6u0F+NMLLfjr0qP4y8dOoT3zHnz+abVQ+GxtEb644BJqy8TyzW/hX0aW4/N/4T2FIZeLgOxb/60Ad/zhj/irzUfxtedaMHBfAZ70y1N3YtmS62h72xrkplUU4G+/lIb3fvgmvvbAUfzNL4dx3/+5zJPPPPb9P2ppE6+IaOpKTBKWnRAB4WfEcchgXSwPWbb3P8bfyFScp1vQgcv4hTg+uS350oL1VBGUvrgWq98/jb/S1n8bZxYW4EtfM8rejxceEfN3ylSeYSQvmcAvnnlDWz98sC7cnYmVOeOI776G/Y+/IeqmGa1JudhaoW8/ueIePJx+AftVvb5xfQk+/+eJ2jLNA0vw7e13oK/+hFY3z/2PLizevAz3qcV3Folg9MI1EazL4HQN/vqLQ3jly6fw49fEsa1IQEr3IFrFV/EL98ejS6Wh3PmFHAz89gI+EgH5lyoW4uP/+Vt92z/sgnPjcvyZ/jEhTNlFY+Gvv5qBjp/p62/7R+Az98Xj4mlr4/zOv8hF8tvvBw7WpUfSkdPdi3d9gnXZK7+jLA5vfedNfZ/iurj3y3d7y/6dP8ETCy/hv8q6k/uvPoeBOxKQHuFyIiIimsWAfeW9GRibtRSD29O7O07hO3v70SeDpsvjGMEQrpzTl+GxFXjs7k785JlLOCODuuvDeGXrGyKgVQFpmOX3feMeuN4+hb3f07c/duo6OgZTkLVCW+y1eQHycQ1nLLdFUvGlL6Tine+exi8aJrSez47T1zHgTMXd+gcUJ3LvGsK5f/4Ar6jPGUKWzSDzyC9cwVs+QeOd3/wE7rt0Bt/1rH8d77QPI31hkv4BJW2tE2ndl/CTvd7864ho+esf4iffN+rmCs5cAuKS47TFA7Wn8TfPqW1eH8Wo+F/P5SFtmfwKfbFyBUaPNuOFfxzWyjzws/ew7ZF2vKN/QM9fbx/FV+ofwBeT2vHdso/wjnF8d6cgeXAEY4/lYY37Ej4aH8OgqO//475h/NsP5bnrx4+3/tFTnwPDYl7vID7WVvYKXHZxbF/ORf8bf/Qe29FBDMT75q+nYPN9EzjTaD5jVivvywTO+eavO/Glx5LwTvVZvHFcv846fnEFXamJWKRN6WUfuz6CFHlXRuhr+Bi1/3cvrmhT4Zd7bBUNhoFRURtERETzz8wG7BWrPKNJfGtDKtIeKNKnj67A/eojFIRMGXnxfvzwX9VoHL9di/tirqKtQV+8skgETK2dniDQV+jlTty/KhFZnzWN9vFbmUZxHR+fVh9RAuavb83BytRUPPh3xrritTNXBIjXYelw/awM9i/jnQNq2hCmbAYtj9wvfz0BD967AOdOXzE1ABKQl5OArg+t4VtRfhY6Tl3yD/bC8M9fl3cZhnGuZVi8l73ihXjec+yfxcNLTPnoqVm4Z5kIZH+hGk5+ZP66aHQU50P8D8kJcejRF2hi46Mx0DOMz37OgbZXRWvBPYiOx3KQf+FjHBaTMtXmW7/coPYtXt+4E/Fab71VwLJrx9ZrDcS3LMAdvvnrazOQi6v449tq2k+Q/PWvLMbKwcv4nTk3XzZ+TNfFW79pR0/uanzrxc9qdff8z5ZYRnsJt9xwZ4EI7NkBQERE89SMBuyxL53Wbmv/5QPNaDenNqi0CArus//tfmwcbMV3jdSAX4rQ69wV/KtafvfCFFxptwZMsabAJvTyBKQnifOhnRvz63f4sc8DBg+uFIFfq89oJtmJSG7VU14sry9Y84m1Xt4AD6uGK5tOBuGizfGObx9qCnIy+3HlrJqUPpmJlZkf48RLaloje/f9U3nCk/uNxsUW034fy8bKmC68KxoeMmXjS8uu4IWnVZl/8BEGeq/glBHcPpACV+91nDG1XMznBZudWDx+AT/+8il850Wx7ieXY+sDapmQf0cKurpFYyjpY/zitynIWhiN+z+XgdbfiAZK6gJ889vLMfaLE/roPQ+8gcMXRNWd9h1tJkjZtWOzBuIrReA78KFP4JsZh/jL1/0aAR4i8M9bcgVtPqMG3bk8BbGX+y3XwIOi8dPzh4898/oOfIDvPHJMq7uvPSX+LizMxZ89phYK4ZbrEvDZT0XjD//E/nUiIpqfZjRgHzN67bYuQM4sDpF3+0kRAVEMus70aOkMaRuc2LzSgSvnej29yoMjo7jjvkXIkcGgfADzxSJ8+1vePOrQy8cwMpKC/C8nIFZMJRctwLMH1qLicX2pV+D8dfSNYWzhAjy4Rk5E486vLMd/eS3Xk6ds0Hp5fYP9CMqmSc0QgXMvzv1aTXsM4Mr1FNy5NgHJYkoee8W+XAy8dhZvmK8vrXffN5XHK/Yr92hjzO/fa8o9l7T8dSA+y1s3FX+RjY7X2vCWmJYpGz3tYrvnxLKVIrD+tAPxF3q9QWr3KEacC/HgY/pXST6A+e2fFuCzS7RJPX/9/ct4S6apvH4Ob51zYv2TTm1fUk66qOv8Rej/l0v6nQVR1mXODvzza+L9AyLYjxGNgV8PYyA1GrlP3YE8p6ij4/KDJsHKPiJepmNLe3wJ/nyNf/56WEHy1z/qHAQWietC3joQx7d6RyGeWHYBP/k7eWciAaU/LsLf7khBmtaAicYdxVlYhi78UZYt7HKv2K/k4t7udtGgUTOIiIjmmVkZJSan6lOodLTjb3ayRyxSq/euxX8SwWzs+DDaG97GT+IL8LebY/DGN9/GT2UP6Sez8M19+ugf2kgav/w9ar83JMJZJczyrPJ78NdPL9FHObkugq/X38V/VyNxrPy7InzrgRTtc17DeOcHb6FWS2+JxWdr12LrvfroMgMdH+P1599DwzG5zDxKiUnHe/hOmXxoMoKySbI3+bU1WG2kpfe243tqRJDY0iX46+f00Vtw/Qp+97Mz+JHKybaMTuMxijN1x/C9H6tJYeXe+/GtDfF4t+4tfN80P1aOzPKwG7/8cDG+WCTqwGeUkqxviGMtuwPJMRO48vY7+K+ncvDdr2Wj1bT91d8pxLMi2JSfGTj3AV753gd465S+TI6486fNR/Gd7+vTsVtXYP83kvHWs8145d/15V90nsV3HvsIH312OfbvycXI0bdQ9bci6E1NwVf+8X48uFCW+zIO7/vfwHMP4mHodftx2LLHolQ03L64MkEr17svn4fzzxfg3zb/EQ2WlJglqP5OHH5sGYElyHkdVKP+aBPW66LvTAte2KGeoRCSH7sTf/W1PP28adfNBfzz3rM4rOom3HJNqhMV/7gM5/5GHLNpVB4iIqL5ZBaHdSSiW0MCvvLaWiT/4/+HWp/e7ZtKa7AUIP7Ft/GCz/MORERE84ns2iKieW0YP3nxIpZ9ORf3+XbY3yRaatKLnwD+8R0G60RENO+xh52IiIiIyMbYw05EREREZGMM2ImIiIiIbIwBOxERERGRjTFgJyIiIiKyMQbsREREREQ2xoCdiIiIiMjGGLATEREREdkYA3YiIiIiIhtjwE5EREREZGMM2ImIiIiIbIwBOxERERGRjTFgJyIiIiKyMQbsREREREQ2xoCdiIiIiMjGGLATEREREdkYA3YiIiIiIhtjwE5EREREZGMM2ImIiIiIbIwBOxERERGRjTFgJyIiIiKyMQbsREREREQ2xoCdiIiIiMjGGLATEREREdkYA3YiIiIiIhtjwE5EREREZGMM2ImIiIiIbIwBOxERERGRjTFgJyIiIiKyMQbsREREREQ2xoCdiIiIiMjGGLATEREREdkYA3YiIiIiIhtjwD6fbNqNhqbX0bC3WM2Ymo1763GsqR7Vm9QMsvKr32JUH3odxw7txkY1h4iIiGhqgP8fQrsNbbXzqYIAAAAASUVORK5CYII=)"
      ],
      "metadata": {
        "id": "Jp_aGTBtAY9Q"
      }
    },
    {
      "cell_type": "markdown",
      "source": [
        "The process to integrate Accelerate into your code involves several key steps for optimizing distributed training. First, you import the necessary modules. Next, you instantiate an Accelerator object, which automates environment setup for distributed training. Accelerate manages device placement, eliminating the need for manual device assignments.\n",
        "\n",
        "The core modification is applying `accelerator.prepare()` to your dataloaders, model, and optimizer. This action ensures proper container wrapping for distributed training functionality. Further adjustments include removing direct batch-to-device operations (replacing with `accelerator.device` if desired) and replacing `loss.backward()` with `accelerator.backward(loss)`.\n",
        "\n",
        "⚠️ For optimal performance on Cloud TPUs, it's advised to pad samples to a fixed length using tokenizer arguments `padding=\"max_length\"` and specifying `max_length`."
      ],
      "metadata": {
        "id": "z_yxRq3vAsJC"
      }
    },
    {
      "cell_type": "markdown",
      "source": [
        "If you’d like to copy and paste it to play around, here’s what the complete training loop looks like with 🤗 Accelerate:"
      ],
      "metadata": {
        "id": "V9q4gvL4BOlW"
      }
    },
    {
      "cell_type": "code",
      "source": [
        "from accelerate import Accelerator\n",
        "from transformers import AdamW, AutoModelForSequenceClassification, get_scheduler\n",
        "\n",
        "accelerator = Accelerator()\n",
        "\n",
        "model = AutoModelForSequenceClassification.from_pretrained(checkpoint, num_labels=2)\n",
        "optimizer = AdamW(model.parameters(), lr=3e-5)\n",
        "\n",
        "train_dl, eval_dl, model, optimizer = accelerator.prepare(\n",
        "    train_dataloader, eval_dataloader, model, optimizer\n",
        ")\n",
        "\n",
        "num_epochs = 3\n",
        "num_training_steps = num_epochs * len(train_dl)\n",
        "lr_scheduler = get_scheduler(\n",
        "    \"linear\",\n",
        "    optimizer=optimizer,\n",
        "    num_warmup_steps=0,\n",
        "    num_training_steps=num_training_steps,\n",
        ")\n",
        "\n",
        "progress_bar = tqdm(range(num_training_steps))\n",
        "\n",
        "model.train()\n",
        "for epoch in range(num_epochs):\n",
        "    for batch in train_dl:\n",
        "        outputs = model(**batch)\n",
        "        loss = outputs.loss\n",
        "        accelerator.backward(loss)\n",
        "\n",
        "        optimizer.step()\n",
        "        lr_scheduler.step()\n",
        "        optimizer.zero_grad()\n",
        "        progress_bar.update(1)"
      ],
      "metadata": {
        "colab": {
          "base_uri": "https://localhost:8080/",
          "height": 104,
          "referenced_widgets": [
            "d29bf5dc80d449e4bf21ab724823abfa",
            "9aa620c11e1049df878c60b915882612",
            "71e60b73e4e94811802fe474a3a88f4a",
            "74e622fd3e3a4d0aaaf3ec0439ebdc55",
            "e11dfc6647954fd58e2397f8d6c32c80",
            "28a0046bce154c0b8256c33ef84c486b",
            "476a7d3c44a741c893aa9231b1ac0717",
            "f9c3435373a9413a82d0e9291d8427ee",
            "2a19383a1979463c9cfd46d2c89e8b4f",
            "f46e501a8e41401c85e88c77f38d92d0",
            "efdf201e38b747dba4ea8b3053bd88cf"
          ]
        },
        "id": "OUc1XGZqBPrq",
        "outputId": "07d0a1ef-c8b9-4bd8-d7db-340bda726737"
      },
      "execution_count": 37,
      "outputs": [
        {
          "output_type": "stream",
          "name": "stderr",
          "text": [
            "Some weights of BertForSequenceClassification were not initialized from the model checkpoint at bert-base-uncased and are newly initialized: ['classifier.bias', 'classifier.weight']\n",
            "You should probably TRAIN this model on a down-stream task to be able to use it for predictions and inference.\n"
          ]
        },
        {
          "output_type": "display_data",
          "data": {
            "text/plain": [
              "  0%|          | 0/1377 [00:00<?, ?it/s]"
            ],
            "application/vnd.jupyter.widget-view+json": {
              "version_major": 2,
              "version_minor": 0,
              "model_id": "d29bf5dc80d449e4bf21ab724823abfa"
            }
          },
          "metadata": {}
        }
      ]
    },
    {
      "cell_type": "markdown",
      "source": [
        "Putting this in a train.py script will make that script runnable on any kind of distributed setup. To try it out in your distributed setup, run the command:\n",
        "\n",
        "`accelerate config`\n",
        "\n",
        "which will prompt you to answer a few questions and dump your answers in a configuration file used by this command:\n",
        "\n",
        "`accelerate launch train.py`\n",
        "\n",
        "which will launch the distributed training.\n",
        "\n",
        "If you want to try this in a Notebook (for instance, to test it with TPUs on Colab), just paste the code in a training_function() and run a last cell with:\n",
        "\n",
        "```\n",
        "from accelerate import notebook_launcher\n",
        "\n",
        "notebook_launcher(training_function)\n",
        "```\n",
        "\n",
        "You can find more examples in the [🤗 Accelerate repo](https://github.com/huggingface/accelerate/tree/main/examples)."
      ],
      "metadata": {
        "id": "ZWXu-7ywBVPt"
      }
    }
  ]
}